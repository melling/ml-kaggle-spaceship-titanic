{
 "cells": [
  {
   "cell_type": "markdown",
   "id": "69e4b08d",
   "metadata": {
    "papermill": {
     "duration": 0.015738,
     "end_time": "2022-07-18T21:29:10.824239",
     "exception": false,
     "start_time": "2022-07-18T21:29:10.808501",
     "status": "completed"
    },
    "tags": []
   },
   "source": [
    "**Problem Type:** Binary Classification\n",
    "\n",
    "## Evaluation Metric\n",
    "\n",
    "\n",
    "# XGBoost\n",
    "\n",
    "This is based on a generic framework that I'm starting to develop.  Eventually, it will also support catboost, lgbm, and a Keras/TF DNN.\n",
    "\n",
    "- https://www.kaggle.com/code/meetnagadia/titanic-random-forest-score-0-79471\n",
    "- https://www.kaggle.com/code/adamml/my-spaceship-titanic-80-5\n",
    "\n"
   ]
  },
  {
   "cell_type": "markdown",
   "id": "afee6707",
   "metadata": {
    "execution": {
     "iopub.status.busy": "2022-05-28T10:34:38.315132Z",
     "iopub.status.idle": "2022-05-28T10:34:38.315779Z",
     "shell.execute_reply": "2022-05-28T10:34:38.315569Z",
     "shell.execute_reply.started": "2022-05-28T10:34:38.315544Z"
    },
    "papermill": {
     "duration": 0.013655,
     "end_time": "2022-07-18T21:29:10.852306",
     "exception": false,
     "start_time": "2022-07-18T21:29:10.838651",
     "status": "completed"
    },
    "tags": []
   },
   "source": [
    "<div style=\"background-color:rgba(128, 0, 128, 0.6);border-radius:5px;display:fill\"><h1 style=\"text-align: center;padding: 12px 0px 12px 0px;\">Import Libraries</h1>\n",
    "</div>"
   ]
  },
  {
   "cell_type": "code",
   "execution_count": 1,
   "id": "6777e8df",
   "metadata": {
    "execution": {
     "iopub.execute_input": "2022-07-18T21:29:10.881979Z",
     "iopub.status.busy": "2022-07-18T21:29:10.881211Z",
     "iopub.status.idle": "2022-07-18T21:29:14.934884Z",
     "shell.execute_reply": "2022-07-18T21:29:14.934055Z"
    },
    "papermill": {
     "duration": 4.070983,
     "end_time": "2022-07-18T21:29:14.937206",
     "exception": false,
     "start_time": "2022-07-18T21:29:10.866223",
     "status": "completed"
    },
    "tags": []
   },
   "outputs": [
    {
     "data": {
      "text/html": [
       "<style type='text/css'>\n",
       ".datatable table.frame { margin-bottom: 0; }\n",
       ".datatable table.frame thead { border-bottom: none; }\n",
       ".datatable table.frame tr.coltypes td {  color: #FFFFFF;  line-height: 6px;  padding: 0 0.5em;}\n",
       ".datatable .bool    { background: #DDDD99; }\n",
       ".datatable .object  { background: #565656; }\n",
       ".datatable .int     { background: #5D9E5D; }\n",
       ".datatable .float   { background: #4040CC; }\n",
       ".datatable .str     { background: #CC4040; }\n",
       ".datatable .time    { background: #40CC40; }\n",
       ".datatable .row_index {  background: var(--jp-border-color3);  border-right: 1px solid var(--jp-border-color0);  color: var(--jp-ui-font-color3);  font-size: 9px;}\n",
       ".datatable .frame tbody td { text-align: left; }\n",
       ".datatable .frame tr.coltypes .row_index {  background: var(--jp-border-color0);}\n",
       ".datatable th:nth-child(2) { padding-left: 12px; }\n",
       ".datatable .hellipsis {  color: var(--jp-cell-editor-border-color);}\n",
       ".datatable .vellipsis {  background: var(--jp-layout-color0);  color: var(--jp-cell-editor-border-color);}\n",
       ".datatable .na {  color: var(--jp-cell-editor-border-color);  font-size: 80%;}\n",
       ".datatable .sp {  opacity: 0.25;}\n",
       ".datatable .footer { font-size: 9px; }\n",
       ".datatable .frame_dimensions {  background: var(--jp-border-color3);  border-top: 1px solid var(--jp-border-color0);  color: var(--jp-ui-font-color3);  display: inline-block;  opacity: 0.6;  padding: 1px 10px 1px 5px;}\n",
       "</style>\n"
      ],
      "text/plain": [
       "<IPython.core.display.HTML object>"
      ]
     },
     "metadata": {},
     "output_type": "display_data"
    }
   ],
   "source": [
    "import os\n",
    "from pathlib import Path\n",
    "import time\n",
    "import gc\n",
    "\n",
    "import random\n",
    "import pandas as pd\n",
    "import numpy as np\n",
    "import datatable as dt  # Fast table loading\n",
    "\n",
    "from sklearn.model_selection import train_test_split\n",
    "from sklearn.model_selection import KFold, StratifiedKFold\n",
    "\n",
    "from sklearn.preprocessing import LabelEncoder\n",
    "\n",
    "# from sklearn.metrics import mean_squared_error\n",
    "from sklearn.metrics import accuracy_score\n",
    "from sklearn.metrics import roc_auc_score, roc_curve\n",
    "from scipy.stats import mode\n",
    "\n",
    "# GBDTs\n",
    "# from xgboost import XGBClassifier, XGBRegressor\n",
    "# from catboost import CatBoostClassifier\n",
    "\n",
    "import xgboost as xgb\n",
    "import catboost as cb\n",
    "import lightgbm as lgb\n",
    "\n",
    "import optuna\n",
    "from optuna.visualization import plot_optimization_history, plot_param_importances\n",
    "\n",
    "# Visualization Libraries\n",
    "import matplotlib.pylab as plt\n",
    "import seaborn as sns\n",
    "\n",
    "import warnings\n",
    "\n",
    "warnings.filterwarnings(\"ignore\")\n",
    "\n",
    "plt.style.use(\"fivethirtyeight\")  # ggplot fivethirtyeight bmh\n",
    "pd.options.display.max_columns = 500"
   ]
  },
  {
   "cell_type": "markdown",
   "id": "20f00be3",
   "metadata": {
    "papermill": {
     "duration": 0.013836,
     "end_time": "2022-07-18T21:29:14.968492",
     "exception": false,
     "start_time": "2022-07-18T21:29:14.954656",
     "status": "completed"
    },
    "tags": []
   },
   "source": [
    "<div style=\"background-color:rgba(128, 0, 128, 0.6);border-radius:5px;display:fill\"><h1 style=\"text-align: center;padding: 12px 0px 12px 0px;\">Configuration</h1>\n",
    "</div>"
   ]
  },
  {
   "cell_type": "code",
   "execution_count": 2,
   "id": "f60bae2d",
   "metadata": {
    "execution": {
     "iopub.execute_input": "2022-07-18T21:29:14.998567Z",
     "iopub.status.busy": "2022-07-18T21:29:14.998281Z",
     "iopub.status.idle": "2022-07-18T21:29:27.758121Z",
     "shell.execute_reply": "2022-07-18T21:29:27.757323Z"
    },
    "papermill": {
     "duration": 12.776788,
     "end_time": "2022-07-18T21:29:27.760131",
     "exception": false,
     "start_time": "2022-07-18T21:29:14.983343",
     "status": "completed"
    },
    "tags": []
   },
   "outputs": [
    {
     "name": "stdout",
     "output_type": "stream",
     "text": [
      "\u001b[33mWARNING: Running pip as the 'root' user can result in broken permissions and conflicting behaviour with the system package manager. It is recommended to use a virtual environment instead: https://pip.pypa.io/warnings/venv\u001b[0m\u001b[33m\r\n",
      "\u001b[0m"
     ]
    }
   ],
   "source": [
    "# Black formatter https://black.readthedocs.io/en/stable/\n",
    "\n",
    "! pip install nb-black > /dev/null\n",
    "\n",
    "%load_ext lab_black"
   ]
  },
  {
   "cell_type": "code",
   "execution_count": 3,
   "id": "6eeb8147",
   "metadata": {
    "execution": {
     "iopub.execute_input": "2022-07-18T21:29:27.791501Z",
     "iopub.status.busy": "2022-07-18T21:29:27.790869Z",
     "iopub.status.idle": "2022-07-18T21:29:27.803780Z",
     "shell.execute_reply": "2022-07-18T21:29:27.803102Z"
    },
    "papermill": {
     "duration": 0.030485,
     "end_time": "2022-07-18T21:29:27.805481",
     "exception": false,
     "start_time": "2022-07-18T21:29:27.774996",
     "status": "completed"
    },
    "tags": []
   },
   "outputs": [],
   "source": [
    "class Config:\n",
    "    path = \"../input/spaceship-titanic\"\n",
    "    gpu = True\n",
    "    debug = False\n",
    "    optimize = False\n",
    "    n_optimize_trials = 5\n",
    "    model_type = \"xgb\"  # (xgb, cat, lgbm, keras)\n",
    "    model_name = \"xgb1\"\n",
    "    competition = \"Spaceship Titanic\"\n",
    "    seed = 42\n",
    "    N_ESTIMATORS = 100  # 100, 300, 2000, 5000\n",
    "\n",
    "    batch_size = 64\n",
    "    epochs = 25\n",
    "    N_FOLDS = 10  # 5,10,15\n",
    "    SEED_LENGTH = 1  # 5,10"
   ]
  },
  {
   "cell_type": "code",
   "execution_count": 4,
   "id": "505781ae",
   "metadata": {
    "execution": {
     "iopub.execute_input": "2022-07-18T21:29:27.835850Z",
     "iopub.status.busy": "2022-07-18T21:29:27.835471Z",
     "iopub.status.idle": "2022-07-18T21:29:27.840176Z",
     "shell.execute_reply": "2022-07-18T21:29:27.839491Z"
    },
    "papermill": {
     "duration": 0.0218,
     "end_time": "2022-07-18T21:29:27.841944",
     "exception": false,
     "start_time": "2022-07-18T21:29:27.820144",
     "status": "completed"
    },
    "tags": []
   },
   "outputs": [],
   "source": [
    "TARGET = \"Transported\"\n",
    "TARGET_ENC = \"target_num\""
   ]
  },
  {
   "cell_type": "markdown",
   "id": "802686aa",
   "metadata": {
    "papermill": {
     "duration": 0.014006,
     "end_time": "2022-07-18T21:29:27.870100",
     "exception": false,
     "start_time": "2022-07-18T21:29:27.856094",
     "status": "completed"
    },
    "tags": []
   },
   "source": [
    "<div style=\"background-color:rgba(128, 0, 128, 0.6);border-radius:5px;display:fill\"><h1 style=\"text-align: center;padding: 12px 0px 12px 0px;\">Utilities</h1>\n",
    "</div>"
   ]
  },
  {
   "cell_type": "code",
   "execution_count": 5,
   "id": "19897903",
   "metadata": {
    "execution": {
     "iopub.execute_input": "2022-07-18T21:29:27.900597Z",
     "iopub.status.busy": "2022-07-18T21:29:27.900128Z",
     "iopub.status.idle": "2022-07-18T21:29:27.912067Z",
     "shell.execute_reply": "2022-07-18T21:29:27.911374Z"
    },
    "papermill": {
     "duration": 0.029542,
     "end_time": "2022-07-18T21:29:27.913616",
     "exception": false,
     "start_time": "2022-07-18T21:29:27.884074",
     "status": "completed"
    },
    "tags": []
   },
   "outputs": [],
   "source": [
    "def read_data(path):\n",
    "    data_dir = Path(path)\n",
    "\n",
    "    train = pd.read_csv(data_dir / \"train.csv\")\n",
    "    test = pd.read_csv(data_dir / \"test.csv\")\n",
    "    # train_df = dt.fread(data_dir / \"train.csv\").to_pandas()\n",
    "    # test_df = dt.fread(data_dir / \"test.csv\").to_pandas()\n",
    "\n",
    "    submission_df = pd.read_csv(data_dir / \"sample_submission.csv\")\n",
    "\n",
    "    print(f\"train data: Rows={train.shape[0]}, Columns={train.shape[1]}\")\n",
    "    print(f\"test data : Rows={test.shape[0]}, Columns={test.shape[1]}\")\n",
    "    return train, test, submission_df"
   ]
  },
  {
   "cell_type": "code",
   "execution_count": 6,
   "id": "b4b9017f",
   "metadata": {
    "execution": {
     "iopub.execute_input": "2022-07-18T21:29:27.942835Z",
     "iopub.status.busy": "2022-07-18T21:29:27.942388Z",
     "iopub.status.idle": "2022-07-18T21:29:27.954374Z",
     "shell.execute_reply": "2022-07-18T21:29:27.953680Z"
    },
    "papermill": {
     "duration": 0.028529,
     "end_time": "2022-07-18T21:29:27.956108",
     "exception": false,
     "start_time": "2022-07-18T21:29:27.927579",
     "status": "completed"
    },
    "tags": []
   },
   "outputs": [],
   "source": [
    "def label_encoder(train, test, columns):\n",
    "    for col in columns:\n",
    "        train[col] = train[col].astype(str)\n",
    "        test[col] = test[col].astype(str)\n",
    "        train[col] = LabelEncoder().fit_transform(train[col])\n",
    "        test[col] = LabelEncoder().fit_transform(test[col])\n",
    "    return train, test"
   ]
  },
  {
   "cell_type": "code",
   "execution_count": 7,
   "id": "0b1a2614",
   "metadata": {
    "execution": {
     "iopub.execute_input": "2022-07-18T21:29:27.985926Z",
     "iopub.status.busy": "2022-07-18T21:29:27.985142Z",
     "iopub.status.idle": "2022-07-18T21:29:27.998938Z",
     "shell.execute_reply": "2022-07-18T21:29:27.998253Z"
    },
    "papermill": {
     "duration": 0.030246,
     "end_time": "2022-07-18T21:29:28.000504",
     "exception": false,
     "start_time": "2022-07-18T21:29:27.970258",
     "status": "completed"
    },
    "tags": []
   },
   "outputs": [],
   "source": [
    "def create_folds(df, TARGET, n_folds=5, seed=42):\n",
    "    print(f\"TARGET={TARGET}, n_folds={n_folds}, seed={seed}\")\n",
    "    df[\"fold\"] = -1\n",
    "\n",
    "    kf = StratifiedKFold(n_splits=n_folds, shuffle=True, random_state=seed)\n",
    "    # kf = GroupKFold(n_splits=Config.N_FOLDS)\n",
    "\n",
    "    for fold, (train_idx, valid_idx) in enumerate(kf.split(df, df[TARGET])):\n",
    "        df.loc[valid_idx, \"fold\"] = fold\n",
    "\n",
    "    # df.to_csv(f\"train_fold{num_folds}.csv\", index=False)\n",
    "    return df"
   ]
  },
  {
   "cell_type": "code",
   "execution_count": 8,
   "id": "dd59aa11",
   "metadata": {
    "execution": {
     "iopub.execute_input": "2022-07-18T21:29:28.030441Z",
     "iopub.status.busy": "2022-07-18T21:29:28.029812Z",
     "iopub.status.idle": "2022-07-18T21:29:28.036215Z",
     "shell.execute_reply": "2022-07-18T21:29:28.035562Z"
    },
    "papermill": {
     "duration": 0.022822,
     "end_time": "2022-07-18T21:29:28.037792",
     "exception": false,
     "start_time": "2022-07-18T21:29:28.014970",
     "status": "completed"
    },
    "tags": []
   },
   "outputs": [],
   "source": [
    "# OOF Results\n",
    "if not os.path.exists(\"results\"):\n",
    "    os.makedirs(\"results\")"
   ]
  },
  {
   "cell_type": "code",
   "execution_count": 9,
   "id": "b7b043c1",
   "metadata": {
    "execution": {
     "iopub.execute_input": "2022-07-18T21:29:28.066949Z",
     "iopub.status.busy": "2022-07-18T21:29:28.066402Z",
     "iopub.status.idle": "2022-07-18T21:29:28.074140Z",
     "shell.execute_reply": "2022-07-18T21:29:28.073497Z"
    },
    "papermill": {
     "duration": 0.023884,
     "end_time": "2022-07-18T21:29:28.075742",
     "exception": false,
     "start_time": "2022-07-18T21:29:28.051858",
     "status": "completed"
    },
    "tags": []
   },
   "outputs": [],
   "source": [
    "def seed_everything(seed=Config.seed):\n",
    "    np.random.seed(seed)\n",
    "    random.seed(seed)\n",
    "    tf.random.set_seed(seed)"
   ]
  },
  {
   "cell_type": "markdown",
   "id": "a1a30b14",
   "metadata": {
    "papermill": {
     "duration": 0.013885,
     "end_time": "2022-07-18T21:29:28.103812",
     "exception": false,
     "start_time": "2022-07-18T21:29:28.089927",
     "status": "completed"
    },
    "tags": []
   },
   "source": [
    "<div style=\"background-color:rgba(128, 0, 128, 0.6);border-radius:5px;display:fill\"><h1 style=\"text-align: center;padding: 12px 0px 12px 0px;\">Load Train/Test Data</h1>\n",
    "</div>\n",
    "\n",
    "Support datatable for large datasets.\n",
    "Using datatable is described in [Tutorial on reading datasets](https://www.kaggle.com/hiro5299834/tutorial-on-reading-datasets)"
   ]
  },
  {
   "cell_type": "code",
   "execution_count": 10,
   "id": "ad724a1f",
   "metadata": {
    "execution": {
     "iopub.execute_input": "2022-07-18T21:29:28.133833Z",
     "iopub.status.busy": "2022-07-18T21:29:28.133133Z",
     "iopub.status.idle": "2022-07-18T21:29:28.213797Z",
     "shell.execute_reply": "2022-07-18T21:29:28.212081Z"
    },
    "papermill": {
     "duration": 0.097457,
     "end_time": "2022-07-18T21:29:28.215561",
     "exception": false,
     "start_time": "2022-07-18T21:29:28.118104",
     "status": "completed"
    },
    "tags": []
   },
   "outputs": [
    {
     "name": "stdout",
     "output_type": "stream",
     "text": [
      "train data: Rows=8693, Columns=14\n",
      "test data : Rows=4277, Columns=13\n",
      "CPU times: user 37 ms, sys: 10.9 ms, total: 47.9 ms\n",
      "Wall time: 73 ms\n"
     ]
    }
   ],
   "source": [
    "%%time\n",
    "train, test, submission_df = read_data(Config.path)"
   ]
  },
  {
   "cell_type": "code",
   "execution_count": 11,
   "id": "ee90b595",
   "metadata": {
    "execution": {
     "iopub.execute_input": "2022-07-18T21:29:28.245262Z",
     "iopub.status.busy": "2022-07-18T21:29:28.244990Z",
     "iopub.status.idle": "2022-07-18T21:29:28.270402Z",
     "shell.execute_reply": "2022-07-18T21:29:28.269457Z"
    },
    "papermill": {
     "duration": 0.042004,
     "end_time": "2022-07-18T21:29:28.272112",
     "exception": false,
     "start_time": "2022-07-18T21:29:28.230108",
     "status": "completed"
    },
    "tags": []
   },
   "outputs": [
    {
     "data": {
      "text/html": [
       "<div>\n",
       "<style scoped>\n",
       "    .dataframe tbody tr th:only-of-type {\n",
       "        vertical-align: middle;\n",
       "    }\n",
       "\n",
       "    .dataframe tbody tr th {\n",
       "        vertical-align: top;\n",
       "    }\n",
       "\n",
       "    .dataframe thead th {\n",
       "        text-align: right;\n",
       "    }\n",
       "</style>\n",
       "<table border=\"1\" class=\"dataframe\">\n",
       "  <thead>\n",
       "    <tr style=\"text-align: right;\">\n",
       "      <th></th>\n",
       "      <th>PassengerId</th>\n",
       "      <th>HomePlanet</th>\n",
       "      <th>CryoSleep</th>\n",
       "      <th>Cabin</th>\n",
       "      <th>Destination</th>\n",
       "      <th>Age</th>\n",
       "      <th>VIP</th>\n",
       "      <th>RoomService</th>\n",
       "      <th>FoodCourt</th>\n",
       "      <th>ShoppingMall</th>\n",
       "      <th>Spa</th>\n",
       "      <th>VRDeck</th>\n",
       "      <th>Name</th>\n",
       "      <th>Transported</th>\n",
       "    </tr>\n",
       "  </thead>\n",
       "  <tbody>\n",
       "    <tr>\n",
       "      <th>0</th>\n",
       "      <td>0001_01</td>\n",
       "      <td>Europa</td>\n",
       "      <td>False</td>\n",
       "      <td>B/0/P</td>\n",
       "      <td>TRAPPIST-1e</td>\n",
       "      <td>39.0</td>\n",
       "      <td>False</td>\n",
       "      <td>0.0</td>\n",
       "      <td>0.0</td>\n",
       "      <td>0.0</td>\n",
       "      <td>0.0</td>\n",
       "      <td>0.0</td>\n",
       "      <td>Maham Ofracculy</td>\n",
       "      <td>False</td>\n",
       "    </tr>\n",
       "    <tr>\n",
       "      <th>1</th>\n",
       "      <td>0002_01</td>\n",
       "      <td>Earth</td>\n",
       "      <td>False</td>\n",
       "      <td>F/0/S</td>\n",
       "      <td>TRAPPIST-1e</td>\n",
       "      <td>24.0</td>\n",
       "      <td>False</td>\n",
       "      <td>109.0</td>\n",
       "      <td>9.0</td>\n",
       "      <td>25.0</td>\n",
       "      <td>549.0</td>\n",
       "      <td>44.0</td>\n",
       "      <td>Juanna Vines</td>\n",
       "      <td>True</td>\n",
       "    </tr>\n",
       "    <tr>\n",
       "      <th>2</th>\n",
       "      <td>0003_01</td>\n",
       "      <td>Europa</td>\n",
       "      <td>False</td>\n",
       "      <td>A/0/S</td>\n",
       "      <td>TRAPPIST-1e</td>\n",
       "      <td>58.0</td>\n",
       "      <td>True</td>\n",
       "      <td>43.0</td>\n",
       "      <td>3576.0</td>\n",
       "      <td>0.0</td>\n",
       "      <td>6715.0</td>\n",
       "      <td>49.0</td>\n",
       "      <td>Altark Susent</td>\n",
       "      <td>False</td>\n",
       "    </tr>\n",
       "    <tr>\n",
       "      <th>3</th>\n",
       "      <td>0003_02</td>\n",
       "      <td>Europa</td>\n",
       "      <td>False</td>\n",
       "      <td>A/0/S</td>\n",
       "      <td>TRAPPIST-1e</td>\n",
       "      <td>33.0</td>\n",
       "      <td>False</td>\n",
       "      <td>0.0</td>\n",
       "      <td>1283.0</td>\n",
       "      <td>371.0</td>\n",
       "      <td>3329.0</td>\n",
       "      <td>193.0</td>\n",
       "      <td>Solam Susent</td>\n",
       "      <td>False</td>\n",
       "    </tr>\n",
       "    <tr>\n",
       "      <th>4</th>\n",
       "      <td>0004_01</td>\n",
       "      <td>Earth</td>\n",
       "      <td>False</td>\n",
       "      <td>F/1/S</td>\n",
       "      <td>TRAPPIST-1e</td>\n",
       "      <td>16.0</td>\n",
       "      <td>False</td>\n",
       "      <td>303.0</td>\n",
       "      <td>70.0</td>\n",
       "      <td>151.0</td>\n",
       "      <td>565.0</td>\n",
       "      <td>2.0</td>\n",
       "      <td>Willy Santantines</td>\n",
       "      <td>True</td>\n",
       "    </tr>\n",
       "  </tbody>\n",
       "</table>\n",
       "</div>"
      ],
      "text/plain": [
       "  PassengerId HomePlanet CryoSleep  Cabin  Destination   Age    VIP  \\\n",
       "0     0001_01     Europa     False  B/0/P  TRAPPIST-1e  39.0  False   \n",
       "1     0002_01      Earth     False  F/0/S  TRAPPIST-1e  24.0  False   \n",
       "2     0003_01     Europa     False  A/0/S  TRAPPIST-1e  58.0   True   \n",
       "3     0003_02     Europa     False  A/0/S  TRAPPIST-1e  33.0  False   \n",
       "4     0004_01      Earth     False  F/1/S  TRAPPIST-1e  16.0  False   \n",
       "\n",
       "   RoomService  FoodCourt  ShoppingMall     Spa  VRDeck               Name  \\\n",
       "0          0.0        0.0           0.0     0.0     0.0    Maham Ofracculy   \n",
       "1        109.0        9.0          25.0   549.0    44.0       Juanna Vines   \n",
       "2         43.0     3576.0           0.0  6715.0    49.0      Altark Susent   \n",
       "3          0.0     1283.0         371.0  3329.0   193.0       Solam Susent   \n",
       "4        303.0       70.0         151.0   565.0     2.0  Willy Santantines   \n",
       "\n",
       "   Transported  \n",
       "0        False  \n",
       "1         True  \n",
       "2        False  \n",
       "3        False  \n",
       "4         True  "
      ]
     },
     "execution_count": 11,
     "metadata": {},
     "output_type": "execute_result"
    }
   ],
   "source": [
    "train.head()"
   ]
  },
  {
   "cell_type": "code",
   "execution_count": 12,
   "id": "c2188ee8",
   "metadata": {
    "execution": {
     "iopub.execute_input": "2022-07-18T21:29:28.302564Z",
     "iopub.status.busy": "2022-07-18T21:29:28.301991Z",
     "iopub.status.idle": "2022-07-18T21:29:28.308320Z",
     "shell.execute_reply": "2022-07-18T21:29:28.307587Z"
    },
    "papermill": {
     "duration": 0.023668,
     "end_time": "2022-07-18T21:29:28.310256",
     "exception": false,
     "start_time": "2022-07-18T21:29:28.286588",
     "status": "completed"
    },
    "tags": []
   },
   "outputs": [
    {
     "data": {
      "text/plain": [
       "Index(['PassengerId', 'HomePlanet', 'CryoSleep', 'Cabin', 'Destination', 'Age',\n",
       "       'VIP', 'RoomService', 'FoodCourt', 'ShoppingMall', 'Spa', 'VRDeck',\n",
       "       'Name', 'Transported'],\n",
       "      dtype='object')"
      ]
     },
     "execution_count": 12,
     "metadata": {},
     "output_type": "execute_result"
    }
   ],
   "source": [
    "train.columns"
   ]
  },
  {
   "cell_type": "markdown",
   "id": "0fbdf0fe",
   "metadata": {
    "papermill": {
     "duration": 0.014463,
     "end_time": "2022-07-18T21:29:28.339791",
     "exception": false,
     "start_time": "2022-07-18T21:29:28.325328",
     "status": "completed"
    },
    "tags": []
   },
   "source": [
    "## Fix Missing Values"
   ]
  },
  {
   "cell_type": "markdown",
   "id": "6104c05a",
   "metadata": {
    "papermill": {
     "duration": 0.014629,
     "end_time": "2022-07-18T21:29:28.369293",
     "exception": false,
     "start_time": "2022-07-18T21:29:28.354664",
     "status": "completed"
    },
    "tags": []
   },
   "source": [
    "### KNN"
   ]
  },
  {
   "cell_type": "code",
   "execution_count": 13,
   "id": "37e26ac3",
   "metadata": {
    "execution": {
     "iopub.execute_input": "2022-07-18T21:29:28.400588Z",
     "iopub.status.busy": "2022-07-18T21:29:28.400054Z",
     "iopub.status.idle": "2022-07-18T21:29:28.412459Z",
     "shell.execute_reply": "2022-07-18T21:29:28.411817Z"
    },
    "papermill": {
     "duration": 0.03005,
     "end_time": "2022-07-18T21:29:28.414080",
     "exception": false,
     "start_time": "2022-07-18T21:29:28.384030",
     "status": "completed"
    },
    "tags": []
   },
   "outputs": [],
   "source": [
    "from sklearn import impute\n",
    "\n",
    "\n",
    "def knn_impute(X, test):\n",
    "    knn_imputer = impute.KNNImputer(n_neighbors=2)\n",
    "    knn_imputer.fit_transform(X)\n",
    "    knn_imputer.transform(test)\n",
    "\n",
    "    return X, test"
   ]
  },
  {
   "cell_type": "markdown",
   "id": "22dfa849",
   "metadata": {
    "papermill": {
     "duration": 0.01494,
     "end_time": "2022-07-18T21:29:28.443433",
     "exception": false,
     "start_time": "2022-07-18T21:29:28.428493",
     "status": "completed"
    },
    "tags": []
   },
   "source": [
    "### Misc Ideas"
   ]
  },
  {
   "cell_type": "code",
   "execution_count": 14,
   "id": "306a2cc5",
   "metadata": {
    "execution": {
     "iopub.execute_input": "2022-07-18T21:29:28.473840Z",
     "iopub.status.busy": "2022-07-18T21:29:28.473206Z",
     "iopub.status.idle": "2022-07-18T21:29:28.490965Z",
     "shell.execute_reply": "2022-07-18T21:29:28.490220Z"
    },
    "papermill": {
     "duration": 0.034552,
     "end_time": "2022-07-18T21:29:28.492549",
     "exception": false,
     "start_time": "2022-07-18T21:29:28.457997",
     "status": "completed"
    },
    "tags": []
   },
   "outputs": [],
   "source": [
    "def fix_missing(train, test):\n",
    "    Missing_features = [\n",
    "        \"FoodCourt\",\n",
    "        \"Spa\",\n",
    "        \"ShoppingMall\",\n",
    "        \"RoomService\",\n",
    "        \"VRDeck\",\n",
    "        \"Cabin\",\n",
    "        \"CryoSleep\",\n",
    "        \"VIP\",\n",
    "        \"HomePlanet\",\n",
    "        \"Destination\",\n",
    "        \"Age\",\n",
    "    ]\n",
    "    for feature in Missing_features:\n",
    "        if feature == \"Age\":\n",
    "            fill = train[feature].mean()\n",
    "        else:\n",
    "            fill = train[feature].value_counts().index[0]\n",
    "        train[feature] = train[feature].fillna(fill)\n",
    "        test[feature] = test[feature].fillna(fill)\n",
    "    return train, test"
   ]
  },
  {
   "cell_type": "code",
   "execution_count": 15,
   "id": "02e360c8",
   "metadata": {
    "execution": {
     "iopub.execute_input": "2022-07-18T21:29:28.522767Z",
     "iopub.status.busy": "2022-07-18T21:29:28.522186Z",
     "iopub.status.idle": "2022-07-18T21:29:28.542358Z",
     "shell.execute_reply": "2022-07-18T21:29:28.541370Z"
    },
    "papermill": {
     "duration": 0.037155,
     "end_time": "2022-07-18T21:29:28.543997",
     "exception": false,
     "start_time": "2022-07-18T21:29:28.506842",
     "status": "completed"
    },
    "tags": []
   },
   "outputs": [
    {
     "name": "stdout",
     "output_type": "stream",
     "text": [
      "TARGET=Transported, n_folds=10, seed=42\n"
     ]
    }
   ],
   "source": [
    "train = create_folds(train, TARGET, Config.N_FOLDS)"
   ]
  },
  {
   "cell_type": "code",
   "execution_count": 16,
   "id": "86337ee5",
   "metadata": {
    "execution": {
     "iopub.execute_input": "2022-07-18T21:29:28.574346Z",
     "iopub.status.busy": "2022-07-18T21:29:28.573887Z",
     "iopub.status.idle": "2022-07-18T21:29:28.591521Z",
     "shell.execute_reply": "2022-07-18T21:29:28.590847Z"
    },
    "papermill": {
     "duration": 0.034503,
     "end_time": "2022-07-18T21:29:28.593173",
     "exception": false,
     "start_time": "2022-07-18T21:29:28.558670",
     "status": "completed"
    },
    "tags": []
   },
   "outputs": [],
   "source": [
    "train[TARGET_ENC] = train[TARGET].replace({True: 1, False: 0})\n",
    "train[TARGET] = train[TARGET].replace({True: 1, False: 0})"
   ]
  },
  {
   "cell_type": "markdown",
   "id": "37c5b476",
   "metadata": {
    "papermill": {
     "duration": 0.015112,
     "end_time": "2022-07-18T21:29:28.622596",
     "exception": false,
     "start_time": "2022-07-18T21:29:28.607484",
     "status": "completed"
    },
    "tags": []
   },
   "source": [
    "<div style=\"background-color:rgba(128, 0, 128, 0.6);border-radius:5px;display:fill\"><h1 style=\"text-align: center;padding: 12px 0px 12px 0px;\">Feature Engineering</h1>\n",
    "</div>"
   ]
  },
  {
   "cell_type": "markdown",
   "id": "caaf13d2",
   "metadata": {
    "papermill": {
     "duration": 0.014328,
     "end_time": "2022-07-18T21:29:28.651696",
     "exception": false,
     "start_time": "2022-07-18T21:29:28.637368",
     "status": "completed"
    },
    "tags": []
   },
   "source": [
    "Feature creation is unique to each competition."
   ]
  },
  {
   "cell_type": "code",
   "execution_count": 17,
   "id": "a0f95081",
   "metadata": {
    "execution": {
     "iopub.execute_input": "2022-07-18T21:29:28.681810Z",
     "iopub.status.busy": "2022-07-18T21:29:28.681146Z",
     "iopub.status.idle": "2022-07-18T21:29:28.686482Z",
     "shell.execute_reply": "2022-07-18T21:29:28.685869Z"
    },
    "papermill": {
     "duration": 0.022743,
     "end_time": "2022-07-18T21:29:28.688738",
     "exception": false,
     "start_time": "2022-07-18T21:29:28.665995",
     "status": "completed"
    },
    "tags": []
   },
   "outputs": [],
   "source": [
    "def create_features(df, train=True):\n",
    "\n",
    "    return df"
   ]
  },
  {
   "cell_type": "code",
   "execution_count": 18,
   "id": "f96ae2d4",
   "metadata": {
    "execution": {
     "iopub.execute_input": "2022-07-18T21:29:28.720837Z",
     "iopub.status.busy": "2022-07-18T21:29:28.720146Z",
     "iopub.status.idle": "2022-07-18T21:29:28.912855Z",
     "shell.execute_reply": "2022-07-18T21:29:28.912112Z"
    },
    "papermill": {
     "duration": 0.21002,
     "end_time": "2022-07-18T21:29:28.914505",
     "exception": false,
     "start_time": "2022-07-18T21:29:28.704485",
     "status": "completed"
    },
    "tags": []
   },
   "outputs": [
    {
     "data": {
      "text/plain": [
       "2566"
      ]
     },
     "execution_count": 18,
     "metadata": {},
     "output_type": "execute_result"
    }
   ],
   "source": [
    "train[\"isTrain\"] = True\n",
    "test[\"isTrain\"] = False\n",
    "\n",
    "tt = pd.concat([train, test]).reset_index(drop=True).copy()\n",
    "\n",
    "# tt = create_features(tt)\n",
    "\n",
    "train = tt.query(\"isTrain\").reset_index(drop=True).copy()\n",
    "test = tt.query(\"isTrain == False\").reset_index(drop=True).copy()\n",
    "\n",
    "del tt\n",
    "gc.collect()"
   ]
  },
  {
   "cell_type": "code",
   "execution_count": 19,
   "id": "7729ad49",
   "metadata": {
    "execution": {
     "iopub.execute_input": "2022-07-18T21:29:28.945911Z",
     "iopub.status.busy": "2022-07-18T21:29:28.945117Z",
     "iopub.status.idle": "2022-07-18T21:29:28.967290Z",
     "shell.execute_reply": "2022-07-18T21:29:28.966466Z"
    },
    "papermill": {
     "duration": 0.039726,
     "end_time": "2022-07-18T21:29:28.969051",
     "exception": false,
     "start_time": "2022-07-18T21:29:28.929325",
     "status": "completed"
    },
    "tags": []
   },
   "outputs": [
    {
     "data": {
      "text/html": [
       "<div>\n",
       "<style scoped>\n",
       "    .dataframe tbody tr th:only-of-type {\n",
       "        vertical-align: middle;\n",
       "    }\n",
       "\n",
       "    .dataframe tbody tr th {\n",
       "        vertical-align: top;\n",
       "    }\n",
       "\n",
       "    .dataframe thead th {\n",
       "        text-align: right;\n",
       "    }\n",
       "</style>\n",
       "<table border=\"1\" class=\"dataframe\">\n",
       "  <thead>\n",
       "    <tr style=\"text-align: right;\">\n",
       "      <th></th>\n",
       "      <th>PassengerId</th>\n",
       "      <th>HomePlanet</th>\n",
       "      <th>CryoSleep</th>\n",
       "      <th>Cabin</th>\n",
       "      <th>Destination</th>\n",
       "      <th>Age</th>\n",
       "      <th>VIP</th>\n",
       "      <th>RoomService</th>\n",
       "      <th>FoodCourt</th>\n",
       "      <th>ShoppingMall</th>\n",
       "      <th>Spa</th>\n",
       "      <th>VRDeck</th>\n",
       "      <th>Name</th>\n",
       "      <th>Transported</th>\n",
       "      <th>fold</th>\n",
       "      <th>target_num</th>\n",
       "      <th>isTrain</th>\n",
       "    </tr>\n",
       "  </thead>\n",
       "  <tbody>\n",
       "    <tr>\n",
       "      <th>0</th>\n",
       "      <td>0001_01</td>\n",
       "      <td>Europa</td>\n",
       "      <td>False</td>\n",
       "      <td>B/0/P</td>\n",
       "      <td>TRAPPIST-1e</td>\n",
       "      <td>39.0</td>\n",
       "      <td>False</td>\n",
       "      <td>0.0</td>\n",
       "      <td>0.0</td>\n",
       "      <td>0.0</td>\n",
       "      <td>0.0</td>\n",
       "      <td>0.0</td>\n",
       "      <td>Maham Ofracculy</td>\n",
       "      <td>0.0</td>\n",
       "      <td>8.0</td>\n",
       "      <td>0.0</td>\n",
       "      <td>True</td>\n",
       "    </tr>\n",
       "    <tr>\n",
       "      <th>1</th>\n",
       "      <td>0002_01</td>\n",
       "      <td>Earth</td>\n",
       "      <td>False</td>\n",
       "      <td>F/0/S</td>\n",
       "      <td>TRAPPIST-1e</td>\n",
       "      <td>24.0</td>\n",
       "      <td>False</td>\n",
       "      <td>109.0</td>\n",
       "      <td>9.0</td>\n",
       "      <td>25.0</td>\n",
       "      <td>549.0</td>\n",
       "      <td>44.0</td>\n",
       "      <td>Juanna Vines</td>\n",
       "      <td>1.0</td>\n",
       "      <td>5.0</td>\n",
       "      <td>1.0</td>\n",
       "      <td>True</td>\n",
       "    </tr>\n",
       "    <tr>\n",
       "      <th>2</th>\n",
       "      <td>0003_01</td>\n",
       "      <td>Europa</td>\n",
       "      <td>False</td>\n",
       "      <td>A/0/S</td>\n",
       "      <td>TRAPPIST-1e</td>\n",
       "      <td>58.0</td>\n",
       "      <td>True</td>\n",
       "      <td>43.0</td>\n",
       "      <td>3576.0</td>\n",
       "      <td>0.0</td>\n",
       "      <td>6715.0</td>\n",
       "      <td>49.0</td>\n",
       "      <td>Altark Susent</td>\n",
       "      <td>0.0</td>\n",
       "      <td>4.0</td>\n",
       "      <td>0.0</td>\n",
       "      <td>True</td>\n",
       "    </tr>\n",
       "    <tr>\n",
       "      <th>3</th>\n",
       "      <td>0003_02</td>\n",
       "      <td>Europa</td>\n",
       "      <td>False</td>\n",
       "      <td>A/0/S</td>\n",
       "      <td>TRAPPIST-1e</td>\n",
       "      <td>33.0</td>\n",
       "      <td>False</td>\n",
       "      <td>0.0</td>\n",
       "      <td>1283.0</td>\n",
       "      <td>371.0</td>\n",
       "      <td>3329.0</td>\n",
       "      <td>193.0</td>\n",
       "      <td>Solam Susent</td>\n",
       "      <td>0.0</td>\n",
       "      <td>4.0</td>\n",
       "      <td>0.0</td>\n",
       "      <td>True</td>\n",
       "    </tr>\n",
       "    <tr>\n",
       "      <th>4</th>\n",
       "      <td>0004_01</td>\n",
       "      <td>Earth</td>\n",
       "      <td>False</td>\n",
       "      <td>F/1/S</td>\n",
       "      <td>TRAPPIST-1e</td>\n",
       "      <td>16.0</td>\n",
       "      <td>False</td>\n",
       "      <td>303.0</td>\n",
       "      <td>70.0</td>\n",
       "      <td>151.0</td>\n",
       "      <td>565.0</td>\n",
       "      <td>2.0</td>\n",
       "      <td>Willy Santantines</td>\n",
       "      <td>1.0</td>\n",
       "      <td>6.0</td>\n",
       "      <td>1.0</td>\n",
       "      <td>True</td>\n",
       "    </tr>\n",
       "  </tbody>\n",
       "</table>\n",
       "</div>"
      ],
      "text/plain": [
       "  PassengerId HomePlanet CryoSleep  Cabin  Destination   Age    VIP  \\\n",
       "0     0001_01     Europa     False  B/0/P  TRAPPIST-1e  39.0  False   \n",
       "1     0002_01      Earth     False  F/0/S  TRAPPIST-1e  24.0  False   \n",
       "2     0003_01     Europa     False  A/0/S  TRAPPIST-1e  58.0   True   \n",
       "3     0003_02     Europa     False  A/0/S  TRAPPIST-1e  33.0  False   \n",
       "4     0004_01      Earth     False  F/1/S  TRAPPIST-1e  16.0  False   \n",
       "\n",
       "   RoomService  FoodCourt  ShoppingMall     Spa  VRDeck               Name  \\\n",
       "0          0.0        0.0           0.0     0.0     0.0    Maham Ofracculy   \n",
       "1        109.0        9.0          25.0   549.0    44.0       Juanna Vines   \n",
       "2         43.0     3576.0           0.0  6715.0    49.0      Altark Susent   \n",
       "3          0.0     1283.0         371.0  3329.0   193.0       Solam Susent   \n",
       "4        303.0       70.0         151.0   565.0     2.0  Willy Santantines   \n",
       "\n",
       "   Transported  fold  target_num  isTrain  \n",
       "0          0.0   8.0         0.0     True  \n",
       "1          1.0   5.0         1.0     True  \n",
       "2          0.0   4.0         0.0     True  \n",
       "3          0.0   4.0         0.0     True  \n",
       "4          1.0   6.0         1.0     True  "
      ]
     },
     "execution_count": 19,
     "metadata": {},
     "output_type": "execute_result"
    }
   ],
   "source": [
    "train.head()"
   ]
  },
  {
   "cell_type": "code",
   "execution_count": 20,
   "id": "7842ac90",
   "metadata": {
    "execution": {
     "iopub.execute_input": "2022-07-18T21:29:28.999720Z",
     "iopub.status.busy": "2022-07-18T21:29:28.999445Z",
     "iopub.status.idle": "2022-07-18T21:29:29.009209Z",
     "shell.execute_reply": "2022-07-18T21:29:29.008413Z"
    },
    "papermill": {
     "duration": 0.026902,
     "end_time": "2022-07-18T21:29:29.010818",
     "exception": false,
     "start_time": "2022-07-18T21:29:28.983916",
     "status": "completed"
    },
    "tags": []
   },
   "outputs": [],
   "source": [
    "FEATURES = [\n",
    "    col\n",
    "    for col in train.columns\n",
    "    if col\n",
    "    not in [\n",
    "        \"PassengerId\",\n",
    "        \"fold\",\n",
    "        TARGET,\n",
    "        TARGET_ENC,\n",
    "        \"isTrain\",\n",
    "        #         \"HomePlanet\",\n",
    "        #         \"CryoSleep\",\n",
    "        \"Cabin\",\n",
    "        #         \"Destination\",\n",
    "        #         \"VIP\",\n",
    "        \"Name\",\n",
    "    ]\n",
    "]"
   ]
  },
  {
   "cell_type": "markdown",
   "id": "7129b55e",
   "metadata": {
    "papermill": {
     "duration": 0.01511,
     "end_time": "2022-07-18T21:29:29.040877",
     "exception": false,
     "start_time": "2022-07-18T21:29:29.025767",
     "status": "completed"
    },
    "tags": []
   },
   "source": [
    "## Label Encode Categorical Features"
   ]
  },
  {
   "cell_type": "code",
   "execution_count": 21,
   "id": "5c500c4b",
   "metadata": {
    "execution": {
     "iopub.execute_input": "2022-07-18T21:29:29.071694Z",
     "iopub.status.busy": "2022-07-18T21:29:29.071409Z",
     "iopub.status.idle": "2022-07-18T21:29:29.125255Z",
     "shell.execute_reply": "2022-07-18T21:29:29.124605Z"
    },
    "papermill": {
     "duration": 0.071289,
     "end_time": "2022-07-18T21:29:29.127037",
     "exception": false,
     "start_time": "2022-07-18T21:29:29.055748",
     "status": "completed"
    },
    "tags": []
   },
   "outputs": [],
   "source": [
    "label_cols = [\"HomePlanet\", \"CryoSleep\", \"Cabin\", \"Destination\", \"VIP\"]\n",
    "\n",
    "train, test = label_encoder(train, test, label_cols)"
   ]
  },
  {
   "cell_type": "code",
   "execution_count": 22,
   "id": "618168af",
   "metadata": {
    "execution": {
     "iopub.execute_input": "2022-07-18T21:29:29.158432Z",
     "iopub.status.busy": "2022-07-18T21:29:29.158164Z",
     "iopub.status.idle": "2022-07-18T21:29:29.179691Z",
     "shell.execute_reply": "2022-07-18T21:29:29.178689Z"
    },
    "papermill": {
     "duration": 0.03929,
     "end_time": "2022-07-18T21:29:29.181827",
     "exception": false,
     "start_time": "2022-07-18T21:29:29.142537",
     "status": "completed"
    },
    "tags": []
   },
   "outputs": [
    {
     "data": {
      "text/html": [
       "<div>\n",
       "<style scoped>\n",
       "    .dataframe tbody tr th:only-of-type {\n",
       "        vertical-align: middle;\n",
       "    }\n",
       "\n",
       "    .dataframe tbody tr th {\n",
       "        vertical-align: top;\n",
       "    }\n",
       "\n",
       "    .dataframe thead th {\n",
       "        text-align: right;\n",
       "    }\n",
       "</style>\n",
       "<table border=\"1\" class=\"dataframe\">\n",
       "  <thead>\n",
       "    <tr style=\"text-align: right;\">\n",
       "      <th></th>\n",
       "      <th>PassengerId</th>\n",
       "      <th>HomePlanet</th>\n",
       "      <th>CryoSleep</th>\n",
       "      <th>Cabin</th>\n",
       "      <th>Destination</th>\n",
       "      <th>Age</th>\n",
       "      <th>VIP</th>\n",
       "      <th>RoomService</th>\n",
       "      <th>FoodCourt</th>\n",
       "      <th>ShoppingMall</th>\n",
       "      <th>Spa</th>\n",
       "      <th>VRDeck</th>\n",
       "      <th>Name</th>\n",
       "      <th>Transported</th>\n",
       "      <th>fold</th>\n",
       "      <th>target_num</th>\n",
       "      <th>isTrain</th>\n",
       "    </tr>\n",
       "  </thead>\n",
       "  <tbody>\n",
       "    <tr>\n",
       "      <th>0</th>\n",
       "      <td>0001_01</td>\n",
       "      <td>1</td>\n",
       "      <td>0</td>\n",
       "      <td>149</td>\n",
       "      <td>2</td>\n",
       "      <td>39.0</td>\n",
       "      <td>0</td>\n",
       "      <td>0.0</td>\n",
       "      <td>0.0</td>\n",
       "      <td>0.0</td>\n",
       "      <td>0.0</td>\n",
       "      <td>0.0</td>\n",
       "      <td>Maham Ofracculy</td>\n",
       "      <td>0.0</td>\n",
       "      <td>8.0</td>\n",
       "      <td>0.0</td>\n",
       "      <td>True</td>\n",
       "    </tr>\n",
       "    <tr>\n",
       "      <th>1</th>\n",
       "      <td>0002_01</td>\n",
       "      <td>0</td>\n",
       "      <td>0</td>\n",
       "      <td>2184</td>\n",
       "      <td>2</td>\n",
       "      <td>24.0</td>\n",
       "      <td>0</td>\n",
       "      <td>109.0</td>\n",
       "      <td>9.0</td>\n",
       "      <td>25.0</td>\n",
       "      <td>549.0</td>\n",
       "      <td>44.0</td>\n",
       "      <td>Juanna Vines</td>\n",
       "      <td>1.0</td>\n",
       "      <td>5.0</td>\n",
       "      <td>1.0</td>\n",
       "      <td>True</td>\n",
       "    </tr>\n",
       "    <tr>\n",
       "      <th>2</th>\n",
       "      <td>0003_01</td>\n",
       "      <td>1</td>\n",
       "      <td>0</td>\n",
       "      <td>1</td>\n",
       "      <td>2</td>\n",
       "      <td>58.0</td>\n",
       "      <td>1</td>\n",
       "      <td>43.0</td>\n",
       "      <td>3576.0</td>\n",
       "      <td>0.0</td>\n",
       "      <td>6715.0</td>\n",
       "      <td>49.0</td>\n",
       "      <td>Altark Susent</td>\n",
       "      <td>0.0</td>\n",
       "      <td>4.0</td>\n",
       "      <td>0.0</td>\n",
       "      <td>True</td>\n",
       "    </tr>\n",
       "    <tr>\n",
       "      <th>3</th>\n",
       "      <td>0003_02</td>\n",
       "      <td>1</td>\n",
       "      <td>0</td>\n",
       "      <td>1</td>\n",
       "      <td>2</td>\n",
       "      <td>33.0</td>\n",
       "      <td>0</td>\n",
       "      <td>0.0</td>\n",
       "      <td>1283.0</td>\n",
       "      <td>371.0</td>\n",
       "      <td>3329.0</td>\n",
       "      <td>193.0</td>\n",
       "      <td>Solam Susent</td>\n",
       "      <td>0.0</td>\n",
       "      <td>4.0</td>\n",
       "      <td>0.0</td>\n",
       "      <td>True</td>\n",
       "    </tr>\n",
       "    <tr>\n",
       "      <th>4</th>\n",
       "      <td>0004_01</td>\n",
       "      <td>0</td>\n",
       "      <td>0</td>\n",
       "      <td>2186</td>\n",
       "      <td>2</td>\n",
       "      <td>16.0</td>\n",
       "      <td>0</td>\n",
       "      <td>303.0</td>\n",
       "      <td>70.0</td>\n",
       "      <td>151.0</td>\n",
       "      <td>565.0</td>\n",
       "      <td>2.0</td>\n",
       "      <td>Willy Santantines</td>\n",
       "      <td>1.0</td>\n",
       "      <td>6.0</td>\n",
       "      <td>1.0</td>\n",
       "      <td>True</td>\n",
       "    </tr>\n",
       "  </tbody>\n",
       "</table>\n",
       "</div>"
      ],
      "text/plain": [
       "  PassengerId  HomePlanet  CryoSleep  Cabin  Destination   Age  VIP  \\\n",
       "0     0001_01           1          0    149            2  39.0    0   \n",
       "1     0002_01           0          0   2184            2  24.0    0   \n",
       "2     0003_01           1          0      1            2  58.0    1   \n",
       "3     0003_02           1          0      1            2  33.0    0   \n",
       "4     0004_01           0          0   2186            2  16.0    0   \n",
       "\n",
       "   RoomService  FoodCourt  ShoppingMall     Spa  VRDeck               Name  \\\n",
       "0          0.0        0.0           0.0     0.0     0.0    Maham Ofracculy   \n",
       "1        109.0        9.0          25.0   549.0    44.0       Juanna Vines   \n",
       "2         43.0     3576.0           0.0  6715.0    49.0      Altark Susent   \n",
       "3          0.0     1283.0         371.0  3329.0   193.0       Solam Susent   \n",
       "4        303.0       70.0         151.0   565.0     2.0  Willy Santantines   \n",
       "\n",
       "   Transported  fold  target_num  isTrain  \n",
       "0          0.0   8.0         0.0     True  \n",
       "1          1.0   5.0         1.0     True  \n",
       "2          0.0   4.0         0.0     True  \n",
       "3          0.0   4.0         0.0     True  \n",
       "4          1.0   6.0         1.0     True  "
      ]
     },
     "execution_count": 22,
     "metadata": {},
     "output_type": "execute_result"
    }
   ],
   "source": [
    "train.head()"
   ]
  },
  {
   "cell_type": "markdown",
   "id": "b636b8e6",
   "metadata": {
    "papermill": {
     "duration": 0.015769,
     "end_time": "2022-07-18T21:29:29.213000",
     "exception": false,
     "start_time": "2022-07-18T21:29:29.197231",
     "status": "completed"
    },
    "tags": []
   },
   "source": [
    "## One-Hot Encode\n",
    "\n",
    "\n",
    "Good for low cardinality fields\n",
    "\n",
    "- https://www.kaggle.com/code/dansbecker/using-categorical-data-with-one-hot-encoding/notebook\n",
    "- [When to use One Hot Encoding vs LabelEncoder vs DictVectorizor?](https://datascience.stackexchange.com/questions/9443/when-to-use-one-hot-encoding-vs-labelencoder-vs-dictvectorizor)\n"
   ]
  },
  {
   "cell_type": "markdown",
   "id": "f06fcb94",
   "metadata": {
    "papermill": {
     "duration": 0.014958,
     "end_time": "2022-07-18T21:29:29.242932",
     "exception": false,
     "start_time": "2022-07-18T21:29:29.227974",
     "status": "completed"
    },
    "tags": []
   },
   "source": [
    "## Impute"
   ]
  },
  {
   "cell_type": "code",
   "execution_count": 23,
   "id": "0e887cee",
   "metadata": {
    "execution": {
     "iopub.execute_input": "2022-07-18T21:29:29.273857Z",
     "iopub.status.busy": "2022-07-18T21:29:29.273589Z",
     "iopub.status.idle": "2022-07-18T21:29:29.283108Z",
     "shell.execute_reply": "2022-07-18T21:29:29.282451Z"
    },
    "papermill": {
     "duration": 0.026793,
     "end_time": "2022-07-18T21:29:29.284688",
     "exception": false,
     "start_time": "2022-07-18T21:29:29.257895",
     "status": "completed"
    },
    "tags": []
   },
   "outputs": [],
   "source": [
    "train = train.drop([\"Name\"], axis=1)\n",
    "test = test.drop([\"Name\"], axis=1)"
   ]
  },
  {
   "cell_type": "markdown",
   "id": "dab8a642",
   "metadata": {
    "papermill": {
     "duration": 0.014805,
     "end_time": "2022-07-18T21:29:29.314478",
     "exception": false,
     "start_time": "2022-07-18T21:29:29.299673",
     "status": "completed"
    },
    "tags": []
   },
   "source": [
    "###  XGB Impute"
   ]
  },
  {
   "cell_type": "code",
   "execution_count": 24,
   "id": "11dfa9ea",
   "metadata": {
    "execution": {
     "iopub.execute_input": "2022-07-18T21:29:29.345782Z",
     "iopub.status.busy": "2022-07-18T21:29:29.345328Z",
     "iopub.status.idle": "2022-07-18T21:29:29.365167Z",
     "shell.execute_reply": "2022-07-18T21:29:29.364529Z"
    },
    "papermill": {
     "duration": 0.037066,
     "end_time": "2022-07-18T21:29:29.366761",
     "exception": false,
     "start_time": "2022-07-18T21:29:29.329695",
     "status": "completed"
    },
    "tags": []
   },
   "outputs": [],
   "source": [
    "from sklearn.experimental import enable_iterative_imputer\n",
    "from sklearn.impute import IterativeImputer\n",
    "\n",
    "\n",
    "def xgb_impute(X, test):\n",
    "    imp = IterativeImputer(\n",
    "        estimator=xgb.XGBRegressor(\n",
    "            n_estimators=120,\n",
    "            random_state=42,\n",
    "            tree_method=\"gpu_hist\",\n",
    "        ),\n",
    "        missing_values=np.nan,\n",
    "        max_iter=15,\n",
    "        initial_strategy=\"mean\",\n",
    "        imputation_order=\"ascending\",\n",
    "        verbose=2,\n",
    "        random_state=42,\n",
    "    )\n",
    "\n",
    "    X[:] = imp.fit_transform(X)\n",
    "    test[:] = imp.transform(test)\n",
    "    return X, test"
   ]
  },
  {
   "cell_type": "markdown",
   "id": "989db17e",
   "metadata": {
    "papermill": {
     "duration": 0.015636,
     "end_time": "2022-07-18T21:29:29.397371",
     "exception": false,
     "start_time": "2022-07-18T21:29:29.381735",
     "status": "completed"
    },
    "tags": []
   },
   "source": [
    "- https://www.kaggle.com/code/hamzaghanmi/let-s-use-keras-tensorflow"
   ]
  },
  {
   "cell_type": "markdown",
   "id": "b4f1e68a",
   "metadata": {
    "papermill": {
     "duration": 0.014833,
     "end_time": "2022-07-18T21:29:29.427375",
     "exception": false,
     "start_time": "2022-07-18T21:29:29.412542",
     "status": "completed"
    },
    "tags": []
   },
   "source": [
    "### Mean, Median, Mode"
   ]
  },
  {
   "cell_type": "code",
   "execution_count": 25,
   "id": "5b256e61",
   "metadata": {
    "execution": {
     "iopub.execute_input": "2022-07-18T21:29:29.458197Z",
     "iopub.status.busy": "2022-07-18T21:29:29.457946Z",
     "iopub.status.idle": "2022-07-18T21:29:29.476794Z",
     "shell.execute_reply": "2022-07-18T21:29:29.476130Z"
    },
    "papermill": {
     "duration": 0.036128,
     "end_time": "2022-07-18T21:29:29.478430",
     "exception": false,
     "start_time": "2022-07-18T21:29:29.442302",
     "status": "completed"
    },
    "tags": []
   },
   "outputs": [],
   "source": [
    "def impute_data(train, test, columns, method):\n",
    "    for col in columns:\n",
    "        if method == \"mean\":\n",
    "            value = train[col].mean()\n",
    "            train[col].fillna(value, inplace=True)\n",
    "            test[col].fillna(value, inplace=True)\n",
    "        elif method == \"mode\":\n",
    "            value = train[col].mode()[0]\n",
    "            train[col].fillna(value, inplace=True)\n",
    "            test[col].fillna(value, inplace=True)\n",
    "        elif method == \"median\":\n",
    "            value = train[col].median()\n",
    "            train[col].fillna(value, inplace=True)\n",
    "            test[col].fillna(value, inplace=True)\n",
    "    return train, test"
   ]
  },
  {
   "cell_type": "code",
   "execution_count": 26,
   "id": "98023a3d",
   "metadata": {
    "execution": {
     "iopub.execute_input": "2022-07-18T21:29:29.519142Z",
     "iopub.status.busy": "2022-07-18T21:29:29.518889Z",
     "iopub.status.idle": "2022-07-18T21:30:54.355487Z",
     "shell.execute_reply": "2022-07-18T21:30:54.354533Z"
    },
    "papermill": {
     "duration": 84.857615,
     "end_time": "2022-07-18T21:30:54.357420",
     "exception": false,
     "start_time": "2022-07-18T21:29:29.499805",
     "status": "completed"
    },
    "tags": []
   },
   "outputs": [
    {
     "name": "stdout",
     "output_type": "stream",
     "text": [
      "[IterativeImputer] Completing matrix with shape (8693, 16)\n",
      "[IterativeImputer] Ending imputation round 1/15, elapsed time 7.82\n",
      "[IterativeImputer] Change: 9836.248968584754, scaled tolerance: 928.0020000000001 \n",
      "[IterativeImputer] Ending imputation round 2/15, elapsed time 13.13\n",
      "[IterativeImputer] Change: 3347.613784790039, scaled tolerance: 928.0020000000001 \n",
      "[IterativeImputer] Ending imputation round 3/15, elapsed time 19.09\n",
      "[IterativeImputer] Change: 3357.4794921875, scaled tolerance: 928.0020000000001 \n",
      "[IterativeImputer] Ending imputation round 4/15, elapsed time 24.38\n",
      "[IterativeImputer] Change: 5624.36083984375, scaled tolerance: 928.0020000000001 \n",
      "[IterativeImputer] Ending imputation round 5/15, elapsed time 29.82\n",
      "[IterativeImputer] Change: 5224.01123046875, scaled tolerance: 928.0020000000001 \n",
      "[IterativeImputer] Ending imputation round 6/15, elapsed time 35.11\n",
      "[IterativeImputer] Change: 5061.7451171875, scaled tolerance: 928.0020000000001 \n",
      "[IterativeImputer] Ending imputation round 7/15, elapsed time 40.57\n",
      "[IterativeImputer] Change: 7530.3018798828125, scaled tolerance: 928.0020000000001 \n",
      "[IterativeImputer] Ending imputation round 8/15, elapsed time 45.87\n",
      "[IterativeImputer] Change: 4663.57568359375, scaled tolerance: 928.0020000000001 \n",
      "[IterativeImputer] Ending imputation round 9/15, elapsed time 51.65\n",
      "[IterativeImputer] Change: 2830.6181030273438, scaled tolerance: 928.0020000000001 \n",
      "[IterativeImputer] Ending imputation round 10/15, elapsed time 56.95\n",
      "[IterativeImputer] Change: 4089.1531982421875, scaled tolerance: 928.0020000000001 \n",
      "[IterativeImputer] Ending imputation round 11/15, elapsed time 62.46\n",
      "[IterativeImputer] Change: 4405.7459716796875, scaled tolerance: 928.0020000000001 \n",
      "[IterativeImputer] Ending imputation round 12/15, elapsed time 67.75\n",
      "[IterativeImputer] Change: 3874.0299072265625, scaled tolerance: 928.0020000000001 \n",
      "[IterativeImputer] Ending imputation round 13/15, elapsed time 73.21\n",
      "[IterativeImputer] Change: 4785.361328125, scaled tolerance: 928.0020000000001 \n",
      "[IterativeImputer] Ending imputation round 14/15, elapsed time 78.53\n",
      "[IterativeImputer] Change: 4126.00244140625, scaled tolerance: 928.0020000000001 \n",
      "[IterativeImputer] Ending imputation round 15/15, elapsed time 84.27\n",
      "[IterativeImputer] Change: 3177.3597660064697, scaled tolerance: 928.0020000000001 \n",
      "[IterativeImputer] Completing matrix with shape (4277, 16)\n",
      "[IterativeImputer] Ending imputation round 1/15, elapsed time 0.03\n",
      "[IterativeImputer] Ending imputation round 2/15, elapsed time 0.06\n",
      "[IterativeImputer] Ending imputation round 3/15, elapsed time 0.08\n",
      "[IterativeImputer] Ending imputation round 4/15, elapsed time 0.11\n",
      "[IterativeImputer] Ending imputation round 5/15, elapsed time 0.14\n",
      "[IterativeImputer] Ending imputation round 6/15, elapsed time 0.17\n",
      "[IterativeImputer] Ending imputation round 7/15, elapsed time 0.20\n",
      "[IterativeImputer] Ending imputation round 8/15, elapsed time 0.22\n",
      "[IterativeImputer] Ending imputation round 9/15, elapsed time 0.25\n",
      "[IterativeImputer] Ending imputation round 10/15, elapsed time 0.28\n",
      "[IterativeImputer] Ending imputation round 11/15, elapsed time 0.31\n",
      "[IterativeImputer] Ending imputation round 12/15, elapsed time 0.34\n",
      "[IterativeImputer] Ending imputation round 13/15, elapsed time 0.37\n",
      "[IterativeImputer] Ending imputation round 14/15, elapsed time 0.39\n",
      "[IterativeImputer] Ending imputation round 15/15, elapsed time 0.42\n"
     ]
    },
    {
     "data": {
      "text/plain": [
       "(      PassengerId  HomePlanet  CryoSleep   Cabin  Destination   Age  VIP  \\\n",
       " 0           101.0         1.0        0.0   149.0          2.0  39.0  0.0   \n",
       " 1           201.0         0.0        0.0  2184.0          2.0  24.0  0.0   \n",
       " 2           301.0         1.0        0.0     1.0          2.0  58.0  1.0   \n",
       " 3           302.0         1.0        0.0     1.0          2.0  33.0  0.0   \n",
       " 4           401.0         0.0        0.0  2186.0          2.0  16.0  0.0   \n",
       " ...           ...         ...        ...     ...          ...   ...  ...   \n",
       " 8688     927601.0         1.0        0.0   146.0          0.0  41.0  1.0   \n",
       " 8689     927801.0         0.0        1.0  5280.0          1.0  18.0  0.0   \n",
       " 8690     927901.0         0.0        0.0  5285.0          2.0  26.0  0.0   \n",
       " 8691     928001.0         1.0        0.0  2131.0          0.0  32.0  0.0   \n",
       " 8692     928002.0         1.0        0.0  2131.0          2.0  44.0  0.0   \n",
       " \n",
       "       RoomService  FoodCourt  ShoppingMall     Spa  VRDeck  Transported  fold  \\\n",
       " 0             0.0        0.0           0.0     0.0     0.0          0.0   8.0   \n",
       " 1           109.0        9.0          25.0   549.0    44.0          1.0   5.0   \n",
       " 2            43.0     3576.0           0.0  6715.0    49.0          0.0   4.0   \n",
       " 3             0.0     1283.0         371.0  3329.0   193.0          0.0   4.0   \n",
       " 4           303.0       70.0         151.0   565.0     2.0          1.0   6.0   \n",
       " ...           ...        ...           ...     ...     ...          ...   ...   \n",
       " 8688          0.0     6819.0           0.0  1643.0    74.0          0.0   7.0   \n",
       " 8689          0.0        0.0           0.0     0.0     0.0          0.0   8.0   \n",
       " 8690          0.0        0.0        1872.0     1.0     0.0          1.0   2.0   \n",
       " 8691          0.0     1049.0           0.0   353.0  3235.0          0.0   1.0   \n",
       " 8692        126.0     4688.0           0.0     0.0    12.0          1.0   5.0   \n",
       " \n",
       "       target_num  isTrain  \n",
       " 0            0.0      1.0  \n",
       " 1            1.0      1.0  \n",
       " 2            0.0      1.0  \n",
       " 3            0.0      1.0  \n",
       " 4            1.0      1.0  \n",
       " ...          ...      ...  \n",
       " 8688         0.0      1.0  \n",
       " 8689         0.0      1.0  \n",
       " 8690         1.0      1.0  \n",
       " 8691         0.0      1.0  \n",
       " 8692         1.0      1.0  \n",
       " \n",
       " [8693 rows x 16 columns],\n",
       "       PassengerId  HomePlanet  CryoSleep   Cabin  Destination        Age  VIP  \\\n",
       " 0          1301.0         0.0        1.0  2784.0          2.0  27.000000  0.0   \n",
       " 1          1801.0         0.0        0.0  1867.0          2.0  19.000000  0.0   \n",
       " 2          1901.0         1.0        1.0   257.0          0.0  31.000000  0.0   \n",
       " 3          2101.0         1.0        0.0   259.0          2.0  38.000000  0.0   \n",
       " 4          2301.0         0.0        0.0  1940.0          2.0  20.000000  0.0   \n",
       " ...           ...         ...        ...     ...          ...        ...  ...   \n",
       " 4272     926602.0         0.0        1.0  2679.0          2.0  34.000000  0.0   \n",
       " 4273     926901.0         0.0        0.0  3265.0          2.0  42.000000  0.0   \n",
       " 4274     927101.0         2.0        1.0   602.0          0.0  29.177792  0.0   \n",
       " 4275     927301.0         1.0        0.0   603.0          3.0  26.409380  0.0   \n",
       " 4276     927701.0         0.0        1.0  2680.0          1.0  43.000000  0.0   \n",
       " \n",
       "       RoomService  FoodCourt  ShoppingMall     Spa  VRDeck  Transported  \\\n",
       " 0             0.0        0.0           0.0     0.0     0.0     0.000008   \n",
       " 1             0.0        9.0           0.0  2823.0     0.0     0.000008   \n",
       " 2             0.0        0.0           0.0     0.0     0.0     0.000008   \n",
       " 3             0.0     6652.0           0.0   181.0   585.0     0.000008   \n",
       " 4            10.0        0.0         635.0     0.0     0.0     0.000008   \n",
       " ...           ...        ...           ...     ...     ...          ...   \n",
       " 4272          0.0        0.0           0.0     0.0     0.0     0.000008   \n",
       " 4273          0.0      847.0          17.0    10.0   144.0     0.000008   \n",
       " 4274          0.0        0.0           0.0     0.0     0.0     0.000008   \n",
       " 4275          0.0     2680.0           0.0     0.0   523.0     0.000008   \n",
       " 4276          0.0        0.0           0.0     0.0     0.0     0.000008   \n",
       " \n",
       "           fold  target_num  isTrain  \n",
       " 0     5.095215    0.000008      0.0  \n",
       " 1     5.182273    0.000008      0.0  \n",
       " 2     3.296062    0.000008      0.0  \n",
       " 3     5.347019    0.000008      0.0  \n",
       " 4     7.013769    0.000008      0.0  \n",
       " ...        ...         ...      ...  \n",
       " 4272  3.998390    0.000008      0.0  \n",
       " 4273  4.638255    0.000008      0.0  \n",
       " 4274  5.084217    0.000008      0.0  \n",
       " 4275  1.189733    0.000008      0.0  \n",
       " 4276  4.615982    0.000008      0.0  \n",
       " \n",
       " [4277 rows x 16 columns])"
      ]
     },
     "execution_count": 26,
     "metadata": {},
     "output_type": "execute_result"
    }
   ],
   "source": [
    "# train, test = fix_missing(train, test)\n",
    "# train, test = knn_impute(train, test)\n",
    "xgb_impute(train, test)"
   ]
  },
  {
   "cell_type": "code",
   "execution_count": 27,
   "id": "e1eb2721",
   "metadata": {
    "execution": {
     "iopub.execute_input": "2022-07-18T21:30:54.392779Z",
     "iopub.status.busy": "2022-07-18T21:30:54.392486Z",
     "iopub.status.idle": "2022-07-18T21:30:54.397303Z",
     "shell.execute_reply": "2022-07-18T21:30:54.396466Z"
    },
    "papermill": {
     "duration": 0.024474,
     "end_time": "2022-07-18T21:30:54.399014",
     "exception": false,
     "start_time": "2022-07-18T21:30:54.374540",
     "status": "completed"
    },
    "tags": []
   },
   "outputs": [],
   "source": [
    "# # impute categorical features\n",
    "# train, test = impute_data(\n",
    "#     train,\n",
    "#     test,\n",
    "#     columns=[\"HomePlanet\", \"CryoSleep\", \"Destination\", \"VIP\"],\n",
    "#     method=\"mode\",\n",
    "# )\n",
    "\n",
    "# # impute numerical features\n",
    "# train, test = impute_data(\n",
    "#     train,\n",
    "#     test,\n",
    "#     columns=[\"Age\", \"RoomService\", \"FoodCourt\", \"ShoppingMall\", \"Spa\", \"VRDeck\"],\n",
    "#     method=\"mean\",\n",
    "# )"
   ]
  },
  {
   "cell_type": "markdown",
   "id": "192d2030",
   "metadata": {
    "papermill": {
     "duration": 0.016641,
     "end_time": "2022-07-18T21:30:54.432291",
     "exception": false,
     "start_time": "2022-07-18T21:30:54.415650",
     "status": "completed"
    },
    "tags": []
   },
   "source": [
    "## Select Best Features\n",
    "\n",
    "- p152 Another way of imputing missing values in a column would be to train a regression model that tries to predict missing values in a column based on other columns.\n",
    "- p155 remove features with very low variance. If the features have a very low variance (i.e. very close to 0), they are close to being constant and thus, do not add any value to any model"
   ]
  },
  {
   "cell_type": "markdown",
   "id": "d392dfbc",
   "metadata": {
    "papermill": {
     "duration": 0.016766,
     "end_time": "2022-07-18T21:30:54.465262",
     "exception": false,
     "start_time": "2022-07-18T21:30:54.448496",
     "status": "completed"
    },
    "tags": []
   },
   "source": [
    "## Optimize XGBoost"
   ]
  },
  {
   "cell_type": "code",
   "execution_count": 28,
   "id": "ca6872ad",
   "metadata": {
    "execution": {
     "iopub.execute_input": "2022-07-18T21:30:54.499368Z",
     "iopub.status.busy": "2022-07-18T21:30:54.499061Z",
     "iopub.status.idle": "2022-07-18T21:30:54.513863Z",
     "shell.execute_reply": "2022-07-18T21:30:54.512766Z"
    },
    "papermill": {
     "duration": 0.034685,
     "end_time": "2022-07-18T21:30:54.516166",
     "exception": false,
     "start_time": "2022-07-18T21:30:54.481481",
     "status": "completed"
    },
    "tags": []
   },
   "outputs": [
    {
     "name": "stdout",
     "output_type": "stream",
     "text": [
      "(8693, 10)\n",
      "(8693,)\n"
     ]
    }
   ],
   "source": [
    "X = train[FEATURES].copy()\n",
    "y = train[TARGET_ENC].astype(int)\n",
    "\n",
    "print(X.shape)\n",
    "print(y.shape)\n",
    "\n",
    "X_train, X_valid, y_train, y_valid = train_test_split(\n",
    "    X, y, test_size=0.2, random_state=42\n",
    ")"
   ]
  },
  {
   "cell_type": "code",
   "execution_count": 29,
   "id": "2eeff0cb",
   "metadata": {
    "execution": {
     "iopub.execute_input": "2022-07-18T21:30:54.550896Z",
     "iopub.status.busy": "2022-07-18T21:30:54.550555Z",
     "iopub.status.idle": "2022-07-18T21:30:54.558873Z",
     "shell.execute_reply": "2022-07-18T21:30:54.558187Z"
    },
    "papermill": {
     "duration": 0.027224,
     "end_time": "2022-07-18T21:30:54.560456",
     "exception": false,
     "start_time": "2022-07-18T21:30:54.533232",
     "status": "completed"
    },
    "tags": []
   },
   "outputs": [
    {
     "data": {
      "text/plain": [
       "(array([0, 1]), array([1, 0]))"
      ]
     },
     "execution_count": 29,
     "metadata": {},
     "output_type": "execute_result"
    }
   ],
   "source": [
    "y_train.unique(), y_valid.unique()"
   ]
  },
  {
   "cell_type": "code",
   "execution_count": 30,
   "id": "0159cde2",
   "metadata": {
    "execution": {
     "iopub.execute_input": "2022-07-18T21:30:54.595140Z",
     "iopub.status.busy": "2022-07-18T21:30:54.594901Z",
     "iopub.status.idle": "2022-07-18T21:30:54.633843Z",
     "shell.execute_reply": "2022-07-18T21:30:54.633049Z"
    },
    "papermill": {
     "duration": 0.058623,
     "end_time": "2022-07-18T21:30:54.635477",
     "exception": false,
     "start_time": "2022-07-18T21:30:54.576854",
     "status": "completed"
    },
    "tags": []
   },
   "outputs": [],
   "source": [
    "def objective_xgb(trial, X_train, X_valid, y_train, y_valid):\n",
    "\n",
    "    xgb_params = {\n",
    "        #         \"objective\": trial.suggest_categorical(\"objective\", [\"multi:softmax\"]),\n",
    "        #         \"eval_metric\": \"mlogloss\",\n",
    "        #         \"objective\": \"multi:softmax\",\n",
    "        \"eval_metric\": \"auc\",  # auc, rmse, mae\n",
    "        \"objective\": \"binary:logistic\",\n",
    "        #         \"enable_categorical\": trial.suggest_categorical(\"use_label_encoder\", [True]),\n",
    "        \"use_label_encoder\": trial.suggest_categorical(\"use_label_encoder\", [False]),\n",
    "        \"n_estimators\": trial.suggest_int(\"n_estimators\", 1000, 5000, 100),\n",
    "        \"learning_rate\": trial.suggest_loguniform(\"learning_rate\", 1e-2, 0.25),\n",
    "        \"subsample\": trial.suggest_float(\"subsample\", 0.1, 1, step=0.01),\n",
    "        \"colsample_bytree\": trial.suggest_float(\"colsample_bytree\", 0.05, 1, step=0.01),\n",
    "        \"max_depth\": trial.suggest_int(\"max_depth\", 1, 20),  # 10\n",
    "        \"gamma\": trial.suggest_float(\"gamma\", 0, 100, step=0.1),\n",
    "        \"booster\": trial.suggest_categorical(\"booster\", [\"gbtree\"]),\n",
    "        \"tree_method\": trial.suggest_categorical(\n",
    "            \"tree_method\", [\"gpu_hist\"]\n",
    "        ),  # hist, gpu_hist\n",
    "        \"predictor\": \"gpu_predictor\",\n",
    "        \"reg_lambda\": trial.suggest_loguniform(\"reg_lambda\", 1e-8, 100),\n",
    "        \"reg_alpha\": trial.suggest_loguniform(\"reg_alpha\", 1e-8, 100),\n",
    "        \"random_state\": trial.suggest_categorical(\"random_state\", [42]),\n",
    "        \"n_jobs\": trial.suggest_categorical(\"n_jobs\", [4]),\n",
    "        \"min_child_weight\": trial.suggest_loguniform(\"min_child_weight\", 1e-1, 1e3),\n",
    "        # \"min_child_weight\": trial.suggest_categorical(\"min_child_weight\", [256]),\n",
    "    }\n",
    "\n",
    "    # Model loading and training\n",
    "    model = XGBClassifier(**xgb_params)\n",
    "    model.fit(\n",
    "        X_train,\n",
    "        y_train,\n",
    "        eval_set=[(X_train, y_train), (X_valid, y_valid)],\n",
    "        early_stopping_rounds=5000,\n",
    "        verbose=False,\n",
    "    )\n",
    "\n",
    "    print(f\"Number of boosting rounds: {model.best_iteration}\")\n",
    "    #     oof = model.predict_proba(X_valid)[:, 1] # Probability\n",
    "    oof = model.predict(X_valid)  # Classification: 0,1\n",
    "\n",
    "    return accuracy_score(y_valid, oof)\n",
    "\n",
    "\n",
    "#     return roc_auc_score(y_valid, oof)"
   ]
  },
  {
   "cell_type": "code",
   "execution_count": 31,
   "id": "0230cea7",
   "metadata": {
    "execution": {
     "iopub.execute_input": "2022-07-18T21:30:54.670105Z",
     "iopub.status.busy": "2022-07-18T21:30:54.669865Z",
     "iopub.status.idle": "2022-07-18T21:30:54.679960Z",
     "shell.execute_reply": "2022-07-18T21:30:54.679206Z"
    },
    "papermill": {
     "duration": 0.029524,
     "end_time": "2022-07-18T21:30:54.681566",
     "exception": false,
     "start_time": "2022-07-18T21:30:54.652042",
     "status": "completed"
    },
    "tags": []
   },
   "outputs": [],
   "source": [
    "time_limit = 3600 * 3\n",
    "\n",
    "if Config.optimize and Config.model_type == \"xgb\":\n",
    "    study = optuna.create_study(direction=\"maximize\")\n",
    "    study.optimize(\n",
    "        lambda trial: objective_xgb(trial, X_train, X_valid, y_train, y_valid),\n",
    "        n_trials=Config.n_optimize_trials,  # 2, 10, 50, 100\n",
    "        # timeout=time_limit,  # this or n_trials\n",
    "    )"
   ]
  },
  {
   "cell_type": "markdown",
   "id": "6752c34e",
   "metadata": {
    "papermill": {
     "duration": 0.017516,
     "end_time": "2022-07-18T21:30:54.715710",
     "exception": false,
     "start_time": "2022-07-18T21:30:54.698194",
     "status": "completed"
    },
    "tags": []
   },
   "source": [
    "## Show Optimization Results"
   ]
  },
  {
   "cell_type": "code",
   "execution_count": 32,
   "id": "6c1bc528",
   "metadata": {
    "execution": {
     "iopub.execute_input": "2022-07-18T21:30:54.750348Z",
     "iopub.status.busy": "2022-07-18T21:30:54.750098Z",
     "iopub.status.idle": "2022-07-18T21:30:54.758393Z",
     "shell.execute_reply": "2022-07-18T21:30:54.757735Z"
    },
    "papermill": {
     "duration": 0.027575,
     "end_time": "2022-07-18T21:30:54.759971",
     "exception": false,
     "start_time": "2022-07-18T21:30:54.732396",
     "status": "completed"
    },
    "tags": []
   },
   "outputs": [],
   "source": [
    "if Config.optimize:\n",
    "    print(\"Number of finished trials:\", len(study.trials))\n",
    "    print(\"Best trial parameters:\", study.best_trial.params)\n",
    "    print(\"Best score:\", study.best_value)"
   ]
  },
  {
   "cell_type": "code",
   "execution_count": 33,
   "id": "c6012eb9",
   "metadata": {
    "execution": {
     "iopub.execute_input": "2022-07-18T21:30:54.794810Z",
     "iopub.status.busy": "2022-07-18T21:30:54.794545Z",
     "iopub.status.idle": "2022-07-18T21:30:54.808735Z",
     "shell.execute_reply": "2022-07-18T21:30:54.807910Z"
    },
    "papermill": {
     "duration": 0.034096,
     "end_time": "2022-07-18T21:30:54.810643",
     "exception": false,
     "start_time": "2022-07-18T21:30:54.776547",
     "status": "completed"
    },
    "tags": []
   },
   "outputs": [],
   "source": [
    "# Default\n",
    "\n",
    "xgb_params = {\n",
    "    \"objective\": \"binary:logistic\",\n",
    "    #     \"use_label_encoder\": False,\n",
    "    \"enable_categorical\": True,\n",
    "    \"n_estimators\": Config.N_ESTIMATORS,\n",
    "    # \"eval_metric\": \"mlogloss\",\n",
    "    #     \"eval_metric\": \"auc\",\n",
    "    \"eval_metric\": \"accuracy\",\n",
    "    \"learning_rate\": 0.1,  # 0.9,0.1\n",
    "    #     \"learning_rate\": 0.15525187869673937,\n",
    "    #     \"subsample\": 0.66,\n",
    "    #     \"colsample_bytree\": 0.9500000000000001,\n",
    "    \"subsample\": 0.75,\n",
    "    \"colsample_bytree\": 0.5,\n",
    "    #     \"max_depth\": 4,\n",
    "    #     \"booster\": \"gbtree\",\n",
    "    #     \"gamma\": 1.7000000000000002,\n",
    "    \"tree_method\": \"hist\",  # \"gpu_hist\", \"hist\"\n",
    "    # \"reg_lambda\": 0.9541035898656812,\n",
    "    #  \"reg_alpha\": 2.3445012085324084,\n",
    "    \"random_state\": 42,\n",
    "    \"n_jobs\": 4,\n",
    "    #     \"min_child_weight\": 256,\n",
    "}\n",
    "\n",
    "if Config.gpu:\n",
    "    xgb_params[\"tree_method\"] = \"gpu_hist\"\n",
    "else:\n",
    "    xgb_params[\"tree_method\"] = \"hist\""
   ]
  },
  {
   "cell_type": "code",
   "execution_count": 34,
   "id": "2ad2bece",
   "metadata": {
    "execution": {
     "iopub.execute_input": "2022-07-18T21:30:54.844926Z",
     "iopub.status.busy": "2022-07-18T21:30:54.844671Z",
     "iopub.status.idle": "2022-07-18T21:30:54.860691Z",
     "shell.execute_reply": "2022-07-18T21:30:54.860034Z"
    },
    "papermill": {
     "duration": 0.034817,
     "end_time": "2022-07-18T21:30:54.862410",
     "exception": false,
     "start_time": "2022-07-18T21:30:54.827593",
     "status": "completed"
    },
    "tags": []
   },
   "outputs": [],
   "source": [
    "# Optimized\n",
    "\n",
    "xgb_params = {\n",
    "    #     \"use_label_encoder\": False,\n",
    "    \"enable_categorical\": True,\n",
    "    \"n_estimators\": 1000,\n",
    "    \"learning_rate\": 0.021138659045230178,\n",
    "    \"subsample\": 0.4,\n",
    "    \"colsample_bytree\": 0.91,\n",
    "    \"max_depth\": 17,\n",
    "    \"gamma\": 0.6000000000000001,\n",
    "    \"booster\": \"gbtree\",\n",
    "    \"tree_method\": \"gpu_hist\",\n",
    "    \"reg_lambda\": 0.005882742898970815,\n",
    "    \"reg_alpha\": 0.0014501578157205654,\n",
    "    \"random_state\": 42,\n",
    "    \"n_jobs\": 4,\n",
    "    \"min_child_weight\": 5.567082153821453,\n",
    "}\n",
    "\n",
    "if Config.gpu:\n",
    "    xgb_params[\"tree_method\"] = \"gpu_hist\"\n",
    "else:\n",
    "    xgb_params[\"tree_method\"] = \"hist\""
   ]
  },
  {
   "cell_type": "markdown",
   "id": "cbbe230a",
   "metadata": {
    "papermill": {
     "duration": 0.016397,
     "end_time": "2022-07-18T21:30:54.895530",
     "exception": false,
     "start_time": "2022-07-18T21:30:54.879133",
     "status": "completed"
    },
    "tags": []
   },
   "source": [
    "## Use Best Hyperparameters"
   ]
  },
  {
   "cell_type": "code",
   "execution_count": 35,
   "id": "9c9c0239",
   "metadata": {
    "execution": {
     "iopub.execute_input": "2022-07-18T21:30:54.929898Z",
     "iopub.status.busy": "2022-07-18T21:30:54.929648Z",
     "iopub.status.idle": "2022-07-18T21:30:54.935304Z",
     "shell.execute_reply": "2022-07-18T21:30:54.934409Z"
    },
    "papermill": {
     "duration": 0.024704,
     "end_time": "2022-07-18T21:30:54.937000",
     "exception": false,
     "start_time": "2022-07-18T21:30:54.912296",
     "status": "completed"
    },
    "tags": []
   },
   "outputs": [],
   "source": [
    "if Config.optimize:\n",
    "    xgb_params = study.best_trial.params"
   ]
  },
  {
   "cell_type": "code",
   "execution_count": 36,
   "id": "2b3608f9",
   "metadata": {
    "execution": {
     "iopub.execute_input": "2022-07-18T21:30:54.971137Z",
     "iopub.status.busy": "2022-07-18T21:30:54.970899Z",
     "iopub.status.idle": "2022-07-18T21:30:54.988904Z",
     "shell.execute_reply": "2022-07-18T21:30:54.988223Z"
    },
    "papermill": {
     "duration": 0.037028,
     "end_time": "2022-07-18T21:30:54.990570",
     "exception": false,
     "start_time": "2022-07-18T21:30:54.953542",
     "status": "completed"
    },
    "tags": []
   },
   "outputs": [
    {
     "data": {
      "text/html": [
       "<div>\n",
       "<style scoped>\n",
       "    .dataframe tbody tr th:only-of-type {\n",
       "        vertical-align: middle;\n",
       "    }\n",
       "\n",
       "    .dataframe tbody tr th {\n",
       "        vertical-align: top;\n",
       "    }\n",
       "\n",
       "    .dataframe thead th {\n",
       "        text-align: right;\n",
       "    }\n",
       "</style>\n",
       "<table border=\"1\" class=\"dataframe\">\n",
       "  <thead>\n",
       "    <tr style=\"text-align: right;\">\n",
       "      <th></th>\n",
       "      <th>HomePlanet</th>\n",
       "      <th>CryoSleep</th>\n",
       "      <th>Destination</th>\n",
       "      <th>Age</th>\n",
       "      <th>VIP</th>\n",
       "      <th>RoomService</th>\n",
       "      <th>FoodCourt</th>\n",
       "      <th>ShoppingMall</th>\n",
       "      <th>Spa</th>\n",
       "      <th>VRDeck</th>\n",
       "    </tr>\n",
       "  </thead>\n",
       "  <tbody>\n",
       "    <tr>\n",
       "      <th>0</th>\n",
       "      <td>1.0</td>\n",
       "      <td>0.0</td>\n",
       "      <td>2.0</td>\n",
       "      <td>39.0</td>\n",
       "      <td>0.0</td>\n",
       "      <td>0.0</td>\n",
       "      <td>0.0</td>\n",
       "      <td>0.0</td>\n",
       "      <td>0.0</td>\n",
       "      <td>0.0</td>\n",
       "    </tr>\n",
       "    <tr>\n",
       "      <th>1</th>\n",
       "      <td>0.0</td>\n",
       "      <td>0.0</td>\n",
       "      <td>2.0</td>\n",
       "      <td>24.0</td>\n",
       "      <td>0.0</td>\n",
       "      <td>109.0</td>\n",
       "      <td>9.0</td>\n",
       "      <td>25.0</td>\n",
       "      <td>549.0</td>\n",
       "      <td>44.0</td>\n",
       "    </tr>\n",
       "    <tr>\n",
       "      <th>2</th>\n",
       "      <td>1.0</td>\n",
       "      <td>0.0</td>\n",
       "      <td>2.0</td>\n",
       "      <td>58.0</td>\n",
       "      <td>1.0</td>\n",
       "      <td>43.0</td>\n",
       "      <td>3576.0</td>\n",
       "      <td>0.0</td>\n",
       "      <td>6715.0</td>\n",
       "      <td>49.0</td>\n",
       "    </tr>\n",
       "    <tr>\n",
       "      <th>3</th>\n",
       "      <td>1.0</td>\n",
       "      <td>0.0</td>\n",
       "      <td>2.0</td>\n",
       "      <td>33.0</td>\n",
       "      <td>0.0</td>\n",
       "      <td>0.0</td>\n",
       "      <td>1283.0</td>\n",
       "      <td>371.0</td>\n",
       "      <td>3329.0</td>\n",
       "      <td>193.0</td>\n",
       "    </tr>\n",
       "    <tr>\n",
       "      <th>4</th>\n",
       "      <td>0.0</td>\n",
       "      <td>0.0</td>\n",
       "      <td>2.0</td>\n",
       "      <td>16.0</td>\n",
       "      <td>0.0</td>\n",
       "      <td>303.0</td>\n",
       "      <td>70.0</td>\n",
       "      <td>151.0</td>\n",
       "      <td>565.0</td>\n",
       "      <td>2.0</td>\n",
       "    </tr>\n",
       "  </tbody>\n",
       "</table>\n",
       "</div>"
      ],
      "text/plain": [
       "   HomePlanet  CryoSleep  Destination   Age  VIP  RoomService  FoodCourt  \\\n",
       "0         1.0        0.0          2.0  39.0  0.0          0.0        0.0   \n",
       "1         0.0        0.0          2.0  24.0  0.0        109.0        9.0   \n",
       "2         1.0        0.0          2.0  58.0  1.0         43.0     3576.0   \n",
       "3         1.0        0.0          2.0  33.0  0.0          0.0     1283.0   \n",
       "4         0.0        0.0          2.0  16.0  0.0        303.0       70.0   \n",
       "\n",
       "   ShoppingMall     Spa  VRDeck  \n",
       "0           0.0     0.0     0.0  \n",
       "1          25.0   549.0    44.0  \n",
       "2           0.0  6715.0    49.0  \n",
       "3         371.0  3329.0   193.0  \n",
       "4         151.0   565.0     2.0  "
      ]
     },
     "execution_count": 36,
     "metadata": {},
     "output_type": "execute_result"
    }
   ],
   "source": [
    "train[FEATURES].head()"
   ]
  },
  {
   "cell_type": "code",
   "execution_count": 37,
   "id": "a2f8492a",
   "metadata": {
    "execution": {
     "iopub.execute_input": "2022-07-18T21:30:55.025122Z",
     "iopub.status.busy": "2022-07-18T21:30:55.024886Z",
     "iopub.status.idle": "2022-07-18T21:30:55.030553Z",
     "shell.execute_reply": "2022-07-18T21:30:55.029531Z"
    },
    "papermill": {
     "duration": 0.02489,
     "end_time": "2022-07-18T21:30:55.032717",
     "exception": false,
     "start_time": "2022-07-18T21:30:55.007827",
     "status": "completed"
    },
    "tags": []
   },
   "outputs": [
    {
     "name": "stdout",
     "output_type": "stream",
     "text": [
      "{'enable_categorical': True, 'n_estimators': 1000, 'learning_rate': 0.021138659045230178, 'subsample': 0.4, 'colsample_bytree': 0.91, 'max_depth': 17, 'gamma': 0.6000000000000001, 'booster': 'gbtree', 'tree_method': 'gpu_hist', 'reg_lambda': 0.005882742898970815, 'reg_alpha': 0.0014501578157205654, 'random_state': 42, 'n_jobs': 4, 'min_child_weight': 5.567082153821453}\n"
     ]
    }
   ],
   "source": [
    "print(xgb_params)"
   ]
  },
  {
   "cell_type": "code",
   "execution_count": 38,
   "id": "1bb2a695",
   "metadata": {
    "execution": {
     "iopub.execute_input": "2022-07-18T21:30:55.068985Z",
     "iopub.status.busy": "2022-07-18T21:30:55.067759Z",
     "iopub.status.idle": "2022-07-18T21:30:55.109828Z",
     "shell.execute_reply": "2022-07-18T21:30:55.109103Z"
    },
    "papermill": {
     "duration": 0.061538,
     "end_time": "2022-07-18T21:30:55.111454",
     "exception": false,
     "start_time": "2022-07-18T21:30:55.049916",
     "status": "completed"
    },
    "tags": []
   },
   "outputs": [],
   "source": [
    "def train_xgb_model(df, test, FEATURES, TARGET, params, n_folds=5, seed=42):\n",
    "    print(params)\n",
    "    final_test_predictions = []\n",
    "    final_valid_predictions = {}\n",
    "    fold_scores = []  # Scores of Validation Set\n",
    "    feature_importance_lst = []\n",
    "\n",
    "    test = test[FEATURES].copy()\n",
    "\n",
    "    # oof_preds = np.zeros((df.shape[0],)) # Zero array\n",
    "    # print(f\"oof_preds size={df.shape[0]}\")\n",
    "    print(\n",
    "        f\"\\n===== XGBoost Estimators: {params['n_estimators']}, Random State: {seed} =====\"\n",
    "    )\n",
    "\n",
    "    for fold in range(n_folds):\n",
    "        print(10 * \"=\", f\"Fold {fold+1}/{n_folds}\", 10 * \"=\")\n",
    "\n",
    "        start_time = time.time()\n",
    "\n",
    "        xtrain = df[df.fold != fold].reset_index(\n",
    "            drop=True\n",
    "        )  # Everything not in validation fold\n",
    "        xvalid = df[df.fold == fold].reset_index(drop=True)\n",
    "        xtest = test.copy()\n",
    "\n",
    "        valid_ids = (\n",
    "            xvalid.PassengerId.values.tolist()\n",
    "        )  # Id's of everything in validation fold\n",
    "\n",
    "        ytrain = xtrain[TARGET]\n",
    "        yvalid = xvalid[TARGET]\n",
    "\n",
    "        xtrain = xtrain[FEATURES]\n",
    "        xvalid = xvalid[FEATURES]\n",
    "\n",
    "        model = xgb.XGBClassifier(**params)\n",
    "\n",
    "        model.fit(\n",
    "            xtrain,\n",
    "            ytrain,\n",
    "            eval_set=[(xvalid, yvalid)],\n",
    "            verbose=False,\n",
    "            early_stopping_rounds=3000,\n",
    "        )\n",
    "\n",
    "        # Mean of the predictions\n",
    "        preds_valid = model.predict(xvalid)\n",
    "        test_preds = model.predict(xtest)\n",
    "\n",
    "        #         preds_valid = model.predict_proba(xvalid)[:, 1]\n",
    "        #         test_preds = model.predict_proba(xtest)[:, 1]\n",
    "\n",
    "        final_test_predictions.append(test_preds)\n",
    "        final_valid_predictions.update(dict(zip(valid_ids, preds_valid)))\n",
    "\n",
    "        fold_score = accuracy_score(yvalid, preds_valid)  # Validation Set Score\n",
    "        #         fold_score = roc_auc_score(yvalid, preds_valid)  # Validation Set Score\n",
    "\n",
    "        fold_scores.append(fold_score)\n",
    "\n",
    "        # Feature importance\n",
    "        fi = pd.DataFrame(\n",
    "            index=FEATURES,\n",
    "            data=model.feature_importances_,\n",
    "            columns=[f\"{fold}_importance\"],\n",
    "        )\n",
    "        feature_importance_lst.append(fi)\n",
    "\n",
    "        run_time = time.time() - start_time\n",
    "\n",
    "        print(f\"fold: {fold+1}, Score: {fold_score}, Run Time: {run_time:.2f}\")\n",
    "\n",
    "    return (\n",
    "        model,\n",
    "        feature_importance_lst,\n",
    "        fold_scores,\n",
    "        final_valid_predictions,\n",
    "        final_test_predictions,\n",
    "    )"
   ]
  },
  {
   "cell_type": "code",
   "execution_count": 39,
   "id": "fecf1884",
   "metadata": {
    "execution": {
     "iopub.execute_input": "2022-07-18T21:30:55.145997Z",
     "iopub.status.busy": "2022-07-18T21:30:55.145748Z",
     "iopub.status.idle": "2022-07-18T21:31:38.948331Z",
     "shell.execute_reply": "2022-07-18T21:31:38.947028Z"
    },
    "papermill": {
     "duration": 43.822695,
     "end_time": "2022-07-18T21:31:38.951103",
     "exception": false,
     "start_time": "2022-07-18T21:30:55.128408",
     "status": "completed"
    },
    "tags": []
   },
   "outputs": [
    {
     "name": "stdout",
     "output_type": "stream",
     "text": [
      "{'enable_categorical': True, 'n_estimators': 1000, 'learning_rate': 0.021138659045230178, 'subsample': 0.4, 'colsample_bytree': 0.91, 'max_depth': 17, 'gamma': 0.6000000000000001, 'booster': 'gbtree', 'tree_method': 'gpu_hist', 'reg_lambda': 0.005882742898970815, 'reg_alpha': 0.0014501578157205654, 'random_state': 42, 'n_jobs': 4, 'min_child_weight': 5.567082153821453}\n",
      "\n",
      "===== XGBoost Estimators: 1000, Random State: 42 =====\n",
      "========== Fold 1/10 ==========\n",
      "fold: 1, Score: 0.7977011494252874, Run Time: 4.26\n",
      "========== Fold 2/10 ==========\n",
      "fold: 2, Score: 0.828735632183908, Run Time: 4.41\n",
      "========== Fold 3/10 ==========\n",
      "fold: 3, Score: 0.8172413793103448, Run Time: 4.29\n",
      "========== Fold 4/10 ==========\n",
      "fold: 4, Score: 0.7882623705408516, Run Time: 4.31\n",
      "========== Fold 5/10 ==========\n",
      "fold: 5, Score: 0.8147295742232451, Run Time: 4.39\n",
      "========== Fold 6/10 ==========\n",
      "fold: 6, Score: 0.8009205983889528, Run Time: 4.34\n",
      "========== Fold 7/10 ==========\n",
      "fold: 7, Score: 0.7974683544303798, Run Time: 4.64\n",
      "========== Fold 8/10 ==========\n",
      "fold: 8, Score: 0.807825086306099, Run Time: 4.37\n",
      "========== Fold 9/10 ==========\n",
      "fold: 9, Score: 0.7940161104718066, Run Time: 4.27\n",
      "========== Fold 10/10 ==========\n",
      "fold: 10, Score: 0.7905638665132336, Run Time: 4.51\n"
     ]
    }
   ],
   "source": [
    "(\n",
    "    model,\n",
    "    feature_importance_lst,\n",
    "    fold_scores,\n",
    "    final_valid_predictions,\n",
    "    final_test_predictions,\n",
    ") = train_xgb_model(\n",
    "    train, test, FEATURES, TARGET_ENC, xgb_params, Config.N_FOLDS, Config.seed\n",
    ")"
   ]
  },
  {
   "cell_type": "markdown",
   "id": "1ee8e3fb",
   "metadata": {
    "papermill": {
     "duration": 0.017265,
     "end_time": "2022-07-18T21:31:38.986482",
     "exception": false,
     "start_time": "2022-07-18T21:31:38.969217",
     "status": "completed"
    },
    "tags": []
   },
   "source": [
    "<div style=\"background-color:rgba(128, 0, 128, 0.6);border-radius:5px;display:fill\"><h1 style=\"text-align: center;padding: 12px 0px 12px 0px;\">Scores</h1>\n",
    "</div>"
   ]
  },
  {
   "cell_type": "code",
   "execution_count": 40,
   "id": "c3ee5219",
   "metadata": {
    "execution": {
     "iopub.execute_input": "2022-07-18T21:31:39.022273Z",
     "iopub.status.busy": "2022-07-18T21:31:39.021987Z",
     "iopub.status.idle": "2022-07-18T21:31:39.028974Z",
     "shell.execute_reply": "2022-07-18T21:31:39.028091Z"
    },
    "papermill": {
     "duration": 0.027004,
     "end_time": "2022-07-18T21:31:39.030932",
     "exception": false,
     "start_time": "2022-07-18T21:31:39.003928",
     "status": "completed"
    },
    "tags": []
   },
   "outputs": [
    {
     "data": {
      "text/plain": [
       "[0.7977011494252874,\n",
       " 0.828735632183908,\n",
       " 0.8172413793103448,\n",
       " 0.7882623705408516,\n",
       " 0.8147295742232451,\n",
       " 0.8009205983889528,\n",
       " 0.7974683544303798,\n",
       " 0.807825086306099,\n",
       " 0.7940161104718066,\n",
       " 0.7905638665132336]"
      ]
     },
     "execution_count": 40,
     "metadata": {},
     "output_type": "execute_result"
    }
   ],
   "source": [
    "fold_scores"
   ]
  },
  {
   "cell_type": "code",
   "execution_count": 41,
   "id": "67255846",
   "metadata": {
    "execution": {
     "iopub.execute_input": "2022-07-18T21:31:39.067858Z",
     "iopub.status.busy": "2022-07-18T21:31:39.067571Z",
     "iopub.status.idle": "2022-07-18T21:31:39.074541Z",
     "shell.execute_reply": "2022-07-18T21:31:39.073542Z"
    },
    "papermill": {
     "duration": 0.027567,
     "end_time": "2022-07-18T21:31:39.076727",
     "exception": false,
     "start_time": "2022-07-18T21:31:39.049160",
     "status": "completed"
    },
    "tags": []
   },
   "outputs": [
    {
     "name": "stdout",
     "output_type": "stream",
     "text": [
      "scores -> mean: 0.803746, std: 0.012394\n"
     ]
    }
   ],
   "source": [
    "cv_score = np.mean(fold_scores)  # Used in filename\n",
    "print(f\"scores -> mean: {cv_score:0.6f}, std: {np.std(fold_scores):0.6f}\")"
   ]
  },
  {
   "cell_type": "markdown",
   "id": "eb1e3b16",
   "metadata": {
    "papermill": {
     "duration": 0.017181,
     "end_time": "2022-07-18T21:31:39.111993",
     "exception": false,
     "start_time": "2022-07-18T21:31:39.094812",
     "status": "completed"
    },
    "tags": []
   },
   "source": [
    "<div style=\"background-color:rgba(128, 0, 128, 0.6);border-radius:5px;display:fill\"><h1 style=\"text-align: center;padding: 12px 0px 12px 0px;\">Model Feature Importance</h1>\n",
    "</div>\n",
    "\n",
    "- [Feature Importance and Feature Selection With XGBoost in Python](https://machinelearningmastery.com/feature-importance-and-feature-selection-with-xgboost-in-python/)"
   ]
  },
  {
   "cell_type": "code",
   "execution_count": 42,
   "id": "7eb7da65",
   "metadata": {
    "execution": {
     "iopub.execute_input": "2022-07-18T21:31:39.148548Z",
     "iopub.status.busy": "2022-07-18T21:31:39.148293Z",
     "iopub.status.idle": "2022-07-18T21:31:39.168390Z",
     "shell.execute_reply": "2022-07-18T21:31:39.167552Z"
    },
    "papermill": {
     "duration": 0.040823,
     "end_time": "2022-07-18T21:31:39.170287",
     "exception": false,
     "start_time": "2022-07-18T21:31:39.129464",
     "status": "completed"
    },
    "tags": []
   },
   "outputs": [
    {
     "data": {
      "text/html": [
       "<div>\n",
       "<style scoped>\n",
       "    .dataframe tbody tr th:only-of-type {\n",
       "        vertical-align: middle;\n",
       "    }\n",
       "\n",
       "    .dataframe tbody tr th {\n",
       "        vertical-align: top;\n",
       "    }\n",
       "\n",
       "    .dataframe thead th {\n",
       "        text-align: right;\n",
       "    }\n",
       "</style>\n",
       "<table border=\"1\" class=\"dataframe\">\n",
       "  <thead>\n",
       "    <tr style=\"text-align: right;\">\n",
       "      <th></th>\n",
       "      <th>0_importance</th>\n",
       "      <th>1_importance</th>\n",
       "      <th>2_importance</th>\n",
       "      <th>3_importance</th>\n",
       "      <th>4_importance</th>\n",
       "      <th>5_importance</th>\n",
       "      <th>6_importance</th>\n",
       "      <th>7_importance</th>\n",
       "      <th>8_importance</th>\n",
       "      <th>9_importance</th>\n",
       "    </tr>\n",
       "  </thead>\n",
       "  <tbody>\n",
       "    <tr>\n",
       "      <th>CryoSleep</th>\n",
       "      <td>0.311249</td>\n",
       "      <td>0.300162</td>\n",
       "      <td>0.303316</td>\n",
       "      <td>0.294112</td>\n",
       "      <td>0.293425</td>\n",
       "      <td>0.312220</td>\n",
       "      <td>0.285622</td>\n",
       "      <td>0.303082</td>\n",
       "      <td>0.302762</td>\n",
       "      <td>0.306045</td>\n",
       "    </tr>\n",
       "    <tr>\n",
       "      <th>HomePlanet</th>\n",
       "      <td>0.100807</td>\n",
       "      <td>0.101934</td>\n",
       "      <td>0.106802</td>\n",
       "      <td>0.102761</td>\n",
       "      <td>0.105425</td>\n",
       "      <td>0.101690</td>\n",
       "      <td>0.106338</td>\n",
       "      <td>0.101760</td>\n",
       "      <td>0.104425</td>\n",
       "      <td>0.102993</td>\n",
       "    </tr>\n",
       "    <tr>\n",
       "      <th>Spa</th>\n",
       "      <td>0.098082</td>\n",
       "      <td>0.098164</td>\n",
       "      <td>0.097997</td>\n",
       "      <td>0.097176</td>\n",
       "      <td>0.095931</td>\n",
       "      <td>0.099271</td>\n",
       "      <td>0.101114</td>\n",
       "      <td>0.097845</td>\n",
       "      <td>0.095000</td>\n",
       "      <td>0.098127</td>\n",
       "    </tr>\n",
       "    <tr>\n",
       "      <th>VRDeck</th>\n",
       "      <td>0.094234</td>\n",
       "      <td>0.093495</td>\n",
       "      <td>0.092652</td>\n",
       "      <td>0.095042</td>\n",
       "      <td>0.099312</td>\n",
       "      <td>0.090660</td>\n",
       "      <td>0.096831</td>\n",
       "      <td>0.094077</td>\n",
       "      <td>0.095223</td>\n",
       "      <td>0.095105</td>\n",
       "    </tr>\n",
       "    <tr>\n",
       "      <th>RoomService</th>\n",
       "      <td>0.092776</td>\n",
       "      <td>0.095685</td>\n",
       "      <td>0.092640</td>\n",
       "      <td>0.091744</td>\n",
       "      <td>0.093423</td>\n",
       "      <td>0.089486</td>\n",
       "      <td>0.094463</td>\n",
       "      <td>0.092745</td>\n",
       "      <td>0.092840</td>\n",
       "      <td>0.092582</td>\n",
       "    </tr>\n",
       "    <tr>\n",
       "      <th>FoodCourt</th>\n",
       "      <td>0.080651</td>\n",
       "      <td>0.082309</td>\n",
       "      <td>0.082539</td>\n",
       "      <td>0.084710</td>\n",
       "      <td>0.084992</td>\n",
       "      <td>0.081808</td>\n",
       "      <td>0.084470</td>\n",
       "      <td>0.082552</td>\n",
       "      <td>0.081746</td>\n",
       "      <td>0.080121</td>\n",
       "    </tr>\n",
       "    <tr>\n",
       "      <th>ShoppingMall</th>\n",
       "      <td>0.072985</td>\n",
       "      <td>0.075048</td>\n",
       "      <td>0.073987</td>\n",
       "      <td>0.078232</td>\n",
       "      <td>0.074802</td>\n",
       "      <td>0.071910</td>\n",
       "      <td>0.074896</td>\n",
       "      <td>0.073106</td>\n",
       "      <td>0.072655</td>\n",
       "      <td>0.073137</td>\n",
       "    </tr>\n",
       "    <tr>\n",
       "      <th>Age</th>\n",
       "      <td>0.058216</td>\n",
       "      <td>0.059508</td>\n",
       "      <td>0.059536</td>\n",
       "      <td>0.058324</td>\n",
       "      <td>0.059899</td>\n",
       "      <td>0.059615</td>\n",
       "      <td>0.060926</td>\n",
       "      <td>0.060621</td>\n",
       "      <td>0.059190</td>\n",
       "      <td>0.059459</td>\n",
       "    </tr>\n",
       "    <tr>\n",
       "      <th>VIP</th>\n",
       "      <td>0.045672</td>\n",
       "      <td>0.047294</td>\n",
       "      <td>0.044799</td>\n",
       "      <td>0.050881</td>\n",
       "      <td>0.047126</td>\n",
       "      <td>0.047061</td>\n",
       "      <td>0.048552</td>\n",
       "      <td>0.046872</td>\n",
       "      <td>0.050009</td>\n",
       "      <td>0.047759</td>\n",
       "    </tr>\n",
       "    <tr>\n",
       "      <th>Destination</th>\n",
       "      <td>0.045327</td>\n",
       "      <td>0.046400</td>\n",
       "      <td>0.045733</td>\n",
       "      <td>0.047018</td>\n",
       "      <td>0.045666</td>\n",
       "      <td>0.046279</td>\n",
       "      <td>0.046787</td>\n",
       "      <td>0.047340</td>\n",
       "      <td>0.046151</td>\n",
       "      <td>0.044672</td>\n",
       "    </tr>\n",
       "  </tbody>\n",
       "</table>\n",
       "</div>"
      ],
      "text/plain": [
       "              0_importance  1_importance  2_importance  3_importance  \\\n",
       "CryoSleep         0.311249      0.300162      0.303316      0.294112   \n",
       "HomePlanet        0.100807      0.101934      0.106802      0.102761   \n",
       "Spa               0.098082      0.098164      0.097997      0.097176   \n",
       "VRDeck            0.094234      0.093495      0.092652      0.095042   \n",
       "RoomService       0.092776      0.095685      0.092640      0.091744   \n",
       "FoodCourt         0.080651      0.082309      0.082539      0.084710   \n",
       "ShoppingMall      0.072985      0.075048      0.073987      0.078232   \n",
       "Age               0.058216      0.059508      0.059536      0.058324   \n",
       "VIP               0.045672      0.047294      0.044799      0.050881   \n",
       "Destination       0.045327      0.046400      0.045733      0.047018   \n",
       "\n",
       "              4_importance  5_importance  6_importance  7_importance  \\\n",
       "CryoSleep         0.293425      0.312220      0.285622      0.303082   \n",
       "HomePlanet        0.105425      0.101690      0.106338      0.101760   \n",
       "Spa               0.095931      0.099271      0.101114      0.097845   \n",
       "VRDeck            0.099312      0.090660      0.096831      0.094077   \n",
       "RoomService       0.093423      0.089486      0.094463      0.092745   \n",
       "FoodCourt         0.084992      0.081808      0.084470      0.082552   \n",
       "ShoppingMall      0.074802      0.071910      0.074896      0.073106   \n",
       "Age               0.059899      0.059615      0.060926      0.060621   \n",
       "VIP               0.047126      0.047061      0.048552      0.046872   \n",
       "Destination       0.045666      0.046279      0.046787      0.047340   \n",
       "\n",
       "              8_importance  9_importance  \n",
       "CryoSleep         0.302762      0.306045  \n",
       "HomePlanet        0.104425      0.102993  \n",
       "Spa               0.095000      0.098127  \n",
       "VRDeck            0.095223      0.095105  \n",
       "RoomService       0.092840      0.092582  \n",
       "FoodCourt         0.081746      0.080121  \n",
       "ShoppingMall      0.072655      0.073137  \n",
       "Age               0.059190      0.059459  \n",
       "VIP               0.050009      0.047759  \n",
       "Destination       0.046151      0.044672  "
      ]
     },
     "execution_count": 42,
     "metadata": {},
     "output_type": "execute_result"
    }
   ],
   "source": [
    "fis_df = pd.concat(feature_importance_lst, axis=1)\n",
    "fis_df.sort_values(\"0_importance\", ascending=False).head(10)"
   ]
  },
  {
   "cell_type": "code",
   "execution_count": 43,
   "id": "1de316c6",
   "metadata": {
    "execution": {
     "iopub.execute_input": "2022-07-18T21:31:39.207192Z",
     "iopub.status.busy": "2022-07-18T21:31:39.206946Z",
     "iopub.status.idle": "2022-07-18T21:31:39.459998Z",
     "shell.execute_reply": "2022-07-18T21:31:39.459285Z"
    },
    "papermill": {
     "duration": 0.273463,
     "end_time": "2022-07-18T21:31:39.461768",
     "exception": false,
     "start_time": "2022-07-18T21:31:39.188305",
     "status": "completed"
    },
    "tags": []
   },
   "outputs": [
    {
     "data": {
      "image/png": "[encoded data removed]",
      "text/plain": [
       "<Figure size 720x432 with 1 Axes>"
      ]
     },
     "metadata": {},
     "output_type": "display_data"
    }
   ],
   "source": [
    "from xgboost import plot_importance\n",
    "\n",
    "fig, ax = plt.subplots(figsize=(10, 6))\n",
    "plot_importance(model, max_num_features=20, ax=ax, grid=False)\n",
    "plt.show()"
   ]
  },
  {
   "cell_type": "code",
   "execution_count": 44,
   "id": "ced61cf6",
   "metadata": {
    "execution": {
     "iopub.execute_input": "2022-07-18T21:31:39.499593Z",
     "iopub.status.busy": "2022-07-18T21:31:39.499332Z",
     "iopub.status.idle": "2022-07-18T21:31:39.991349Z",
     "shell.execute_reply": "2022-07-18T21:31:39.990595Z"
    },
    "papermill": {
     "duration": 0.513198,
     "end_time": "2022-07-18T21:31:39.993570",
     "exception": false,
     "start_time": "2022-07-18T21:31:39.480372",
     "status": "completed"
    },
    "tags": []
   },
   "outputs": [
    {
     "data": {
      "image/png": "[encoded data removed]",
      "text/plain": [
       "<Figure size 864x864 with 1 Axes>"
      ]
     },
     "metadata": {},
     "output_type": "display_data"
    }
   ],
   "source": [
    "fis_df.sort_values(\"0_importance\", ascending=True).tail(20).plot(\n",
    "    kind=\"barh\", figsize=(12, 12), title=\"Feature Importance Across Folds\"\n",
    ")\n",
    "plt.show()"
   ]
  },
  {
   "cell_type": "markdown",
   "id": "2d9ddd5e",
   "metadata": {
    "papermill": {
     "duration": 0.018868,
     "end_time": "2022-07-18T21:31:40.031990",
     "exception": false,
     "start_time": "2022-07-18T21:31:40.013122",
     "status": "completed"
    },
    "tags": []
   },
   "source": [
    "<div style=\"background-color:rgba(128, 0, 128, 0.6);border-radius:5px;display:fill\"><h1 style=\"text-align: center;padding: 12px 0px 12px 0px;\">Save OOF Predictions</h1>\n",
    "\n"
   ]
  },
  {
   "cell_type": "code",
   "execution_count": 45,
   "id": "adb7e0a2",
   "metadata": {
    "execution": {
     "iopub.execute_input": "2022-07-18T21:31:40.071940Z",
     "iopub.status.busy": "2022-07-18T21:31:40.071495Z",
     "iopub.status.idle": "2022-07-18T21:31:40.119739Z",
     "shell.execute_reply": "2022-07-18T21:31:40.118884Z"
    },
    "papermill": {
     "duration": 0.070124,
     "end_time": "2022-07-18T21:31:40.121473",
     "exception": false,
     "start_time": "2022-07-18T21:31:40.051349",
     "status": "completed"
    },
    "tags": []
   },
   "outputs": [
    {
     "data": {
      "text/html": [
       "<div>\n",
       "<style scoped>\n",
       "    .dataframe tbody tr th:only-of-type {\n",
       "        vertical-align: middle;\n",
       "    }\n",
       "\n",
       "    .dataframe tbody tr th {\n",
       "        vertical-align: top;\n",
       "    }\n",
       "\n",
       "    .dataframe thead th {\n",
       "        text-align: right;\n",
       "    }\n",
       "</style>\n",
       "<table border=\"1\" class=\"dataframe\">\n",
       "  <thead>\n",
       "    <tr style=\"text-align: right;\">\n",
       "      <th></th>\n",
       "      <th>id</th>\n",
       "      <th>pred_xgb1</th>\n",
       "    </tr>\n",
       "  </thead>\n",
       "  <tbody>\n",
       "    <tr>\n",
       "      <th>0</th>\n",
       "      <td>701.0</td>\n",
       "      <td>0</td>\n",
       "    </tr>\n",
       "    <tr>\n",
       "      <th>1</th>\n",
       "      <td>5001.0</td>\n",
       "      <td>0</td>\n",
       "    </tr>\n",
       "    <tr>\n",
       "      <th>2</th>\n",
       "      <td>5201.0</td>\n",
       "      <td>0</td>\n",
       "    </tr>\n",
       "    <tr>\n",
       "      <th>3</th>\n",
       "      <td>6201.0</td>\n",
       "      <td>0</td>\n",
       "    </tr>\n",
       "    <tr>\n",
       "      <th>4</th>\n",
       "      <td>8601.0</td>\n",
       "      <td>0</td>\n",
       "    </tr>\n",
       "  </tbody>\n",
       "</table>\n",
       "</div>"
      ],
      "text/plain": [
       "       id  pred_xgb1\n",
       "0   701.0          0\n",
       "1  5001.0          0\n",
       "2  5201.0          0\n",
       "3  6201.0          0\n",
       "4  8601.0          0"
      ]
     },
     "execution_count": 45,
     "metadata": {},
     "output_type": "execute_result"
    }
   ],
   "source": [
    "pred_field = f\"pred_{Config.model_name}\"\n",
    "\n",
    "final_valid_predictions_df = pd.DataFrame.from_dict(\n",
    "    final_valid_predictions, orient=\"index\"\n",
    ").reset_index()\n",
    "\n",
    "final_valid_predictions_df.columns = [\"id\", pred_field]\n",
    "\n",
    "final_valid_predictions_df[pred_field] = final_valid_predictions_df[pred_field]\n",
    "\n",
    "final_valid_predictions_df.to_csv(\n",
    "    f\"results/oof_preds_cv{cv_score:0.6f}_s{Config.seed}_k{Config.N_FOLDS}_{Config.model_name}.csv\",\n",
    ")\n",
    "\n",
    "final_valid_predictions_df.head()"
   ]
  },
  {
   "cell_type": "markdown",
   "id": "9e7eea86",
   "metadata": {
    "papermill": {
     "duration": 0.018752,
     "end_time": "2022-07-18T21:31:40.159313",
     "exception": false,
     "start_time": "2022-07-18T21:31:40.140561",
     "status": "completed"
    },
    "tags": []
   },
   "source": [
    "<div style=\"background-color:rgba(128, 0, 128, 0.6);border-radius:5px;display:fill\"><h1 style=\"text-align: center;padding: 12px 0px 12px 0px;\">Submission</h1>\n",
    "</div>"
   ]
  },
  {
   "cell_type": "code",
   "execution_count": 46,
   "id": "7d7e59e2",
   "metadata": {
    "execution": {
     "iopub.execute_input": "2022-07-18T21:31:40.198256Z",
     "iopub.status.busy": "2022-07-18T21:31:40.197984Z",
     "iopub.status.idle": "2022-07-18T21:31:40.205369Z",
     "shell.execute_reply": "2022-07-18T21:31:40.204533Z"
    },
    "papermill": {
     "duration": 0.02883,
     "end_time": "2022-07-18T21:31:40.207040",
     "exception": false,
     "start_time": "2022-07-18T21:31:40.178210",
     "status": "completed"
    },
    "tags": []
   },
   "outputs": [
    {
     "data": {
      "text/plain": [
       "array([[1, 1, 1, ..., 1, 1, 1],\n",
       "       [0, 0, 0, ..., 0, 0, 0],\n",
       "       [1, 1, 1, ..., 1, 1, 1],\n",
       "       ...,\n",
       "       [1, 1, 1, ..., 1, 1, 1],\n",
       "       [1, 1, 1, ..., 1, 1, 1],\n",
       "       [1, 1, 1, ..., 1, 1, 1]])"
      ]
     },
     "execution_count": 46,
     "metadata": {},
     "output_type": "execute_result"
    }
   ],
   "source": [
    "np.column_stack(final_test_predictions)"
   ]
  },
  {
   "cell_type": "code",
   "execution_count": 47,
   "id": "d1f833af",
   "metadata": {
    "execution": {
     "iopub.execute_input": "2022-07-18T21:31:40.246767Z",
     "iopub.status.busy": "2022-07-18T21:31:40.246507Z",
     "iopub.status.idle": "2022-07-18T21:31:40.365470Z",
     "shell.execute_reply": "2022-07-18T21:31:40.364681Z"
    },
    "papermill": {
     "duration": 0.140474,
     "end_time": "2022-07-18T21:31:40.367264",
     "exception": false,
     "start_time": "2022-07-18T21:31:40.226790",
     "status": "completed"
    },
    "tags": []
   },
   "outputs": [
    {
     "data": {
      "text/plain": [
       "array([1, 0, 1, ..., 1, 1, 1])"
      ]
     },
     "execution_count": 47,
     "metadata": {},
     "output_type": "execute_result"
    }
   ],
   "source": [
    "mode_result = mode(np.column_stack(final_test_predictions), axis=1)\n",
    "result = mode_result[0].ravel()\n",
    "result"
   ]
  },
  {
   "cell_type": "code",
   "execution_count": 48,
   "id": "ff559544",
   "metadata": {
    "execution": {
     "iopub.execute_input": "2022-07-18T21:31:40.406558Z",
     "iopub.status.busy": "2022-07-18T21:31:40.406308Z",
     "iopub.status.idle": "2022-07-18T21:31:40.409932Z",
     "shell.execute_reply": "2022-07-18T21:31:40.409161Z"
    },
    "papermill": {
     "duration": 0.024984,
     "end_time": "2022-07-18T21:31:40.411468",
     "exception": false,
     "start_time": "2022-07-18T21:31:40.386484",
     "status": "completed"
    },
    "tags": []
   },
   "outputs": [],
   "source": [
    "# mean_result = np.mean(np.column_stack(final_test_predictions), axis=1)  # .astype(\"int\")"
   ]
  },
  {
   "cell_type": "code",
   "execution_count": 49,
   "id": "12809ada",
   "metadata": {
    "execution": {
     "iopub.execute_input": "2022-07-18T21:31:40.451526Z",
     "iopub.status.busy": "2022-07-18T21:31:40.451266Z",
     "iopub.status.idle": "2022-07-18T21:31:40.482640Z",
     "shell.execute_reply": "2022-07-18T21:31:40.481966Z"
    },
    "papermill": {
     "duration": 0.052815,
     "end_time": "2022-07-18T21:31:40.484307",
     "exception": false,
     "start_time": "2022-07-18T21:31:40.431492",
     "status": "completed"
    },
    "tags": []
   },
   "outputs": [
    {
     "name": "stdout",
     "output_type": "stream",
     "text": [
      "\n",
      "Submit Message: xgb1_cv0.803746_seed42_k10_n100\n",
      "\n"
     ]
    },
    {
     "data": {
      "text/html": [
       "<div>\n",
       "<style scoped>\n",
       "    .dataframe tbody tr th:only-of-type {\n",
       "        vertical-align: middle;\n",
       "    }\n",
       "\n",
       "    .dataframe tbody tr th {\n",
       "        vertical-align: top;\n",
       "    }\n",
       "\n",
       "    .dataframe thead th {\n",
       "        text-align: right;\n",
       "    }\n",
       "</style>\n",
       "<table border=\"1\" class=\"dataframe\">\n",
       "  <thead>\n",
       "    <tr style=\"text-align: right;\">\n",
       "      <th></th>\n",
       "      <th>PassengerId</th>\n",
       "      <th>Transported</th>\n",
       "    </tr>\n",
       "  </thead>\n",
       "  <tbody>\n",
       "    <tr>\n",
       "      <th>0</th>\n",
       "      <td>0013_01</td>\n",
       "      <td>1</td>\n",
       "    </tr>\n",
       "    <tr>\n",
       "      <th>1</th>\n",
       "      <td>0018_01</td>\n",
       "      <td>0</td>\n",
       "    </tr>\n",
       "    <tr>\n",
       "      <th>2</th>\n",
       "      <td>0019_01</td>\n",
       "      <td>1</td>\n",
       "    </tr>\n",
       "    <tr>\n",
       "      <th>3</th>\n",
       "      <td>0021_01</td>\n",
       "      <td>1</td>\n",
       "    </tr>\n",
       "    <tr>\n",
       "      <th>4</th>\n",
       "      <td>0023_01</td>\n",
       "      <td>1</td>\n",
       "    </tr>\n",
       "    <tr>\n",
       "      <th>...</th>\n",
       "      <td>...</td>\n",
       "      <td>...</td>\n",
       "    </tr>\n",
       "    <tr>\n",
       "      <th>4272</th>\n",
       "      <td>9266_02</td>\n",
       "      <td>1</td>\n",
       "    </tr>\n",
       "    <tr>\n",
       "      <th>4273</th>\n",
       "      <td>9269_01</td>\n",
       "      <td>0</td>\n",
       "    </tr>\n",
       "    <tr>\n",
       "      <th>4274</th>\n",
       "      <td>9271_01</td>\n",
       "      <td>1</td>\n",
       "    </tr>\n",
       "    <tr>\n",
       "      <th>4275</th>\n",
       "      <td>9273_01</td>\n",
       "      <td>1</td>\n",
       "    </tr>\n",
       "    <tr>\n",
       "      <th>4276</th>\n",
       "      <td>9277_01</td>\n",
       "      <td>1</td>\n",
       "    </tr>\n",
       "  </tbody>\n",
       "</table>\n",
       "<p>4277 rows × 2 columns</p>\n",
       "</div>"
      ],
      "text/plain": [
       "     PassengerId  Transported\n",
       "0        0013_01            1\n",
       "1        0018_01            0\n",
       "2        0019_01            1\n",
       "3        0021_01            1\n",
       "4        0023_01            1\n",
       "...          ...          ...\n",
       "4272     9266_02            1\n",
       "4273     9269_01            0\n",
       "4274     9271_01            1\n",
       "4275     9273_01            1\n",
       "4276     9277_01            1\n",
       "\n",
       "[4277 rows x 2 columns]"
      ]
     },
     "execution_count": 49,
     "metadata": {},
     "output_type": "execute_result"
    }
   ],
   "source": [
    "message = f\"{Config.model_name}_cv{cv_score:0.6f}_seed{Config.seed}_k{Config.N_FOLDS}_n{Config.N_ESTIMATORS}\"\n",
    "print(f\"\\nSubmit Message: {message}\\n\")\n",
    "\n",
    "submission_df[TARGET] = result  # mean_result.astype(\"bool\")\n",
    "\n",
    "submission_df.to_csv(\n",
    "    f\"results/test_preds_cv:{cv_score:0.6f}_s:{Config.seed}_k:{Config.N_FOLDS}_{Config.model_name}.csv\",\n",
    "    index=False,\n",
    ")\n",
    "submission_df.to_csv(\"submission.csv\", index=False)\n",
    "submission_df"
   ]
  }
 ],
 "metadata": {
  "kernelspec": {
   "display_name": "Python 3",
   "language": "python",
   "name": "python3"
  },
  "language_info": {
   "codemirror_mode": {
    "name": "ipython",
    "version": 3
   },
   "file_extension": ".py",
   "mimetype": "text/x-python",
   "name": "python",
   "nbconvert_exporter": "python",
   "pygments_lexer": "ipython3",
   "version": "3.7.12"
  },
  "papermill": {
   "default_parameters": {},
   "duration": 160.470411,
   "end_time": "2022-07-18T21:31:42.810865",
   "environment_variables": {},
   "exception": null,
   "input_path": "__notebook__.ipynb",
   "output_path": "__notebook__.ipynb",
   "parameters": {},
   "start_time": "2022-07-18T21:29:02.340454",
   "version": "2.3.4"
  }
 },
 "nbformat": 4,
 "nbformat_minor": 5
}
