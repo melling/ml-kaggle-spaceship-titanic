{
 "cells": [
  {
   "cell_type": "markdown",
   "id": "845b2108",
   "metadata": {
    "papermill": {
     "duration": 0.013333,
     "end_time": "2022-07-31T20:12:13.727421",
     "exception": false,
     "start_time": "2022-07-31T20:12:13.714088",
     "status": "completed"
    },
    "tags": []
   },
   "source": [
    "<div style=\"background-color:rgba(255, 215, 0, 0.6);border-radius:5px;display:fill\"><h1 style=\"text-align: center;padding: 12px 0px 12px 0px;\">Spaceship Titanic: EDA</h1>\n",
    "</div>\n",
    "\n",
    "**Problem Type:** Binary Classification\n",
    "\n",
    "## Evaluation Metric\n"
   ]
  },
  {
   "cell_type": "code",
   "execution_count": 1,
   "id": "2e591c9b",
   "metadata": {
    "execution": {
     "iopub.execute_input": "2022-07-31T20:12:13.754168Z",
     "iopub.status.busy": "2022-07-31T20:12:13.753298Z",
     "iopub.status.idle": "2022-07-31T20:12:29.856223Z",
     "shell.execute_reply": "2022-07-31T20:12:29.855181Z"
    },
    "papermill": {
     "duration": 16.119172,
     "end_time": "2022-07-31T20:12:29.858804",
     "exception": false,
     "start_time": "2022-07-31T20:12:13.739632",
     "status": "completed"
    },
    "tags": []
   },
   "outputs": [
    {
     "name": "stdout",
     "output_type": "stream",
     "text": [
      "\u001b[33mWARNING: Running pip as the 'root' user can result in broken permissions and conflicting behaviour with the system package manager. It is recommended to use a virtual environment instead: https://pip.pypa.io/warnings/venv\u001b[0m\u001b[33m\r\n",
      "\u001b[0m"
     ]
    }
   ],
   "source": [
    "# Black formatter https://black.readthedocs.io/en/stable/\n",
    "\n",
    "! pip install nb-black > /dev/null\n",
    "\n",
    "%load_ext lab_black"
   ]
  },
  {
   "cell_type": "markdown",
   "id": "8413e14e",
   "metadata": {
    "papermill": {
     "duration": 0.011811,
     "end_time": "2022-07-31T20:12:29.882882",
     "exception": false,
     "start_time": "2022-07-31T20:12:29.871071",
     "status": "completed"
    },
    "tags": []
   },
   "source": [
    "<div style=\"background-color:rgba(255, 215, 0, 0.6);border-radius:5px;display:fill\"><h1 style=\"text-align: center;padding: 12px 0px 12px 0px;\">Import Libraries</h1>\n",
    "</div>"
   ]
  },
  {
   "cell_type": "code",
   "execution_count": 2,
   "id": "dd5790a3",
   "metadata": {
    "execution": {
     "iopub.execute_input": "2022-07-31T20:12:29.908844Z",
     "iopub.status.busy": "2022-07-31T20:12:29.908431Z",
     "iopub.status.idle": "2022-07-31T20:12:32.521653Z",
     "shell.execute_reply": "2022-07-31T20:12:32.520779Z"
    },
    "papermill": {
     "duration": 2.629345,
     "end_time": "2022-07-31T20:12:32.524316",
     "exception": false,
     "start_time": "2022-07-31T20:12:29.894971",
     "status": "completed"
    },
    "tags": []
   },
   "outputs": [
    {
     "data": {
      "text/html": [
       "<style type='text/css'>\n",
       ".datatable table.frame { margin-bottom: 0; }\n",
       ".datatable table.frame thead { border-bottom: none; }\n",
       ".datatable table.frame tr.coltypes td {  color: #FFFFFF;  line-height: 6px;  padding: 0 0.5em;}\n",
       ".datatable .bool    { background: #DDDD99; }\n",
       ".datatable .object  { background: #565656; }\n",
       ".datatable .int     { background: #5D9E5D; }\n",
       ".datatable .float   { background: #4040CC; }\n",
       ".datatable .str     { background: #CC4040; }\n",
       ".datatable .time    { background: #40CC40; }\n",
       ".datatable .row_index {  background: var(--jp-border-color3);  border-right: 1px solid var(--jp-border-color0);  color: var(--jp-ui-font-color3);  font-size: 9px;}\n",
       ".datatable .frame tbody td { text-align: left; }\n",
       ".datatable .frame tr.coltypes .row_index {  background: var(--jp-border-color0);}\n",
       ".datatable th:nth-child(2) { padding-left: 12px; }\n",
       ".datatable .hellipsis {  color: var(--jp-cell-editor-border-color);}\n",
       ".datatable .vellipsis {  background: var(--jp-layout-color0);  color: var(--jp-cell-editor-border-color);}\n",
       ".datatable .na {  color: var(--jp-cell-editor-border-color);  font-size: 80%;}\n",
       ".datatable .sp {  opacity: 0.25;}\n",
       ".datatable .footer { font-size: 9px; }\n",
       ".datatable .frame_dimensions {  background: var(--jp-border-color3);  border-top: 1px solid var(--jp-border-color0);  color: var(--jp-ui-font-color3);  display: inline-block;  opacity: 0.6;  padding: 1px 10px 1px 5px;}\n",
       "</style>\n"
      ],
      "text/plain": [
       "<IPython.core.display.HTML object>"
      ]
     },
     "metadata": {},
     "output_type": "display_data"
    }
   ],
   "source": [
    "import os\n",
    "from pathlib import Path\n",
    "import time\n",
    "import gc\n",
    "\n",
    "import random\n",
    "import pandas as pd\n",
    "import numpy as np\n",
    "import datatable as dt  # Fast table loading\n",
    "\n",
    "from sklearn.model_selection import train_test_split\n",
    "from sklearn.model_selection import KFold, StratifiedKFold\n",
    "\n",
    "from sklearn.preprocessing import LabelEncoder\n",
    "from catboost import CatBoostClassifier\n",
    "\n",
    "import optuna\n",
    "from optuna.visualization import plot_optimization_history, plot_param_importances\n",
    "\n",
    "# Visualization Libraries\n",
    "import matplotlib.pylab as plt\n",
    "import seaborn as sns"
   ]
  },
  {
   "cell_type": "markdown",
   "id": "8a7d9b5e",
   "metadata": {
    "papermill": {
     "duration": 0.011956,
     "end_time": "2022-07-31T20:12:32.548764",
     "exception": false,
     "start_time": "2022-07-31T20:12:32.536808",
     "status": "completed"
    },
    "tags": []
   },
   "source": [
    "<div style=\"background-color:rgba(255, 215, 0, 0.6);border-radius:5px;display:fill\"><h1 style=\"text-align: center;padding: 12px 0px 12px 0px;\">Configuration</h1>\n",
    "</div>"
   ]
  },
  {
   "cell_type": "code",
   "execution_count": 3,
   "id": "c60ede07",
   "metadata": {
    "execution": {
     "iopub.execute_input": "2022-07-31T20:12:32.575686Z",
     "iopub.status.busy": "2022-07-31T20:12:32.575273Z",
     "iopub.status.idle": "2022-07-31T20:12:32.591149Z",
     "shell.execute_reply": "2022-07-31T20:12:32.590167Z"
    },
    "papermill": {
     "duration": 0.031456,
     "end_time": "2022-07-31T20:12:32.593106",
     "exception": false,
     "start_time": "2022-07-31T20:12:32.561650",
     "status": "completed"
    },
    "tags": []
   },
   "outputs": [],
   "source": [
    "class Config:\n",
    "    path = \"../input/spaceship-titanic\"\n",
    "    gpu = True\n",
    "    debug = False\n",
    "    optimize = True\n",
    "    n_optimize_trials = 5\n",
    "    model_type = \"xgb\"  # (xgb, cat, lgbm, keras)\n",
    "    model_name = \"xgb1\"\n",
    "    competition = \"Spaceship Titanic\"\n",
    "    seed = 42\n",
    "    N_ESTIMATORS = 100  # 100, 300, 2000, 5000\n",
    "\n",
    "    batch_size = 64\n",
    "    epochs = 25\n",
    "    N_FOLDS = 15  # 5,10,15\n",
    "    SEED_LENGTH = 1  # 5,10"
   ]
  },
  {
   "cell_type": "code",
   "execution_count": 4,
   "id": "163ec3a1",
   "metadata": {
    "execution": {
     "iopub.execute_input": "2022-07-31T20:12:32.619917Z",
     "iopub.status.busy": "2022-07-31T20:12:32.619506Z",
     "iopub.status.idle": "2022-07-31T20:12:32.625794Z",
     "shell.execute_reply": "2022-07-31T20:12:32.624598Z"
    },
    "papermill": {
     "duration": 0.022466,
     "end_time": "2022-07-31T20:12:32.627877",
     "exception": false,
     "start_time": "2022-07-31T20:12:32.605411",
     "status": "completed"
    },
    "tags": []
   },
   "outputs": [],
   "source": [
    "TARGET = \"Transported\"\n",
    "TARGET_ENC = \"target_num\""
   ]
  },
  {
   "cell_type": "markdown",
   "id": "650c885b",
   "metadata": {
    "papermill": {
     "duration": 0.012629,
     "end_time": "2022-07-31T20:12:32.653165",
     "exception": false,
     "start_time": "2022-07-31T20:12:32.640536",
     "status": "completed"
    },
    "tags": []
   },
   "source": [
    "<div style=\"background-color:rgba(255, 215, 0, 0.6);border-radius:5px;display:fill\"><h1 style=\"text-align: center;padding: 12px 0px 12px 0px;\">Library</h1>\n",
    "</div>"
   ]
  },
  {
   "cell_type": "code",
   "execution_count": 5,
   "id": "24e2c20f",
   "metadata": {
    "execution": {
     "iopub.execute_input": "2022-07-31T20:12:32.680050Z",
     "iopub.status.busy": "2022-07-31T20:12:32.679605Z",
     "iopub.status.idle": "2022-07-31T20:12:32.696095Z",
     "shell.execute_reply": "2022-07-31T20:12:32.695211Z"
    },
    "papermill": {
     "duration": 0.032404,
     "end_time": "2022-07-31T20:12:32.698025",
     "exception": false,
     "start_time": "2022-07-31T20:12:32.665621",
     "status": "completed"
    },
    "tags": []
   },
   "outputs": [],
   "source": [
    "def create_folds(df, TARGET, n_folds=5, seed=42):\n",
    "    print(f\"TARGET={TARGET}, n_folds={n_folds}, seed={seed}\")\n",
    "    df[\"fold\"] = -1\n",
    "\n",
    "    kf = StratifiedKFold(n_splits=n_folds, shuffle=True, random_state=seed)\n",
    "    # kf = GroupKFold(n_splits=Config.N_FOLDS)\n",
    "\n",
    "    for fold, (train_idx, valid_idx) in enumerate(kf.split(df, df[TARGET])):\n",
    "        df.loc[valid_idx, \"fold\"] = fold\n",
    "\n",
    "    # df.to_csv(f\"train_fold{num_folds}.csv\", index=False)\n",
    "    return df"
   ]
  },
  {
   "cell_type": "code",
   "execution_count": 6,
   "id": "954c4590",
   "metadata": {
    "execution": {
     "iopub.execute_input": "2022-07-31T20:12:32.724695Z",
     "iopub.status.busy": "2022-07-31T20:12:32.723909Z",
     "iopub.status.idle": "2022-07-31T20:12:32.739255Z",
     "shell.execute_reply": "2022-07-31T20:12:32.738140Z"
    },
    "papermill": {
     "duration": 0.031324,
     "end_time": "2022-07-31T20:12:32.741506",
     "exception": false,
     "start_time": "2022-07-31T20:12:32.710182",
     "status": "completed"
    },
    "tags": []
   },
   "outputs": [],
   "source": [
    "def label_encoder(train, test, columns):\n",
    "    for col in columns:\n",
    "        train[col] = train[col].astype(str)\n",
    "        test[col] = test[col].astype(str)\n",
    "        train[col] = LabelEncoder().fit_transform(train[col])\n",
    "        test[col] = LabelEncoder().fit_transform(test[col])\n",
    "    return train, test"
   ]
  },
  {
   "cell_type": "code",
   "execution_count": 7,
   "id": "8dafc0b2",
   "metadata": {
    "execution": {
     "iopub.execute_input": "2022-07-31T20:12:32.768277Z",
     "iopub.status.busy": "2022-07-31T20:12:32.767883Z",
     "iopub.status.idle": "2022-07-31T20:12:32.782600Z",
     "shell.execute_reply": "2022-07-31T20:12:32.781609Z"
    },
    "papermill": {
     "duration": 0.030743,
     "end_time": "2022-07-31T20:12:32.784766",
     "exception": false,
     "start_time": "2022-07-31T20:12:32.754023",
     "status": "completed"
    },
    "tags": []
   },
   "outputs": [],
   "source": [
    "def read_data(path):\n",
    "    data_dir = Path(path)\n",
    "\n",
    "    train = pd.read_csv(data_dir / \"train.csv\")\n",
    "    test = pd.read_csv(data_dir / \"test.csv\")\n",
    "    # train_df = dt.fread(data_dir / \"train.csv\").to_pandas()\n",
    "    # test_df = dt.fread(data_dir / \"test.csv\").to_pandas()\n",
    "\n",
    "    submission_df = pd.read_csv(data_dir / \"sample_submission.csv\")\n",
    "\n",
    "    print(f\"train data: Rows={train.shape[0]}, Columns={train.shape[1]}\")\n",
    "    print(f\"test data : Rows={test.shape[0]}, Columns={test.shape[1]}\")\n",
    "    return train, test, submission_df"
   ]
  },
  {
   "cell_type": "code",
   "execution_count": 8,
   "id": "e188bb26",
   "metadata": {
    "execution": {
     "iopub.execute_input": "2022-07-31T20:12:32.811496Z",
     "iopub.status.busy": "2022-07-31T20:12:32.811097Z",
     "iopub.status.idle": "2022-07-31T20:12:32.819226Z",
     "shell.execute_reply": "2022-07-31T20:12:32.818417Z"
    },
    "papermill": {
     "duration": 0.023496,
     "end_time": "2022-07-31T20:12:32.820991",
     "exception": false,
     "start_time": "2022-07-31T20:12:32.797495",
     "status": "completed"
    },
    "tags": []
   },
   "outputs": [],
   "source": [
    "def show_missing_features(df):\n",
    "    missing_vals = df.isna().sum().sort_values(ascending=False)\n",
    "    print(missing_vals[missing_vals > 0])"
   ]
  },
  {
   "cell_type": "code",
   "execution_count": 9,
   "id": "f7ddbdfa",
   "metadata": {
    "execution": {
     "iopub.execute_input": "2022-07-31T20:12:32.847351Z",
     "iopub.status.busy": "2022-07-31T20:12:32.846803Z",
     "iopub.status.idle": "2022-07-31T20:12:32.863227Z",
     "shell.execute_reply": "2022-07-31T20:12:32.862284Z"
    },
    "papermill": {
     "duration": 0.032003,
     "end_time": "2022-07-31T20:12:32.865259",
     "exception": false,
     "start_time": "2022-07-31T20:12:32.833256",
     "status": "completed"
    },
    "tags": []
   },
   "outputs": [],
   "source": [
    "def show_missing_features_pct(df):\n",
    "    nan = pd.DataFrame(\n",
    "        df.isna().sum().sort_values(ascending=False), columns=[\"NaN_sum\"]\n",
    "    )\n",
    "    nan[\"Percentage(%)\"] = (nan[\"NaN_sum\"] / len(df)) * 100\n",
    "    nan = nan[nan[\"NaN_sum\"] > 0]\n",
    "    nan = nan.sort_values(by=[\"NaN_sum\"])\n",
    "    print(nan)"
   ]
  },
  {
   "cell_type": "code",
   "execution_count": 10,
   "id": "f07d3ec2",
   "metadata": {
    "execution": {
     "iopub.execute_input": "2022-07-31T20:12:32.891827Z",
     "iopub.status.busy": "2022-07-31T20:12:32.891282Z",
     "iopub.status.idle": "2022-07-31T20:12:32.912429Z",
     "shell.execute_reply": "2022-07-31T20:12:32.911636Z"
    },
    "papermill": {
     "duration": 0.036961,
     "end_time": "2022-07-31T20:12:32.914685",
     "exception": false,
     "start_time": "2022-07-31T20:12:32.877724",
     "status": "completed"
    },
    "tags": []
   },
   "outputs": [],
   "source": [
    "def missing_values(df):\n",
    "    # Calculate missing value and their percentage for each feature\n",
    "    missing_percent = df.isnull().sum() * 100 / df.shape[0]\n",
    "    df_missing_percent = pd.DataFrame(missing_percent).round(2)\n",
    "    df_missing_percent = df_missing_percent.reset_index().rename(\n",
    "        columns={\"index\": \"Feature\", 0: \"Missing Percentage (%)\"}\n",
    "    )\n",
    "    df_missing_value = df.isnull().sum()\n",
    "    df_missing_value = df_missing_value.reset_index().rename(\n",
    "        columns={\"index\": \"Feature\", 0: \"Missing Values\"}\n",
    "    )\n",
    "\n",
    "    final = df_missing_value.merge(\n",
    "        df_missing_percent, how=\"inner\", left_on=\"Feature\", right_on=\"Feature\"\n",
    "    )\n",
    "    final = final.sort_values(by=\"Missing Percentage (%)\", ascending=False)\n",
    "    return final"
   ]
  },
  {
   "cell_type": "code",
   "execution_count": 11,
   "id": "65d01c36",
   "metadata": {
    "execution": {
     "iopub.execute_input": "2022-07-31T20:12:32.941015Z",
     "iopub.status.busy": "2022-07-31T20:12:32.940588Z",
     "iopub.status.idle": "2022-07-31T20:12:32.949180Z",
     "shell.execute_reply": "2022-07-31T20:12:32.948502Z"
    },
    "papermill": {
     "duration": 0.024016,
     "end_time": "2022-07-31T20:12:32.950977",
     "exception": false,
     "start_time": "2022-07-31T20:12:32.926961",
     "status": "completed"
    },
    "tags": []
   },
   "outputs": [],
   "source": [
    "def check_low_cardinality(df, features, threshold=25):\n",
    "    low_cardinality = [col for col in features if df[col].nunique() < threshold]\n",
    "    return low_cardinality"
   ]
  },
  {
   "cell_type": "code",
   "execution_count": 12,
   "id": "63b09b35",
   "metadata": {
    "execution": {
     "iopub.execute_input": "2022-07-31T20:12:32.977152Z",
     "iopub.status.busy": "2022-07-31T20:12:32.976446Z",
     "iopub.status.idle": "2022-07-31T20:12:32.982871Z",
     "shell.execute_reply": "2022-07-31T20:12:32.982210Z"
    },
    "papermill": {
     "duration": 0.02161,
     "end_time": "2022-07-31T20:12:32.984838",
     "exception": false,
     "start_time": "2022-07-31T20:12:32.963228",
     "status": "completed"
    },
    "tags": []
   },
   "outputs": [],
   "source": [
    "# OOF Results\n",
    "if not os.path.exists(\"results\"):\n",
    "    os.makedirs(\"results\")"
   ]
  },
  {
   "cell_type": "markdown",
   "id": "c18cd600",
   "metadata": {
    "papermill": {
     "duration": 0.011781,
     "end_time": "2022-07-31T20:12:33.008799",
     "exception": false,
     "start_time": "2022-07-31T20:12:32.997018",
     "status": "completed"
    },
    "tags": []
   },
   "source": [
    "<div style=\"background-color:rgba(255, 215, 0, 0.6);border-radius:5px;display:fill\"><h1 style=\"text-align: center;padding: 12px 0px 12px 0px;\">Load Train/Test Data</h1>\n",
    "</div>\n",
    "\n",
    "Support datatable for large datasets.\n",
    "Using datatable is described in [Tutorial on reading datasets](https://www.kaggle.com/hiro5299834/tutorial-on-reading-datasets)"
   ]
  },
  {
   "cell_type": "code",
   "execution_count": 13,
   "id": "109833ef",
   "metadata": {
    "execution": {
     "iopub.execute_input": "2022-07-31T20:12:33.035076Z",
     "iopub.status.busy": "2022-07-31T20:12:33.034560Z",
     "iopub.status.idle": "2022-07-31T20:12:33.142948Z",
     "shell.execute_reply": "2022-07-31T20:12:33.141576Z"
    },
    "papermill": {
     "duration": 0.125084,
     "end_time": "2022-07-31T20:12:33.146028",
     "exception": false,
     "start_time": "2022-07-31T20:12:33.020944",
     "status": "completed"
    },
    "tags": []
   },
   "outputs": [
    {
     "name": "stdout",
     "output_type": "stream",
     "text": [
      "train data: Rows=8693, Columns=14\n",
      "test data : Rows=4277, Columns=13\n",
      "CPU times: user 45.7 ms, sys: 13.2 ms, total: 58.9 ms\n",
      "Wall time: 100 ms\n"
     ]
    }
   ],
   "source": [
    "%%time\n",
    "train, test, submission_df = read_data(Config.path)"
   ]
  },
  {
   "cell_type": "code",
   "execution_count": 14,
   "id": "3fe94554",
   "metadata": {
    "execution": {
     "iopub.execute_input": "2022-07-31T20:12:33.173437Z",
     "iopub.status.busy": "2022-07-31T20:12:33.172742Z",
     "iopub.status.idle": "2022-07-31T20:12:33.207197Z",
     "shell.execute_reply": "2022-07-31T20:12:33.206192Z"
    },
    "papermill": {
     "duration": 0.050288,
     "end_time": "2022-07-31T20:12:33.209116",
     "exception": false,
     "start_time": "2022-07-31T20:12:33.158828",
     "status": "completed"
    },
    "tags": []
   },
   "outputs": [
    {
     "data": {
      "text/html": [
       "<div>\n",
       "<style scoped>\n",
       "    .dataframe tbody tr th:only-of-type {\n",
       "        vertical-align: middle;\n",
       "    }\n",
       "\n",
       "    .dataframe tbody tr th {\n",
       "        vertical-align: top;\n",
       "    }\n",
       "\n",
       "    .dataframe thead th {\n",
       "        text-align: right;\n",
       "    }\n",
       "</style>\n",
       "<table border=\"1\" class=\"dataframe\">\n",
       "  <thead>\n",
       "    <tr style=\"text-align: right;\">\n",
       "      <th></th>\n",
       "      <th>PassengerId</th>\n",
       "      <th>HomePlanet</th>\n",
       "      <th>CryoSleep</th>\n",
       "      <th>Cabin</th>\n",
       "      <th>Destination</th>\n",
       "      <th>Age</th>\n",
       "      <th>VIP</th>\n",
       "      <th>RoomService</th>\n",
       "      <th>FoodCourt</th>\n",
       "      <th>ShoppingMall</th>\n",
       "      <th>Spa</th>\n",
       "      <th>VRDeck</th>\n",
       "      <th>Name</th>\n",
       "      <th>Transported</th>\n",
       "    </tr>\n",
       "  </thead>\n",
       "  <tbody>\n",
       "    <tr>\n",
       "      <th>6033</th>\n",
       "      <td>6380_01</td>\n",
       "      <td>Earth</td>\n",
       "      <td>False</td>\n",
       "      <td>F/1322/P</td>\n",
       "      <td>TRAPPIST-1e</td>\n",
       "      <td>37.0</td>\n",
       "      <td>False</td>\n",
       "      <td>0.0</td>\n",
       "      <td>959.0</td>\n",
       "      <td>8.0</td>\n",
       "      <td>20.0</td>\n",
       "      <td>169.0</td>\n",
       "      <td>Thel Fryersonis</td>\n",
       "      <td>False</td>\n",
       "    </tr>\n",
       "    <tr>\n",
       "      <th>8328</th>\n",
       "      <td>8891_02</td>\n",
       "      <td>Earth</td>\n",
       "      <td>False</td>\n",
       "      <td>F/1831/P</td>\n",
       "      <td>TRAPPIST-1e</td>\n",
       "      <td>16.0</td>\n",
       "      <td>False</td>\n",
       "      <td>0.0</td>\n",
       "      <td>1332.0</td>\n",
       "      <td>0.0</td>\n",
       "      <td>0.0</td>\n",
       "      <td>0.0</td>\n",
       "      <td>Isa Pooley</td>\n",
       "      <td>True</td>\n",
       "    </tr>\n",
       "    <tr>\n",
       "      <th>5405</th>\n",
       "      <td>5771_01</td>\n",
       "      <td>Earth</td>\n",
       "      <td>False</td>\n",
       "      <td>G/937/S</td>\n",
       "      <td>TRAPPIST-1e</td>\n",
       "      <td>47.0</td>\n",
       "      <td>False</td>\n",
       "      <td>0.0</td>\n",
       "      <td>868.0</td>\n",
       "      <td>0.0</td>\n",
       "      <td>4.0</td>\n",
       "      <td>NaN</td>\n",
       "      <td>Sanda Fielson</td>\n",
       "      <td>True</td>\n",
       "    </tr>\n",
       "    <tr>\n",
       "      <th>6733</th>\n",
       "      <td>7098_01</td>\n",
       "      <td>Earth</td>\n",
       "      <td>False</td>\n",
       "      <td>F/1356/S</td>\n",
       "      <td>TRAPPIST-1e</td>\n",
       "      <td>35.0</td>\n",
       "      <td>False</td>\n",
       "      <td>3.0</td>\n",
       "      <td>0.0</td>\n",
       "      <td>651.0</td>\n",
       "      <td>0.0</td>\n",
       "      <td>78.0</td>\n",
       "      <td>Joanny Guerson</td>\n",
       "      <td>True</td>\n",
       "    </tr>\n",
       "    <tr>\n",
       "      <th>263</th>\n",
       "      <td>0289_01</td>\n",
       "      <td>Europa</td>\n",
       "      <td>True</td>\n",
       "      <td>C/12/S</td>\n",
       "      <td>55 Cancri e</td>\n",
       "      <td>19.0</td>\n",
       "      <td>False</td>\n",
       "      <td>0.0</td>\n",
       "      <td>0.0</td>\n",
       "      <td>0.0</td>\n",
       "      <td>0.0</td>\n",
       "      <td>0.0</td>\n",
       "      <td>Furuson Objeciane</td>\n",
       "      <td>True</td>\n",
       "    </tr>\n",
       "  </tbody>\n",
       "</table>\n",
       "</div>"
      ],
      "text/plain": [
       "     PassengerId HomePlanet CryoSleep     Cabin  Destination   Age    VIP  \\\n",
       "6033     6380_01      Earth     False  F/1322/P  TRAPPIST-1e  37.0  False   \n",
       "8328     8891_02      Earth     False  F/1831/P  TRAPPIST-1e  16.0  False   \n",
       "5405     5771_01      Earth     False   G/937/S  TRAPPIST-1e  47.0  False   \n",
       "6733     7098_01      Earth     False  F/1356/S  TRAPPIST-1e  35.0  False   \n",
       "263      0289_01     Europa      True    C/12/S  55 Cancri e  19.0  False   \n",
       "\n",
       "      RoomService  FoodCourt  ShoppingMall   Spa  VRDeck               Name  \\\n",
       "6033          0.0      959.0           8.0  20.0   169.0    Thel Fryersonis   \n",
       "8328          0.0     1332.0           0.0   0.0     0.0         Isa Pooley   \n",
       "5405          0.0      868.0           0.0   4.0     NaN      Sanda Fielson   \n",
       "6733          3.0        0.0         651.0   0.0    78.0     Joanny Guerson   \n",
       "263           0.0        0.0           0.0   0.0     0.0  Furuson Objeciane   \n",
       "\n",
       "      Transported  \n",
       "6033        False  \n",
       "8328         True  \n",
       "5405         True  \n",
       "6733         True  \n",
       "263          True  "
      ]
     },
     "execution_count": 14,
     "metadata": {},
     "output_type": "execute_result"
    }
   ],
   "source": [
    "train.sample(5)"
   ]
  },
  {
   "cell_type": "code",
   "execution_count": 15,
   "id": "ec55e4db",
   "metadata": {
    "execution": {
     "iopub.execute_input": "2022-07-31T20:12:33.236341Z",
     "iopub.status.busy": "2022-07-31T20:12:33.235466Z",
     "iopub.status.idle": "2022-07-31T20:12:33.242739Z",
     "shell.execute_reply": "2022-07-31T20:12:33.242045Z"
    },
    "papermill": {
     "duration": 0.022853,
     "end_time": "2022-07-31T20:12:33.244592",
     "exception": false,
     "start_time": "2022-07-31T20:12:33.221739",
     "status": "completed"
    },
    "tags": []
   },
   "outputs": [
    {
     "data": {
      "text/plain": [
       "Index(['PassengerId', 'HomePlanet', 'CryoSleep', 'Cabin', 'Destination', 'Age',\n",
       "       'VIP', 'RoomService', 'FoodCourt', 'ShoppingMall', 'Spa', 'VRDeck',\n",
       "       'Name', 'Transported'],\n",
       "      dtype='object')"
      ]
     },
     "execution_count": 15,
     "metadata": {},
     "output_type": "execute_result"
    }
   ],
   "source": [
    "train.columns"
   ]
  },
  {
   "cell_type": "code",
   "execution_count": 16,
   "id": "5cf52888",
   "metadata": {
    "execution": {
     "iopub.execute_input": "2022-07-31T20:12:33.272570Z",
     "iopub.status.busy": "2022-07-31T20:12:33.271944Z",
     "iopub.status.idle": "2022-07-31T20:12:33.303475Z",
     "shell.execute_reply": "2022-07-31T20:12:33.301996Z"
    },
    "papermill": {
     "duration": 0.048368,
     "end_time": "2022-07-31T20:12:33.305724",
     "exception": false,
     "start_time": "2022-07-31T20:12:33.257356",
     "status": "completed"
    },
    "tags": []
   },
   "outputs": [
    {
     "name": "stdout",
     "output_type": "stream",
     "text": [
      "<class 'pandas.core.frame.DataFrame'>\n",
      "RangeIndex: 8693 entries, 0 to 8692\n",
      "Data columns (total 14 columns):\n",
      " #   Column        Non-Null Count  Dtype  \n",
      "---  ------        --------------  -----  \n",
      " 0   PassengerId   8693 non-null   object \n",
      " 1   HomePlanet    8492 non-null   object \n",
      " 2   CryoSleep     8476 non-null   object \n",
      " 3   Cabin         8494 non-null   object \n",
      " 4   Destination   8511 non-null   object \n",
      " 5   Age           8514 non-null   float64\n",
      " 6   VIP           8490 non-null   object \n",
      " 7   RoomService   8512 non-null   float64\n",
      " 8   FoodCourt     8510 non-null   float64\n",
      " 9   ShoppingMall  8485 non-null   float64\n",
      " 10  Spa           8510 non-null   float64\n",
      " 11  VRDeck        8505 non-null   float64\n",
      " 12  Name          8493 non-null   object \n",
      " 13  Transported   8693 non-null   bool   \n",
      "dtypes: bool(1), float64(6), object(7)\n",
      "memory usage: 891.5+ KB\n"
     ]
    }
   ],
   "source": [
    "train.info()"
   ]
  },
  {
   "cell_type": "code",
   "execution_count": 17,
   "id": "795b0782",
   "metadata": {
    "execution": {
     "iopub.execute_input": "2022-07-31T20:12:33.333428Z",
     "iopub.status.busy": "2022-07-31T20:12:33.332498Z",
     "iopub.status.idle": "2022-07-31T20:12:33.342742Z",
     "shell.execute_reply": "2022-07-31T20:12:33.342078Z"
    },
    "papermill": {
     "duration": 0.026253,
     "end_time": "2022-07-31T20:12:33.344789",
     "exception": false,
     "start_time": "2022-07-31T20:12:33.318536",
     "status": "completed"
    },
    "tags": []
   },
   "outputs": [
    {
     "data": {
      "text/plain": [
       "array([False,  True])"
      ]
     },
     "execution_count": 17,
     "metadata": {},
     "output_type": "execute_result"
    }
   ],
   "source": [
    "train[TARGET].unique()"
   ]
  },
  {
   "cell_type": "code",
   "execution_count": 18,
   "id": "8fd7bbd6",
   "metadata": {
    "execution": {
     "iopub.execute_input": "2022-07-31T20:12:33.372407Z",
     "iopub.status.busy": "2022-07-31T20:12:33.372018Z",
     "iopub.status.idle": "2022-07-31T20:12:33.410704Z",
     "shell.execute_reply": "2022-07-31T20:12:33.409747Z"
    },
    "papermill": {
     "duration": 0.055113,
     "end_time": "2022-07-31T20:12:33.412914",
     "exception": false,
     "start_time": "2022-07-31T20:12:33.357801",
     "status": "completed"
    },
    "tags": []
   },
   "outputs": [
    {
     "data": {
      "text/html": [
       "<div>\n",
       "<style scoped>\n",
       "    .dataframe tbody tr th:only-of-type {\n",
       "        vertical-align: middle;\n",
       "    }\n",
       "\n",
       "    .dataframe tbody tr th {\n",
       "        vertical-align: top;\n",
       "    }\n",
       "\n",
       "    .dataframe thead th {\n",
       "        text-align: right;\n",
       "    }\n",
       "</style>\n",
       "<table border=\"1\" class=\"dataframe\">\n",
       "  <thead>\n",
       "    <tr style=\"text-align: right;\">\n",
       "      <th></th>\n",
       "      <th>count</th>\n",
       "      <th>mean</th>\n",
       "      <th>std</th>\n",
       "      <th>min</th>\n",
       "      <th>25%</th>\n",
       "      <th>50%</th>\n",
       "      <th>75%</th>\n",
       "      <th>max</th>\n",
       "    </tr>\n",
       "  </thead>\n",
       "  <tbody>\n",
       "    <tr>\n",
       "      <th>Age</th>\n",
       "      <td>8514.0</td>\n",
       "      <td>28.827930</td>\n",
       "      <td>14.489021</td>\n",
       "      <td>0.0</td>\n",
       "      <td>19.0</td>\n",
       "      <td>27.0</td>\n",
       "      <td>38.0</td>\n",
       "      <td>79.0</td>\n",
       "    </tr>\n",
       "    <tr>\n",
       "      <th>RoomService</th>\n",
       "      <td>8512.0</td>\n",
       "      <td>224.687617</td>\n",
       "      <td>666.717663</td>\n",
       "      <td>0.0</td>\n",
       "      <td>0.0</td>\n",
       "      <td>0.0</td>\n",
       "      <td>47.0</td>\n",
       "      <td>14327.0</td>\n",
       "    </tr>\n",
       "    <tr>\n",
       "      <th>FoodCourt</th>\n",
       "      <td>8510.0</td>\n",
       "      <td>458.077203</td>\n",
       "      <td>1611.489240</td>\n",
       "      <td>0.0</td>\n",
       "      <td>0.0</td>\n",
       "      <td>0.0</td>\n",
       "      <td>76.0</td>\n",
       "      <td>29813.0</td>\n",
       "    </tr>\n",
       "    <tr>\n",
       "      <th>ShoppingMall</th>\n",
       "      <td>8485.0</td>\n",
       "      <td>173.729169</td>\n",
       "      <td>604.696458</td>\n",
       "      <td>0.0</td>\n",
       "      <td>0.0</td>\n",
       "      <td>0.0</td>\n",
       "      <td>27.0</td>\n",
       "      <td>23492.0</td>\n",
       "    </tr>\n",
       "    <tr>\n",
       "      <th>Spa</th>\n",
       "      <td>8510.0</td>\n",
       "      <td>311.138778</td>\n",
       "      <td>1136.705535</td>\n",
       "      <td>0.0</td>\n",
       "      <td>0.0</td>\n",
       "      <td>0.0</td>\n",
       "      <td>59.0</td>\n",
       "      <td>22408.0</td>\n",
       "    </tr>\n",
       "    <tr>\n",
       "      <th>VRDeck</th>\n",
       "      <td>8505.0</td>\n",
       "      <td>304.854791</td>\n",
       "      <td>1145.717189</td>\n",
       "      <td>0.0</td>\n",
       "      <td>0.0</td>\n",
       "      <td>0.0</td>\n",
       "      <td>46.0</td>\n",
       "      <td>24133.0</td>\n",
       "    </tr>\n",
       "  </tbody>\n",
       "</table>\n",
       "</div>"
      ],
      "text/plain": [
       "               count        mean          std  min   25%   50%   75%      max\n",
       "Age           8514.0   28.827930    14.489021  0.0  19.0  27.0  38.0     79.0\n",
       "RoomService   8512.0  224.687617   666.717663  0.0   0.0   0.0  47.0  14327.0\n",
       "FoodCourt     8510.0  458.077203  1611.489240  0.0   0.0   0.0  76.0  29813.0\n",
       "ShoppingMall  8485.0  173.729169   604.696458  0.0   0.0   0.0  27.0  23492.0\n",
       "Spa           8510.0  311.138778  1136.705535  0.0   0.0   0.0  59.0  22408.0\n",
       "VRDeck        8505.0  304.854791  1145.717189  0.0   0.0   0.0  46.0  24133.0"
      ]
     },
     "execution_count": 18,
     "metadata": {},
     "output_type": "execute_result"
    }
   ],
   "source": [
    "train.describe().T"
   ]
  },
  {
   "cell_type": "code",
   "execution_count": 19,
   "id": "fc048353",
   "metadata": {
    "execution": {
     "iopub.execute_input": "2022-07-31T20:12:33.442071Z",
     "iopub.status.busy": "2022-07-31T20:12:33.441153Z",
     "iopub.status.idle": "2022-07-31T20:12:33.478777Z",
     "shell.execute_reply": "2022-07-31T20:12:33.477785Z"
    },
    "papermill": {
     "duration": 0.05463,
     "end_time": "2022-07-31T20:12:33.480945",
     "exception": false,
     "start_time": "2022-07-31T20:12:33.426315",
     "status": "completed"
    },
    "tags": []
   },
   "outputs": [
    {
     "data": {
      "text/html": [
       "<div>\n",
       "<style scoped>\n",
       "    .dataframe tbody tr th:only-of-type {\n",
       "        vertical-align: middle;\n",
       "    }\n",
       "\n",
       "    .dataframe tbody tr th {\n",
       "        vertical-align: top;\n",
       "    }\n",
       "\n",
       "    .dataframe thead th {\n",
       "        text-align: right;\n",
       "    }\n",
       "</style>\n",
       "<table border=\"1\" class=\"dataframe\">\n",
       "  <thead>\n",
       "    <tr style=\"text-align: right;\">\n",
       "      <th></th>\n",
       "      <th>count</th>\n",
       "      <th>mean</th>\n",
       "      <th>std</th>\n",
       "      <th>min</th>\n",
       "      <th>25%</th>\n",
       "      <th>50%</th>\n",
       "      <th>75%</th>\n",
       "      <th>max</th>\n",
       "    </tr>\n",
       "  </thead>\n",
       "  <tbody>\n",
       "    <tr>\n",
       "      <th>Age</th>\n",
       "      <td>8514.0</td>\n",
       "      <td>28.827930</td>\n",
       "      <td>14.489021</td>\n",
       "      <td>0.0</td>\n",
       "      <td>19.0</td>\n",
       "      <td>27.0</td>\n",
       "      <td>38.0</td>\n",
       "      <td>79.0</td>\n",
       "    </tr>\n",
       "    <tr>\n",
       "      <th>RoomService</th>\n",
       "      <td>8512.0</td>\n",
       "      <td>224.687617</td>\n",
       "      <td>666.717663</td>\n",
       "      <td>0.0</td>\n",
       "      <td>0.0</td>\n",
       "      <td>0.0</td>\n",
       "      <td>47.0</td>\n",
       "      <td>14327.0</td>\n",
       "    </tr>\n",
       "    <tr>\n",
       "      <th>FoodCourt</th>\n",
       "      <td>8510.0</td>\n",
       "      <td>458.077203</td>\n",
       "      <td>1611.489240</td>\n",
       "      <td>0.0</td>\n",
       "      <td>0.0</td>\n",
       "      <td>0.0</td>\n",
       "      <td>76.0</td>\n",
       "      <td>29813.0</td>\n",
       "    </tr>\n",
       "    <tr>\n",
       "      <th>ShoppingMall</th>\n",
       "      <td>8485.0</td>\n",
       "      <td>173.729169</td>\n",
       "      <td>604.696458</td>\n",
       "      <td>0.0</td>\n",
       "      <td>0.0</td>\n",
       "      <td>0.0</td>\n",
       "      <td>27.0</td>\n",
       "      <td>23492.0</td>\n",
       "    </tr>\n",
       "    <tr>\n",
       "      <th>Spa</th>\n",
       "      <td>8510.0</td>\n",
       "      <td>311.138778</td>\n",
       "      <td>1136.705535</td>\n",
       "      <td>0.0</td>\n",
       "      <td>0.0</td>\n",
       "      <td>0.0</td>\n",
       "      <td>59.0</td>\n",
       "      <td>22408.0</td>\n",
       "    </tr>\n",
       "    <tr>\n",
       "      <th>VRDeck</th>\n",
       "      <td>8505.0</td>\n",
       "      <td>304.854791</td>\n",
       "      <td>1145.717189</td>\n",
       "      <td>0.0</td>\n",
       "      <td>0.0</td>\n",
       "      <td>0.0</td>\n",
       "      <td>46.0</td>\n",
       "      <td>24133.0</td>\n",
       "    </tr>\n",
       "  </tbody>\n",
       "</table>\n",
       "</div>"
      ],
      "text/plain": [
       "               count        mean          std  min   25%   50%   75%      max\n",
       "Age           8514.0   28.827930    14.489021  0.0  19.0  27.0  38.0     79.0\n",
       "RoomService   8512.0  224.687617   666.717663  0.0   0.0   0.0  47.0  14327.0\n",
       "FoodCourt     8510.0  458.077203  1611.489240  0.0   0.0   0.0  76.0  29813.0\n",
       "ShoppingMall  8485.0  173.729169   604.696458  0.0   0.0   0.0  27.0  23492.0\n",
       "Spa           8510.0  311.138778  1136.705535  0.0   0.0   0.0  59.0  22408.0\n",
       "VRDeck        8505.0  304.854791  1145.717189  0.0   0.0   0.0  46.0  24133.0"
      ]
     },
     "execution_count": 19,
     "metadata": {},
     "output_type": "execute_result"
    }
   ],
   "source": [
    "train.describe(include=[\"float64\"]).T"
   ]
  },
  {
   "cell_type": "code",
   "execution_count": 20,
   "id": "df97e411",
   "metadata": {
    "execution": {
     "iopub.execute_input": "2022-07-31T20:12:33.512014Z",
     "iopub.status.busy": "2022-07-31T20:12:33.510880Z",
     "iopub.status.idle": "2022-07-31T20:12:33.561988Z",
     "shell.execute_reply": "2022-07-31T20:12:33.561307Z"
    },
    "papermill": {
     "duration": 0.069564,
     "end_time": "2022-07-31T20:12:33.564128",
     "exception": false,
     "start_time": "2022-07-31T20:12:33.494564",
     "status": "completed"
    },
    "tags": []
   },
   "outputs": [
    {
     "data": {
      "text/html": [
       "<div>\n",
       "<style scoped>\n",
       "    .dataframe tbody tr th:only-of-type {\n",
       "        vertical-align: middle;\n",
       "    }\n",
       "\n",
       "    .dataframe tbody tr th {\n",
       "        vertical-align: top;\n",
       "    }\n",
       "\n",
       "    .dataframe thead th {\n",
       "        text-align: right;\n",
       "    }\n",
       "</style>\n",
       "<table border=\"1\" class=\"dataframe\">\n",
       "  <thead>\n",
       "    <tr style=\"text-align: right;\">\n",
       "      <th></th>\n",
       "      <th>count</th>\n",
       "      <th>unique</th>\n",
       "      <th>top</th>\n",
       "      <th>freq</th>\n",
       "    </tr>\n",
       "  </thead>\n",
       "  <tbody>\n",
       "    <tr>\n",
       "      <th>PassengerId</th>\n",
       "      <td>8693</td>\n",
       "      <td>8693</td>\n",
       "      <td>0001_01</td>\n",
       "      <td>1</td>\n",
       "    </tr>\n",
       "    <tr>\n",
       "      <th>HomePlanet</th>\n",
       "      <td>8492</td>\n",
       "      <td>3</td>\n",
       "      <td>Earth</td>\n",
       "      <td>4602</td>\n",
       "    </tr>\n",
       "    <tr>\n",
       "      <th>CryoSleep</th>\n",
       "      <td>8476</td>\n",
       "      <td>2</td>\n",
       "      <td>False</td>\n",
       "      <td>5439</td>\n",
       "    </tr>\n",
       "    <tr>\n",
       "      <th>Cabin</th>\n",
       "      <td>8494</td>\n",
       "      <td>6560</td>\n",
       "      <td>G/734/S</td>\n",
       "      <td>8</td>\n",
       "    </tr>\n",
       "    <tr>\n",
       "      <th>Destination</th>\n",
       "      <td>8511</td>\n",
       "      <td>3</td>\n",
       "      <td>TRAPPIST-1e</td>\n",
       "      <td>5915</td>\n",
       "    </tr>\n",
       "    <tr>\n",
       "      <th>VIP</th>\n",
       "      <td>8490</td>\n",
       "      <td>2</td>\n",
       "      <td>False</td>\n",
       "      <td>8291</td>\n",
       "    </tr>\n",
       "    <tr>\n",
       "      <th>Name</th>\n",
       "      <td>8493</td>\n",
       "      <td>8473</td>\n",
       "      <td>Gollux Reedall</td>\n",
       "      <td>2</td>\n",
       "    </tr>\n",
       "    <tr>\n",
       "      <th>Transported</th>\n",
       "      <td>8693</td>\n",
       "      <td>2</td>\n",
       "      <td>True</td>\n",
       "      <td>4378</td>\n",
       "    </tr>\n",
       "  </tbody>\n",
       "</table>\n",
       "</div>"
      ],
      "text/plain": [
       "            count unique             top  freq\n",
       "PassengerId  8693   8693         0001_01     1\n",
       "HomePlanet   8492      3           Earth  4602\n",
       "CryoSleep    8476      2           False  5439\n",
       "Cabin        8494   6560         G/734/S     8\n",
       "Destination  8511      3     TRAPPIST-1e  5915\n",
       "VIP          8490      2           False  8291\n",
       "Name         8493   8473  Gollux Reedall     2\n",
       "Transported  8693      2            True  4378"
      ]
     },
     "execution_count": 20,
     "metadata": {},
     "output_type": "execute_result"
    }
   ],
   "source": [
    "# features with object and bool types\n",
    "train.describe(include=[object, bool]).T"
   ]
  },
  {
   "cell_type": "code",
   "execution_count": 21,
   "id": "0895e978",
   "metadata": {
    "execution": {
     "iopub.execute_input": "2022-07-31T20:12:33.592935Z",
     "iopub.status.busy": "2022-07-31T20:12:33.592524Z",
     "iopub.status.idle": "2022-07-31T20:12:33.685951Z",
     "shell.execute_reply": "2022-07-31T20:12:33.684942Z"
    },
    "papermill": {
     "duration": 0.110269,
     "end_time": "2022-07-31T20:12:33.688036",
     "exception": false,
     "start_time": "2022-07-31T20:12:33.577767",
     "status": "completed"
    },
    "tags": []
   },
   "outputs": [
    {
     "data": {
      "text/html": [
       "<style type=\"text/css\">\n",
       "#T_388dd_row0_col0, #T_388dd_row1_col1, #T_388dd_row2_col2, #T_388dd_row3_col3, #T_388dd_row4_col4, #T_388dd_row5_col5, #T_388dd_row6_col6 {\n",
       "  background-color: #b40426;\n",
       "  color: #f1f1f1;\n",
       "}\n",
       "#T_388dd_row0_col1 {\n",
       "  background-color: #8db0fe;\n",
       "  color: #000000;\n",
       "}\n",
       "#T_388dd_row0_col2 {\n",
       "  background-color: #6788ee;\n",
       "  color: #f1f1f1;\n",
       "}\n",
       "#T_388dd_row0_col3 {\n",
       "  background-color: #485fd1;\n",
       "  color: #f1f1f1;\n",
       "}\n",
       "#T_388dd_row0_col4 {\n",
       "  background-color: #98b9ff;\n",
       "  color: #000000;\n",
       "}\n",
       "#T_388dd_row0_col5 {\n",
       "  background-color: #8fb1fe;\n",
       "  color: #000000;\n",
       "}\n",
       "#T_388dd_row0_col6, #T_388dd_row1_col0 {\n",
       "  background-color: #6485ec;\n",
       "  color: #f1f1f1;\n",
       "}\n",
       "#T_388dd_row1_col2, #T_388dd_row1_col6, #T_388dd_row2_col3, #T_388dd_row3_col2, #T_388dd_row6_col0, #T_388dd_row6_col1, #T_388dd_row6_col4, #T_388dd_row6_col5 {\n",
       "  background-color: #3b4cc0;\n",
       "  color: #f1f1f1;\n",
       "}\n",
       "#T_388dd_row1_col3 {\n",
       "  background-color: #4f69d9;\n",
       "  color: #f1f1f1;\n",
       "}\n",
       "#T_388dd_row1_col4, #T_388dd_row2_col0 {\n",
       "  background-color: #779af7;\n",
       "  color: #f1f1f1;\n",
       "}\n",
       "#T_388dd_row1_col5 {\n",
       "  background-color: #6b8df0;\n",
       "  color: #f1f1f1;\n",
       "}\n",
       "#T_388dd_row2_col1, #T_388dd_row4_col0 {\n",
       "  background-color: #7699f6;\n",
       "  color: #f1f1f1;\n",
       "}\n",
       "#T_388dd_row2_col4, #T_388dd_row2_col5 {\n",
       "  background-color: #b3cdfb;\n",
       "  color: #000000;\n",
       "}\n",
       "#T_388dd_row2_col6, #T_388dd_row4_col2 {\n",
       "  background-color: #86a9fc;\n",
       "  color: #f1f1f1;\n",
       "}\n",
       "#T_388dd_row3_col0 {\n",
       "  background-color: #5977e3;\n",
       "  color: #f1f1f1;\n",
       "}\n",
       "#T_388dd_row3_col1, #T_388dd_row5_col2 {\n",
       "  background-color: #89acfd;\n",
       "  color: #000000;\n",
       "}\n",
       "#T_388dd_row3_col4 {\n",
       "  background-color: #799cf8;\n",
       "  color: #f1f1f1;\n",
       "}\n",
       "#T_388dd_row3_col5 {\n",
       "  background-color: #6f92f3;\n",
       "  color: #f1f1f1;\n",
       "}\n",
       "#T_388dd_row3_col6, #T_388dd_row4_col1 {\n",
       "  background-color: #7da0f9;\n",
       "  color: #f1f1f1;\n",
       "}\n",
       "#T_388dd_row4_col3, #T_388dd_row5_col6 {\n",
       "  background-color: #4358cb;\n",
       "  color: #f1f1f1;\n",
       "}\n",
       "#T_388dd_row4_col5 {\n",
       "  background-color: #9ebeff;\n",
       "  color: #000000;\n",
       "}\n",
       "#T_388dd_row4_col6 {\n",
       "  background-color: #3f53c6;\n",
       "  color: #f1f1f1;\n",
       "}\n",
       "#T_388dd_row5_col0 {\n",
       "  background-color: #6e90f2;\n",
       "  color: #f1f1f1;\n",
       "}\n",
       "#T_388dd_row5_col1 {\n",
       "  background-color: #7597f6;\n",
       "  color: #f1f1f1;\n",
       "}\n",
       "#T_388dd_row5_col3 {\n",
       "  background-color: #3c4ec2;\n",
       "  color: #f1f1f1;\n",
       "}\n",
       "#T_388dd_row5_col4 {\n",
       "  background-color: #a1c0ff;\n",
       "  color: #000000;\n",
       "}\n",
       "#T_388dd_row6_col2 {\n",
       "  background-color: #4c66d6;\n",
       "  color: #f1f1f1;\n",
       "}\n",
       "#T_388dd_row6_col3 {\n",
       "  background-color: #4257c9;\n",
       "  color: #f1f1f1;\n",
       "}\n",
       "</style>\n",
       "<table id=\"T_388dd_\">\n",
       "  <thead>\n",
       "    <tr>\n",
       "      <th class=\"blank level0\" >&nbsp;</th>\n",
       "      <th class=\"col_heading level0 col0\" >Age</th>\n",
       "      <th class=\"col_heading level0 col1\" >RoomService</th>\n",
       "      <th class=\"col_heading level0 col2\" >FoodCourt</th>\n",
       "      <th class=\"col_heading level0 col3\" >ShoppingMall</th>\n",
       "      <th class=\"col_heading level0 col4\" >Spa</th>\n",
       "      <th class=\"col_heading level0 col5\" >VRDeck</th>\n",
       "      <th class=\"col_heading level0 col6\" >Transported</th>\n",
       "    </tr>\n",
       "  </thead>\n",
       "  <tbody>\n",
       "    <tr>\n",
       "      <th id=\"T_388dd_level0_row0\" class=\"row_heading level0 row0\" >Age</th>\n",
       "      <td id=\"T_388dd_row0_col0\" class=\"data row0 col0\" >1.000000</td>\n",
       "      <td id=\"T_388dd_row0_col1\" class=\"data row0 col1\" >0.068723</td>\n",
       "      <td id=\"T_388dd_row0_col2\" class=\"data row0 col2\" >0.130421</td>\n",
       "      <td id=\"T_388dd_row0_col3\" class=\"data row0 col3\" >0.033133</td>\n",
       "      <td id=\"T_388dd_row0_col4\" class=\"data row0 col4\" >0.123970</td>\n",
       "      <td id=\"T_388dd_row0_col5\" class=\"data row0 col5\" >0.101007</td>\n",
       "      <td id=\"T_388dd_row0_col6\" class=\"data row0 col6\" >-0.075026</td>\n",
       "    </tr>\n",
       "    <tr>\n",
       "      <th id=\"T_388dd_level0_row1\" class=\"row_heading level0 row1\" >RoomService</th>\n",
       "      <td id=\"T_388dd_row1_col0\" class=\"data row1 col0\" >0.068723</td>\n",
       "      <td id=\"T_388dd_row1_col1\" class=\"data row1 col1\" >1.000000</td>\n",
       "      <td id=\"T_388dd_row1_col2\" class=\"data row1 col2\" >-0.015889</td>\n",
       "      <td id=\"T_388dd_row1_col3\" class=\"data row1 col3\" >0.054480</td>\n",
       "      <td id=\"T_388dd_row1_col4\" class=\"data row1 col4\" >0.010080</td>\n",
       "      <td id=\"T_388dd_row1_col5\" class=\"data row1 col5\" >-0.019581</td>\n",
       "      <td id=\"T_388dd_row1_col6\" class=\"data row1 col6\" >-0.244611</td>\n",
       "    </tr>\n",
       "    <tr>\n",
       "      <th id=\"T_388dd_level0_row2\" class=\"row_heading level0 row2\" >FoodCourt</th>\n",
       "      <td id=\"T_388dd_row2_col0\" class=\"data row2 col0\" >0.130421</td>\n",
       "      <td id=\"T_388dd_row2_col1\" class=\"data row2 col1\" >-0.015889</td>\n",
       "      <td id=\"T_388dd_row2_col2\" class=\"data row2 col2\" >1.000000</td>\n",
       "      <td id=\"T_388dd_row2_col3\" class=\"data row2 col3\" >-0.014228</td>\n",
       "      <td id=\"T_388dd_row2_col4\" class=\"data row2 col4\" >0.221891</td>\n",
       "      <td id=\"T_388dd_row2_col5\" class=\"data row2 col5\" >0.227995</td>\n",
       "      <td id=\"T_388dd_row2_col6\" class=\"data row2 col6\" >0.046566</td>\n",
       "    </tr>\n",
       "    <tr>\n",
       "      <th id=\"T_388dd_level0_row3\" class=\"row_heading level0 row3\" >ShoppingMall</th>\n",
       "      <td id=\"T_388dd_row3_col0\" class=\"data row3 col0\" >0.033133</td>\n",
       "      <td id=\"T_388dd_row3_col1\" class=\"data row3 col1\" >0.054480</td>\n",
       "      <td id=\"T_388dd_row3_col2\" class=\"data row3 col2\" >-0.014228</td>\n",
       "      <td id=\"T_388dd_row3_col3\" class=\"data row3 col3\" >1.000000</td>\n",
       "      <td id=\"T_388dd_row3_col4\" class=\"data row3 col4\" >0.013879</td>\n",
       "      <td id=\"T_388dd_row3_col5\" class=\"data row3 col5\" >-0.007322</td>\n",
       "      <td id=\"T_388dd_row3_col6\" class=\"data row3 col6\" >0.010141</td>\n",
       "    </tr>\n",
       "    <tr>\n",
       "      <th id=\"T_388dd_level0_row4\" class=\"row_heading level0 row4\" >Spa</th>\n",
       "      <td id=\"T_388dd_row4_col0\" class=\"data row4 col0\" >0.123970</td>\n",
       "      <td id=\"T_388dd_row4_col1\" class=\"data row4 col1\" >0.010080</td>\n",
       "      <td id=\"T_388dd_row4_col2\" class=\"data row4 col2\" >0.221891</td>\n",
       "      <td id=\"T_388dd_row4_col3\" class=\"data row4 col3\" >0.013879</td>\n",
       "      <td id=\"T_388dd_row4_col4\" class=\"data row4 col4\" >1.000000</td>\n",
       "      <td id=\"T_388dd_row4_col5\" class=\"data row4 col5\" >0.153821</td>\n",
       "      <td id=\"T_388dd_row4_col6\" class=\"data row4 col6\" >-0.221131</td>\n",
       "    </tr>\n",
       "    <tr>\n",
       "      <th id=\"T_388dd_level0_row5\" class=\"row_heading level0 row5\" >VRDeck</th>\n",
       "      <td id=\"T_388dd_row5_col0\" class=\"data row5 col0\" >0.101007</td>\n",
       "      <td id=\"T_388dd_row5_col1\" class=\"data row5 col1\" >-0.019581</td>\n",
       "      <td id=\"T_388dd_row5_col2\" class=\"data row5 col2\" >0.227995</td>\n",
       "      <td id=\"T_388dd_row5_col3\" class=\"data row5 col3\" >-0.007322</td>\n",
       "      <td id=\"T_388dd_row5_col4\" class=\"data row5 col4\" >0.153821</td>\n",
       "      <td id=\"T_388dd_row5_col5\" class=\"data row5 col5\" >1.000000</td>\n",
       "      <td id=\"T_388dd_row5_col6\" class=\"data row5 col6\" >-0.207075</td>\n",
       "    </tr>\n",
       "    <tr>\n",
       "      <th id=\"T_388dd_level0_row6\" class=\"row_heading level0 row6\" >Transported</th>\n",
       "      <td id=\"T_388dd_row6_col0\" class=\"data row6 col0\" >-0.075026</td>\n",
       "      <td id=\"T_388dd_row6_col1\" class=\"data row6 col1\" >-0.244611</td>\n",
       "      <td id=\"T_388dd_row6_col2\" class=\"data row6 col2\" >0.046566</td>\n",
       "      <td id=\"T_388dd_row6_col3\" class=\"data row6 col3\" >0.010141</td>\n",
       "      <td id=\"T_388dd_row6_col4\" class=\"data row6 col4\" >-0.221131</td>\n",
       "      <td id=\"T_388dd_row6_col5\" class=\"data row6 col5\" >-0.207075</td>\n",
       "      <td id=\"T_388dd_row6_col6\" class=\"data row6 col6\" >1.000000</td>\n",
       "    </tr>\n",
       "  </tbody>\n",
       "</table>\n"
      ],
      "text/plain": [
       "<pandas.io.formats.style.Styler at 0x7f3bf1720990>"
      ]
     },
     "execution_count": 21,
     "metadata": {},
     "output_type": "execute_result"
    }
   ],
   "source": [
    "corr = train.corr()\n",
    "corr.style.background_gradient(cmap=\"coolwarm\")"
   ]
  },
  {
   "cell_type": "code",
   "execution_count": 22,
   "id": "d2e79b48",
   "metadata": {
    "execution": {
     "iopub.execute_input": "2022-07-31T20:12:33.717977Z",
     "iopub.status.busy": "2022-07-31T20:12:33.717237Z",
     "iopub.status.idle": "2022-07-31T20:12:33.769796Z",
     "shell.execute_reply": "2022-07-31T20:12:33.768731Z"
    },
    "papermill": {
     "duration": 0.070172,
     "end_time": "2022-07-31T20:12:33.772225",
     "exception": false,
     "start_time": "2022-07-31T20:12:33.702053",
     "status": "completed"
    },
    "tags": []
   },
   "outputs": [
    {
     "data": {
      "text/html": [
       "<div>\n",
       "<style scoped>\n",
       "    .dataframe tbody tr th:only-of-type {\n",
       "        vertical-align: middle;\n",
       "    }\n",
       "\n",
       "    .dataframe tbody tr th {\n",
       "        vertical-align: top;\n",
       "    }\n",
       "\n",
       "    .dataframe thead th {\n",
       "        text-align: right;\n",
       "    }\n",
       "</style>\n",
       "<table border=\"1\" class=\"dataframe\">\n",
       "  <thead>\n",
       "    <tr style=\"text-align: right;\">\n",
       "      <th></th>\n",
       "      <th>PassengerId</th>\n",
       "      <th>HomePlanet</th>\n",
       "      <th>CryoSleep</th>\n",
       "      <th>Cabin</th>\n",
       "      <th>Destination</th>\n",
       "      <th>Age</th>\n",
       "      <th>VIP</th>\n",
       "      <th>RoomService</th>\n",
       "      <th>FoodCourt</th>\n",
       "      <th>ShoppingMall</th>\n",
       "      <th>Spa</th>\n",
       "      <th>VRDeck</th>\n",
       "      <th>Name</th>\n",
       "      <th>Transported</th>\n",
       "    </tr>\n",
       "  </thead>\n",
       "  <tbody>\n",
       "    <tr>\n",
       "      <th>0</th>\n",
       "      <td>0001_01</td>\n",
       "      <td>Europa</td>\n",
       "      <td>0.0</td>\n",
       "      <td>B/0/P</td>\n",
       "      <td>TRAPPIST-1e</td>\n",
       "      <td>39.0</td>\n",
       "      <td>0.0</td>\n",
       "      <td>0.0</td>\n",
       "      <td>0.0</td>\n",
       "      <td>0.0</td>\n",
       "      <td>0.0</td>\n",
       "      <td>0.0</td>\n",
       "      <td>Maham Ofracculy</td>\n",
       "      <td>0</td>\n",
       "    </tr>\n",
       "    <tr>\n",
       "      <th>1</th>\n",
       "      <td>0002_01</td>\n",
       "      <td>Earth</td>\n",
       "      <td>0.0</td>\n",
       "      <td>F/0/S</td>\n",
       "      <td>TRAPPIST-1e</td>\n",
       "      <td>24.0</td>\n",
       "      <td>0.0</td>\n",
       "      <td>109.0</td>\n",
       "      <td>9.0</td>\n",
       "      <td>25.0</td>\n",
       "      <td>549.0</td>\n",
       "      <td>44.0</td>\n",
       "      <td>Juanna Vines</td>\n",
       "      <td>1</td>\n",
       "    </tr>\n",
       "    <tr>\n",
       "      <th>2</th>\n",
       "      <td>0003_01</td>\n",
       "      <td>Europa</td>\n",
       "      <td>0.0</td>\n",
       "      <td>A/0/S</td>\n",
       "      <td>TRAPPIST-1e</td>\n",
       "      <td>58.0</td>\n",
       "      <td>1.0</td>\n",
       "      <td>43.0</td>\n",
       "      <td>3576.0</td>\n",
       "      <td>0.0</td>\n",
       "      <td>6715.0</td>\n",
       "      <td>49.0</td>\n",
       "      <td>Altark Susent</td>\n",
       "      <td>0</td>\n",
       "    </tr>\n",
       "    <tr>\n",
       "      <th>3</th>\n",
       "      <td>0003_02</td>\n",
       "      <td>Europa</td>\n",
       "      <td>0.0</td>\n",
       "      <td>A/0/S</td>\n",
       "      <td>TRAPPIST-1e</td>\n",
       "      <td>33.0</td>\n",
       "      <td>0.0</td>\n",
       "      <td>0.0</td>\n",
       "      <td>1283.0</td>\n",
       "      <td>371.0</td>\n",
       "      <td>3329.0</td>\n",
       "      <td>193.0</td>\n",
       "      <td>Solam Susent</td>\n",
       "      <td>0</td>\n",
       "    </tr>\n",
       "    <tr>\n",
       "      <th>4</th>\n",
       "      <td>0004_01</td>\n",
       "      <td>Earth</td>\n",
       "      <td>0.0</td>\n",
       "      <td>F/1/S</td>\n",
       "      <td>TRAPPIST-1e</td>\n",
       "      <td>16.0</td>\n",
       "      <td>0.0</td>\n",
       "      <td>303.0</td>\n",
       "      <td>70.0</td>\n",
       "      <td>151.0</td>\n",
       "      <td>565.0</td>\n",
       "      <td>2.0</td>\n",
       "      <td>Willy Santantines</td>\n",
       "      <td>1</td>\n",
       "    </tr>\n",
       "  </tbody>\n",
       "</table>\n",
       "</div>"
      ],
      "text/plain": [
       "  PassengerId HomePlanet  CryoSleep  Cabin  Destination   Age  VIP  \\\n",
       "0     0001_01     Europa        0.0  B/0/P  TRAPPIST-1e  39.0  0.0   \n",
       "1     0002_01      Earth        0.0  F/0/S  TRAPPIST-1e  24.0  0.0   \n",
       "2     0003_01     Europa        0.0  A/0/S  TRAPPIST-1e  58.0  1.0   \n",
       "3     0003_02     Europa        0.0  A/0/S  TRAPPIST-1e  33.0  0.0   \n",
       "4     0004_01      Earth        0.0  F/1/S  TRAPPIST-1e  16.0  0.0   \n",
       "\n",
       "   RoomService  FoodCourt  ShoppingMall     Spa  VRDeck               Name  \\\n",
       "0          0.0        0.0           0.0     0.0     0.0    Maham Ofracculy   \n",
       "1        109.0        9.0          25.0   549.0    44.0       Juanna Vines   \n",
       "2         43.0     3576.0           0.0  6715.0    49.0      Altark Susent   \n",
       "3          0.0     1283.0         371.0  3329.0   193.0       Solam Susent   \n",
       "4        303.0       70.0         151.0   565.0     2.0  Willy Santantines   \n",
       "\n",
       "   Transported  \n",
       "0            0  \n",
       "1            1  \n",
       "2            0  \n",
       "3            0  \n",
       "4            1  "
      ]
     },
     "execution_count": 22,
     "metadata": {},
     "output_type": "execute_result"
    }
   ],
   "source": [
    "train[TARGET] = train[TARGET].replace({True: 1, False: 0})\n",
    "train[\"VIP\"] = train[\"VIP\"].replace({True: 1, False: 0})  # .astype(int)\n",
    "train[\"CryoSleep\"] = train[\"CryoSleep\"].replace({True: 1, False: 0})  # .astype(int)\n",
    "train.head()"
   ]
  },
  {
   "cell_type": "code",
   "execution_count": 23,
   "id": "108d5bad",
   "metadata": {
    "execution": {
     "iopub.execute_input": "2022-07-31T20:12:33.802170Z",
     "iopub.status.busy": "2022-07-31T20:12:33.801682Z",
     "iopub.status.idle": "2022-07-31T20:12:33.822945Z",
     "shell.execute_reply": "2022-07-31T20:12:33.821552Z"
    },
    "papermill": {
     "duration": 0.039232,
     "end_time": "2022-07-31T20:12:33.825695",
     "exception": false,
     "start_time": "2022-07-31T20:12:33.786463",
     "status": "completed"
    },
    "tags": []
   },
   "outputs": [
    {
     "name": "stdout",
     "output_type": "stream",
     "text": [
      "<class 'pandas.core.frame.DataFrame'>\n",
      "RangeIndex: 8693 entries, 0 to 8692\n",
      "Data columns (total 14 columns):\n",
      " #   Column        Non-Null Count  Dtype  \n",
      "---  ------        --------------  -----  \n",
      " 0   PassengerId   8693 non-null   object \n",
      " 1   HomePlanet    8492 non-null   object \n",
      " 2   CryoSleep     8476 non-null   float64\n",
      " 3   Cabin         8494 non-null   object \n",
      " 4   Destination   8511 non-null   object \n",
      " 5   Age           8514 non-null   float64\n",
      " 6   VIP           8490 non-null   float64\n",
      " 7   RoomService   8512 non-null   float64\n",
      " 8   FoodCourt     8510 non-null   float64\n",
      " 9   ShoppingMall  8485 non-null   float64\n",
      " 10  Spa           8510 non-null   float64\n",
      " 11  VRDeck        8505 non-null   float64\n",
      " 12  Name          8493 non-null   object \n",
      " 13  Transported   8693 non-null   int64  \n",
      "dtypes: float64(8), int64(1), object(5)\n",
      "memory usage: 950.9+ KB\n"
     ]
    }
   ],
   "source": [
    "train.info()"
   ]
  },
  {
   "cell_type": "code",
   "execution_count": 24,
   "id": "be941950",
   "metadata": {
    "execution": {
     "iopub.execute_input": "2022-07-31T20:12:33.856658Z",
     "iopub.status.busy": "2022-07-31T20:12:33.855933Z",
     "iopub.status.idle": "2022-07-31T20:12:33.863394Z",
     "shell.execute_reply": "2022-07-31T20:12:33.861769Z"
    },
    "papermill": {
     "duration": 0.025155,
     "end_time": "2022-07-31T20:12:33.865644",
     "exception": false,
     "start_time": "2022-07-31T20:12:33.840489",
     "status": "completed"
    },
    "tags": []
   },
   "outputs": [
    {
     "name": "stdout",
     "output_type": "stream",
     "text": [
      "CPU times: user 2 µs, sys: 0 ns, total: 2 µs\n",
      "Wall time: 7.15 µs\n"
     ]
    }
   ],
   "source": [
    "%%time\n",
    "# sns.pairplot(train, hue=\"Transported\", height=3, diag_kind=\"hist\")\n",
    "# # sns.pairplot(train, height=3, diag_kind=\"hist\")\n",
    "# plt.show()"
   ]
  },
  {
   "cell_type": "markdown",
   "id": "a81c535b",
   "metadata": {
    "papermill": {
     "duration": 0.01439,
     "end_time": "2022-07-31T20:12:33.894683",
     "exception": false,
     "start_time": "2022-07-31T20:12:33.880293",
     "status": "completed"
    },
    "tags": []
   },
   "source": [
    "<div style=\"background-color:rgba(255, 215, 0, 0.6);border-radius:5px;display:fill\"><h1 style=\"text-align: center;padding: 12px 0px 12px 0px;\">Missing Values</h1>\n",
    "</div>"
   ]
  },
  {
   "cell_type": "markdown",
   "id": "e23d6791",
   "metadata": {
    "papermill": {
     "duration": 0.014115,
     "end_time": "2022-07-31T20:12:33.923303",
     "exception": false,
     "start_time": "2022-07-31T20:12:33.909188",
     "status": "completed"
    },
    "tags": []
   },
   "source": [
    "- https://www.kaggle.com/code/hamzaghanmi/let-s-use-keras-tensorflow"
   ]
  },
  {
   "cell_type": "code",
   "execution_count": 25,
   "id": "6f710979",
   "metadata": {
    "execution": {
     "iopub.execute_input": "2022-07-31T20:12:33.953765Z",
     "iopub.status.busy": "2022-07-31T20:12:33.953387Z",
     "iopub.status.idle": "2022-07-31T20:12:33.967355Z",
     "shell.execute_reply": "2022-07-31T20:12:33.966388Z"
    },
    "papermill": {
     "duration": 0.032446,
     "end_time": "2022-07-31T20:12:33.970162",
     "exception": false,
     "start_time": "2022-07-31T20:12:33.937716",
     "status": "completed"
    },
    "tags": []
   },
   "outputs": [
    {
     "name": "stdout",
     "output_type": "stream",
     "text": [
      "CryoSleep       217\n",
      "ShoppingMall    208\n",
      "VIP             203\n",
      "HomePlanet      201\n",
      "Name            200\n",
      "Cabin           199\n",
      "VRDeck          188\n",
      "FoodCourt       183\n",
      "Spa             183\n",
      "Destination     182\n",
      "RoomService     181\n",
      "Age             179\n",
      "dtype: int64\n"
     ]
    }
   ],
   "source": [
    "show_missing_features(train)"
   ]
  },
  {
   "cell_type": "code",
   "execution_count": 26,
   "id": "ad686a25",
   "metadata": {
    "execution": {
     "iopub.execute_input": "2022-07-31T20:12:34.001125Z",
     "iopub.status.busy": "2022-07-31T20:12:34.000693Z",
     "iopub.status.idle": "2022-07-31T20:12:34.018599Z",
     "shell.execute_reply": "2022-07-31T20:12:34.017580Z"
    },
    "papermill": {
     "duration": 0.03632,
     "end_time": "2022-07-31T20:12:34.020987",
     "exception": false,
     "start_time": "2022-07-31T20:12:33.984667",
     "status": "completed"
    },
    "tags": []
   },
   "outputs": [
    {
     "name": "stdout",
     "output_type": "stream",
     "text": [
      "              NaN_sum  Percentage(%)\n",
      "Age               179       2.059128\n",
      "RoomService       181       2.082135\n",
      "Destination       182       2.093639\n",
      "FoodCourt         183       2.105142\n",
      "Spa               183       2.105142\n",
      "VRDeck            188       2.162660\n",
      "Cabin             199       2.289198\n",
      "Name              200       2.300702\n",
      "HomePlanet        201       2.312205\n",
      "VIP               203       2.335212\n",
      "ShoppingMall      208       2.392730\n",
      "CryoSleep         217       2.496261\n"
     ]
    }
   ],
   "source": [
    "show_missing_features_pct(train)"
   ]
  },
  {
   "cell_type": "code",
   "execution_count": 27,
   "id": "17caa353",
   "metadata": {
    "execution": {
     "iopub.execute_input": "2022-07-31T20:12:34.052118Z",
     "iopub.status.busy": "2022-07-31T20:12:34.051584Z",
     "iopub.status.idle": "2022-07-31T20:12:34.078717Z",
     "shell.execute_reply": "2022-07-31T20:12:34.077924Z"
    },
    "papermill": {
     "duration": 0.045162,
     "end_time": "2022-07-31T20:12:34.080797",
     "exception": false,
     "start_time": "2022-07-31T20:12:34.035635",
     "status": "completed"
    },
    "tags": []
   },
   "outputs": [
    {
     "data": {
      "text/html": [
       "<div>\n",
       "<style scoped>\n",
       "    .dataframe tbody tr th:only-of-type {\n",
       "        vertical-align: middle;\n",
       "    }\n",
       "\n",
       "    .dataframe tbody tr th {\n",
       "        vertical-align: top;\n",
       "    }\n",
       "\n",
       "    .dataframe thead th {\n",
       "        text-align: right;\n",
       "    }\n",
       "</style>\n",
       "<table border=\"1\" class=\"dataframe\">\n",
       "  <thead>\n",
       "    <tr style=\"text-align: right;\">\n",
       "      <th></th>\n",
       "      <th>NaN_sum</th>\n",
       "      <th>Percentage(%)</th>\n",
       "    </tr>\n",
       "  </thead>\n",
       "  <tbody>\n",
       "    <tr>\n",
       "      <th>Age</th>\n",
       "      <td>179</td>\n",
       "      <td>2.059128</td>\n",
       "    </tr>\n",
       "    <tr>\n",
       "      <th>RoomService</th>\n",
       "      <td>181</td>\n",
       "      <td>2.082135</td>\n",
       "    </tr>\n",
       "    <tr>\n",
       "      <th>Destination</th>\n",
       "      <td>182</td>\n",
       "      <td>2.093639</td>\n",
       "    </tr>\n",
       "    <tr>\n",
       "      <th>FoodCourt</th>\n",
       "      <td>183</td>\n",
       "      <td>2.105142</td>\n",
       "    </tr>\n",
       "    <tr>\n",
       "      <th>Spa</th>\n",
       "      <td>183</td>\n",
       "      <td>2.105142</td>\n",
       "    </tr>\n",
       "    <tr>\n",
       "      <th>VRDeck</th>\n",
       "      <td>188</td>\n",
       "      <td>2.162660</td>\n",
       "    </tr>\n",
       "    <tr>\n",
       "      <th>Cabin</th>\n",
       "      <td>199</td>\n",
       "      <td>2.289198</td>\n",
       "    </tr>\n",
       "    <tr>\n",
       "      <th>Name</th>\n",
       "      <td>200</td>\n",
       "      <td>2.300702</td>\n",
       "    </tr>\n",
       "    <tr>\n",
       "      <th>HomePlanet</th>\n",
       "      <td>201</td>\n",
       "      <td>2.312205</td>\n",
       "    </tr>\n",
       "    <tr>\n",
       "      <th>VIP</th>\n",
       "      <td>203</td>\n",
       "      <td>2.335212</td>\n",
       "    </tr>\n",
       "    <tr>\n",
       "      <th>ShoppingMall</th>\n",
       "      <td>208</td>\n",
       "      <td>2.392730</td>\n",
       "    </tr>\n",
       "    <tr>\n",
       "      <th>CryoSleep</th>\n",
       "      <td>217</td>\n",
       "      <td>2.496261</td>\n",
       "    </tr>\n",
       "  </tbody>\n",
       "</table>\n",
       "</div>"
      ],
      "text/plain": [
       "              NaN_sum  Percentage(%)\n",
       "Age               179       2.059128\n",
       "RoomService       181       2.082135\n",
       "Destination       182       2.093639\n",
       "FoodCourt         183       2.105142\n",
       "Spa               183       2.105142\n",
       "VRDeck            188       2.162660\n",
       "Cabin             199       2.289198\n",
       "Name              200       2.300702\n",
       "HomePlanet        201       2.312205\n",
       "VIP               203       2.335212\n",
       "ShoppingMall      208       2.392730\n",
       "CryoSleep         217       2.496261"
      ]
     },
     "execution_count": 27,
     "metadata": {},
     "output_type": "execute_result"
    }
   ],
   "source": [
    "# Looking at NaN % within the train data\n",
    "nan = pd.DataFrame(train.isna().sum(), columns=[\"NaN_sum\"])\n",
    "nan[\"Percentage(%)\"] = (nan[\"NaN_sum\"] / len(train)) * 100\n",
    "nan = nan[nan[\"NaN_sum\"] > 0]\n",
    "nan = nan.sort_values(by=[\"NaN_sum\"])\n",
    "nan"
   ]
  },
  {
   "cell_type": "code",
   "execution_count": 28,
   "id": "edb1c15c",
   "metadata": {
    "execution": {
     "iopub.execute_input": "2022-07-31T20:12:34.112932Z",
     "iopub.status.busy": "2022-07-31T20:12:34.112283Z",
     "iopub.status.idle": "2022-07-31T20:12:34.410790Z",
     "shell.execute_reply": "2022-07-31T20:12:34.409880Z"
    },
    "papermill": {
     "duration": 0.317146,
     "end_time": "2022-07-31T20:12:34.413277",
     "exception": false,
     "start_time": "2022-07-31T20:12:34.096131",
     "status": "completed"
    },
    "tags": []
   },
   "outputs": [
    {
     "data": {
      "image/png": "[encoded data removed]",
      "text/plain": [
       "<Figure size 1080x360 with 1 Axes>"
      ]
     },
     "metadata": {
      "needs_background": "light"
     },
     "output_type": "display_data"
    }
   ],
   "source": [
    "# Plotting Nan\n",
    "\n",
    "plt.figure(figsize=(15, 5))\n",
    "sns.barplot(x=nan.index, y=nan[\"Percentage(%)\"])\n",
    "plt.xticks(rotation=45)\n",
    "plt.title(\"Features containing Nan\")\n",
    "plt.xlabel(\"Features\")\n",
    "plt.ylabel(\"% of Missing Data\")\n",
    "plt.show()"
   ]
  },
  {
   "cell_type": "markdown",
   "id": "12a5d880",
   "metadata": {
    "papermill": {
     "duration": 0.015126,
     "end_time": "2022-07-31T20:12:34.444898",
     "exception": false,
     "start_time": "2022-07-31T20:12:34.429772",
     "status": "completed"
    },
    "tags": []
   },
   "source": [
    "- https://www.kaggle.com/code/shilongzhuang/space-titanic-a-beginner-guide-80-24-accuracy"
   ]
  },
  {
   "cell_type": "code",
   "execution_count": 29,
   "id": "dfa40362",
   "metadata": {
    "execution": {
     "iopub.execute_input": "2022-07-31T20:12:34.478840Z",
     "iopub.status.busy": "2022-07-31T20:12:34.478116Z",
     "iopub.status.idle": "2022-07-31T20:12:34.517554Z",
     "shell.execute_reply": "2022-07-31T20:12:34.516526Z"
    },
    "papermill": {
     "duration": 0.058601,
     "end_time": "2022-07-31T20:12:34.519971",
     "exception": false,
     "start_time": "2022-07-31T20:12:34.461370",
     "status": "completed"
    },
    "tags": []
   },
   "outputs": [
    {
     "data": {
      "text/html": [
       "<div>\n",
       "<style scoped>\n",
       "    .dataframe tbody tr th:only-of-type {\n",
       "        vertical-align: middle;\n",
       "    }\n",
       "\n",
       "    .dataframe tbody tr th {\n",
       "        vertical-align: top;\n",
       "    }\n",
       "\n",
       "    .dataframe thead th {\n",
       "        text-align: right;\n",
       "    }\n",
       "</style>\n",
       "<table border=\"1\" class=\"dataframe\">\n",
       "  <thead>\n",
       "    <tr style=\"text-align: right;\">\n",
       "      <th></th>\n",
       "      <th>Feature</th>\n",
       "      <th>Missing Values</th>\n",
       "      <th>Missing Percentage (%)</th>\n",
       "    </tr>\n",
       "  </thead>\n",
       "  <tbody>\n",
       "    <tr>\n",
       "      <th>2</th>\n",
       "      <td>CryoSleep</td>\n",
       "      <td>217</td>\n",
       "      <td>2.50</td>\n",
       "    </tr>\n",
       "    <tr>\n",
       "      <th>9</th>\n",
       "      <td>ShoppingMall</td>\n",
       "      <td>208</td>\n",
       "      <td>2.39</td>\n",
       "    </tr>\n",
       "    <tr>\n",
       "      <th>6</th>\n",
       "      <td>VIP</td>\n",
       "      <td>203</td>\n",
       "      <td>2.34</td>\n",
       "    </tr>\n",
       "    <tr>\n",
       "      <th>1</th>\n",
       "      <td>HomePlanet</td>\n",
       "      <td>201</td>\n",
       "      <td>2.31</td>\n",
       "    </tr>\n",
       "    <tr>\n",
       "      <th>12</th>\n",
       "      <td>Name</td>\n",
       "      <td>200</td>\n",
       "      <td>2.30</td>\n",
       "    </tr>\n",
       "    <tr>\n",
       "      <th>3</th>\n",
       "      <td>Cabin</td>\n",
       "      <td>199</td>\n",
       "      <td>2.29</td>\n",
       "    </tr>\n",
       "    <tr>\n",
       "      <th>11</th>\n",
       "      <td>VRDeck</td>\n",
       "      <td>188</td>\n",
       "      <td>2.16</td>\n",
       "    </tr>\n",
       "    <tr>\n",
       "      <th>8</th>\n",
       "      <td>FoodCourt</td>\n",
       "      <td>183</td>\n",
       "      <td>2.11</td>\n",
       "    </tr>\n",
       "    <tr>\n",
       "      <th>10</th>\n",
       "      <td>Spa</td>\n",
       "      <td>183</td>\n",
       "      <td>2.11</td>\n",
       "    </tr>\n",
       "    <tr>\n",
       "      <th>4</th>\n",
       "      <td>Destination</td>\n",
       "      <td>182</td>\n",
       "      <td>2.09</td>\n",
       "    </tr>\n",
       "    <tr>\n",
       "      <th>7</th>\n",
       "      <td>RoomService</td>\n",
       "      <td>181</td>\n",
       "      <td>2.08</td>\n",
       "    </tr>\n",
       "    <tr>\n",
       "      <th>5</th>\n",
       "      <td>Age</td>\n",
       "      <td>179</td>\n",
       "      <td>2.06</td>\n",
       "    </tr>\n",
       "    <tr>\n",
       "      <th>0</th>\n",
       "      <td>PassengerId</td>\n",
       "      <td>0</td>\n",
       "      <td>0.00</td>\n",
       "    </tr>\n",
       "    <tr>\n",
       "      <th>13</th>\n",
       "      <td>Transported</td>\n",
       "      <td>0</td>\n",
       "      <td>0.00</td>\n",
       "    </tr>\n",
       "  </tbody>\n",
       "</table>\n",
       "</div>"
      ],
      "text/plain": [
       "         Feature  Missing Values  Missing Percentage (%)\n",
       "2      CryoSleep             217                    2.50\n",
       "9   ShoppingMall             208                    2.39\n",
       "6            VIP             203                    2.34\n",
       "1     HomePlanet             201                    2.31\n",
       "12          Name             200                    2.30\n",
       "3          Cabin             199                    2.29\n",
       "11        VRDeck             188                    2.16\n",
       "8      FoodCourt             183                    2.11\n",
       "10           Spa             183                    2.11\n",
       "4    Destination             182                    2.09\n",
       "7    RoomService             181                    2.08\n",
       "5            Age             179                    2.06\n",
       "0    PassengerId               0                    0.00\n",
       "13   Transported               0                    0.00"
      ]
     },
     "execution_count": 29,
     "metadata": {},
     "output_type": "execute_result"
    }
   ],
   "source": [
    "missing_values(train)"
   ]
  },
  {
   "cell_type": "code",
   "execution_count": 30,
   "id": "1e464bab",
   "metadata": {
    "execution": {
     "iopub.execute_input": "2022-07-31T20:12:34.553449Z",
     "iopub.status.busy": "2022-07-31T20:12:34.553035Z",
     "iopub.status.idle": "2022-07-31T20:12:34.581072Z",
     "shell.execute_reply": "2022-07-31T20:12:34.580318Z"
    },
    "papermill": {
     "duration": 0.04749,
     "end_time": "2022-07-31T20:12:34.583214",
     "exception": false,
     "start_time": "2022-07-31T20:12:34.535724",
     "status": "completed"
    },
    "tags": []
   },
   "outputs": [
    {
     "data": {
      "text/html": [
       "<div>\n",
       "<style scoped>\n",
       "    .dataframe tbody tr th:only-of-type {\n",
       "        vertical-align: middle;\n",
       "    }\n",
       "\n",
       "    .dataframe tbody tr th {\n",
       "        vertical-align: top;\n",
       "    }\n",
       "\n",
       "    .dataframe thead th {\n",
       "        text-align: right;\n",
       "    }\n",
       "</style>\n",
       "<table border=\"1\" class=\"dataframe\">\n",
       "  <thead>\n",
       "    <tr style=\"text-align: right;\">\n",
       "      <th></th>\n",
       "      <th>Feature</th>\n",
       "      <th>Missing Values</th>\n",
       "      <th>Missing Percentage (%)</th>\n",
       "    </tr>\n",
       "  </thead>\n",
       "  <tbody>\n",
       "    <tr>\n",
       "      <th>8</th>\n",
       "      <td>FoodCourt</td>\n",
       "      <td>106</td>\n",
       "      <td>2.48</td>\n",
       "    </tr>\n",
       "    <tr>\n",
       "      <th>10</th>\n",
       "      <td>Spa</td>\n",
       "      <td>101</td>\n",
       "      <td>2.36</td>\n",
       "    </tr>\n",
       "    <tr>\n",
       "      <th>3</th>\n",
       "      <td>Cabin</td>\n",
       "      <td>100</td>\n",
       "      <td>2.34</td>\n",
       "    </tr>\n",
       "    <tr>\n",
       "      <th>9</th>\n",
       "      <td>ShoppingMall</td>\n",
       "      <td>98</td>\n",
       "      <td>2.29</td>\n",
       "    </tr>\n",
       "    <tr>\n",
       "      <th>12</th>\n",
       "      <td>Name</td>\n",
       "      <td>94</td>\n",
       "      <td>2.20</td>\n",
       "    </tr>\n",
       "    <tr>\n",
       "      <th>2</th>\n",
       "      <td>CryoSleep</td>\n",
       "      <td>93</td>\n",
       "      <td>2.17</td>\n",
       "    </tr>\n",
       "    <tr>\n",
       "      <th>6</th>\n",
       "      <td>VIP</td>\n",
       "      <td>93</td>\n",
       "      <td>2.17</td>\n",
       "    </tr>\n",
       "    <tr>\n",
       "      <th>4</th>\n",
       "      <td>Destination</td>\n",
       "      <td>92</td>\n",
       "      <td>2.15</td>\n",
       "    </tr>\n",
       "    <tr>\n",
       "      <th>5</th>\n",
       "      <td>Age</td>\n",
       "      <td>91</td>\n",
       "      <td>2.13</td>\n",
       "    </tr>\n",
       "    <tr>\n",
       "      <th>1</th>\n",
       "      <td>HomePlanet</td>\n",
       "      <td>87</td>\n",
       "      <td>2.03</td>\n",
       "    </tr>\n",
       "    <tr>\n",
       "      <th>7</th>\n",
       "      <td>RoomService</td>\n",
       "      <td>82</td>\n",
       "      <td>1.92</td>\n",
       "    </tr>\n",
       "    <tr>\n",
       "      <th>11</th>\n",
       "      <td>VRDeck</td>\n",
       "      <td>80</td>\n",
       "      <td>1.87</td>\n",
       "    </tr>\n",
       "    <tr>\n",
       "      <th>0</th>\n",
       "      <td>PassengerId</td>\n",
       "      <td>0</td>\n",
       "      <td>0.00</td>\n",
       "    </tr>\n",
       "  </tbody>\n",
       "</table>\n",
       "</div>"
      ],
      "text/plain": [
       "         Feature  Missing Values  Missing Percentage (%)\n",
       "8      FoodCourt             106                    2.48\n",
       "10           Spa             101                    2.36\n",
       "3          Cabin             100                    2.34\n",
       "9   ShoppingMall              98                    2.29\n",
       "12          Name              94                    2.20\n",
       "2      CryoSleep              93                    2.17\n",
       "6            VIP              93                    2.17\n",
       "4    Destination              92                    2.15\n",
       "5            Age              91                    2.13\n",
       "1     HomePlanet              87                    2.03\n",
       "7    RoomService              82                    1.92\n",
       "11        VRDeck              80                    1.87\n",
       "0    PassengerId               0                    0.00"
      ]
     },
     "execution_count": 30,
     "metadata": {},
     "output_type": "execute_result"
    }
   ],
   "source": [
    "missing_values(test)"
   ]
  },
  {
   "cell_type": "code",
   "execution_count": 31,
   "id": "b4e5bdd1",
   "metadata": {
    "execution": {
     "iopub.execute_input": "2022-07-31T20:12:34.617878Z",
     "iopub.status.busy": "2022-07-31T20:12:34.617277Z",
     "iopub.status.idle": "2022-07-31T20:12:34.631198Z",
     "shell.execute_reply": "2022-07-31T20:12:34.630402Z"
    },
    "papermill": {
     "duration": 0.034128,
     "end_time": "2022-07-31T20:12:34.633590",
     "exception": false,
     "start_time": "2022-07-31T20:12:34.599462",
     "status": "completed"
    },
    "tags": []
   },
   "outputs": [],
   "source": [
    "## Separate Categorical and Numerical Features\n",
    "cat_features = list(train.select_dtypes(include=[\"category\", \"object\"]).columns)\n",
    "num_features = list(test.select_dtypes(include=[\"number\"]).columns)\n",
    "cat_features.remove(\"PassengerId\")"
   ]
  },
  {
   "cell_type": "code",
   "execution_count": 32,
   "id": "c7a531a2",
   "metadata": {
    "execution": {
     "iopub.execute_input": "2022-07-31T20:12:34.667649Z",
     "iopub.status.busy": "2022-07-31T20:12:34.667073Z",
     "iopub.status.idle": "2022-07-31T20:12:34.673365Z",
     "shell.execute_reply": "2022-07-31T20:12:34.672659Z"
    },
    "papermill": {
     "duration": 0.026149,
     "end_time": "2022-07-31T20:12:34.675611",
     "exception": false,
     "start_time": "2022-07-31T20:12:34.649462",
     "status": "completed"
    },
    "tags": []
   },
   "outputs": [
    {
     "name": "stdout",
     "output_type": "stream",
     "text": [
      "Categorical Features: ['HomePlanet', 'Cabin', 'Destination', 'Name']\n",
      "Numerical Features: ['Age', 'RoomService', 'FoodCourt', 'ShoppingMall', 'Spa', 'VRDeck']\n"
     ]
    }
   ],
   "source": [
    "print(f\"Categorical Features: {cat_features}\")\n",
    "print(f\"Numerical Features: {num_features}\")"
   ]
  },
  {
   "cell_type": "code",
   "execution_count": 33,
   "id": "3269cbc1",
   "metadata": {
    "execution": {
     "iopub.execute_input": "2022-07-31T20:12:34.709829Z",
     "iopub.status.busy": "2022-07-31T20:12:34.709450Z",
     "iopub.status.idle": "2022-07-31T20:12:34.727353Z",
     "shell.execute_reply": "2022-07-31T20:12:34.726542Z"
    },
    "papermill": {
     "duration": 0.037712,
     "end_time": "2022-07-31T20:12:34.729386",
     "exception": false,
     "start_time": "2022-07-31T20:12:34.691674",
     "status": "completed"
    },
    "tags": []
   },
   "outputs": [
    {
     "data": {
      "text/plain": [
       "HomePlanet        3\n",
       "Cabin          6560\n",
       "Destination       3\n",
       "Name           8473\n",
       "dtype: int64"
      ]
     },
     "execution_count": 33,
     "metadata": {},
     "output_type": "execute_result"
    }
   ],
   "source": [
    "train[cat_features].nunique()"
   ]
  },
  {
   "cell_type": "code",
   "execution_count": 34,
   "id": "aacb658c",
   "metadata": {
    "execution": {
     "iopub.execute_input": "2022-07-31T20:12:34.763999Z",
     "iopub.status.busy": "2022-07-31T20:12:34.763260Z",
     "iopub.status.idle": "2022-07-31T20:12:34.777803Z",
     "shell.execute_reply": "2022-07-31T20:12:34.777035Z"
    },
    "papermill": {
     "duration": 0.034459,
     "end_time": "2022-07-31T20:12:34.779920",
     "exception": false,
     "start_time": "2022-07-31T20:12:34.745461",
     "status": "completed"
    },
    "tags": []
   },
   "outputs": [
    {
     "data": {
      "text/plain": [
       "Age               80\n",
       "RoomService     1273\n",
       "FoodCourt       1507\n",
       "ShoppingMall    1115\n",
       "Spa             1327\n",
       "VRDeck          1306\n",
       "dtype: int64"
      ]
     },
     "execution_count": 34,
     "metadata": {},
     "output_type": "execute_result"
    }
   ],
   "source": [
    "train[num_features].nunique()"
   ]
  },
  {
   "cell_type": "code",
   "execution_count": 35,
   "id": "faf4c9e8",
   "metadata": {
    "execution": {
     "iopub.execute_input": "2022-07-31T20:12:34.814599Z",
     "iopub.status.busy": "2022-07-31T20:12:34.813816Z",
     "iopub.status.idle": "2022-07-31T20:12:34.821131Z",
     "shell.execute_reply": "2022-07-31T20:12:34.820126Z"
    },
    "papermill": {
     "duration": 0.02698,
     "end_time": "2022-07-31T20:12:34.823295",
     "exception": false,
     "start_time": "2022-07-31T20:12:34.796315",
     "status": "completed"
    },
    "tags": []
   },
   "outputs": [],
   "source": [
    "def show_cardinality(df, features):\n",
    "    print(df[features].nunique())"
   ]
  },
  {
   "cell_type": "code",
   "execution_count": 36,
   "id": "8407415f",
   "metadata": {
    "execution": {
     "iopub.execute_input": "2022-07-31T20:12:34.857568Z",
     "iopub.status.busy": "2022-07-31T20:12:34.857195Z",
     "iopub.status.idle": "2022-07-31T20:12:34.867363Z",
     "shell.execute_reply": "2022-07-31T20:12:34.866413Z"
    },
    "papermill": {
     "duration": 0.030107,
     "end_time": "2022-07-31T20:12:34.869907",
     "exception": false,
     "start_time": "2022-07-31T20:12:34.839800",
     "status": "completed"
    },
    "tags": []
   },
   "outputs": [
    {
     "name": "stdout",
     "output_type": "stream",
     "text": [
      "Age               80\n",
      "RoomService     1273\n",
      "FoodCourt       1507\n",
      "ShoppingMall    1115\n",
      "Spa             1327\n",
      "VRDeck          1306\n",
      "dtype: int64\n"
     ]
    }
   ],
   "source": [
    "show_cardinality(train, num_features)"
   ]
  },
  {
   "cell_type": "code",
   "execution_count": 37,
   "id": "417d3270",
   "metadata": {
    "execution": {
     "iopub.execute_input": "2022-07-31T20:12:34.906402Z",
     "iopub.status.busy": "2022-07-31T20:12:34.905676Z",
     "iopub.status.idle": "2022-07-31T20:12:34.910447Z",
     "shell.execute_reply": "2022-07-31T20:12:34.909793Z"
    },
    "papermill": {
     "duration": 0.025273,
     "end_time": "2022-07-31T20:12:34.912216",
     "exception": false,
     "start_time": "2022-07-31T20:12:34.886943",
     "status": "completed"
    },
    "tags": []
   },
   "outputs": [],
   "source": [
    "# cat_col = [col for col in train.columns if train[col].nunique() < 4]\n",
    "# cat_col"
   ]
  },
  {
   "cell_type": "code",
   "execution_count": 38,
   "id": "7cef890c",
   "metadata": {
    "execution": {
     "iopub.execute_input": "2022-07-31T20:12:34.946391Z",
     "iopub.status.busy": "2022-07-31T20:12:34.945762Z",
     "iopub.status.idle": "2022-07-31T20:12:34.956491Z",
     "shell.execute_reply": "2022-07-31T20:12:34.955843Z"
    },
    "papermill": {
     "duration": 0.03012,
     "end_time": "2022-07-31T20:12:34.958487",
     "exception": false,
     "start_time": "2022-07-31T20:12:34.928367",
     "status": "completed"
    },
    "tags": []
   },
   "outputs": [
    {
     "data": {
      "text/plain": [
       "[]"
      ]
     },
     "execution_count": 38,
     "metadata": {},
     "output_type": "execute_result"
    }
   ],
   "source": [
    "## Double check cardinality or numerical features.  Could be categorical features\n",
    "cat_col = [col for col in num_features if train[col].nunique() < 25]\n",
    "cat_col"
   ]
  },
  {
   "cell_type": "code",
   "execution_count": 39,
   "id": "03929f49",
   "metadata": {
    "execution": {
     "iopub.execute_input": "2022-07-31T20:12:34.993058Z",
     "iopub.status.busy": "2022-07-31T20:12:34.992412Z",
     "iopub.status.idle": "2022-07-31T20:12:35.006609Z",
     "shell.execute_reply": "2022-07-31T20:12:35.005696Z"
    },
    "papermill": {
     "duration": 0.03367,
     "end_time": "2022-07-31T20:12:35.008624",
     "exception": false,
     "start_time": "2022-07-31T20:12:34.974954",
     "status": "completed"
    },
    "tags": []
   },
   "outputs": [
    {
     "data": {
      "text/plain": [
       "['HomePlanet', 'Destination']"
      ]
     },
     "execution_count": 39,
     "metadata": {},
     "output_type": "execute_result"
    }
   ],
   "source": [
    "check_low_cardinality(train, cat_features, 25)"
   ]
  }
 ],
 "metadata": {
  "kernelspec": {
   "display_name": "Python 3",
   "language": "python",
   "name": "python3"
  },
  "language_info": {
   "codemirror_mode": {
    "name": "ipython",
    "version": 3
   },
   "file_extension": ".py",
   "mimetype": "text/x-python",
   "name": "python",
   "nbconvert_exporter": "python",
   "pygments_lexer": "ipython3",
   "version": "3.7.12"
  },
  "papermill": {
   "default_parameters": {},
   "duration": 32.305568,
   "end_time": "2022-07-31T20:12:35.947496",
   "environment_variables": {},
   "exception": null,
   "input_path": "__notebook__.ipynb",
   "output_path": "__notebook__.ipynb",
   "parameters": {},
   "start_time": "2022-07-31T20:12:03.641928",
   "version": "2.3.4"
  }
 },
 "nbformat": 4,
 "nbformat_minor": 5
}
