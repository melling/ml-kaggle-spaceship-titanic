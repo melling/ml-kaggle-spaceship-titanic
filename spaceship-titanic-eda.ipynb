{
 "cells": [
  {
   "cell_type": "markdown",
   "id": "ced212bc",
   "metadata": {
    "papermill": {
     "duration": 0.012408,
     "end_time": "2022-10-06T01:09:44.875440",
     "exception": false,
     "start_time": "2022-10-06T01:09:44.863032",
     "status": "completed"
    },
    "tags": []
   },
   "source": [
    "<div style=\"background-color:rgba(255, 215, 0, 0.6);border-radius:5px;display:fill\"><h1 style=\"text-align: center;padding: 12px 0px 12px 0px;\">Spaceship Titanic: EDA</h1>\n",
    "</div>\n",
    "\n",
    "**Problem Type:** Binary Classification\n",
    "\n",
    "### Evaluation Metric\n",
    "\n",
    "Accuracy\n",
    "\n",
    "$Accuracy = \\frac{True Positives (TP) + True Negatives (TN)}{True Positives (TP) + True Negatives (TN) + False Positives(FP) + False Negatives(FN)}$\n",
    "\n"
   ]
  },
  {
   "cell_type": "code",
   "execution_count": 1,
   "id": "e69b331c",
   "metadata": {
    "execution": {
     "iopub.execute_input": "2022-10-06T01:09:44.900213Z",
     "iopub.status.busy": "2022-10-06T01:09:44.899590Z",
     "iopub.status.idle": "2022-10-06T01:10:01.119759Z",
     "shell.execute_reply": "2022-10-06T01:10:01.118717Z"
    },
    "papermill": {
     "duration": 16.236267,
     "end_time": "2022-10-06T01:10:01.122908",
     "exception": false,
     "start_time": "2022-10-06T01:09:44.886641",
     "status": "completed"
    },
    "tags": []
   },
   "outputs": [
    {
     "name": "stdout",
     "output_type": "stream",
     "text": [
      "\u001b[33mWARNING: Running pip as the 'root' user can result in broken permissions and conflicting behaviour with the system package manager. It is recommended to use a virtual environment instead: https://pip.pypa.io/warnings/venv\u001b[0m\u001b[33m\r\n",
      "\u001b[0m"
     ]
    }
   ],
   "source": [
    "# Black formatter https://black.readthedocs.io/en/stable/\n",
    "\n",
    "! pip install nb-black > /dev/null\n",
    "\n",
    "%load_ext lab_black"
   ]
  },
  {
   "cell_type": "markdown",
   "id": "b00e9dc4",
   "metadata": {
    "papermill": {
     "duration": 0.011035,
     "end_time": "2022-10-06T01:10:01.145634",
     "exception": false,
     "start_time": "2022-10-06T01:10:01.134599",
     "status": "completed"
    },
    "tags": []
   },
   "source": [
    "<div style=\"background-color:rgba(255, 215, 0, 0.6);border-radius:5px;display:fill\"><h1 style=\"text-align: center;padding: 12px 0px 12px 0px;\">Import Libraries</h1>\n",
    "</div>"
   ]
  },
  {
   "cell_type": "code",
   "execution_count": 2,
   "id": "30b900f7",
   "metadata": {
    "execution": {
     "iopub.execute_input": "2022-10-06T01:10:01.171846Z",
     "iopub.status.busy": "2022-10-06T01:10:01.171320Z",
     "iopub.status.idle": "2022-10-06T01:10:04.076832Z",
     "shell.execute_reply": "2022-10-06T01:10:04.075628Z"
    },
    "papermill": {
     "duration": 2.922438,
     "end_time": "2022-10-06T01:10:04.079652",
     "exception": false,
     "start_time": "2022-10-06T01:10:01.157214",
     "status": "completed"
    },
    "tags": []
   },
   "outputs": [
    {
     "data": {
      "text/html": [
       "<style type='text/css'>\n",
       ".datatable table.frame { margin-bottom: 0; }\n",
       ".datatable table.frame thead { border-bottom: none; }\n",
       ".datatable table.frame tr.coltypes td {  color: #FFFFFF;  line-height: 6px;  padding: 0 0.5em;}\n",
       ".datatable .bool    { background: #DDDD99; }\n",
       ".datatable .object  { background: #565656; }\n",
       ".datatable .int     { background: #5D9E5D; }\n",
       ".datatable .float   { background: #4040CC; }\n",
       ".datatable .str     { background: #CC4040; }\n",
       ".datatable .time    { background: #40CC40; }\n",
       ".datatable .row_index {  background: var(--jp-border-color3);  border-right: 1px solid var(--jp-border-color0);  color: var(--jp-ui-font-color3);  font-size: 9px;}\n",
       ".datatable .frame tbody td { text-align: left; }\n",
       ".datatable .frame tr.coltypes .row_index {  background: var(--jp-border-color0);}\n",
       ".datatable th:nth-child(2) { padding-left: 12px; }\n",
       ".datatable .hellipsis {  color: var(--jp-cell-editor-border-color);}\n",
       ".datatable .vellipsis {  background: var(--jp-layout-color0);  color: var(--jp-cell-editor-border-color);}\n",
       ".datatable .na {  color: var(--jp-cell-editor-border-color);  font-size: 80%;}\n",
       ".datatable .sp {  opacity: 0.25;}\n",
       ".datatable .footer { font-size: 9px; }\n",
       ".datatable .frame_dimensions {  background: var(--jp-border-color3);  border-top: 1px solid var(--jp-border-color0);  color: var(--jp-ui-font-color3);  display: inline-block;  opacity: 0.6;  padding: 1px 10px 1px 5px;}\n",
       "</style>\n"
      ],
      "text/plain": [
       "<IPython.core.display.HTML object>"
      ]
     },
     "metadata": {},
     "output_type": "display_data"
    }
   ],
   "source": [
    "import os\n",
    "from pathlib import Path\n",
    "import time\n",
    "import gc\n",
    "\n",
    "import random\n",
    "import pandas as pd\n",
    "import numpy as np\n",
    "import datatable as dt  # Fast table loading\n",
    "\n",
    "from sklearn.model_selection import train_test_split\n",
    "from sklearn.model_selection import KFold, StratifiedKFold\n",
    "\n",
    "from sklearn.preprocessing import LabelEncoder\n",
    "from catboost import CatBoostClassifier\n",
    "\n",
    "import optuna\n",
    "from optuna.visualization import plot_optimization_history, plot_param_importances\n",
    "\n",
    "# Visualization Libraries\n",
    "import matplotlib as mpl\n",
    "import matplotlib.pylab as plt\n",
    "import seaborn as sns\n",
    "import missingno as msno"
   ]
  },
  {
   "cell_type": "markdown",
   "id": "b8e307f6",
   "metadata": {
    "papermill": {
     "duration": 0.010955,
     "end_time": "2022-10-06T01:10:04.102200",
     "exception": false,
     "start_time": "2022-10-06T01:10:04.091245",
     "status": "completed"
    },
    "tags": []
   },
   "source": [
    "<div style=\"background-color:rgba(255, 215, 0, 0.6);border-radius:5px;display:fill\"><h1 style=\"text-align: center;padding: 12px 0px 12px 0px;\">Configuration</h1>\n",
    "</div>"
   ]
  },
  {
   "cell_type": "code",
   "execution_count": 3,
   "id": "4b5dad08",
   "metadata": {
    "execution": {
     "iopub.execute_input": "2022-10-06T01:10:04.127940Z",
     "iopub.status.busy": "2022-10-06T01:10:04.127439Z",
     "iopub.status.idle": "2022-10-06T01:10:04.142565Z",
     "shell.execute_reply": "2022-10-06T01:10:04.141506Z"
    },
    "papermill": {
     "duration": 0.030393,
     "end_time": "2022-10-06T01:10:04.144528",
     "exception": false,
     "start_time": "2022-10-06T01:10:04.114135",
     "status": "completed"
    },
    "tags": []
   },
   "outputs": [],
   "source": [
    "class Config:\n",
    "    path = \"../input/spaceship-titanic\"\n",
    "    gpu = True\n",
    "    debug = False\n",
    "    optimize = True\n",
    "    n_optimize_trials = 5\n",
    "    model_type = \"xgb\"  # (xgb, cat, lgbm, keras)\n",
    "    model_name = \"xgb1\"\n",
    "    competition = \"Spaceship Titanic\"\n",
    "    seed = 42\n",
    "    N_ESTIMATORS = 100  # 100, 300, 2000, 5000\n",
    "\n",
    "    batch_size = 64\n",
    "    epochs = 25\n",
    "    N_FOLDS = 15  # 5,10,15\n",
    "    SEED_LENGTH = 1  # 5,10"
   ]
  },
  {
   "cell_type": "code",
   "execution_count": 4,
   "id": "76a69867",
   "metadata": {
    "execution": {
     "iopub.execute_input": "2022-10-06T01:10:04.169932Z",
     "iopub.status.busy": "2022-10-06T01:10:04.168884Z",
     "iopub.status.idle": "2022-10-06T01:10:04.176103Z",
     "shell.execute_reply": "2022-10-06T01:10:04.174962Z"
    },
    "papermill": {
     "duration": 0.022195,
     "end_time": "2022-10-06T01:10:04.178212",
     "exception": false,
     "start_time": "2022-10-06T01:10:04.156017",
     "status": "completed"
    },
    "tags": []
   },
   "outputs": [],
   "source": [
    "TARGET = \"Transported\"\n",
    "TARGET_ENC = \"target_num\""
   ]
  },
  {
   "cell_type": "markdown",
   "id": "18c77793",
   "metadata": {
    "papermill": {
     "duration": 0.011021,
     "end_time": "2022-10-06T01:10:04.200910",
     "exception": false,
     "start_time": "2022-10-06T01:10:04.189889",
     "status": "completed"
    },
    "tags": []
   },
   "source": [
    "<div style=\"background-color:rgba(255, 215, 0, 0.6);border-radius:5px;display:fill\"><h1 style=\"text-align: center;padding: 12px 0px 12px 0px;\">Theme</h1>\n",
    "</div>\n",
    "\n",
    "### Generate Color Palette\n",
    "- https://coolors.co\n",
    "- https://color.adobe.com/create/color-wheel"
   ]
  },
  {
   "cell_type": "code",
   "execution_count": 5,
   "id": "d5a70d97",
   "metadata": {
    "execution": {
     "iopub.execute_input": "2022-10-06T01:10:04.225665Z",
     "iopub.status.busy": "2022-10-06T01:10:04.224793Z",
     "iopub.status.idle": "2022-10-06T01:10:04.358307Z",
     "shell.execute_reply": "2022-10-06T01:10:04.356698Z"
    },
    "papermill": {
     "duration": 0.150475,
     "end_time": "2022-10-06T01:10:04.362532",
     "exception": false,
     "start_time": "2022-10-06T01:10:04.212057",
     "status": "completed"
    },
    "tags": []
   },
   "outputs": [
    {
     "data": {
      "image/png": "[encoded data removed]",
      "text/plain": [
       "<Figure size 540x108 with 1 Axes>"
      ]
     },
     "metadata": {
      "needs_background": "light"
     },
     "output_type": "display_data"
    }
   ],
   "source": [
    "mpl.rcParams[\"font.size\"] = 16\n",
    "\n",
    "theme_colors = [\"#ffd670\", \"#70d6ff\", \"#ff4d6d\", \"#8338ec\", \"#90cf8e\"]\n",
    "customPalette = sns.set_palette(sns.color_palette(theme_colors))\n",
    "\n",
    "sns.palplot(sns.color_palette(theme_colors), size=1.5)\n",
    "plt.tick_params(axis=\"both\", labelsize=0, length=0)"
   ]
  },
  {
   "cell_type": "markdown",
   "id": "e45835a7",
   "metadata": {
    "papermill": {
     "duration": 0.026326,
     "end_time": "2022-10-06T01:10:04.419013",
     "exception": false,
     "start_time": "2022-10-06T01:10:04.392687",
     "status": "completed"
    },
    "tags": []
   },
   "source": [
    "<div style=\"background-color:rgba(255, 215, 0, 0.6);border-radius:5px;display:fill\"><h1 style=\"text-align: center;padding: 12px 0px 12px 0px;\">Library</h1>\n",
    "</div>\n",
    "\n",
    "Create a personal library of reusable functions"
   ]
  },
  {
   "cell_type": "code",
   "execution_count": 6,
   "id": "e7f311dc",
   "metadata": {
    "execution": {
     "iopub.execute_input": "2022-10-06T01:10:04.444490Z",
     "iopub.status.busy": "2022-10-06T01:10:04.443914Z",
     "iopub.status.idle": "2022-10-06T01:10:04.465603Z",
     "shell.execute_reply": "2022-10-06T01:10:04.464680Z"
    },
    "papermill": {
     "duration": 0.037343,
     "end_time": "2022-10-06T01:10:04.467999",
     "exception": false,
     "start_time": "2022-10-06T01:10:04.430656",
     "status": "completed"
    },
    "tags": []
   },
   "outputs": [],
   "source": [
    "def read_data(path, analyze=True):\n",
    "    data_dir = Path(path)\n",
    "\n",
    "    train = pd.read_csv(data_dir / \"train.csv\")\n",
    "    test = pd.read_csv(data_dir / \"test.csv\")\n",
    "    submission_df = pd.read_csv(data_dir / \"sample_submission.csv\")\n",
    "\n",
    "    if analyze:\n",
    "        print(\"=== Shape of Data ===\")\n",
    "        print(f\" train data: Rows={train.shape[0]}, Columns={train.shape[1]}\")\n",
    "        print(f\" test data : Rows={test.shape[0]}, Columns={test.shape[1]}\")\n",
    "\n",
    "        print(\"\\n=== Train Data: First 5 Rows ===\\n\")\n",
    "        display(train.head())\n",
    "        print(\"\\n=== Train Column Names ===\\n\")\n",
    "        display(train.columns)\n",
    "        print(\"\\n=== Features/Explanatory Variables ===\\n\")\n",
    "        eval_features(train)\n",
    "    return train, test, submission_df"
   ]
  },
  {
   "cell_type": "code",
   "execution_count": 7,
   "id": "e692c360",
   "metadata": {
    "execution": {
     "iopub.execute_input": "2022-10-06T01:10:04.494091Z",
     "iopub.status.busy": "2022-10-06T01:10:04.493568Z",
     "iopub.status.idle": "2022-10-06T01:10:04.499402Z",
     "shell.execute_reply": "2022-10-06T01:10:04.498351Z"
    },
    "papermill": {
     "duration": 0.021166,
     "end_time": "2022-10-06T01:10:04.501461",
     "exception": false,
     "start_time": "2022-10-06T01:10:04.480295",
     "status": "completed"
    },
    "tags": []
   },
   "outputs": [],
   "source": [
    "# def create_folds(df, TARGET, n_folds=5, seed=42):\n",
    "#     print(f\"TARGET={TARGET}, n_folds={n_folds}, seed={seed}\")\n",
    "#     df[\"fold\"] = -1\n",
    "\n",
    "#     kf = StratifiedKFold(n_splits=n_folds, shuffle=True, random_state=seed)\n",
    "#     # kf = GroupKFold(n_splits=Config.N_FOLDS)\n",
    "\n",
    "#     for fold, (train_idx, valid_idx) in enumerate(kf.split(df, df[TARGET])):\n",
    "#         df.loc[valid_idx, \"fold\"] = fold\n",
    "\n",
    "#     # df.to_csv(f\"train_fold{num_folds}.csv\", index=False)\n",
    "#     return df"
   ]
  },
  {
   "cell_type": "code",
   "execution_count": 8,
   "id": "986e40b1",
   "metadata": {
    "execution": {
     "iopub.execute_input": "2022-10-06T01:10:04.526630Z",
     "iopub.status.busy": "2022-10-06T01:10:04.526112Z",
     "iopub.status.idle": "2022-10-06T01:10:04.532198Z",
     "shell.execute_reply": "2022-10-06T01:10:04.531180Z"
    },
    "papermill": {
     "duration": 0.021073,
     "end_time": "2022-10-06T01:10:04.534185",
     "exception": false,
     "start_time": "2022-10-06T01:10:04.513112",
     "status": "completed"
    },
    "tags": []
   },
   "outputs": [],
   "source": [
    "# def label_encoder(train, test, columns):\n",
    "#     for col in columns:\n",
    "#         train[col] = train[col].astype(str)\n",
    "#         test[col] = test[col].astype(str)\n",
    "#         train[col] = LabelEncoder().fit_transform(train[col])\n",
    "#         test[col] = LabelEncoder().fit_transform(test[col])\n",
    "#     return train, test"
   ]
  },
  {
   "cell_type": "code",
   "execution_count": 9,
   "id": "6f999325",
   "metadata": {
    "execution": {
     "iopub.execute_input": "2022-10-06T01:10:04.558973Z",
     "iopub.status.busy": "2022-10-06T01:10:04.558456Z",
     "iopub.status.idle": "2022-10-06T01:10:04.564663Z",
     "shell.execute_reply": "2022-10-06T01:10:04.563690Z"
    },
    "papermill": {
     "duration": 0.020935,
     "end_time": "2022-10-06T01:10:04.566713",
     "exception": false,
     "start_time": "2022-10-06T01:10:04.545778",
     "status": "completed"
    },
    "tags": []
   },
   "outputs": [],
   "source": [
    "# def read_data(path):\n",
    "#     data_dir = Path(path)\n",
    "\n",
    "#     train = pd.read_csv(data_dir / \"train.csv\")\n",
    "#     test = pd.read_csv(data_dir / \"test.csv\")\n",
    "#     # train_df = dt.fread(data_dir / \"train.csv\").to_pandas()\n",
    "#     # test_df = dt.fread(data_dir / \"test.csv\").to_pandas()\n",
    "\n",
    "#     submission_df = pd.read_csv(data_dir / \"sample_submission.csv\")\n",
    "\n",
    "#     print(f\"train data: Rows={train.shape[0]}, Columns={train.shape[1]}\")\n",
    "#     print(f\"test data : Rows={test.shape[0]}, Columns={test.shape[1]}\")\n",
    "#     return train, test, submission_df"
   ]
  },
  {
   "cell_type": "code",
   "execution_count": 10,
   "id": "f6bee02b",
   "metadata": {
    "execution": {
     "iopub.execute_input": "2022-10-06T01:10:04.591980Z",
     "iopub.status.busy": "2022-10-06T01:10:04.591460Z",
     "iopub.status.idle": "2022-10-06T01:10:04.601180Z",
     "shell.execute_reply": "2022-10-06T01:10:04.600103Z"
    },
    "papermill": {
     "duration": 0.024892,
     "end_time": "2022-10-06T01:10:04.603272",
     "exception": false,
     "start_time": "2022-10-06T01:10:04.578380",
     "status": "completed"
    },
    "tags": []
   },
   "outputs": [],
   "source": [
    "def show_missing_features(df):\n",
    "    missing_vals = df.isna().sum().sort_values(ascending=False)\n",
    "    print(missing_vals[missing_vals > 0])"
   ]
  },
  {
   "cell_type": "code",
   "execution_count": 11,
   "id": "31edf5a9",
   "metadata": {
    "execution": {
     "iopub.execute_input": "2022-10-06T01:10:04.629264Z",
     "iopub.status.busy": "2022-10-06T01:10:04.628685Z",
     "iopub.status.idle": "2022-10-06T01:10:04.647320Z",
     "shell.execute_reply": "2022-10-06T01:10:04.646177Z"
    },
    "papermill": {
     "duration": 0.034572,
     "end_time": "2022-10-06T01:10:04.649867",
     "exception": false,
     "start_time": "2022-10-06T01:10:04.615295",
     "status": "completed"
    },
    "tags": []
   },
   "outputs": [],
   "source": [
    "def show_missing_features_pct(df):\n",
    "    nan = pd.DataFrame(\n",
    "        df.isna().sum().sort_values(ascending=False), columns=[\"NaN_sum\"]\n",
    "    )\n",
    "    nan[\"Percentage(%)\"] = (nan[\"NaN_sum\"] / len(df)) * 100\n",
    "    nan = nan[nan[\"NaN_sum\"] > 0]\n",
    "    nan = nan.sort_values(by=[\"NaN_sum\"])\n",
    "    print(nan)"
   ]
  },
  {
   "cell_type": "code",
   "execution_count": 12,
   "id": "3f05a6d5",
   "metadata": {
    "execution": {
     "iopub.execute_input": "2022-10-06T01:10:04.675657Z",
     "iopub.status.busy": "2022-10-06T01:10:04.675169Z",
     "iopub.status.idle": "2022-10-06T01:10:04.698384Z",
     "shell.execute_reply": "2022-10-06T01:10:04.697233Z"
    },
    "papermill": {
     "duration": 0.038775,
     "end_time": "2022-10-06T01:10:04.700627",
     "exception": false,
     "start_time": "2022-10-06T01:10:04.661852",
     "status": "completed"
    },
    "tags": []
   },
   "outputs": [],
   "source": [
    "def missing_values(df):\n",
    "    # Calculate missing value and their percentage for each feature\n",
    "    missing_percent = df.isnull().sum() * 100 / df.shape[0]\n",
    "    df_missing_percent = pd.DataFrame(missing_percent).round(2)\n",
    "    df_missing_percent = df_missing_percent.reset_index().rename(\n",
    "        columns={\"index\": \"Feature\", 0: \"Missing Percentage (%)\"}\n",
    "    )\n",
    "    df_missing_value = df.isnull().sum()\n",
    "    df_missing_value = df_missing_value.reset_index().rename(\n",
    "        columns={\"index\": \"Feature\", 0: \"Missing Values\"}\n",
    "    )\n",
    "\n",
    "    final = df_missing_value.merge(\n",
    "        df_missing_percent, how=\"inner\", left_on=\"Feature\", right_on=\"Feature\"\n",
    "    )\n",
    "    final = final.sort_values(by=\"Missing Percentage (%)\", ascending=False)\n",
    "    return final"
   ]
  },
  {
   "cell_type": "markdown",
   "id": "1dbbfe2c",
   "metadata": {
    "papermill": {
     "duration": 0.011306,
     "end_time": "2022-10-06T01:10:04.723743",
     "exception": false,
     "start_time": "2022-10-06T01:10:04.712437",
     "status": "completed"
    },
    "tags": []
   },
   "source": [
    "<div style=\"background-color:rgba(255, 215, 0, 0.6);border-radius:5px;display:fill\"><h1 style=\"text-align: center;padding: 12px 0px 12px 0px;\">EDA Library</h1>\n",
    "</div>\n",
    "\n",
    "Functions specific to an EDA kernel"
   ]
  },
  {
   "cell_type": "code",
   "execution_count": 13,
   "id": "3da2ab93",
   "metadata": {
    "execution": {
     "iopub.execute_input": "2022-10-06T01:10:04.749041Z",
     "iopub.status.busy": "2022-10-06T01:10:04.748504Z",
     "iopub.status.idle": "2022-10-06T01:10:04.803305Z",
     "shell.execute_reply": "2022-10-06T01:10:04.802192Z"
    },
    "papermill": {
     "duration": 0.070371,
     "end_time": "2022-10-06T01:10:04.805732",
     "exception": false,
     "start_time": "2022-10-06T01:10:04.735361",
     "status": "completed"
    },
    "tags": []
   },
   "outputs": [],
   "source": [
    "def show_missing_features(df):\n",
    "    missing_vals = df.isna().sum().sort_values(ascending=False)\n",
    "    print(missing_vals[missing_vals > 0])\n",
    "\n",
    "\n",
    "def show_duplicate_records(df):\n",
    "    dups = df.duplicated()\n",
    "    print(dups.sum())\n",
    "\n",
    "\n",
    "def eval_features(df):\n",
    "    ## Separate Categorical and Numerical Features\n",
    "    categorical_features = list(\n",
    "        df.select_dtypes(include=[\"category\", \"object\"]).columns\n",
    "    )\n",
    "    continuous_features = list(df.select_dtypes(include=[\"number\"]).columns)\n",
    "\n",
    "    print(f\"Continuous features: {continuous_features}\")\n",
    "    print(f\"Categorical features: {categorical_features}\")\n",
    "    print(\"\\n --- Cardinality of Categorical Features ---\\n\")\n",
    "\n",
    "    for feature in categorical_features:\n",
    "        cardinality = df[feature].nunique()\n",
    "        if cardinality < 10:\n",
    "            print(f\"{feature}: cardinality={cardinality}, {df[feature].unique()}\")\n",
    "        else:\n",
    "            print(f\"{feature}: cardinality={cardinality}\")\n",
    "    all_features = categorical_features + continuous_features\n",
    "    return all_features, categorical_features, continuous_features\n",
    "\n",
    "\n",
    "def show_feature_importance(feature_importance_lst):\n",
    "    fis_df = pd.concat(feature_importance_lst, axis=1)\n",
    "\n",
    "    fis_df.sort_values(\"0_importance\", ascending=True).head(40).plot(\n",
    "        kind=\"barh\", figsize=(12, 12), title=\"Feature Importance Across Folds\"\n",
    "    )\n",
    "    plt.show()\n",
    "\n",
    "\n",
    "def show_feature_target_crosstab(df, feature_lst, target):\n",
    "    for feature in feature_lst:\n",
    "        print(f\"\\n=== {feature} vs {target} ===\\n\")\n",
    "        display(\n",
    "            pd.crosstab(df[feature], df[target], margins=True)\n",
    "        )  # display keeps bold formatting\n",
    "\n",
    "\n",
    "def show_cardinality(df, features):\n",
    "    print(\"=== Cardinality ===\")\n",
    "    print(df[features].nunique())\n",
    "\n",
    "\n",
    "def show_unique_features(df, features):\n",
    "    for col in features:\n",
    "        print(col, sorted(df[col].dropna().unique()))\n",
    "\n",
    "\n",
    "def feature_distribution_types(df, display=True):\n",
    "    continuous_features = list(\n",
    "        df.select_dtypes(include=[\"int64\", \"float64\", \"uint8\"]).columns\n",
    "    )\n",
    "    categorical_features = list(df.select_dtypes(include=[\"object\", \"bool\"]).columns)\n",
    "    if display:\n",
    "        print(f\"Continuous Features={continuous_features}\\n\")\n",
    "        print(f\"Categorical Features={categorical_features}\")\n",
    "    return continuous_features, categorical_features"
   ]
  },
  {
   "cell_type": "code",
   "execution_count": 14,
   "id": "e8349a20",
   "metadata": {
    "execution": {
     "iopub.execute_input": "2022-10-06T01:10:04.831747Z",
     "iopub.status.busy": "2022-10-06T01:10:04.831263Z",
     "iopub.status.idle": "2022-10-06T01:10:04.841154Z",
     "shell.execute_reply": "2022-10-06T01:10:04.840297Z"
    },
    "papermill": {
     "duration": 0.02525,
     "end_time": "2022-10-06T01:10:04.843303",
     "exception": false,
     "start_time": "2022-10-06T01:10:04.818053",
     "status": "completed"
    },
    "tags": []
   },
   "outputs": [],
   "source": [
    "def check_low_cardinality(df, features, threshold=25):\n",
    "    low_cardinality = [col for col in features if df[col].nunique() < threshold]\n",
    "    return low_cardinality"
   ]
  },
  {
   "cell_type": "code",
   "execution_count": 15,
   "id": "8982dd7d",
   "metadata": {
    "execution": {
     "iopub.execute_input": "2022-10-06T01:10:04.869267Z",
     "iopub.status.busy": "2022-10-06T01:10:04.868662Z",
     "iopub.status.idle": "2022-10-06T01:10:04.877610Z",
     "shell.execute_reply": "2022-10-06T01:10:04.876593Z"
    },
    "papermill": {
     "duration": 0.024533,
     "end_time": "2022-10-06T01:10:04.879779",
     "exception": false,
     "start_time": "2022-10-06T01:10:04.855246",
     "status": "completed"
    },
    "tags": []
   },
   "outputs": [],
   "source": [
    "# OOF Results\n",
    "if not os.path.exists(\"results\"):\n",
    "    os.makedirs(\"results\")"
   ]
  },
  {
   "cell_type": "markdown",
   "id": "17e4e523",
   "metadata": {
    "papermill": {
     "duration": 0.0113,
     "end_time": "2022-10-06T01:10:04.902829",
     "exception": false,
     "start_time": "2022-10-06T01:10:04.891529",
     "status": "completed"
    },
    "tags": []
   },
   "source": [
    "<div style=\"background-color:rgba(255, 215, 0, 0.6);border-radius:5px;display:fill\"><h1 style=\"text-align: center;padding: 12px 0px 12px 0px;\">Load Train/Test Data and Analyze</h1>\n",
    "</div>\n",
    "\n",
    "Support datatable for large datasets.\n",
    "Using datatable is described in [Tutorial on reading datasets](https://www.kaggle.com/hiro5299834/tutorial-on-reading-datasets)"
   ]
  },
  {
   "cell_type": "code",
   "execution_count": 16,
   "id": "39d7e5cd",
   "metadata": {
    "execution": {
     "iopub.execute_input": "2022-10-06T01:10:04.928200Z",
     "iopub.status.busy": "2022-10-06T01:10:04.927661Z",
     "iopub.status.idle": "2022-10-06T01:10:05.087498Z",
     "shell.execute_reply": "2022-10-06T01:10:05.086371Z"
    },
    "papermill": {
     "duration": 0.17589,
     "end_time": "2022-10-06T01:10:05.090325",
     "exception": false,
     "start_time": "2022-10-06T01:10:04.914435",
     "status": "completed"
    },
    "tags": []
   },
   "outputs": [
    {
     "name": "stdout",
     "output_type": "stream",
     "text": [
      "=== Shape of Data ===\n",
      " train data: Rows=8693, Columns=14\n",
      " test data : Rows=4277, Columns=13\n",
      "\n",
      "=== Train Data: First 5 Rows ===\n",
      "\n"
     ]
    },
    {
     "data": {
      "text/html": [
       "<div>\n",
       "<style scoped>\n",
       "    .dataframe tbody tr th:only-of-type {\n",
       "        vertical-align: middle;\n",
       "    }\n",
       "\n",
       "    .dataframe tbody tr th {\n",
       "        vertical-align: top;\n",
       "    }\n",
       "\n",
       "    .dataframe thead th {\n",
       "        text-align: right;\n",
       "    }\n",
       "</style>\n",
       "<table border=\"1\" class=\"dataframe\">\n",
       "  <thead>\n",
       "    <tr style=\"text-align: right;\">\n",
       "      <th></th>\n",
       "      <th>PassengerId</th>\n",
       "      <th>HomePlanet</th>\n",
       "      <th>CryoSleep</th>\n",
       "      <th>Cabin</th>\n",
       "      <th>Destination</th>\n",
       "      <th>Age</th>\n",
       "      <th>VIP</th>\n",
       "      <th>RoomService</th>\n",
       "      <th>FoodCourt</th>\n",
       "      <th>ShoppingMall</th>\n",
       "      <th>Spa</th>\n",
       "      <th>VRDeck</th>\n",
       "      <th>Name</th>\n",
       "      <th>Transported</th>\n",
       "    </tr>\n",
       "  </thead>\n",
       "  <tbody>\n",
       "    <tr>\n",
       "      <th>0</th>\n",
       "      <td>0001_01</td>\n",
       "      <td>Europa</td>\n",
       "      <td>False</td>\n",
       "      <td>B/0/P</td>\n",
       "      <td>TRAPPIST-1e</td>\n",
       "      <td>39.0</td>\n",
       "      <td>False</td>\n",
       "      <td>0.0</td>\n",
       "      <td>0.0</td>\n",
       "      <td>0.0</td>\n",
       "      <td>0.0</td>\n",
       "      <td>0.0</td>\n",
       "      <td>Maham Ofracculy</td>\n",
       "      <td>False</td>\n",
       "    </tr>\n",
       "    <tr>\n",
       "      <th>1</th>\n",
       "      <td>0002_01</td>\n",
       "      <td>Earth</td>\n",
       "      <td>False</td>\n",
       "      <td>F/0/S</td>\n",
       "      <td>TRAPPIST-1e</td>\n",
       "      <td>24.0</td>\n",
       "      <td>False</td>\n",
       "      <td>109.0</td>\n",
       "      <td>9.0</td>\n",
       "      <td>25.0</td>\n",
       "      <td>549.0</td>\n",
       "      <td>44.0</td>\n",
       "      <td>Juanna Vines</td>\n",
       "      <td>True</td>\n",
       "    </tr>\n",
       "    <tr>\n",
       "      <th>2</th>\n",
       "      <td>0003_01</td>\n",
       "      <td>Europa</td>\n",
       "      <td>False</td>\n",
       "      <td>A/0/S</td>\n",
       "      <td>TRAPPIST-1e</td>\n",
       "      <td>58.0</td>\n",
       "      <td>True</td>\n",
       "      <td>43.0</td>\n",
       "      <td>3576.0</td>\n",
       "      <td>0.0</td>\n",
       "      <td>6715.0</td>\n",
       "      <td>49.0</td>\n",
       "      <td>Altark Susent</td>\n",
       "      <td>False</td>\n",
       "    </tr>\n",
       "    <tr>\n",
       "      <th>3</th>\n",
       "      <td>0003_02</td>\n",
       "      <td>Europa</td>\n",
       "      <td>False</td>\n",
       "      <td>A/0/S</td>\n",
       "      <td>TRAPPIST-1e</td>\n",
       "      <td>33.0</td>\n",
       "      <td>False</td>\n",
       "      <td>0.0</td>\n",
       "      <td>1283.0</td>\n",
       "      <td>371.0</td>\n",
       "      <td>3329.0</td>\n",
       "      <td>193.0</td>\n",
       "      <td>Solam Susent</td>\n",
       "      <td>False</td>\n",
       "    </tr>\n",
       "    <tr>\n",
       "      <th>4</th>\n",
       "      <td>0004_01</td>\n",
       "      <td>Earth</td>\n",
       "      <td>False</td>\n",
       "      <td>F/1/S</td>\n",
       "      <td>TRAPPIST-1e</td>\n",
       "      <td>16.0</td>\n",
       "      <td>False</td>\n",
       "      <td>303.0</td>\n",
       "      <td>70.0</td>\n",
       "      <td>151.0</td>\n",
       "      <td>565.0</td>\n",
       "      <td>2.0</td>\n",
       "      <td>Willy Santantines</td>\n",
       "      <td>True</td>\n",
       "    </tr>\n",
       "  </tbody>\n",
       "</table>\n",
       "</div>"
      ],
      "text/plain": [
       "  PassengerId HomePlanet CryoSleep  Cabin  Destination   Age    VIP  \\\n",
       "0     0001_01     Europa     False  B/0/P  TRAPPIST-1e  39.0  False   \n",
       "1     0002_01      Earth     False  F/0/S  TRAPPIST-1e  24.0  False   \n",
       "2     0003_01     Europa     False  A/0/S  TRAPPIST-1e  58.0   True   \n",
       "3     0003_02     Europa     False  A/0/S  TRAPPIST-1e  33.0  False   \n",
       "4     0004_01      Earth     False  F/1/S  TRAPPIST-1e  16.0  False   \n",
       "\n",
       "   RoomService  FoodCourt  ShoppingMall     Spa  VRDeck               Name  \\\n",
       "0          0.0        0.0           0.0     0.0     0.0    Maham Ofracculy   \n",
       "1        109.0        9.0          25.0   549.0    44.0       Juanna Vines   \n",
       "2         43.0     3576.0           0.0  6715.0    49.0      Altark Susent   \n",
       "3          0.0     1283.0         371.0  3329.0   193.0       Solam Susent   \n",
       "4        303.0       70.0         151.0   565.0     2.0  Willy Santantines   \n",
       "\n",
       "   Transported  \n",
       "0        False  \n",
       "1         True  \n",
       "2        False  \n",
       "3        False  \n",
       "4         True  "
      ]
     },
     "metadata": {},
     "output_type": "display_data"
    },
    {
     "name": "stdout",
     "output_type": "stream",
     "text": [
      "\n",
      "=== Train Column Names ===\n",
      "\n"
     ]
    },
    {
     "data": {
      "text/plain": [
       "Index(['PassengerId', 'HomePlanet', 'CryoSleep', 'Cabin', 'Destination', 'Age',\n",
       "       'VIP', 'RoomService', 'FoodCourt', 'ShoppingMall', 'Spa', 'VRDeck',\n",
       "       'Name', 'Transported'],\n",
       "      dtype='object')"
      ]
     },
     "metadata": {},
     "output_type": "display_data"
    },
    {
     "name": "stdout",
     "output_type": "stream",
     "text": [
      "\n",
      "=== Features/Explanatory Variables ===\n",
      "\n",
      "Continuous features: ['Age', 'RoomService', 'FoodCourt', 'ShoppingMall', 'Spa', 'VRDeck']\n",
      "Categorical features: ['PassengerId', 'HomePlanet', 'CryoSleep', 'Cabin', 'Destination', 'VIP', 'Name']\n",
      "\n",
      " --- Cardinality of Categorical Features ---\n",
      "\n",
      "PassengerId: cardinality=8693\n",
      "HomePlanet: cardinality=3, ['Europa' 'Earth' 'Mars' nan]\n",
      "CryoSleep: cardinality=2, [False True nan]\n",
      "Cabin: cardinality=6560\n",
      "Destination: cardinality=3, ['TRAPPIST-1e' 'PSO J318.5-22' '55 Cancri e' nan]\n",
      "VIP: cardinality=2, [False True nan]\n",
      "Name: cardinality=8473\n",
      "CPU times: user 83.8 ms, sys: 21.3 ms, total: 105 ms\n",
      "Wall time: 151 ms\n"
     ]
    }
   ],
   "source": [
    "%%time\n",
    "train, test, submission_df = read_data(Config.path, analyze=True)"
   ]
  },
  {
   "cell_type": "code",
   "execution_count": 17,
   "id": "7449043f",
   "metadata": {
    "execution": {
     "iopub.execute_input": "2022-10-06T01:10:05.117125Z",
     "iopub.status.busy": "2022-10-06T01:10:05.116223Z",
     "iopub.status.idle": "2022-10-06T01:10:05.139325Z",
     "shell.execute_reply": "2022-10-06T01:10:05.138289Z"
    },
    "papermill": {
     "duration": 0.038738,
     "end_time": "2022-10-06T01:10:05.141594",
     "exception": false,
     "start_time": "2022-10-06T01:10:05.102856",
     "status": "completed"
    },
    "tags": []
   },
   "outputs": [
    {
     "name": "stdout",
     "output_type": "stream",
     "text": [
      "<class 'pandas.core.frame.DataFrame'>\n",
      "RangeIndex: 8693 entries, 0 to 8692\n",
      "Data columns (total 14 columns):\n",
      " #   Column        Non-Null Count  Dtype  \n",
      "---  ------        --------------  -----  \n",
      " 0   PassengerId   8693 non-null   object \n",
      " 1   HomePlanet    8492 non-null   object \n",
      " 2   CryoSleep     8476 non-null   object \n",
      " 3   Cabin         8494 non-null   object \n",
      " 4   Destination   8511 non-null   object \n",
      " 5   Age           8514 non-null   float64\n",
      " 6   VIP           8490 non-null   object \n",
      " 7   RoomService   8512 non-null   float64\n",
      " 8   FoodCourt     8510 non-null   float64\n",
      " 9   ShoppingMall  8485 non-null   float64\n",
      " 10  Spa           8510 non-null   float64\n",
      " 11  VRDeck        8505 non-null   float64\n",
      " 12  Name          8493 non-null   object \n",
      " 13  Transported   8693 non-null   bool   \n",
      "dtypes: bool(1), float64(6), object(7)\n",
      "memory usage: 891.5+ KB\n"
     ]
    }
   ],
   "source": [
    "train.info()"
   ]
  },
  {
   "cell_type": "code",
   "execution_count": 18,
   "id": "eddd4309",
   "metadata": {
    "execution": {
     "iopub.execute_input": "2022-10-06T01:10:05.168870Z",
     "iopub.status.busy": "2022-10-06T01:10:05.168325Z",
     "iopub.status.idle": "2022-10-06T01:10:05.181665Z",
     "shell.execute_reply": "2022-10-06T01:10:05.180534Z"
    },
    "papermill": {
     "duration": 0.029917,
     "end_time": "2022-10-06T01:10:05.183861",
     "exception": false,
     "start_time": "2022-10-06T01:10:05.153944",
     "status": "completed"
    },
    "tags": []
   },
   "outputs": [
    {
     "data": {
      "text/plain": [
       "array([False,  True])"
      ]
     },
     "execution_count": 18,
     "metadata": {},
     "output_type": "execute_result"
    }
   ],
   "source": [
    "train[TARGET].unique()"
   ]
  },
  {
   "cell_type": "code",
   "execution_count": 19,
   "id": "2e562c28",
   "metadata": {
    "execution": {
     "iopub.execute_input": "2022-10-06T01:10:05.210737Z",
     "iopub.status.busy": "2022-10-06T01:10:05.210216Z",
     "iopub.status.idle": "2022-10-06T01:10:05.255567Z",
     "shell.execute_reply": "2022-10-06T01:10:05.254449Z"
    },
    "papermill": {
     "duration": 0.06183,
     "end_time": "2022-10-06T01:10:05.258265",
     "exception": false,
     "start_time": "2022-10-06T01:10:05.196435",
     "status": "completed"
    },
    "tags": []
   },
   "outputs": [
    {
     "data": {
      "text/html": [
       "<div>\n",
       "<style scoped>\n",
       "    .dataframe tbody tr th:only-of-type {\n",
       "        vertical-align: middle;\n",
       "    }\n",
       "\n",
       "    .dataframe tbody tr th {\n",
       "        vertical-align: top;\n",
       "    }\n",
       "\n",
       "    .dataframe thead th {\n",
       "        text-align: right;\n",
       "    }\n",
       "</style>\n",
       "<table border=\"1\" class=\"dataframe\">\n",
       "  <thead>\n",
       "    <tr style=\"text-align: right;\">\n",
       "      <th></th>\n",
       "      <th>count</th>\n",
       "      <th>mean</th>\n",
       "      <th>std</th>\n",
       "      <th>min</th>\n",
       "      <th>25%</th>\n",
       "      <th>50%</th>\n",
       "      <th>75%</th>\n",
       "      <th>max</th>\n",
       "    </tr>\n",
       "  </thead>\n",
       "  <tbody>\n",
       "    <tr>\n",
       "      <th>Age</th>\n",
       "      <td>8514.0</td>\n",
       "      <td>28.827930</td>\n",
       "      <td>14.489021</td>\n",
       "      <td>0.0</td>\n",
       "      <td>19.0</td>\n",
       "      <td>27.0</td>\n",
       "      <td>38.0</td>\n",
       "      <td>79.0</td>\n",
       "    </tr>\n",
       "    <tr>\n",
       "      <th>RoomService</th>\n",
       "      <td>8512.0</td>\n",
       "      <td>224.687617</td>\n",
       "      <td>666.717663</td>\n",
       "      <td>0.0</td>\n",
       "      <td>0.0</td>\n",
       "      <td>0.0</td>\n",
       "      <td>47.0</td>\n",
       "      <td>14327.0</td>\n",
       "    </tr>\n",
       "    <tr>\n",
       "      <th>FoodCourt</th>\n",
       "      <td>8510.0</td>\n",
       "      <td>458.077203</td>\n",
       "      <td>1611.489240</td>\n",
       "      <td>0.0</td>\n",
       "      <td>0.0</td>\n",
       "      <td>0.0</td>\n",
       "      <td>76.0</td>\n",
       "      <td>29813.0</td>\n",
       "    </tr>\n",
       "    <tr>\n",
       "      <th>ShoppingMall</th>\n",
       "      <td>8485.0</td>\n",
       "      <td>173.729169</td>\n",
       "      <td>604.696458</td>\n",
       "      <td>0.0</td>\n",
       "      <td>0.0</td>\n",
       "      <td>0.0</td>\n",
       "      <td>27.0</td>\n",
       "      <td>23492.0</td>\n",
       "    </tr>\n",
       "    <tr>\n",
       "      <th>Spa</th>\n",
       "      <td>8510.0</td>\n",
       "      <td>311.138778</td>\n",
       "      <td>1136.705535</td>\n",
       "      <td>0.0</td>\n",
       "      <td>0.0</td>\n",
       "      <td>0.0</td>\n",
       "      <td>59.0</td>\n",
       "      <td>22408.0</td>\n",
       "    </tr>\n",
       "    <tr>\n",
       "      <th>VRDeck</th>\n",
       "      <td>8505.0</td>\n",
       "      <td>304.854791</td>\n",
       "      <td>1145.717189</td>\n",
       "      <td>0.0</td>\n",
       "      <td>0.0</td>\n",
       "      <td>0.0</td>\n",
       "      <td>46.0</td>\n",
       "      <td>24133.0</td>\n",
       "    </tr>\n",
       "  </tbody>\n",
       "</table>\n",
       "</div>"
      ],
      "text/plain": [
       "               count        mean          std  min   25%   50%   75%      max\n",
       "Age           8514.0   28.827930    14.489021  0.0  19.0  27.0  38.0     79.0\n",
       "RoomService   8512.0  224.687617   666.717663  0.0   0.0   0.0  47.0  14327.0\n",
       "FoodCourt     8510.0  458.077203  1611.489240  0.0   0.0   0.0  76.0  29813.0\n",
       "ShoppingMall  8485.0  173.729169   604.696458  0.0   0.0   0.0  27.0  23492.0\n",
       "Spa           8510.0  311.138778  1136.705535  0.0   0.0   0.0  59.0  22408.0\n",
       "VRDeck        8505.0  304.854791  1145.717189  0.0   0.0   0.0  46.0  24133.0"
      ]
     },
     "execution_count": 19,
     "metadata": {},
     "output_type": "execute_result"
    }
   ],
   "source": [
    "train.describe().T"
   ]
  },
  {
   "cell_type": "code",
   "execution_count": 20,
   "id": "60569126",
   "metadata": {
    "execution": {
     "iopub.execute_input": "2022-10-06T01:10:05.286362Z",
     "iopub.status.busy": "2022-10-06T01:10:05.285784Z",
     "iopub.status.idle": "2022-10-06T01:10:05.328207Z",
     "shell.execute_reply": "2022-10-06T01:10:05.326940Z"
    },
    "papermill": {
     "duration": 0.060225,
     "end_time": "2022-10-06T01:10:05.331608",
     "exception": false,
     "start_time": "2022-10-06T01:10:05.271383",
     "status": "completed"
    },
    "tags": []
   },
   "outputs": [
    {
     "data": {
      "text/html": [
       "<div>\n",
       "<style scoped>\n",
       "    .dataframe tbody tr th:only-of-type {\n",
       "        vertical-align: middle;\n",
       "    }\n",
       "\n",
       "    .dataframe tbody tr th {\n",
       "        vertical-align: top;\n",
       "    }\n",
       "\n",
       "    .dataframe thead th {\n",
       "        text-align: right;\n",
       "    }\n",
       "</style>\n",
       "<table border=\"1\" class=\"dataframe\">\n",
       "  <thead>\n",
       "    <tr style=\"text-align: right;\">\n",
       "      <th></th>\n",
       "      <th>count</th>\n",
       "      <th>mean</th>\n",
       "      <th>std</th>\n",
       "      <th>min</th>\n",
       "      <th>25%</th>\n",
       "      <th>50%</th>\n",
       "      <th>75%</th>\n",
       "      <th>max</th>\n",
       "    </tr>\n",
       "  </thead>\n",
       "  <tbody>\n",
       "    <tr>\n",
       "      <th>Age</th>\n",
       "      <td>8514.0</td>\n",
       "      <td>28.827930</td>\n",
       "      <td>14.489021</td>\n",
       "      <td>0.0</td>\n",
       "      <td>19.0</td>\n",
       "      <td>27.0</td>\n",
       "      <td>38.0</td>\n",
       "      <td>79.0</td>\n",
       "    </tr>\n",
       "    <tr>\n",
       "      <th>RoomService</th>\n",
       "      <td>8512.0</td>\n",
       "      <td>224.687617</td>\n",
       "      <td>666.717663</td>\n",
       "      <td>0.0</td>\n",
       "      <td>0.0</td>\n",
       "      <td>0.0</td>\n",
       "      <td>47.0</td>\n",
       "      <td>14327.0</td>\n",
       "    </tr>\n",
       "    <tr>\n",
       "      <th>FoodCourt</th>\n",
       "      <td>8510.0</td>\n",
       "      <td>458.077203</td>\n",
       "      <td>1611.489240</td>\n",
       "      <td>0.0</td>\n",
       "      <td>0.0</td>\n",
       "      <td>0.0</td>\n",
       "      <td>76.0</td>\n",
       "      <td>29813.0</td>\n",
       "    </tr>\n",
       "    <tr>\n",
       "      <th>ShoppingMall</th>\n",
       "      <td>8485.0</td>\n",
       "      <td>173.729169</td>\n",
       "      <td>604.696458</td>\n",
       "      <td>0.0</td>\n",
       "      <td>0.0</td>\n",
       "      <td>0.0</td>\n",
       "      <td>27.0</td>\n",
       "      <td>23492.0</td>\n",
       "    </tr>\n",
       "    <tr>\n",
       "      <th>Spa</th>\n",
       "      <td>8510.0</td>\n",
       "      <td>311.138778</td>\n",
       "      <td>1136.705535</td>\n",
       "      <td>0.0</td>\n",
       "      <td>0.0</td>\n",
       "      <td>0.0</td>\n",
       "      <td>59.0</td>\n",
       "      <td>22408.0</td>\n",
       "    </tr>\n",
       "    <tr>\n",
       "      <th>VRDeck</th>\n",
       "      <td>8505.0</td>\n",
       "      <td>304.854791</td>\n",
       "      <td>1145.717189</td>\n",
       "      <td>0.0</td>\n",
       "      <td>0.0</td>\n",
       "      <td>0.0</td>\n",
       "      <td>46.0</td>\n",
       "      <td>24133.0</td>\n",
       "    </tr>\n",
       "  </tbody>\n",
       "</table>\n",
       "</div>"
      ],
      "text/plain": [
       "               count        mean          std  min   25%   50%   75%      max\n",
       "Age           8514.0   28.827930    14.489021  0.0  19.0  27.0  38.0     79.0\n",
       "RoomService   8512.0  224.687617   666.717663  0.0   0.0   0.0  47.0  14327.0\n",
       "FoodCourt     8510.0  458.077203  1611.489240  0.0   0.0   0.0  76.0  29813.0\n",
       "ShoppingMall  8485.0  173.729169   604.696458  0.0   0.0   0.0  27.0  23492.0\n",
       "Spa           8510.0  311.138778  1136.705535  0.0   0.0   0.0  59.0  22408.0\n",
       "VRDeck        8505.0  304.854791  1145.717189  0.0   0.0   0.0  46.0  24133.0"
      ]
     },
     "execution_count": 20,
     "metadata": {},
     "output_type": "execute_result"
    }
   ],
   "source": [
    "train.describe(include=[\"float64\"]).T"
   ]
  },
  {
   "cell_type": "code",
   "execution_count": 21,
   "id": "f2ed5240",
   "metadata": {
    "execution": {
     "iopub.execute_input": "2022-10-06T01:10:05.361003Z",
     "iopub.status.busy": "2022-10-06T01:10:05.360222Z",
     "iopub.status.idle": "2022-10-06T01:10:05.402778Z",
     "shell.execute_reply": "2022-10-06T01:10:05.401992Z"
    },
    "papermill": {
     "duration": 0.059292,
     "end_time": "2022-10-06T01:10:05.405139",
     "exception": false,
     "start_time": "2022-10-06T01:10:05.345847",
     "status": "completed"
    },
    "tags": []
   },
   "outputs": [
    {
     "data": {
      "text/html": [
       "<div>\n",
       "<style scoped>\n",
       "    .dataframe tbody tr th:only-of-type {\n",
       "        vertical-align: middle;\n",
       "    }\n",
       "\n",
       "    .dataframe tbody tr th {\n",
       "        vertical-align: top;\n",
       "    }\n",
       "\n",
       "    .dataframe thead th {\n",
       "        text-align: right;\n",
       "    }\n",
       "</style>\n",
       "<table border=\"1\" class=\"dataframe\">\n",
       "  <thead>\n",
       "    <tr style=\"text-align: right;\">\n",
       "      <th></th>\n",
       "      <th>count</th>\n",
       "      <th>unique</th>\n",
       "      <th>top</th>\n",
       "      <th>freq</th>\n",
       "    </tr>\n",
       "  </thead>\n",
       "  <tbody>\n",
       "    <tr>\n",
       "      <th>PassengerId</th>\n",
       "      <td>8693</td>\n",
       "      <td>8693</td>\n",
       "      <td>0001_01</td>\n",
       "      <td>1</td>\n",
       "    </tr>\n",
       "    <tr>\n",
       "      <th>HomePlanet</th>\n",
       "      <td>8492</td>\n",
       "      <td>3</td>\n",
       "      <td>Earth</td>\n",
       "      <td>4602</td>\n",
       "    </tr>\n",
       "    <tr>\n",
       "      <th>CryoSleep</th>\n",
       "      <td>8476</td>\n",
       "      <td>2</td>\n",
       "      <td>False</td>\n",
       "      <td>5439</td>\n",
       "    </tr>\n",
       "    <tr>\n",
       "      <th>Cabin</th>\n",
       "      <td>8494</td>\n",
       "      <td>6560</td>\n",
       "      <td>G/734/S</td>\n",
       "      <td>8</td>\n",
       "    </tr>\n",
       "    <tr>\n",
       "      <th>Destination</th>\n",
       "      <td>8511</td>\n",
       "      <td>3</td>\n",
       "      <td>TRAPPIST-1e</td>\n",
       "      <td>5915</td>\n",
       "    </tr>\n",
       "    <tr>\n",
       "      <th>VIP</th>\n",
       "      <td>8490</td>\n",
       "      <td>2</td>\n",
       "      <td>False</td>\n",
       "      <td>8291</td>\n",
       "    </tr>\n",
       "    <tr>\n",
       "      <th>Name</th>\n",
       "      <td>8493</td>\n",
       "      <td>8473</td>\n",
       "      <td>Gollux Reedall</td>\n",
       "      <td>2</td>\n",
       "    </tr>\n",
       "    <tr>\n",
       "      <th>Transported</th>\n",
       "      <td>8693</td>\n",
       "      <td>2</td>\n",
       "      <td>True</td>\n",
       "      <td>4378</td>\n",
       "    </tr>\n",
       "  </tbody>\n",
       "</table>\n",
       "</div>"
      ],
      "text/plain": [
       "            count unique             top  freq\n",
       "PassengerId  8693   8693         0001_01     1\n",
       "HomePlanet   8492      3           Earth  4602\n",
       "CryoSleep    8476      2           False  5439\n",
       "Cabin        8494   6560         G/734/S     8\n",
       "Destination  8511      3     TRAPPIST-1e  5915\n",
       "VIP          8490      2           False  8291\n",
       "Name         8493   8473  Gollux Reedall     2\n",
       "Transported  8693      2            True  4378"
      ]
     },
     "execution_count": 21,
     "metadata": {},
     "output_type": "execute_result"
    }
   ],
   "source": [
    "# features with object and bool types\n",
    "train.describe(include=[object, bool]).T"
   ]
  },
  {
   "cell_type": "code",
   "execution_count": 22,
   "id": "5dd8e681",
   "metadata": {
    "execution": {
     "iopub.execute_input": "2022-10-06T01:10:05.433987Z",
     "iopub.status.busy": "2022-10-06T01:10:05.433172Z",
     "iopub.status.idle": "2022-10-06T01:10:05.530309Z",
     "shell.execute_reply": "2022-10-06T01:10:05.528972Z"
    },
    "papermill": {
     "duration": 0.114553,
     "end_time": "2022-10-06T01:10:05.532893",
     "exception": false,
     "start_time": "2022-10-06T01:10:05.418340",
     "status": "completed"
    },
    "tags": []
   },
   "outputs": [
    {
     "data": {
      "text/html": [
       "<style type=\"text/css\">\n",
       "#T_edc16_row0_col0, #T_edc16_row1_col1, #T_edc16_row2_col2, #T_edc16_row3_col3, #T_edc16_row4_col4, #T_edc16_row5_col5, #T_edc16_row6_col6 {\n",
       "  background-color: #b40426;\n",
       "  color: #f1f1f1;\n",
       "}\n",
       "#T_edc16_row0_col1 {\n",
       "  background-color: #8db0fe;\n",
       "  color: #000000;\n",
       "}\n",
       "#T_edc16_row0_col2 {\n",
       "  background-color: #6788ee;\n",
       "  color: #f1f1f1;\n",
       "}\n",
       "#T_edc16_row0_col3 {\n",
       "  background-color: #485fd1;\n",
       "  color: #f1f1f1;\n",
       "}\n",
       "#T_edc16_row0_col4 {\n",
       "  background-color: #98b9ff;\n",
       "  color: #000000;\n",
       "}\n",
       "#T_edc16_row0_col5 {\n",
       "  background-color: #8fb1fe;\n",
       "  color: #000000;\n",
       "}\n",
       "#T_edc16_row0_col6, #T_edc16_row1_col0 {\n",
       "  background-color: #6485ec;\n",
       "  color: #f1f1f1;\n",
       "}\n",
       "#T_edc16_row1_col2, #T_edc16_row1_col6, #T_edc16_row2_col3, #T_edc16_row3_col2, #T_edc16_row6_col0, #T_edc16_row6_col1, #T_edc16_row6_col4, #T_edc16_row6_col5 {\n",
       "  background-color: #3b4cc0;\n",
       "  color: #f1f1f1;\n",
       "}\n",
       "#T_edc16_row1_col3 {\n",
       "  background-color: #4f69d9;\n",
       "  color: #f1f1f1;\n",
       "}\n",
       "#T_edc16_row1_col4, #T_edc16_row2_col0 {\n",
       "  background-color: #779af7;\n",
       "  color: #f1f1f1;\n",
       "}\n",
       "#T_edc16_row1_col5 {\n",
       "  background-color: #6b8df0;\n",
       "  color: #f1f1f1;\n",
       "}\n",
       "#T_edc16_row2_col1, #T_edc16_row4_col0 {\n",
       "  background-color: #7699f6;\n",
       "  color: #f1f1f1;\n",
       "}\n",
       "#T_edc16_row2_col4, #T_edc16_row2_col5 {\n",
       "  background-color: #b3cdfb;\n",
       "  color: #000000;\n",
       "}\n",
       "#T_edc16_row2_col6, #T_edc16_row4_col2 {\n",
       "  background-color: #86a9fc;\n",
       "  color: #f1f1f1;\n",
       "}\n",
       "#T_edc16_row3_col0 {\n",
       "  background-color: #5977e3;\n",
       "  color: #f1f1f1;\n",
       "}\n",
       "#T_edc16_row3_col1, #T_edc16_row5_col2 {\n",
       "  background-color: #89acfd;\n",
       "  color: #000000;\n",
       "}\n",
       "#T_edc16_row3_col4 {\n",
       "  background-color: #799cf8;\n",
       "  color: #f1f1f1;\n",
       "}\n",
       "#T_edc16_row3_col5 {\n",
       "  background-color: #6f92f3;\n",
       "  color: #f1f1f1;\n",
       "}\n",
       "#T_edc16_row3_col6, #T_edc16_row4_col1 {\n",
       "  background-color: #7da0f9;\n",
       "  color: #f1f1f1;\n",
       "}\n",
       "#T_edc16_row4_col3, #T_edc16_row5_col6 {\n",
       "  background-color: #4358cb;\n",
       "  color: #f1f1f1;\n",
       "}\n",
       "#T_edc16_row4_col5 {\n",
       "  background-color: #9ebeff;\n",
       "  color: #000000;\n",
       "}\n",
       "#T_edc16_row4_col6 {\n",
       "  background-color: #3f53c6;\n",
       "  color: #f1f1f1;\n",
       "}\n",
       "#T_edc16_row5_col0 {\n",
       "  background-color: #6e90f2;\n",
       "  color: #f1f1f1;\n",
       "}\n",
       "#T_edc16_row5_col1 {\n",
       "  background-color: #7597f6;\n",
       "  color: #f1f1f1;\n",
       "}\n",
       "#T_edc16_row5_col3 {\n",
       "  background-color: #3c4ec2;\n",
       "  color: #f1f1f1;\n",
       "}\n",
       "#T_edc16_row5_col4 {\n",
       "  background-color: #a1c0ff;\n",
       "  color: #000000;\n",
       "}\n",
       "#T_edc16_row6_col2 {\n",
       "  background-color: #4c66d6;\n",
       "  color: #f1f1f1;\n",
       "}\n",
       "#T_edc16_row6_col3 {\n",
       "  background-color: #4257c9;\n",
       "  color: #f1f1f1;\n",
       "}\n",
       "</style>\n",
       "<table id=\"T_edc16_\">\n",
       "  <thead>\n",
       "    <tr>\n",
       "      <th class=\"blank level0\" >&nbsp;</th>\n",
       "      <th class=\"col_heading level0 col0\" >Age</th>\n",
       "      <th class=\"col_heading level0 col1\" >RoomService</th>\n",
       "      <th class=\"col_heading level0 col2\" >FoodCourt</th>\n",
       "      <th class=\"col_heading level0 col3\" >ShoppingMall</th>\n",
       "      <th class=\"col_heading level0 col4\" >Spa</th>\n",
       "      <th class=\"col_heading level0 col5\" >VRDeck</th>\n",
       "      <th class=\"col_heading level0 col6\" >Transported</th>\n",
       "    </tr>\n",
       "  </thead>\n",
       "  <tbody>\n",
       "    <tr>\n",
       "      <th id=\"T_edc16_level0_row0\" class=\"row_heading level0 row0\" >Age</th>\n",
       "      <td id=\"T_edc16_row0_col0\" class=\"data row0 col0\" >1.000000</td>\n",
       "      <td id=\"T_edc16_row0_col1\" class=\"data row0 col1\" >0.068723</td>\n",
       "      <td id=\"T_edc16_row0_col2\" class=\"data row0 col2\" >0.130421</td>\n",
       "      <td id=\"T_edc16_row0_col3\" class=\"data row0 col3\" >0.033133</td>\n",
       "      <td id=\"T_edc16_row0_col4\" class=\"data row0 col4\" >0.123970</td>\n",
       "      <td id=\"T_edc16_row0_col5\" class=\"data row0 col5\" >0.101007</td>\n",
       "      <td id=\"T_edc16_row0_col6\" class=\"data row0 col6\" >-0.075026</td>\n",
       "    </tr>\n",
       "    <tr>\n",
       "      <th id=\"T_edc16_level0_row1\" class=\"row_heading level0 row1\" >RoomService</th>\n",
       "      <td id=\"T_edc16_row1_col0\" class=\"data row1 col0\" >0.068723</td>\n",
       "      <td id=\"T_edc16_row1_col1\" class=\"data row1 col1\" >1.000000</td>\n",
       "      <td id=\"T_edc16_row1_col2\" class=\"data row1 col2\" >-0.015889</td>\n",
       "      <td id=\"T_edc16_row1_col3\" class=\"data row1 col3\" >0.054480</td>\n",
       "      <td id=\"T_edc16_row1_col4\" class=\"data row1 col4\" >0.010080</td>\n",
       "      <td id=\"T_edc16_row1_col5\" class=\"data row1 col5\" >-0.019581</td>\n",
       "      <td id=\"T_edc16_row1_col6\" class=\"data row1 col6\" >-0.244611</td>\n",
       "    </tr>\n",
       "    <tr>\n",
       "      <th id=\"T_edc16_level0_row2\" class=\"row_heading level0 row2\" >FoodCourt</th>\n",
       "      <td id=\"T_edc16_row2_col0\" class=\"data row2 col0\" >0.130421</td>\n",
       "      <td id=\"T_edc16_row2_col1\" class=\"data row2 col1\" >-0.015889</td>\n",
       "      <td id=\"T_edc16_row2_col2\" class=\"data row2 col2\" >1.000000</td>\n",
       "      <td id=\"T_edc16_row2_col3\" class=\"data row2 col3\" >-0.014228</td>\n",
       "      <td id=\"T_edc16_row2_col4\" class=\"data row2 col4\" >0.221891</td>\n",
       "      <td id=\"T_edc16_row2_col5\" class=\"data row2 col5\" >0.227995</td>\n",
       "      <td id=\"T_edc16_row2_col6\" class=\"data row2 col6\" >0.046566</td>\n",
       "    </tr>\n",
       "    <tr>\n",
       "      <th id=\"T_edc16_level0_row3\" class=\"row_heading level0 row3\" >ShoppingMall</th>\n",
       "      <td id=\"T_edc16_row3_col0\" class=\"data row3 col0\" >0.033133</td>\n",
       "      <td id=\"T_edc16_row3_col1\" class=\"data row3 col1\" >0.054480</td>\n",
       "      <td id=\"T_edc16_row3_col2\" class=\"data row3 col2\" >-0.014228</td>\n",
       "      <td id=\"T_edc16_row3_col3\" class=\"data row3 col3\" >1.000000</td>\n",
       "      <td id=\"T_edc16_row3_col4\" class=\"data row3 col4\" >0.013879</td>\n",
       "      <td id=\"T_edc16_row3_col5\" class=\"data row3 col5\" >-0.007322</td>\n",
       "      <td id=\"T_edc16_row3_col6\" class=\"data row3 col6\" >0.010141</td>\n",
       "    </tr>\n",
       "    <tr>\n",
       "      <th id=\"T_edc16_level0_row4\" class=\"row_heading level0 row4\" >Spa</th>\n",
       "      <td id=\"T_edc16_row4_col0\" class=\"data row4 col0\" >0.123970</td>\n",
       "      <td id=\"T_edc16_row4_col1\" class=\"data row4 col1\" >0.010080</td>\n",
       "      <td id=\"T_edc16_row4_col2\" class=\"data row4 col2\" >0.221891</td>\n",
       "      <td id=\"T_edc16_row4_col3\" class=\"data row4 col3\" >0.013879</td>\n",
       "      <td id=\"T_edc16_row4_col4\" class=\"data row4 col4\" >1.000000</td>\n",
       "      <td id=\"T_edc16_row4_col5\" class=\"data row4 col5\" >0.153821</td>\n",
       "      <td id=\"T_edc16_row4_col6\" class=\"data row4 col6\" >-0.221131</td>\n",
       "    </tr>\n",
       "    <tr>\n",
       "      <th id=\"T_edc16_level0_row5\" class=\"row_heading level0 row5\" >VRDeck</th>\n",
       "      <td id=\"T_edc16_row5_col0\" class=\"data row5 col0\" >0.101007</td>\n",
       "      <td id=\"T_edc16_row5_col1\" class=\"data row5 col1\" >-0.019581</td>\n",
       "      <td id=\"T_edc16_row5_col2\" class=\"data row5 col2\" >0.227995</td>\n",
       "      <td id=\"T_edc16_row5_col3\" class=\"data row5 col3\" >-0.007322</td>\n",
       "      <td id=\"T_edc16_row5_col4\" class=\"data row5 col4\" >0.153821</td>\n",
       "      <td id=\"T_edc16_row5_col5\" class=\"data row5 col5\" >1.000000</td>\n",
       "      <td id=\"T_edc16_row5_col6\" class=\"data row5 col6\" >-0.207075</td>\n",
       "    </tr>\n",
       "    <tr>\n",
       "      <th id=\"T_edc16_level0_row6\" class=\"row_heading level0 row6\" >Transported</th>\n",
       "      <td id=\"T_edc16_row6_col0\" class=\"data row6 col0\" >-0.075026</td>\n",
       "      <td id=\"T_edc16_row6_col1\" class=\"data row6 col1\" >-0.244611</td>\n",
       "      <td id=\"T_edc16_row6_col2\" class=\"data row6 col2\" >0.046566</td>\n",
       "      <td id=\"T_edc16_row6_col3\" class=\"data row6 col3\" >0.010141</td>\n",
       "      <td id=\"T_edc16_row6_col4\" class=\"data row6 col4\" >-0.221131</td>\n",
       "      <td id=\"T_edc16_row6_col5\" class=\"data row6 col5\" >-0.207075</td>\n",
       "      <td id=\"T_edc16_row6_col6\" class=\"data row6 col6\" >1.000000</td>\n",
       "    </tr>\n",
       "  </tbody>\n",
       "</table>\n"
      ],
      "text/plain": [
       "<pandas.io.formats.style.Styler at 0x7f44ca2cced0>"
      ]
     },
     "execution_count": 22,
     "metadata": {},
     "output_type": "execute_result"
    }
   ],
   "source": [
    "corr = train.corr()\n",
    "corr.style.background_gradient(cmap=\"coolwarm\")"
   ]
  },
  {
   "cell_type": "code",
   "execution_count": 23,
   "id": "213187ef",
   "metadata": {
    "execution": {
     "iopub.execute_input": "2022-10-06T01:10:05.562579Z",
     "iopub.status.busy": "2022-10-06T01:10:05.561553Z",
     "iopub.status.idle": "2022-10-06T01:10:05.608205Z",
     "shell.execute_reply": "2022-10-06T01:10:05.606986Z"
    },
    "papermill": {
     "duration": 0.063932,
     "end_time": "2022-10-06T01:10:05.610591",
     "exception": false,
     "start_time": "2022-10-06T01:10:05.546659",
     "status": "completed"
    },
    "tags": []
   },
   "outputs": [
    {
     "data": {
      "text/html": [
       "<div>\n",
       "<style scoped>\n",
       "    .dataframe tbody tr th:only-of-type {\n",
       "        vertical-align: middle;\n",
       "    }\n",
       "\n",
       "    .dataframe tbody tr th {\n",
       "        vertical-align: top;\n",
       "    }\n",
       "\n",
       "    .dataframe thead th {\n",
       "        text-align: right;\n",
       "    }\n",
       "</style>\n",
       "<table border=\"1\" class=\"dataframe\">\n",
       "  <thead>\n",
       "    <tr style=\"text-align: right;\">\n",
       "      <th></th>\n",
       "      <th>PassengerId</th>\n",
       "      <th>HomePlanet</th>\n",
       "      <th>CryoSleep</th>\n",
       "      <th>Cabin</th>\n",
       "      <th>Destination</th>\n",
       "      <th>Age</th>\n",
       "      <th>VIP</th>\n",
       "      <th>RoomService</th>\n",
       "      <th>FoodCourt</th>\n",
       "      <th>ShoppingMall</th>\n",
       "      <th>Spa</th>\n",
       "      <th>VRDeck</th>\n",
       "      <th>Name</th>\n",
       "      <th>Transported</th>\n",
       "    </tr>\n",
       "  </thead>\n",
       "  <tbody>\n",
       "    <tr>\n",
       "      <th>0</th>\n",
       "      <td>0001_01</td>\n",
       "      <td>Europa</td>\n",
       "      <td>0.0</td>\n",
       "      <td>B/0/P</td>\n",
       "      <td>TRAPPIST-1e</td>\n",
       "      <td>39.0</td>\n",
       "      <td>0.0</td>\n",
       "      <td>0.0</td>\n",
       "      <td>0.0</td>\n",
       "      <td>0.0</td>\n",
       "      <td>0.0</td>\n",
       "      <td>0.0</td>\n",
       "      <td>Maham Ofracculy</td>\n",
       "      <td>0</td>\n",
       "    </tr>\n",
       "    <tr>\n",
       "      <th>1</th>\n",
       "      <td>0002_01</td>\n",
       "      <td>Earth</td>\n",
       "      <td>0.0</td>\n",
       "      <td>F/0/S</td>\n",
       "      <td>TRAPPIST-1e</td>\n",
       "      <td>24.0</td>\n",
       "      <td>0.0</td>\n",
       "      <td>109.0</td>\n",
       "      <td>9.0</td>\n",
       "      <td>25.0</td>\n",
       "      <td>549.0</td>\n",
       "      <td>44.0</td>\n",
       "      <td>Juanna Vines</td>\n",
       "      <td>1</td>\n",
       "    </tr>\n",
       "    <tr>\n",
       "      <th>2</th>\n",
       "      <td>0003_01</td>\n",
       "      <td>Europa</td>\n",
       "      <td>0.0</td>\n",
       "      <td>A/0/S</td>\n",
       "      <td>TRAPPIST-1e</td>\n",
       "      <td>58.0</td>\n",
       "      <td>1.0</td>\n",
       "      <td>43.0</td>\n",
       "      <td>3576.0</td>\n",
       "      <td>0.0</td>\n",
       "      <td>6715.0</td>\n",
       "      <td>49.0</td>\n",
       "      <td>Altark Susent</td>\n",
       "      <td>0</td>\n",
       "    </tr>\n",
       "    <tr>\n",
       "      <th>3</th>\n",
       "      <td>0003_02</td>\n",
       "      <td>Europa</td>\n",
       "      <td>0.0</td>\n",
       "      <td>A/0/S</td>\n",
       "      <td>TRAPPIST-1e</td>\n",
       "      <td>33.0</td>\n",
       "      <td>0.0</td>\n",
       "      <td>0.0</td>\n",
       "      <td>1283.0</td>\n",
       "      <td>371.0</td>\n",
       "      <td>3329.0</td>\n",
       "      <td>193.0</td>\n",
       "      <td>Solam Susent</td>\n",
       "      <td>0</td>\n",
       "    </tr>\n",
       "    <tr>\n",
       "      <th>4</th>\n",
       "      <td>0004_01</td>\n",
       "      <td>Earth</td>\n",
       "      <td>0.0</td>\n",
       "      <td>F/1/S</td>\n",
       "      <td>TRAPPIST-1e</td>\n",
       "      <td>16.0</td>\n",
       "      <td>0.0</td>\n",
       "      <td>303.0</td>\n",
       "      <td>70.0</td>\n",
       "      <td>151.0</td>\n",
       "      <td>565.0</td>\n",
       "      <td>2.0</td>\n",
       "      <td>Willy Santantines</td>\n",
       "      <td>1</td>\n",
       "    </tr>\n",
       "  </tbody>\n",
       "</table>\n",
       "</div>"
      ],
      "text/plain": [
       "  PassengerId HomePlanet  CryoSleep  Cabin  Destination   Age  VIP  \\\n",
       "0     0001_01     Europa        0.0  B/0/P  TRAPPIST-1e  39.0  0.0   \n",
       "1     0002_01      Earth        0.0  F/0/S  TRAPPIST-1e  24.0  0.0   \n",
       "2     0003_01     Europa        0.0  A/0/S  TRAPPIST-1e  58.0  1.0   \n",
       "3     0003_02     Europa        0.0  A/0/S  TRAPPIST-1e  33.0  0.0   \n",
       "4     0004_01      Earth        0.0  F/1/S  TRAPPIST-1e  16.0  0.0   \n",
       "\n",
       "   RoomService  FoodCourt  ShoppingMall     Spa  VRDeck               Name  \\\n",
       "0          0.0        0.0           0.0     0.0     0.0    Maham Ofracculy   \n",
       "1        109.0        9.0          25.0   549.0    44.0       Juanna Vines   \n",
       "2         43.0     3576.0           0.0  6715.0    49.0      Altark Susent   \n",
       "3          0.0     1283.0         371.0  3329.0   193.0       Solam Susent   \n",
       "4        303.0       70.0         151.0   565.0     2.0  Willy Santantines   \n",
       "\n",
       "   Transported  \n",
       "0            0  \n",
       "1            1  \n",
       "2            0  \n",
       "3            0  \n",
       "4            1  "
      ]
     },
     "execution_count": 23,
     "metadata": {},
     "output_type": "execute_result"
    }
   ],
   "source": [
    "train[TARGET] = train[TARGET].replace({True: 1, False: 0})\n",
    "train[\"VIP\"] = train[\"VIP\"].replace({True: 1, False: 0})  # .astype(int)\n",
    "train[\"CryoSleep\"] = train[\"CryoSleep\"].replace({True: 1, False: 0})  # .astype(int)\n",
    "train.head()"
   ]
  },
  {
   "cell_type": "code",
   "execution_count": 24,
   "id": "170ba72c",
   "metadata": {
    "execution": {
     "iopub.execute_input": "2022-10-06T01:10:05.640155Z",
     "iopub.status.busy": "2022-10-06T01:10:05.639452Z",
     "iopub.status.idle": "2022-10-06T01:10:05.648017Z",
     "shell.execute_reply": "2022-10-06T01:10:05.646816Z"
    },
    "papermill": {
     "duration": 0.026273,
     "end_time": "2022-10-06T01:10:05.650620",
     "exception": false,
     "start_time": "2022-10-06T01:10:05.624347",
     "status": "completed"
    },
    "tags": []
   },
   "outputs": [
    {
     "name": "stdout",
     "output_type": "stream",
     "text": [
      "CPU times: user 3 µs, sys: 1e+03 ns, total: 4 µs\n",
      "Wall time: 8.11 µs\n"
     ]
    }
   ],
   "source": [
    "%%time\n",
    "# sns.pairplot(train, hue=\"Transported\", height=3, diag_kind=\"hist\")\n",
    "# # sns.pairplot(train, height=3, diag_kind=\"hist\")\n",
    "# plt.show()"
   ]
  },
  {
   "cell_type": "markdown",
   "id": "b23c4fae",
   "metadata": {
    "papermill": {
     "duration": 0.013769,
     "end_time": "2022-10-06T01:10:05.678893",
     "exception": false,
     "start_time": "2022-10-06T01:10:05.665124",
     "status": "completed"
    },
    "tags": []
   },
   "source": [
    "<div style=\"background-color:rgba(255, 215, 0, 0.6);border-radius:5px;display:fill\"><h1 style=\"text-align: center;padding: 12px 0px 12px 0px;\">Missing Values</h1>\n",
    "</div>"
   ]
  },
  {
   "cell_type": "markdown",
   "id": "e2a0908a",
   "metadata": {
    "papermill": {
     "duration": 0.013523,
     "end_time": "2022-10-06T01:10:05.706281",
     "exception": false,
     "start_time": "2022-10-06T01:10:05.692758",
     "status": "completed"
    },
    "tags": []
   },
   "source": [
    "- https://www.kaggle.com/code/hamzaghanmi/let-s-use-keras-tensorflow"
   ]
  },
  {
   "cell_type": "code",
   "execution_count": 25,
   "id": "4d532215",
   "metadata": {
    "execution": {
     "iopub.execute_input": "2022-10-06T01:10:05.736471Z",
     "iopub.status.busy": "2022-10-06T01:10:05.735988Z",
     "iopub.status.idle": "2022-10-06T01:10:05.750139Z",
     "shell.execute_reply": "2022-10-06T01:10:05.748857Z"
    },
    "papermill": {
     "duration": 0.032923,
     "end_time": "2022-10-06T01:10:05.753532",
     "exception": false,
     "start_time": "2022-10-06T01:10:05.720609",
     "status": "completed"
    },
    "tags": []
   },
   "outputs": [
    {
     "name": "stdout",
     "output_type": "stream",
     "text": [
      "CryoSleep       217\n",
      "ShoppingMall    208\n",
      "VIP             203\n",
      "HomePlanet      201\n",
      "Name            200\n",
      "Cabin           199\n",
      "VRDeck          188\n",
      "FoodCourt       183\n",
      "Spa             183\n",
      "Destination     182\n",
      "RoomService     181\n",
      "Age             179\n",
      "dtype: int64\n"
     ]
    }
   ],
   "source": [
    "show_missing_features(train)"
   ]
  },
  {
   "cell_type": "code",
   "execution_count": 26,
   "id": "7d3b275d",
   "metadata": {
    "execution": {
     "iopub.execute_input": "2022-10-06T01:10:05.785964Z",
     "iopub.status.busy": "2022-10-06T01:10:05.785244Z",
     "iopub.status.idle": "2022-10-06T01:10:05.802400Z",
     "shell.execute_reply": "2022-10-06T01:10:05.800907Z"
    },
    "papermill": {
     "duration": 0.035764,
     "end_time": "2022-10-06T01:10:05.805122",
     "exception": false,
     "start_time": "2022-10-06T01:10:05.769358",
     "status": "completed"
    },
    "tags": []
   },
   "outputs": [
    {
     "name": "stdout",
     "output_type": "stream",
     "text": [
      "              NaN_sum  Percentage(%)\n",
      "Age               179       2.059128\n",
      "RoomService       181       2.082135\n",
      "Destination       182       2.093639\n",
      "FoodCourt         183       2.105142\n",
      "Spa               183       2.105142\n",
      "VRDeck            188       2.162660\n",
      "Cabin             199       2.289198\n",
      "Name              200       2.300702\n",
      "HomePlanet        201       2.312205\n",
      "VIP               203       2.335212\n",
      "ShoppingMall      208       2.392730\n",
      "CryoSleep         217       2.496261\n"
     ]
    }
   ],
   "source": [
    "show_missing_features_pct(train)"
   ]
  },
  {
   "cell_type": "code",
   "execution_count": 27,
   "id": "79b3b333",
   "metadata": {
    "execution": {
     "iopub.execute_input": "2022-10-06T01:10:05.835977Z",
     "iopub.status.busy": "2022-10-06T01:10:05.835426Z",
     "iopub.status.idle": "2022-10-06T01:10:05.864439Z",
     "shell.execute_reply": "2022-10-06T01:10:05.863217Z"
    },
    "papermill": {
     "duration": 0.047803,
     "end_time": "2022-10-06T01:10:05.867075",
     "exception": false,
     "start_time": "2022-10-06T01:10:05.819272",
     "status": "completed"
    },
    "tags": []
   },
   "outputs": [
    {
     "data": {
      "text/html": [
       "<div>\n",
       "<style scoped>\n",
       "    .dataframe tbody tr th:only-of-type {\n",
       "        vertical-align: middle;\n",
       "    }\n",
       "\n",
       "    .dataframe tbody tr th {\n",
       "        vertical-align: top;\n",
       "    }\n",
       "\n",
       "    .dataframe thead th {\n",
       "        text-align: right;\n",
       "    }\n",
       "</style>\n",
       "<table border=\"1\" class=\"dataframe\">\n",
       "  <thead>\n",
       "    <tr style=\"text-align: right;\">\n",
       "      <th></th>\n",
       "      <th>NaN_sum</th>\n",
       "      <th>Percentage(%)</th>\n",
       "    </tr>\n",
       "  </thead>\n",
       "  <tbody>\n",
       "    <tr>\n",
       "      <th>Age</th>\n",
       "      <td>179</td>\n",
       "      <td>2.059128</td>\n",
       "    </tr>\n",
       "    <tr>\n",
       "      <th>RoomService</th>\n",
       "      <td>181</td>\n",
       "      <td>2.082135</td>\n",
       "    </tr>\n",
       "    <tr>\n",
       "      <th>Destination</th>\n",
       "      <td>182</td>\n",
       "      <td>2.093639</td>\n",
       "    </tr>\n",
       "    <tr>\n",
       "      <th>FoodCourt</th>\n",
       "      <td>183</td>\n",
       "      <td>2.105142</td>\n",
       "    </tr>\n",
       "    <tr>\n",
       "      <th>Spa</th>\n",
       "      <td>183</td>\n",
       "      <td>2.105142</td>\n",
       "    </tr>\n",
       "    <tr>\n",
       "      <th>VRDeck</th>\n",
       "      <td>188</td>\n",
       "      <td>2.162660</td>\n",
       "    </tr>\n",
       "    <tr>\n",
       "      <th>Cabin</th>\n",
       "      <td>199</td>\n",
       "      <td>2.289198</td>\n",
       "    </tr>\n",
       "    <tr>\n",
       "      <th>Name</th>\n",
       "      <td>200</td>\n",
       "      <td>2.300702</td>\n",
       "    </tr>\n",
       "    <tr>\n",
       "      <th>HomePlanet</th>\n",
       "      <td>201</td>\n",
       "      <td>2.312205</td>\n",
       "    </tr>\n",
       "    <tr>\n",
       "      <th>VIP</th>\n",
       "      <td>203</td>\n",
       "      <td>2.335212</td>\n",
       "    </tr>\n",
       "    <tr>\n",
       "      <th>ShoppingMall</th>\n",
       "      <td>208</td>\n",
       "      <td>2.392730</td>\n",
       "    </tr>\n",
       "    <tr>\n",
       "      <th>CryoSleep</th>\n",
       "      <td>217</td>\n",
       "      <td>2.496261</td>\n",
       "    </tr>\n",
       "  </tbody>\n",
       "</table>\n",
       "</div>"
      ],
      "text/plain": [
       "              NaN_sum  Percentage(%)\n",
       "Age               179       2.059128\n",
       "RoomService       181       2.082135\n",
       "Destination       182       2.093639\n",
       "FoodCourt         183       2.105142\n",
       "Spa               183       2.105142\n",
       "VRDeck            188       2.162660\n",
       "Cabin             199       2.289198\n",
       "Name              200       2.300702\n",
       "HomePlanet        201       2.312205\n",
       "VIP               203       2.335212\n",
       "ShoppingMall      208       2.392730\n",
       "CryoSleep         217       2.496261"
      ]
     },
     "execution_count": 27,
     "metadata": {},
     "output_type": "execute_result"
    }
   ],
   "source": [
    "# Looking at NaN % within the train data\n",
    "nan = pd.DataFrame(train.isna().sum(), columns=[\"NaN_sum\"])\n",
    "nan[\"Percentage(%)\"] = (nan[\"NaN_sum\"] / len(train)) * 100\n",
    "nan = nan[nan[\"NaN_sum\"] > 0]\n",
    "nan = nan.sort_values(by=[\"NaN_sum\"])\n",
    "nan"
   ]
  },
  {
   "cell_type": "code",
   "execution_count": 28,
   "id": "bb47e0e7",
   "metadata": {
    "execution": {
     "iopub.execute_input": "2022-10-06T01:10:05.899059Z",
     "iopub.status.busy": "2022-10-06T01:10:05.897943Z",
     "iopub.status.idle": "2022-10-06T01:10:06.227413Z",
     "shell.execute_reply": "2022-10-06T01:10:06.226089Z"
    },
    "papermill": {
     "duration": 0.347754,
     "end_time": "2022-10-06T01:10:06.229921",
     "exception": false,
     "start_time": "2022-10-06T01:10:05.882167",
     "status": "completed"
    },
    "tags": []
   },
   "outputs": [
    {
     "data": {
      "image/png": "[encoded data removed]",
      "text/plain": [
       "<Figure size 1080x360 with 1 Axes>"
      ]
     },
     "metadata": {
      "needs_background": "light"
     },
     "output_type": "display_data"
    }
   ],
   "source": [
    "# Plotting Nan\n",
    "\n",
    "plt.figure(figsize=(15, 5))\n",
    "sns.barplot(x=nan.index, y=nan[\"Percentage(%)\"])\n",
    "plt.xticks(rotation=45)\n",
    "plt.title(\"Features containing Nan\")\n",
    "plt.xlabel(\"Features\")\n",
    "plt.ylabel(\"% of Missing Data\")\n",
    "plt.show()"
   ]
  },
  {
   "cell_type": "markdown",
   "id": "3419843b",
   "metadata": {
    "papermill": {
     "duration": 0.015575,
     "end_time": "2022-10-06T01:10:06.261318",
     "exception": false,
     "start_time": "2022-10-06T01:10:06.245743",
     "status": "completed"
    },
    "tags": []
   },
   "source": [
    "- https://www.kaggle.com/code/shilongzhuang/space-titanic-a-beginner-guide-80-24-accuracy"
   ]
  },
  {
   "cell_type": "code",
   "execution_count": 29,
   "id": "2c34ced3",
   "metadata": {
    "execution": {
     "iopub.execute_input": "2022-10-06T01:10:06.294224Z",
     "iopub.status.busy": "2022-10-06T01:10:06.293719Z",
     "iopub.status.idle": "2022-10-06T01:10:06.337445Z",
     "shell.execute_reply": "2022-10-06T01:10:06.336375Z"
    },
    "papermill": {
     "duration": 0.063138,
     "end_time": "2022-10-06T01:10:06.340145",
     "exception": false,
     "start_time": "2022-10-06T01:10:06.277007",
     "status": "completed"
    },
    "tags": []
   },
   "outputs": [
    {
     "data": {
      "text/html": [
       "<div>\n",
       "<style scoped>\n",
       "    .dataframe tbody tr th:only-of-type {\n",
       "        vertical-align: middle;\n",
       "    }\n",
       "\n",
       "    .dataframe tbody tr th {\n",
       "        vertical-align: top;\n",
       "    }\n",
       "\n",
       "    .dataframe thead th {\n",
       "        text-align: right;\n",
       "    }\n",
       "</style>\n",
       "<table border=\"1\" class=\"dataframe\">\n",
       "  <thead>\n",
       "    <tr style=\"text-align: right;\">\n",
       "      <th></th>\n",
       "      <th>Feature</th>\n",
       "      <th>Missing Values</th>\n",
       "      <th>Missing Percentage (%)</th>\n",
       "    </tr>\n",
       "  </thead>\n",
       "  <tbody>\n",
       "    <tr>\n",
       "      <th>2</th>\n",
       "      <td>CryoSleep</td>\n",
       "      <td>217</td>\n",
       "      <td>2.50</td>\n",
       "    </tr>\n",
       "    <tr>\n",
       "      <th>9</th>\n",
       "      <td>ShoppingMall</td>\n",
       "      <td>208</td>\n",
       "      <td>2.39</td>\n",
       "    </tr>\n",
       "    <tr>\n",
       "      <th>6</th>\n",
       "      <td>VIP</td>\n",
       "      <td>203</td>\n",
       "      <td>2.34</td>\n",
       "    </tr>\n",
       "    <tr>\n",
       "      <th>1</th>\n",
       "      <td>HomePlanet</td>\n",
       "      <td>201</td>\n",
       "      <td>2.31</td>\n",
       "    </tr>\n",
       "    <tr>\n",
       "      <th>12</th>\n",
       "      <td>Name</td>\n",
       "      <td>200</td>\n",
       "      <td>2.30</td>\n",
       "    </tr>\n",
       "    <tr>\n",
       "      <th>3</th>\n",
       "      <td>Cabin</td>\n",
       "      <td>199</td>\n",
       "      <td>2.29</td>\n",
       "    </tr>\n",
       "    <tr>\n",
       "      <th>11</th>\n",
       "      <td>VRDeck</td>\n",
       "      <td>188</td>\n",
       "      <td>2.16</td>\n",
       "    </tr>\n",
       "    <tr>\n",
       "      <th>8</th>\n",
       "      <td>FoodCourt</td>\n",
       "      <td>183</td>\n",
       "      <td>2.11</td>\n",
       "    </tr>\n",
       "    <tr>\n",
       "      <th>10</th>\n",
       "      <td>Spa</td>\n",
       "      <td>183</td>\n",
       "      <td>2.11</td>\n",
       "    </tr>\n",
       "    <tr>\n",
       "      <th>4</th>\n",
       "      <td>Destination</td>\n",
       "      <td>182</td>\n",
       "      <td>2.09</td>\n",
       "    </tr>\n",
       "    <tr>\n",
       "      <th>7</th>\n",
       "      <td>RoomService</td>\n",
       "      <td>181</td>\n",
       "      <td>2.08</td>\n",
       "    </tr>\n",
       "    <tr>\n",
       "      <th>5</th>\n",
       "      <td>Age</td>\n",
       "      <td>179</td>\n",
       "      <td>2.06</td>\n",
       "    </tr>\n",
       "    <tr>\n",
       "      <th>0</th>\n",
       "      <td>PassengerId</td>\n",
       "      <td>0</td>\n",
       "      <td>0.00</td>\n",
       "    </tr>\n",
       "    <tr>\n",
       "      <th>13</th>\n",
       "      <td>Transported</td>\n",
       "      <td>0</td>\n",
       "      <td>0.00</td>\n",
       "    </tr>\n",
       "  </tbody>\n",
       "</table>\n",
       "</div>"
      ],
      "text/plain": [
       "         Feature  Missing Values  Missing Percentage (%)\n",
       "2      CryoSleep             217                    2.50\n",
       "9   ShoppingMall             208                    2.39\n",
       "6            VIP             203                    2.34\n",
       "1     HomePlanet             201                    2.31\n",
       "12          Name             200                    2.30\n",
       "3          Cabin             199                    2.29\n",
       "11        VRDeck             188                    2.16\n",
       "8      FoodCourt             183                    2.11\n",
       "10           Spa             183                    2.11\n",
       "4    Destination             182                    2.09\n",
       "7    RoomService             181                    2.08\n",
       "5            Age             179                    2.06\n",
       "0    PassengerId               0                    0.00\n",
       "13   Transported               0                    0.00"
      ]
     },
     "execution_count": 29,
     "metadata": {},
     "output_type": "execute_result"
    }
   ],
   "source": [
    "missing_values(train)"
   ]
  },
  {
   "cell_type": "code",
   "execution_count": 30,
   "id": "5ff099ab",
   "metadata": {
    "execution": {
     "iopub.execute_input": "2022-10-06T01:10:06.373194Z",
     "iopub.status.busy": "2022-10-06T01:10:06.372678Z",
     "iopub.status.idle": "2022-10-06T01:10:06.401040Z",
     "shell.execute_reply": "2022-10-06T01:10:06.399883Z"
    },
    "papermill": {
     "duration": 0.047731,
     "end_time": "2022-10-06T01:10:06.403310",
     "exception": false,
     "start_time": "2022-10-06T01:10:06.355579",
     "status": "completed"
    },
    "tags": []
   },
   "outputs": [
    {
     "data": {
      "text/html": [
       "<div>\n",
       "<style scoped>\n",
       "    .dataframe tbody tr th:only-of-type {\n",
       "        vertical-align: middle;\n",
       "    }\n",
       "\n",
       "    .dataframe tbody tr th {\n",
       "        vertical-align: top;\n",
       "    }\n",
       "\n",
       "    .dataframe thead th {\n",
       "        text-align: right;\n",
       "    }\n",
       "</style>\n",
       "<table border=\"1\" class=\"dataframe\">\n",
       "  <thead>\n",
       "    <tr style=\"text-align: right;\">\n",
       "      <th></th>\n",
       "      <th>Feature</th>\n",
       "      <th>Missing Values</th>\n",
       "      <th>Missing Percentage (%)</th>\n",
       "    </tr>\n",
       "  </thead>\n",
       "  <tbody>\n",
       "    <tr>\n",
       "      <th>8</th>\n",
       "      <td>FoodCourt</td>\n",
       "      <td>106</td>\n",
       "      <td>2.48</td>\n",
       "    </tr>\n",
       "    <tr>\n",
       "      <th>10</th>\n",
       "      <td>Spa</td>\n",
       "      <td>101</td>\n",
       "      <td>2.36</td>\n",
       "    </tr>\n",
       "    <tr>\n",
       "      <th>3</th>\n",
       "      <td>Cabin</td>\n",
       "      <td>100</td>\n",
       "      <td>2.34</td>\n",
       "    </tr>\n",
       "    <tr>\n",
       "      <th>9</th>\n",
       "      <td>ShoppingMall</td>\n",
       "      <td>98</td>\n",
       "      <td>2.29</td>\n",
       "    </tr>\n",
       "    <tr>\n",
       "      <th>12</th>\n",
       "      <td>Name</td>\n",
       "      <td>94</td>\n",
       "      <td>2.20</td>\n",
       "    </tr>\n",
       "    <tr>\n",
       "      <th>2</th>\n",
       "      <td>CryoSleep</td>\n",
       "      <td>93</td>\n",
       "      <td>2.17</td>\n",
       "    </tr>\n",
       "    <tr>\n",
       "      <th>6</th>\n",
       "      <td>VIP</td>\n",
       "      <td>93</td>\n",
       "      <td>2.17</td>\n",
       "    </tr>\n",
       "    <tr>\n",
       "      <th>4</th>\n",
       "      <td>Destination</td>\n",
       "      <td>92</td>\n",
       "      <td>2.15</td>\n",
       "    </tr>\n",
       "    <tr>\n",
       "      <th>5</th>\n",
       "      <td>Age</td>\n",
       "      <td>91</td>\n",
       "      <td>2.13</td>\n",
       "    </tr>\n",
       "    <tr>\n",
       "      <th>1</th>\n",
       "      <td>HomePlanet</td>\n",
       "      <td>87</td>\n",
       "      <td>2.03</td>\n",
       "    </tr>\n",
       "    <tr>\n",
       "      <th>7</th>\n",
       "      <td>RoomService</td>\n",
       "      <td>82</td>\n",
       "      <td>1.92</td>\n",
       "    </tr>\n",
       "    <tr>\n",
       "      <th>11</th>\n",
       "      <td>VRDeck</td>\n",
       "      <td>80</td>\n",
       "      <td>1.87</td>\n",
       "    </tr>\n",
       "    <tr>\n",
       "      <th>0</th>\n",
       "      <td>PassengerId</td>\n",
       "      <td>0</td>\n",
       "      <td>0.00</td>\n",
       "    </tr>\n",
       "  </tbody>\n",
       "</table>\n",
       "</div>"
      ],
      "text/plain": [
       "         Feature  Missing Values  Missing Percentage (%)\n",
       "8      FoodCourt             106                    2.48\n",
       "10           Spa             101                    2.36\n",
       "3          Cabin             100                    2.34\n",
       "9   ShoppingMall              98                    2.29\n",
       "12          Name              94                    2.20\n",
       "2      CryoSleep              93                    2.17\n",
       "6            VIP              93                    2.17\n",
       "4    Destination              92                    2.15\n",
       "5            Age              91                    2.13\n",
       "1     HomePlanet              87                    2.03\n",
       "7    RoomService              82                    1.92\n",
       "11        VRDeck              80                    1.87\n",
       "0    PassengerId               0                    0.00"
      ]
     },
     "execution_count": 30,
     "metadata": {},
     "output_type": "execute_result"
    }
   ],
   "source": [
    "missing_values(test)"
   ]
  },
  {
   "cell_type": "code",
   "execution_count": 31,
   "id": "6b51c2e8",
   "metadata": {
    "execution": {
     "iopub.execute_input": "2022-10-06T01:10:06.436429Z",
     "iopub.status.busy": "2022-10-06T01:10:06.435926Z",
     "iopub.status.idle": "2022-10-06T01:10:06.452775Z",
     "shell.execute_reply": "2022-10-06T01:10:06.451856Z"
    },
    "papermill": {
     "duration": 0.036406,
     "end_time": "2022-10-06T01:10:06.455364",
     "exception": false,
     "start_time": "2022-10-06T01:10:06.418958",
     "status": "completed"
    },
    "tags": []
   },
   "outputs": [],
   "source": [
    "## Separate Categorical and Numerical Features\n",
    "cat_features = list(train.select_dtypes(include=[\"category\", \"object\"]).columns)\n",
    "num_features = list(test.select_dtypes(include=[\"number\"]).columns)\n",
    "cat_features.remove(\"PassengerId\")"
   ]
  },
  {
   "cell_type": "code",
   "execution_count": 32,
   "id": "c6246671",
   "metadata": {
    "execution": {
     "iopub.execute_input": "2022-10-06T01:10:06.489343Z",
     "iopub.status.busy": "2022-10-06T01:10:06.488860Z",
     "iopub.status.idle": "2022-10-06T01:10:06.496587Z",
     "shell.execute_reply": "2022-10-06T01:10:06.495464Z"
    },
    "papermill": {
     "duration": 0.029047,
     "end_time": "2022-10-06T01:10:06.499954",
     "exception": false,
     "start_time": "2022-10-06T01:10:06.470907",
     "status": "completed"
    },
    "tags": []
   },
   "outputs": [
    {
     "name": "stdout",
     "output_type": "stream",
     "text": [
      "Categorical Features: ['HomePlanet', 'Cabin', 'Destination', 'Name']\n",
      "Numerical Features: ['Age', 'RoomService', 'FoodCourt', 'ShoppingMall', 'Spa', 'VRDeck']\n"
     ]
    }
   ],
   "source": [
    "print(f\"Categorical Features: {cat_features}\")\n",
    "print(f\"Numerical Features: {num_features}\")"
   ]
  },
  {
   "cell_type": "code",
   "execution_count": 33,
   "id": "bb0fe7eb",
   "metadata": {
    "execution": {
     "iopub.execute_input": "2022-10-06T01:10:06.539963Z",
     "iopub.status.busy": "2022-10-06T01:10:06.539390Z",
     "iopub.status.idle": "2022-10-06T01:10:06.553940Z",
     "shell.execute_reply": "2022-10-06T01:10:06.552756Z"
    },
    "papermill": {
     "duration": 0.040074,
     "end_time": "2022-10-06T01:10:06.557089",
     "exception": false,
     "start_time": "2022-10-06T01:10:06.517015",
     "status": "completed"
    },
    "tags": []
   },
   "outputs": [
    {
     "name": "stdout",
     "output_type": "stream",
     "text": [
      "Continuous Features=['CryoSleep', 'Age', 'VIP', 'RoomService', 'FoodCourt', 'ShoppingMall', 'Spa', 'VRDeck', 'Transported']\n",
      "\n",
      "Categorical Features=['PassengerId', 'HomePlanet', 'Cabin', 'Destination', 'Name']\n"
     ]
    }
   ],
   "source": [
    "_ = feature_distribution_types(train)"
   ]
  },
  {
   "cell_type": "code",
   "execution_count": 34,
   "id": "f63518de",
   "metadata": {
    "execution": {
     "iopub.execute_input": "2022-10-06T01:10:06.602958Z",
     "iopub.status.busy": "2022-10-06T01:10:06.602147Z",
     "iopub.status.idle": "2022-10-06T01:10:06.624255Z",
     "shell.execute_reply": "2022-10-06T01:10:06.623124Z"
    },
    "papermill": {
     "duration": 0.0511,
     "end_time": "2022-10-06T01:10:06.628140",
     "exception": false,
     "start_time": "2022-10-06T01:10:06.577040",
     "status": "completed"
    },
    "tags": []
   },
   "outputs": [
    {
     "data": {
      "text/plain": [
       "HomePlanet        3\n",
       "Cabin          6560\n",
       "Destination       3\n",
       "Name           8473\n",
       "dtype: int64"
      ]
     },
     "execution_count": 34,
     "metadata": {},
     "output_type": "execute_result"
    }
   ],
   "source": [
    "train[cat_features].nunique()"
   ]
  },
  {
   "cell_type": "code",
   "execution_count": 35,
   "id": "5e1a1fb1",
   "metadata": {
    "execution": {
     "iopub.execute_input": "2022-10-06T01:10:06.671850Z",
     "iopub.status.busy": "2022-10-06T01:10:06.670978Z",
     "iopub.status.idle": "2022-10-06T01:10:06.687008Z",
     "shell.execute_reply": "2022-10-06T01:10:06.685981Z"
    },
    "papermill": {
     "duration": 0.036753,
     "end_time": "2022-10-06T01:10:06.689697",
     "exception": false,
     "start_time": "2022-10-06T01:10:06.652944",
     "status": "completed"
    },
    "tags": []
   },
   "outputs": [
    {
     "data": {
      "text/plain": [
       "Age               80\n",
       "RoomService     1273\n",
       "FoodCourt       1507\n",
       "ShoppingMall    1115\n",
       "Spa             1327\n",
       "VRDeck          1306\n",
       "dtype: int64"
      ]
     },
     "execution_count": 35,
     "metadata": {},
     "output_type": "execute_result"
    }
   ],
   "source": [
    "train[num_features].nunique()"
   ]
  },
  {
   "cell_type": "code",
   "execution_count": 36,
   "id": "7c9ad4a6",
   "metadata": {
    "execution": {
     "iopub.execute_input": "2022-10-06T01:10:06.724005Z",
     "iopub.status.busy": "2022-10-06T01:10:06.723467Z",
     "iopub.status.idle": "2022-10-06T01:10:06.731282Z",
     "shell.execute_reply": "2022-10-06T01:10:06.730082Z"
    },
    "papermill": {
     "duration": 0.027509,
     "end_time": "2022-10-06T01:10:06.733414",
     "exception": false,
     "start_time": "2022-10-06T01:10:06.705905",
     "status": "completed"
    },
    "tags": []
   },
   "outputs": [],
   "source": [
    "def show_cardinality(df, features):\n",
    "    print(df[features].nunique())"
   ]
  },
  {
   "cell_type": "code",
   "execution_count": 37,
   "id": "a8c99fc9",
   "metadata": {
    "execution": {
     "iopub.execute_input": "2022-10-06T01:10:06.768345Z",
     "iopub.status.busy": "2022-10-06T01:10:06.767843Z",
     "iopub.status.idle": "2022-10-06T01:10:06.780316Z",
     "shell.execute_reply": "2022-10-06T01:10:06.779153Z"
    },
    "papermill": {
     "duration": 0.033514,
     "end_time": "2022-10-06T01:10:06.783103",
     "exception": false,
     "start_time": "2022-10-06T01:10:06.749589",
     "status": "completed"
    },
    "tags": []
   },
   "outputs": [
    {
     "name": "stdout",
     "output_type": "stream",
     "text": [
      "Age               80\n",
      "RoomService     1273\n",
      "FoodCourt       1507\n",
      "ShoppingMall    1115\n",
      "Spa             1327\n",
      "VRDeck          1306\n",
      "dtype: int64\n"
     ]
    }
   ],
   "source": [
    "show_cardinality(train, num_features)"
   ]
  },
  {
   "cell_type": "code",
   "execution_count": 38,
   "id": "5eb2a531",
   "metadata": {
    "execution": {
     "iopub.execute_input": "2022-10-06T01:10:06.817905Z",
     "iopub.status.busy": "2022-10-06T01:10:06.817363Z",
     "iopub.status.idle": "2022-10-06T01:10:06.823498Z",
     "shell.execute_reply": "2022-10-06T01:10:06.822196Z"
    },
    "papermill": {
     "duration": 0.026334,
     "end_time": "2022-10-06T01:10:06.825859",
     "exception": false,
     "start_time": "2022-10-06T01:10:06.799525",
     "status": "completed"
    },
    "tags": []
   },
   "outputs": [],
   "source": [
    "# cat_col = [col for col in train.columns if train[col].nunique() < 4]\n",
    "# cat_col"
   ]
  },
  {
   "cell_type": "code",
   "execution_count": 39,
   "id": "247a700a",
   "metadata": {
    "execution": {
     "iopub.execute_input": "2022-10-06T01:10:06.860722Z",
     "iopub.status.busy": "2022-10-06T01:10:06.859577Z",
     "iopub.status.idle": "2022-10-06T01:10:06.873777Z",
     "shell.execute_reply": "2022-10-06T01:10:06.872643Z"
    },
    "papermill": {
     "duration": 0.034193,
     "end_time": "2022-10-06T01:10:06.876015",
     "exception": false,
     "start_time": "2022-10-06T01:10:06.841822",
     "status": "completed"
    },
    "tags": []
   },
   "outputs": [
    {
     "data": {
      "text/plain": [
       "[]"
      ]
     },
     "execution_count": 39,
     "metadata": {},
     "output_type": "execute_result"
    }
   ],
   "source": [
    "## Double check cardinality or numerical features.  Could be categorical features\n",
    "cat_col = [col for col in num_features if train[col].nunique() < 25]\n",
    "cat_col"
   ]
  },
  {
   "cell_type": "code",
   "execution_count": 40,
   "id": "8db360aa",
   "metadata": {
    "execution": {
     "iopub.execute_input": "2022-10-06T01:10:06.911002Z",
     "iopub.status.busy": "2022-10-06T01:10:06.909782Z",
     "iopub.status.idle": "2022-10-06T01:10:06.923605Z",
     "shell.execute_reply": "2022-10-06T01:10:06.922656Z"
    },
    "papermill": {
     "duration": 0.033341,
     "end_time": "2022-10-06T01:10:06.925691",
     "exception": false,
     "start_time": "2022-10-06T01:10:06.892350",
     "status": "completed"
    },
    "tags": []
   },
   "outputs": [
    {
     "data": {
      "text/plain": [
       "['HomePlanet', 'Destination']"
      ]
     },
     "execution_count": 40,
     "metadata": {},
     "output_type": "execute_result"
    }
   ],
   "source": [
    "check_low_cardinality(train, cat_features, 25)"
   ]
  }
 ],
 "metadata": {
  "kernelspec": {
   "display_name": "Python 3",
   "language": "python",
   "name": "python3"
  },
  "language_info": {
   "codemirror_mode": {
    "name": "ipython",
    "version": 3
   },
   "file_extension": ".py",
   "mimetype": "text/x-python",
   "name": "python",
   "nbconvert_exporter": "python",
   "pygments_lexer": "ipython3",
   "version": "3.7.12"
  },
  "papermill": {
   "default_parameters": {},
   "duration": 33.553029,
   "end_time": "2022-10-06T01:10:08.267696",
   "environment_variables": {},
   "exception": null,
   "input_path": "__notebook__.ipynb",
   "output_path": "__notebook__.ipynb",
   "parameters": {},
   "start_time": "2022-10-06T01:09:34.714667",
   "version": "2.3.4"
  }
 },
 "nbformat": 4,
 "nbformat_minor": 5
}
