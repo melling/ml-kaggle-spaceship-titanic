{
 "cells": [
  {
   "cell_type": "markdown",
   "id": "956f4d0a",
   "metadata": {
    "papermill": {
     "duration": 0.011348,
     "end_time": "2022-06-30T12:31:47.340211",
     "exception": false,
     "start_time": "2022-06-30T12:31:47.328863",
     "status": "completed"
    },
    "tags": []
   },
   "source": [
    "# Spaceship Titanic\n",
    "\n",
    "**Problem Type:** Binary Classification\n",
    "\n",
    "## Evaluation Metric\n"
   ]
  },
  {
   "cell_type": "markdown",
   "id": "ddb1bc09",
   "metadata": {
    "papermill": {
     "duration": 0.009817,
     "end_time": "2022-06-30T12:31:47.360436",
     "exception": false,
     "start_time": "2022-06-30T12:31:47.350619",
     "status": "completed"
    },
    "tags": []
   },
   "source": [
    "<div style=\"background-color:rgba(128, 0, 128, 0.6);border-radius:5px;display:fill\"><h1 style=\"text-align: center;padding: 12px 0px 12px 0px;\">Import Libraries</h1>\n",
    "</div>"
   ]
  },
  {
   "cell_type": "code",
   "execution_count": 1,
   "id": "9e58cd69",
   "metadata": {
    "execution": {
     "iopub.execute_input": "2022-06-30T12:31:47.383496Z",
     "iopub.status.busy": "2022-06-30T12:31:47.382301Z",
     "iopub.status.idle": "2022-06-30T12:31:50.430140Z",
     "shell.execute_reply": "2022-06-30T12:31:50.428930Z"
    },
    "papermill": {
     "duration": 3.062314,
     "end_time": "2022-06-30T12:31:50.433007",
     "exception": false,
     "start_time": "2022-06-30T12:31:47.370693",
     "status": "completed"
    },
    "tags": []
   },
   "outputs": [
    {
     "data": {
      "text/html": [
       "<style type='text/css'>\n",
       ".datatable table.frame { margin-bottom: 0; }\n",
       ".datatable table.frame thead { border-bottom: none; }\n",
       ".datatable table.frame tr.coltypes td {  color: #FFFFFF;  line-height: 6px;  padding: 0 0.5em;}\n",
       ".datatable .bool    { background: #DDDD99; }\n",
       ".datatable .object  { background: #565656; }\n",
       ".datatable .int     { background: #5D9E5D; }\n",
       ".datatable .float   { background: #4040CC; }\n",
       ".datatable .str     { background: #CC4040; }\n",
       ".datatable .time    { background: #40CC40; }\n",
       ".datatable .row_index {  background: var(--jp-border-color3);  border-right: 1px solid var(--jp-border-color0);  color: var(--jp-ui-font-color3);  font-size: 9px;}\n",
       ".datatable .frame tbody td { text-align: left; }\n",
       ".datatable .frame tr.coltypes .row_index {  background: var(--jp-border-color0);}\n",
       ".datatable th:nth-child(2) { padding-left: 12px; }\n",
       ".datatable .hellipsis {  color: var(--jp-cell-editor-border-color);}\n",
       ".datatable .vellipsis {  background: var(--jp-layout-color0);  color: var(--jp-cell-editor-border-color);}\n",
       ".datatable .na {  color: var(--jp-cell-editor-border-color);  font-size: 80%;}\n",
       ".datatable .sp {  opacity: 0.25;}\n",
       ".datatable .footer { font-size: 9px; }\n",
       ".datatable .frame_dimensions {  background: var(--jp-border-color3);  border-top: 1px solid var(--jp-border-color0);  color: var(--jp-ui-font-color3);  display: inline-block;  opacity: 0.6;  padding: 1px 10px 1px 5px;}\n",
       "</style>\n"
      ],
      "text/plain": [
       "<IPython.core.display.HTML object>"
      ]
     },
     "metadata": {},
     "output_type": "display_data"
    }
   ],
   "source": [
    "import os\n",
    "from pathlib import Path\n",
    "import time\n",
    "import gc\n",
    "\n",
    "import random\n",
    "import pandas as pd\n",
    "import numpy as np\n",
    "import datatable as dt  # Fast table loading\n",
    "\n",
    "from sklearn.model_selection import train_test_split\n",
    "from sklearn.model_selection import KFold, StratifiedKFold\n",
    "\n",
    "from sklearn.preprocessing import LabelEncoder\n",
    "from catboost import CatBoostClassifier\n",
    "\n",
    "import optuna\n",
    "from optuna.visualization import plot_optimization_history, plot_param_importances\n",
    "\n",
    "# Visualization Libraries\n",
    "import matplotlib.pylab as plt\n",
    "import seaborn as sns"
   ]
  },
  {
   "cell_type": "code",
   "execution_count": 2,
   "id": "f5d83a46",
   "metadata": {
    "execution": {
     "iopub.execute_input": "2022-06-30T12:31:50.456334Z",
     "iopub.status.busy": "2022-06-30T12:31:50.455616Z",
     "iopub.status.idle": "2022-06-30T12:32:08.299217Z",
     "shell.execute_reply": "2022-06-30T12:32:08.297878Z"
    },
    "papermill": {
     "duration": 17.858484,
     "end_time": "2022-06-30T12:32:08.302189",
     "exception": false,
     "start_time": "2022-06-30T12:31:50.443705",
     "status": "completed"
    },
    "tags": []
   },
   "outputs": [
    {
     "name": "stdout",
     "output_type": "stream",
     "text": [
      "\u001b[33mWARNING: Running pip as the 'root' user can result in broken permissions and conflicting behaviour with the system package manager. It is recommended to use a virtual environment instead: https://pip.pypa.io/warnings/venv\u001b[0m\u001b[33m\r\n",
      "\u001b[0m"
     ]
    }
   ],
   "source": [
    "# Black formatter https://black.readthedocs.io/en/stable/\n",
    "\n",
    "! pip install nb-black > /dev/null\n",
    "\n",
    "%load_ext lab_black"
   ]
  },
  {
   "cell_type": "markdown",
   "id": "7485de9a",
   "metadata": {
    "papermill": {
     "duration": 0.010202,
     "end_time": "2022-06-30T12:32:08.323372",
     "exception": false,
     "start_time": "2022-06-30T12:32:08.313170",
     "status": "completed"
    },
    "tags": []
   },
   "source": [
    "<div style=\"background-color:rgba(128, 0, 128, 0.6);border-radius:5px;display:fill\"><h1 style=\"text-align: center;padding: 12px 0px 12px 0px;\">Configuration</h1>\n",
    "</div>"
   ]
  },
  {
   "cell_type": "code",
   "execution_count": 3,
   "id": "f7c473d3",
   "metadata": {
    "execution": {
     "iopub.execute_input": "2022-06-30T12:32:08.346712Z",
     "iopub.status.busy": "2022-06-30T12:32:08.346231Z",
     "iopub.status.idle": "2022-06-30T12:32:08.363527Z",
     "shell.execute_reply": "2022-06-30T12:32:08.362534Z"
    },
    "papermill": {
     "duration": 0.031562,
     "end_time": "2022-06-30T12:32:08.365532",
     "exception": false,
     "start_time": "2022-06-30T12:32:08.333970",
     "status": "completed"
    },
    "tags": []
   },
   "outputs": [],
   "source": [
    "class Config:\n",
    "    path = \"../input/spaceship-titanic\"\n",
    "    gpu = True\n",
    "    debug = False\n",
    "    optimize = True\n",
    "    n_optimize_trials = 5\n",
    "    model_type = \"xgb\"  # (xgb, cat, lgbm, keras)\n",
    "    model_name = \"xgb1\"\n",
    "    competition = \"Spaceship Titanic\"\n",
    "    seed = 42\n",
    "    N_ESTIMATORS = 100  # 100, 300, 2000, 5000\n",
    "\n",
    "    batch_size = 64\n",
    "    epochs = 25\n",
    "    N_FOLDS = 15  # 5,10,15\n",
    "    SEED_LENGTH = 1  # 5,10"
   ]
  },
  {
   "cell_type": "code",
   "execution_count": 4,
   "id": "f7cbe479",
   "metadata": {
    "execution": {
     "iopub.execute_input": "2022-06-30T12:32:08.389014Z",
     "iopub.status.busy": "2022-06-30T12:32:08.388555Z",
     "iopub.status.idle": "2022-06-30T12:32:08.395145Z",
     "shell.execute_reply": "2022-06-30T12:32:08.393995Z"
    },
    "papermill": {
     "duration": 0.020903,
     "end_time": "2022-06-30T12:32:08.397221",
     "exception": false,
     "start_time": "2022-06-30T12:32:08.376318",
     "status": "completed"
    },
    "tags": []
   },
   "outputs": [],
   "source": [
    "TARGET = \"Transported\"\n",
    "TARGET_ENC = \"target_num\""
   ]
  },
  {
   "cell_type": "markdown",
   "id": "49cdfcb5",
   "metadata": {
    "papermill": {
     "duration": 0.010309,
     "end_time": "2022-06-30T12:32:08.418256",
     "exception": false,
     "start_time": "2022-06-30T12:32:08.407947",
     "status": "completed"
    },
    "tags": []
   },
   "source": [
    "<div style=\"background-color:rgba(128, 0, 128, 0.6);border-radius:5px;display:fill\"><h1 style=\"text-align: center;padding: 12px 0px 12px 0px;\">Utilities</h1>\n",
    "</div>"
   ]
  },
  {
   "cell_type": "code",
   "execution_count": 5,
   "id": "3f6af318",
   "metadata": {
    "execution": {
     "iopub.execute_input": "2022-06-30T12:32:08.441959Z",
     "iopub.status.busy": "2022-06-30T12:32:08.441364Z",
     "iopub.status.idle": "2022-06-30T12:32:08.459140Z",
     "shell.execute_reply": "2022-06-30T12:32:08.458264Z"
    },
    "papermill": {
     "duration": 0.032219,
     "end_time": "2022-06-30T12:32:08.461173",
     "exception": false,
     "start_time": "2022-06-30T12:32:08.428954",
     "status": "completed"
    },
    "tags": []
   },
   "outputs": [],
   "source": [
    "def create_folds(df, TARGET, n_folds=5, seed=42):\n",
    "    print(f\"TARGET={TARGET}, n_folds={n_folds}, seed={seed}\")\n",
    "    df[\"fold\"] = -1\n",
    "\n",
    "    kf = StratifiedKFold(n_splits=n_folds, shuffle=True, random_state=seed)\n",
    "    # kf = GroupKFold(n_splits=Config.N_FOLDS)\n",
    "\n",
    "    for fold, (train_idx, valid_idx) in enumerate(kf.split(df, df[TARGET])):\n",
    "        df.loc[valid_idx, \"fold\"] = fold\n",
    "\n",
    "    # df.to_csv(f\"train_fold{num_folds}.csv\", index=False)\n",
    "    return df"
   ]
  },
  {
   "cell_type": "code",
   "execution_count": 6,
   "id": "3fb15942",
   "metadata": {
    "execution": {
     "iopub.execute_input": "2022-06-30T12:32:08.484913Z",
     "iopub.status.busy": "2022-06-30T12:32:08.484439Z",
     "iopub.status.idle": "2022-06-30T12:32:08.500444Z",
     "shell.execute_reply": "2022-06-30T12:32:08.499404Z"
    },
    "papermill": {
     "duration": 0.030873,
     "end_time": "2022-06-30T12:32:08.502784",
     "exception": false,
     "start_time": "2022-06-30T12:32:08.471911",
     "status": "completed"
    },
    "tags": []
   },
   "outputs": [],
   "source": [
    "def label_encoder(train, test, columns):\n",
    "    for col in columns:\n",
    "        train[col] = train[col].astype(str)\n",
    "        test[col] = test[col].astype(str)\n",
    "        train[col] = LabelEncoder().fit_transform(train[col])\n",
    "        test[col] = LabelEncoder().fit_transform(test[col])\n",
    "    return train, test"
   ]
  },
  {
   "cell_type": "code",
   "execution_count": 7,
   "id": "31c703b1",
   "metadata": {
    "execution": {
     "iopub.execute_input": "2022-06-30T12:32:08.527216Z",
     "iopub.status.busy": "2022-06-30T12:32:08.526694Z",
     "iopub.status.idle": "2022-06-30T12:32:08.542074Z",
     "shell.execute_reply": "2022-06-30T12:32:08.540903Z"
    },
    "papermill": {
     "duration": 0.03044,
     "end_time": "2022-06-30T12:32:08.544408",
     "exception": false,
     "start_time": "2022-06-30T12:32:08.513968",
     "status": "completed"
    },
    "tags": []
   },
   "outputs": [],
   "source": [
    "def read_data(path):\n",
    "    data_dir = Path(path)\n",
    "\n",
    "    train = pd.read_csv(data_dir / \"train.csv\")\n",
    "    test = pd.read_csv(data_dir / \"test.csv\")\n",
    "    # train_df = dt.fread(data_dir / \"train.csv\").to_pandas()\n",
    "    # test_df = dt.fread(data_dir / \"test.csv\").to_pandas()\n",
    "\n",
    "    submission_df = pd.read_csv(data_dir / \"sample_submission.csv\")\n",
    "\n",
    "    print(f\"train data: Rows={train.shape[0]}, Columns={train.shape[1]}\")\n",
    "    print(f\"test data : Rows={test.shape[0]}, Columns={test.shape[1]}\")\n",
    "    return train, test, submission_df"
   ]
  },
  {
   "cell_type": "code",
   "execution_count": 8,
   "id": "0df5ce64",
   "metadata": {
    "execution": {
     "iopub.execute_input": "2022-06-30T12:32:08.568224Z",
     "iopub.status.busy": "2022-06-30T12:32:08.567772Z",
     "iopub.status.idle": "2022-06-30T12:32:08.575110Z",
     "shell.execute_reply": "2022-06-30T12:32:08.574372Z"
    },
    "papermill": {
     "duration": 0.021921,
     "end_time": "2022-06-30T12:32:08.577163",
     "exception": false,
     "start_time": "2022-06-30T12:32:08.555242",
     "status": "completed"
    },
    "tags": []
   },
   "outputs": [],
   "source": [
    "# OOF Results\n",
    "if not os.path.exists(\"results\"):\n",
    "    os.makedirs(\"results\")"
   ]
  },
  {
   "cell_type": "markdown",
   "id": "6aebe522",
   "metadata": {
    "papermill": {
     "duration": 0.010187,
     "end_time": "2022-06-30T12:32:08.598044",
     "exception": false,
     "start_time": "2022-06-30T12:32:08.587857",
     "status": "completed"
    },
    "tags": []
   },
   "source": [
    "<div style=\"background-color:rgba(128, 0, 128, 0.6);border-radius:5px;display:fill\"><h1 style=\"text-align: center;padding: 12px 0px 12px 0px;\">Load Train/Test Data</h1>\n",
    "</div>\n",
    "\n",
    "Support datatable for large datasets.\n",
    "Using datatable is described in [Tutorial on reading datasets](https://www.kaggle.com/hiro5299834/tutorial-on-reading-datasets)"
   ]
  },
  {
   "cell_type": "code",
   "execution_count": 9,
   "id": "4d0474fe",
   "metadata": {
    "execution": {
     "iopub.execute_input": "2022-06-30T12:32:08.621226Z",
     "iopub.status.busy": "2022-06-30T12:32:08.620786Z",
     "iopub.status.idle": "2022-06-30T12:32:08.730398Z",
     "shell.execute_reply": "2022-06-30T12:32:08.729510Z"
    },
    "papermill": {
     "duration": 0.124722,
     "end_time": "2022-06-30T12:32:08.733536",
     "exception": false,
     "start_time": "2022-06-30T12:32:08.608814",
     "status": "completed"
    },
    "tags": []
   },
   "outputs": [
    {
     "name": "stdout",
     "output_type": "stream",
     "text": [
      "train data: Rows=8693, Columns=14\n",
      "test data : Rows=4277, Columns=13\n",
      "CPU times: user 57.6 ms, sys: 11.3 ms, total: 68.8 ms\n",
      "Wall time: 101 ms\n"
     ]
    }
   ],
   "source": [
    "%%time\n",
    "train, test, submission_df = read_data(Config.path)"
   ]
  },
  {
   "cell_type": "code",
   "execution_count": 10,
   "id": "9faa7126",
   "metadata": {
    "execution": {
     "iopub.execute_input": "2022-06-30T12:32:08.760163Z",
     "iopub.status.busy": "2022-06-30T12:32:08.758914Z",
     "iopub.status.idle": "2022-06-30T12:32:08.807921Z",
     "shell.execute_reply": "2022-06-30T12:32:08.806944Z"
    },
    "papermill": {
     "duration": 0.065118,
     "end_time": "2022-06-30T12:32:08.810639",
     "exception": false,
     "start_time": "2022-06-30T12:32:08.745521",
     "status": "completed"
    },
    "tags": []
   },
   "outputs": [
    {
     "data": {
      "text/html": [
       "<div>\n",
       "<style scoped>\n",
       "    .dataframe tbody tr th:only-of-type {\n",
       "        vertical-align: middle;\n",
       "    }\n",
       "\n",
       "    .dataframe tbody tr th {\n",
       "        vertical-align: top;\n",
       "    }\n",
       "\n",
       "    .dataframe thead th {\n",
       "        text-align: right;\n",
       "    }\n",
       "</style>\n",
       "<table border=\"1\" class=\"dataframe\">\n",
       "  <thead>\n",
       "    <tr style=\"text-align: right;\">\n",
       "      <th></th>\n",
       "      <th>PassengerId</th>\n",
       "      <th>HomePlanet</th>\n",
       "      <th>CryoSleep</th>\n",
       "      <th>Cabin</th>\n",
       "      <th>Destination</th>\n",
       "      <th>Age</th>\n",
       "      <th>VIP</th>\n",
       "      <th>RoomService</th>\n",
       "      <th>FoodCourt</th>\n",
       "      <th>ShoppingMall</th>\n",
       "      <th>Spa</th>\n",
       "      <th>VRDeck</th>\n",
       "      <th>Name</th>\n",
       "      <th>Transported</th>\n",
       "    </tr>\n",
       "  </thead>\n",
       "  <tbody>\n",
       "    <tr>\n",
       "      <th>8037</th>\n",
       "      <td>8602_02</td>\n",
       "      <td>Earth</td>\n",
       "      <td>False</td>\n",
       "      <td>G/1396/P</td>\n",
       "      <td>PSO J318.5-22</td>\n",
       "      <td>21.0</td>\n",
       "      <td>NaN</td>\n",
       "      <td>10.0</td>\n",
       "      <td>1028.0</td>\n",
       "      <td>3.0</td>\n",
       "      <td>2519.0</td>\n",
       "      <td>0.0</td>\n",
       "      <td>Yvonna Weissey</td>\n",
       "      <td>False</td>\n",
       "    </tr>\n",
       "    <tr>\n",
       "      <th>5926</th>\n",
       "      <td>6285_02</td>\n",
       "      <td>Europa</td>\n",
       "      <td>False</td>\n",
       "      <td>B/245/S</td>\n",
       "      <td>TRAPPIST-1e</td>\n",
       "      <td>43.0</td>\n",
       "      <td>False</td>\n",
       "      <td>2.0</td>\n",
       "      <td>5329.0</td>\n",
       "      <td>0.0</td>\n",
       "      <td>7.0</td>\n",
       "      <td>0.0</td>\n",
       "      <td>Shail Whealeed</td>\n",
       "      <td>True</td>\n",
       "    </tr>\n",
       "    <tr>\n",
       "      <th>4843</th>\n",
       "      <td>5166_01</td>\n",
       "      <td>Mars</td>\n",
       "      <td>False</td>\n",
       "      <td>D/163/P</td>\n",
       "      <td>TRAPPIST-1e</td>\n",
       "      <td>32.0</td>\n",
       "      <td>False</td>\n",
       "      <td>382.0</td>\n",
       "      <td>0.0</td>\n",
       "      <td>477.0</td>\n",
       "      <td>22.0</td>\n",
       "      <td>2.0</td>\n",
       "      <td>Cor Porki</td>\n",
       "      <td>True</td>\n",
       "    </tr>\n",
       "    <tr>\n",
       "      <th>2656</th>\n",
       "      <td>2840_01</td>\n",
       "      <td>Earth</td>\n",
       "      <td>False</td>\n",
       "      <td>F/540/S</td>\n",
       "      <td>55 Cancri e</td>\n",
       "      <td>44.0</td>\n",
       "      <td>False</td>\n",
       "      <td>672.0</td>\n",
       "      <td>0.0</td>\n",
       "      <td>0.0</td>\n",
       "      <td>0.0</td>\n",
       "      <td>20.0</td>\n",
       "      <td>Jacky Hortis</td>\n",
       "      <td>False</td>\n",
       "    </tr>\n",
       "    <tr>\n",
       "      <th>7532</th>\n",
       "      <td>8054_01</td>\n",
       "      <td>Mars</td>\n",
       "      <td>False</td>\n",
       "      <td>F/1540/S</td>\n",
       "      <td>55 Cancri e</td>\n",
       "      <td>52.0</td>\n",
       "      <td>False</td>\n",
       "      <td>NaN</td>\n",
       "      <td>0.0</td>\n",
       "      <td>262.0</td>\n",
       "      <td>1425.0</td>\n",
       "      <td>571.0</td>\n",
       "      <td>Hex Reste</td>\n",
       "      <td>False</td>\n",
       "    </tr>\n",
       "  </tbody>\n",
       "</table>\n",
       "</div>"
      ],
      "text/plain": [
       "     PassengerId HomePlanet CryoSleep     Cabin    Destination   Age    VIP  \\\n",
       "8037     8602_02      Earth     False  G/1396/P  PSO J318.5-22  21.0    NaN   \n",
       "5926     6285_02     Europa     False   B/245/S    TRAPPIST-1e  43.0  False   \n",
       "4843     5166_01       Mars     False   D/163/P    TRAPPIST-1e  32.0  False   \n",
       "2656     2840_01      Earth     False   F/540/S    55 Cancri e  44.0  False   \n",
       "7532     8054_01       Mars     False  F/1540/S    55 Cancri e  52.0  False   \n",
       "\n",
       "      RoomService  FoodCourt  ShoppingMall     Spa  VRDeck            Name  \\\n",
       "8037         10.0     1028.0           3.0  2519.0     0.0  Yvonna Weissey   \n",
       "5926          2.0     5329.0           0.0     7.0     0.0  Shail Whealeed   \n",
       "4843        382.0        0.0         477.0    22.0     2.0       Cor Porki   \n",
       "2656        672.0        0.0           0.0     0.0    20.0    Jacky Hortis   \n",
       "7532          NaN        0.0         262.0  1425.0   571.0       Hex Reste   \n",
       "\n",
       "      Transported  \n",
       "8037        False  \n",
       "5926         True  \n",
       "4843         True  \n",
       "2656        False  \n",
       "7532        False  "
      ]
     },
     "execution_count": 10,
     "metadata": {},
     "output_type": "execute_result"
    }
   ],
   "source": [
    "train.sample(5)"
   ]
  },
  {
   "cell_type": "code",
   "execution_count": 11,
   "id": "e3682348",
   "metadata": {
    "execution": {
     "iopub.execute_input": "2022-06-30T12:32:08.835782Z",
     "iopub.status.busy": "2022-06-30T12:32:08.834913Z",
     "iopub.status.idle": "2022-06-30T12:32:08.844731Z",
     "shell.execute_reply": "2022-06-30T12:32:08.843660Z"
    },
    "papermill": {
     "duration": 0.025307,
     "end_time": "2022-06-30T12:32:08.847244",
     "exception": false,
     "start_time": "2022-06-30T12:32:08.821937",
     "status": "completed"
    },
    "tags": []
   },
   "outputs": [
    {
     "data": {
      "text/plain": [
       "Index(['PassengerId', 'HomePlanet', 'CryoSleep', 'Cabin', 'Destination', 'Age',\n",
       "       'VIP', 'RoomService', 'FoodCourt', 'ShoppingMall', 'Spa', 'VRDeck',\n",
       "       'Name', 'Transported'],\n",
       "      dtype='object')"
      ]
     },
     "execution_count": 11,
     "metadata": {},
     "output_type": "execute_result"
    }
   ],
   "source": [
    "train.columns"
   ]
  },
  {
   "cell_type": "code",
   "execution_count": 12,
   "id": "9c019da7",
   "metadata": {
    "execution": {
     "iopub.execute_input": "2022-06-30T12:32:08.871826Z",
     "iopub.status.busy": "2022-06-30T12:32:08.871345Z",
     "iopub.status.idle": "2022-06-30T12:32:08.909569Z",
     "shell.execute_reply": "2022-06-30T12:32:08.908406Z"
    },
    "papermill": {
     "duration": 0.053656,
     "end_time": "2022-06-30T12:32:08.912255",
     "exception": false,
     "start_time": "2022-06-30T12:32:08.858599",
     "status": "completed"
    },
    "tags": []
   },
   "outputs": [
    {
     "name": "stdout",
     "output_type": "stream",
     "text": [
      "<class 'pandas.core.frame.DataFrame'>\n",
      "RangeIndex: 8693 entries, 0 to 8692\n",
      "Data columns (total 14 columns):\n",
      " #   Column        Non-Null Count  Dtype  \n",
      "---  ------        --------------  -----  \n",
      " 0   PassengerId   8693 non-null   object \n",
      " 1   HomePlanet    8492 non-null   object \n",
      " 2   CryoSleep     8476 non-null   object \n",
      " 3   Cabin         8494 non-null   object \n",
      " 4   Destination   8511 non-null   object \n",
      " 5   Age           8514 non-null   float64\n",
      " 6   VIP           8490 non-null   object \n",
      " 7   RoomService   8512 non-null   float64\n",
      " 8   FoodCourt     8510 non-null   float64\n",
      " 9   ShoppingMall  8485 non-null   float64\n",
      " 10  Spa           8510 non-null   float64\n",
      " 11  VRDeck        8505 non-null   float64\n",
      " 12  Name          8493 non-null   object \n",
      " 13  Transported   8693 non-null   bool   \n",
      "dtypes: bool(1), float64(6), object(7)\n",
      "memory usage: 891.5+ KB\n"
     ]
    }
   ],
   "source": [
    "train.info()"
   ]
  },
  {
   "cell_type": "code",
   "execution_count": 13,
   "id": "753a10b5",
   "metadata": {
    "execution": {
     "iopub.execute_input": "2022-06-30T12:32:08.937591Z",
     "iopub.status.busy": "2022-06-30T12:32:08.936807Z",
     "iopub.status.idle": "2022-06-30T12:32:08.948820Z",
     "shell.execute_reply": "2022-06-30T12:32:08.947987Z"
    },
    "papermill": {
     "duration": 0.027278,
     "end_time": "2022-06-30T12:32:08.951189",
     "exception": false,
     "start_time": "2022-06-30T12:32:08.923911",
     "status": "completed"
    },
    "tags": []
   },
   "outputs": [
    {
     "data": {
      "text/plain": [
       "array([False,  True])"
      ]
     },
     "execution_count": 13,
     "metadata": {},
     "output_type": "execute_result"
    }
   ],
   "source": [
    "train[TARGET].unique()"
   ]
  },
  {
   "cell_type": "code",
   "execution_count": 14,
   "id": "abba0dde",
   "metadata": {
    "execution": {
     "iopub.execute_input": "2022-06-30T12:32:08.976489Z",
     "iopub.status.busy": "2022-06-30T12:32:08.975701Z",
     "iopub.status.idle": "2022-06-30T12:32:09.023817Z",
     "shell.execute_reply": "2022-06-30T12:32:09.022663Z"
    },
    "papermill": {
     "duration": 0.064013,
     "end_time": "2022-06-30T12:32:09.026791",
     "exception": false,
     "start_time": "2022-06-30T12:32:08.962778",
     "status": "completed"
    },
    "tags": []
   },
   "outputs": [
    {
     "data": {
      "text/html": [
       "<div>\n",
       "<style scoped>\n",
       "    .dataframe tbody tr th:only-of-type {\n",
       "        vertical-align: middle;\n",
       "    }\n",
       "\n",
       "    .dataframe tbody tr th {\n",
       "        vertical-align: top;\n",
       "    }\n",
       "\n",
       "    .dataframe thead th {\n",
       "        text-align: right;\n",
       "    }\n",
       "</style>\n",
       "<table border=\"1\" class=\"dataframe\">\n",
       "  <thead>\n",
       "    <tr style=\"text-align: right;\">\n",
       "      <th></th>\n",
       "      <th>count</th>\n",
       "      <th>mean</th>\n",
       "      <th>std</th>\n",
       "      <th>min</th>\n",
       "      <th>25%</th>\n",
       "      <th>50%</th>\n",
       "      <th>75%</th>\n",
       "      <th>max</th>\n",
       "    </tr>\n",
       "  </thead>\n",
       "  <tbody>\n",
       "    <tr>\n",
       "      <th>Age</th>\n",
       "      <td>8514.0</td>\n",
       "      <td>28.827930</td>\n",
       "      <td>14.489021</td>\n",
       "      <td>0.0</td>\n",
       "      <td>19.0</td>\n",
       "      <td>27.0</td>\n",
       "      <td>38.0</td>\n",
       "      <td>79.0</td>\n",
       "    </tr>\n",
       "    <tr>\n",
       "      <th>RoomService</th>\n",
       "      <td>8512.0</td>\n",
       "      <td>224.687617</td>\n",
       "      <td>666.717663</td>\n",
       "      <td>0.0</td>\n",
       "      <td>0.0</td>\n",
       "      <td>0.0</td>\n",
       "      <td>47.0</td>\n",
       "      <td>14327.0</td>\n",
       "    </tr>\n",
       "    <tr>\n",
       "      <th>FoodCourt</th>\n",
       "      <td>8510.0</td>\n",
       "      <td>458.077203</td>\n",
       "      <td>1611.489240</td>\n",
       "      <td>0.0</td>\n",
       "      <td>0.0</td>\n",
       "      <td>0.0</td>\n",
       "      <td>76.0</td>\n",
       "      <td>29813.0</td>\n",
       "    </tr>\n",
       "    <tr>\n",
       "      <th>ShoppingMall</th>\n",
       "      <td>8485.0</td>\n",
       "      <td>173.729169</td>\n",
       "      <td>604.696458</td>\n",
       "      <td>0.0</td>\n",
       "      <td>0.0</td>\n",
       "      <td>0.0</td>\n",
       "      <td>27.0</td>\n",
       "      <td>23492.0</td>\n",
       "    </tr>\n",
       "    <tr>\n",
       "      <th>Spa</th>\n",
       "      <td>8510.0</td>\n",
       "      <td>311.138778</td>\n",
       "      <td>1136.705535</td>\n",
       "      <td>0.0</td>\n",
       "      <td>0.0</td>\n",
       "      <td>0.0</td>\n",
       "      <td>59.0</td>\n",
       "      <td>22408.0</td>\n",
       "    </tr>\n",
       "    <tr>\n",
       "      <th>VRDeck</th>\n",
       "      <td>8505.0</td>\n",
       "      <td>304.854791</td>\n",
       "      <td>1145.717189</td>\n",
       "      <td>0.0</td>\n",
       "      <td>0.0</td>\n",
       "      <td>0.0</td>\n",
       "      <td>46.0</td>\n",
       "      <td>24133.0</td>\n",
       "    </tr>\n",
       "  </tbody>\n",
       "</table>\n",
       "</div>"
      ],
      "text/plain": [
       "               count        mean          std  min   25%   50%   75%      max\n",
       "Age           8514.0   28.827930    14.489021  0.0  19.0  27.0  38.0     79.0\n",
       "RoomService   8512.0  224.687617   666.717663  0.0   0.0   0.0  47.0  14327.0\n",
       "FoodCourt     8510.0  458.077203  1611.489240  0.0   0.0   0.0  76.0  29813.0\n",
       "ShoppingMall  8485.0  173.729169   604.696458  0.0   0.0   0.0  27.0  23492.0\n",
       "Spa           8510.0  311.138778  1136.705535  0.0   0.0   0.0  59.0  22408.0\n",
       "VRDeck        8505.0  304.854791  1145.717189  0.0   0.0   0.0  46.0  24133.0"
      ]
     },
     "execution_count": 14,
     "metadata": {},
     "output_type": "execute_result"
    }
   ],
   "source": [
    "train.describe().T"
   ]
  },
  {
   "cell_type": "code",
   "execution_count": 15,
   "id": "5ea74910",
   "metadata": {
    "execution": {
     "iopub.execute_input": "2022-06-30T12:32:09.052861Z",
     "iopub.status.busy": "2022-06-30T12:32:09.052376Z",
     "iopub.status.idle": "2022-06-30T12:32:09.093663Z",
     "shell.execute_reply": "2022-06-30T12:32:09.092311Z"
    },
    "papermill": {
     "duration": 0.057465,
     "end_time": "2022-06-30T12:32:09.096420",
     "exception": false,
     "start_time": "2022-06-30T12:32:09.038955",
     "status": "completed"
    },
    "tags": []
   },
   "outputs": [
    {
     "data": {
      "text/html": [
       "<div>\n",
       "<style scoped>\n",
       "    .dataframe tbody tr th:only-of-type {\n",
       "        vertical-align: middle;\n",
       "    }\n",
       "\n",
       "    .dataframe tbody tr th {\n",
       "        vertical-align: top;\n",
       "    }\n",
       "\n",
       "    .dataframe thead th {\n",
       "        text-align: right;\n",
       "    }\n",
       "</style>\n",
       "<table border=\"1\" class=\"dataframe\">\n",
       "  <thead>\n",
       "    <tr style=\"text-align: right;\">\n",
       "      <th></th>\n",
       "      <th>count</th>\n",
       "      <th>mean</th>\n",
       "      <th>std</th>\n",
       "      <th>min</th>\n",
       "      <th>25%</th>\n",
       "      <th>50%</th>\n",
       "      <th>75%</th>\n",
       "      <th>max</th>\n",
       "    </tr>\n",
       "  </thead>\n",
       "  <tbody>\n",
       "    <tr>\n",
       "      <th>Age</th>\n",
       "      <td>8514.0</td>\n",
       "      <td>28.827930</td>\n",
       "      <td>14.489021</td>\n",
       "      <td>0.0</td>\n",
       "      <td>19.0</td>\n",
       "      <td>27.0</td>\n",
       "      <td>38.0</td>\n",
       "      <td>79.0</td>\n",
       "    </tr>\n",
       "    <tr>\n",
       "      <th>RoomService</th>\n",
       "      <td>8512.0</td>\n",
       "      <td>224.687617</td>\n",
       "      <td>666.717663</td>\n",
       "      <td>0.0</td>\n",
       "      <td>0.0</td>\n",
       "      <td>0.0</td>\n",
       "      <td>47.0</td>\n",
       "      <td>14327.0</td>\n",
       "    </tr>\n",
       "    <tr>\n",
       "      <th>FoodCourt</th>\n",
       "      <td>8510.0</td>\n",
       "      <td>458.077203</td>\n",
       "      <td>1611.489240</td>\n",
       "      <td>0.0</td>\n",
       "      <td>0.0</td>\n",
       "      <td>0.0</td>\n",
       "      <td>76.0</td>\n",
       "      <td>29813.0</td>\n",
       "    </tr>\n",
       "    <tr>\n",
       "      <th>ShoppingMall</th>\n",
       "      <td>8485.0</td>\n",
       "      <td>173.729169</td>\n",
       "      <td>604.696458</td>\n",
       "      <td>0.0</td>\n",
       "      <td>0.0</td>\n",
       "      <td>0.0</td>\n",
       "      <td>27.0</td>\n",
       "      <td>23492.0</td>\n",
       "    </tr>\n",
       "    <tr>\n",
       "      <th>Spa</th>\n",
       "      <td>8510.0</td>\n",
       "      <td>311.138778</td>\n",
       "      <td>1136.705535</td>\n",
       "      <td>0.0</td>\n",
       "      <td>0.0</td>\n",
       "      <td>0.0</td>\n",
       "      <td>59.0</td>\n",
       "      <td>22408.0</td>\n",
       "    </tr>\n",
       "    <tr>\n",
       "      <th>VRDeck</th>\n",
       "      <td>8505.0</td>\n",
       "      <td>304.854791</td>\n",
       "      <td>1145.717189</td>\n",
       "      <td>0.0</td>\n",
       "      <td>0.0</td>\n",
       "      <td>0.0</td>\n",
       "      <td>46.0</td>\n",
       "      <td>24133.0</td>\n",
       "    </tr>\n",
       "  </tbody>\n",
       "</table>\n",
       "</div>"
      ],
      "text/plain": [
       "               count        mean          std  min   25%   50%   75%      max\n",
       "Age           8514.0   28.827930    14.489021  0.0  19.0  27.0  38.0     79.0\n",
       "RoomService   8512.0  224.687617   666.717663  0.0   0.0   0.0  47.0  14327.0\n",
       "FoodCourt     8510.0  458.077203  1611.489240  0.0   0.0   0.0  76.0  29813.0\n",
       "ShoppingMall  8485.0  173.729169   604.696458  0.0   0.0   0.0  27.0  23492.0\n",
       "Spa           8510.0  311.138778  1136.705535  0.0   0.0   0.0  59.0  22408.0\n",
       "VRDeck        8505.0  304.854791  1145.717189  0.0   0.0   0.0  46.0  24133.0"
      ]
     },
     "execution_count": 15,
     "metadata": {},
     "output_type": "execute_result"
    }
   ],
   "source": [
    "train.describe(include=[\"float64\"]).T"
   ]
  },
  {
   "cell_type": "code",
   "execution_count": 16,
   "id": "00f8ee6f",
   "metadata": {
    "execution": {
     "iopub.execute_input": "2022-06-30T12:32:09.122819Z",
     "iopub.status.busy": "2022-06-30T12:32:09.122075Z",
     "iopub.status.idle": "2022-06-30T12:32:09.175800Z",
     "shell.execute_reply": "2022-06-30T12:32:09.174635Z"
    },
    "papermill": {
     "duration": 0.069658,
     "end_time": "2022-06-30T12:32:09.178426",
     "exception": false,
     "start_time": "2022-06-30T12:32:09.108768",
     "status": "completed"
    },
    "tags": []
   },
   "outputs": [
    {
     "data": {
      "text/html": [
       "<div>\n",
       "<style scoped>\n",
       "    .dataframe tbody tr th:only-of-type {\n",
       "        vertical-align: middle;\n",
       "    }\n",
       "\n",
       "    .dataframe tbody tr th {\n",
       "        vertical-align: top;\n",
       "    }\n",
       "\n",
       "    .dataframe thead th {\n",
       "        text-align: right;\n",
       "    }\n",
       "</style>\n",
       "<table border=\"1\" class=\"dataframe\">\n",
       "  <thead>\n",
       "    <tr style=\"text-align: right;\">\n",
       "      <th></th>\n",
       "      <th>count</th>\n",
       "      <th>unique</th>\n",
       "      <th>top</th>\n",
       "      <th>freq</th>\n",
       "    </tr>\n",
       "  </thead>\n",
       "  <tbody>\n",
       "    <tr>\n",
       "      <th>PassengerId</th>\n",
       "      <td>8693</td>\n",
       "      <td>8693</td>\n",
       "      <td>0001_01</td>\n",
       "      <td>1</td>\n",
       "    </tr>\n",
       "    <tr>\n",
       "      <th>HomePlanet</th>\n",
       "      <td>8492</td>\n",
       "      <td>3</td>\n",
       "      <td>Earth</td>\n",
       "      <td>4602</td>\n",
       "    </tr>\n",
       "    <tr>\n",
       "      <th>CryoSleep</th>\n",
       "      <td>8476</td>\n",
       "      <td>2</td>\n",
       "      <td>False</td>\n",
       "      <td>5439</td>\n",
       "    </tr>\n",
       "    <tr>\n",
       "      <th>Cabin</th>\n",
       "      <td>8494</td>\n",
       "      <td>6560</td>\n",
       "      <td>G/734/S</td>\n",
       "      <td>8</td>\n",
       "    </tr>\n",
       "    <tr>\n",
       "      <th>Destination</th>\n",
       "      <td>8511</td>\n",
       "      <td>3</td>\n",
       "      <td>TRAPPIST-1e</td>\n",
       "      <td>5915</td>\n",
       "    </tr>\n",
       "    <tr>\n",
       "      <th>VIP</th>\n",
       "      <td>8490</td>\n",
       "      <td>2</td>\n",
       "      <td>False</td>\n",
       "      <td>8291</td>\n",
       "    </tr>\n",
       "    <tr>\n",
       "      <th>Name</th>\n",
       "      <td>8493</td>\n",
       "      <td>8473</td>\n",
       "      <td>Gollux Reedall</td>\n",
       "      <td>2</td>\n",
       "    </tr>\n",
       "    <tr>\n",
       "      <th>Transported</th>\n",
       "      <td>8693</td>\n",
       "      <td>2</td>\n",
       "      <td>True</td>\n",
       "      <td>4378</td>\n",
       "    </tr>\n",
       "  </tbody>\n",
       "</table>\n",
       "</div>"
      ],
      "text/plain": [
       "            count unique             top  freq\n",
       "PassengerId  8693   8693         0001_01     1\n",
       "HomePlanet   8492      3           Earth  4602\n",
       "CryoSleep    8476      2           False  5439\n",
       "Cabin        8494   6560         G/734/S     8\n",
       "Destination  8511      3     TRAPPIST-1e  5915\n",
       "VIP          8490      2           False  8291\n",
       "Name         8493   8473  Gollux Reedall     2\n",
       "Transported  8693      2            True  4378"
      ]
     },
     "execution_count": 16,
     "metadata": {},
     "output_type": "execute_result"
    }
   ],
   "source": [
    "# features with object and bool types\n",
    "train.describe(include=[object, bool]).T"
   ]
  },
  {
   "cell_type": "code",
   "execution_count": 17,
   "id": "dc6d1d1d",
   "metadata": {
    "execution": {
     "iopub.execute_input": "2022-06-30T12:32:09.205783Z",
     "iopub.status.busy": "2022-06-30T12:32:09.205069Z",
     "iopub.status.idle": "2022-06-30T12:32:09.306617Z",
     "shell.execute_reply": "2022-06-30T12:32:09.305393Z"
    },
    "papermill": {
     "duration": 0.117743,
     "end_time": "2022-06-30T12:32:09.308923",
     "exception": false,
     "start_time": "2022-06-30T12:32:09.191180",
     "status": "completed"
    },
    "tags": []
   },
   "outputs": [
    {
     "data": {
      "text/html": [
       "<style type=\"text/css\">\n",
       "#T_1083b_row0_col0, #T_1083b_row1_col1, #T_1083b_row2_col2, #T_1083b_row3_col3, #T_1083b_row4_col4, #T_1083b_row5_col5, #T_1083b_row6_col6 {\n",
       "  background-color: #b40426;\n",
       "  color: #f1f1f1;\n",
       "}\n",
       "#T_1083b_row0_col1 {\n",
       "  background-color: #8db0fe;\n",
       "  color: #000000;\n",
       "}\n",
       "#T_1083b_row0_col2 {\n",
       "  background-color: #6788ee;\n",
       "  color: #f1f1f1;\n",
       "}\n",
       "#T_1083b_row0_col3 {\n",
       "  background-color: #485fd1;\n",
       "  color: #f1f1f1;\n",
       "}\n",
       "#T_1083b_row0_col4 {\n",
       "  background-color: #98b9ff;\n",
       "  color: #000000;\n",
       "}\n",
       "#T_1083b_row0_col5 {\n",
       "  background-color: #8fb1fe;\n",
       "  color: #000000;\n",
       "}\n",
       "#T_1083b_row0_col6, #T_1083b_row1_col0 {\n",
       "  background-color: #6485ec;\n",
       "  color: #f1f1f1;\n",
       "}\n",
       "#T_1083b_row1_col2, #T_1083b_row1_col6, #T_1083b_row2_col3, #T_1083b_row3_col2, #T_1083b_row6_col0, #T_1083b_row6_col1, #T_1083b_row6_col4, #T_1083b_row6_col5 {\n",
       "  background-color: #3b4cc0;\n",
       "  color: #f1f1f1;\n",
       "}\n",
       "#T_1083b_row1_col3 {\n",
       "  background-color: #4f69d9;\n",
       "  color: #f1f1f1;\n",
       "}\n",
       "#T_1083b_row1_col4, #T_1083b_row2_col0 {\n",
       "  background-color: #779af7;\n",
       "  color: #f1f1f1;\n",
       "}\n",
       "#T_1083b_row1_col5 {\n",
       "  background-color: #6b8df0;\n",
       "  color: #f1f1f1;\n",
       "}\n",
       "#T_1083b_row2_col1, #T_1083b_row4_col0 {\n",
       "  background-color: #7699f6;\n",
       "  color: #f1f1f1;\n",
       "}\n",
       "#T_1083b_row2_col4, #T_1083b_row2_col5 {\n",
       "  background-color: #b3cdfb;\n",
       "  color: #000000;\n",
       "}\n",
       "#T_1083b_row2_col6, #T_1083b_row4_col2 {\n",
       "  background-color: #86a9fc;\n",
       "  color: #f1f1f1;\n",
       "}\n",
       "#T_1083b_row3_col0 {\n",
       "  background-color: #5977e3;\n",
       "  color: #f1f1f1;\n",
       "}\n",
       "#T_1083b_row3_col1, #T_1083b_row5_col2 {\n",
       "  background-color: #89acfd;\n",
       "  color: #000000;\n",
       "}\n",
       "#T_1083b_row3_col4 {\n",
       "  background-color: #799cf8;\n",
       "  color: #f1f1f1;\n",
       "}\n",
       "#T_1083b_row3_col5 {\n",
       "  background-color: #6f92f3;\n",
       "  color: #f1f1f1;\n",
       "}\n",
       "#T_1083b_row3_col6, #T_1083b_row4_col1 {\n",
       "  background-color: #7da0f9;\n",
       "  color: #f1f1f1;\n",
       "}\n",
       "#T_1083b_row4_col3, #T_1083b_row5_col6 {\n",
       "  background-color: #4358cb;\n",
       "  color: #f1f1f1;\n",
       "}\n",
       "#T_1083b_row4_col5 {\n",
       "  background-color: #9ebeff;\n",
       "  color: #000000;\n",
       "}\n",
       "#T_1083b_row4_col6 {\n",
       "  background-color: #3f53c6;\n",
       "  color: #f1f1f1;\n",
       "}\n",
       "#T_1083b_row5_col0 {\n",
       "  background-color: #6e90f2;\n",
       "  color: #f1f1f1;\n",
       "}\n",
       "#T_1083b_row5_col1 {\n",
       "  background-color: #7597f6;\n",
       "  color: #f1f1f1;\n",
       "}\n",
       "#T_1083b_row5_col3 {\n",
       "  background-color: #3c4ec2;\n",
       "  color: #f1f1f1;\n",
       "}\n",
       "#T_1083b_row5_col4 {\n",
       "  background-color: #a1c0ff;\n",
       "  color: #000000;\n",
       "}\n",
       "#T_1083b_row6_col2 {\n",
       "  background-color: #4c66d6;\n",
       "  color: #f1f1f1;\n",
       "}\n",
       "#T_1083b_row6_col3 {\n",
       "  background-color: #4257c9;\n",
       "  color: #f1f1f1;\n",
       "}\n",
       "</style>\n",
       "<table id=\"T_1083b_\">\n",
       "  <thead>\n",
       "    <tr>\n",
       "      <th class=\"blank level0\" >&nbsp;</th>\n",
       "      <th class=\"col_heading level0 col0\" >Age</th>\n",
       "      <th class=\"col_heading level0 col1\" >RoomService</th>\n",
       "      <th class=\"col_heading level0 col2\" >FoodCourt</th>\n",
       "      <th class=\"col_heading level0 col3\" >ShoppingMall</th>\n",
       "      <th class=\"col_heading level0 col4\" >Spa</th>\n",
       "      <th class=\"col_heading level0 col5\" >VRDeck</th>\n",
       "      <th class=\"col_heading level0 col6\" >Transported</th>\n",
       "    </tr>\n",
       "  </thead>\n",
       "  <tbody>\n",
       "    <tr>\n",
       "      <th id=\"T_1083b_level0_row0\" class=\"row_heading level0 row0\" >Age</th>\n",
       "      <td id=\"T_1083b_row0_col0\" class=\"data row0 col0\" >1.000000</td>\n",
       "      <td id=\"T_1083b_row0_col1\" class=\"data row0 col1\" >0.068723</td>\n",
       "      <td id=\"T_1083b_row0_col2\" class=\"data row0 col2\" >0.130421</td>\n",
       "      <td id=\"T_1083b_row0_col3\" class=\"data row0 col3\" >0.033133</td>\n",
       "      <td id=\"T_1083b_row0_col4\" class=\"data row0 col4\" >0.123970</td>\n",
       "      <td id=\"T_1083b_row0_col5\" class=\"data row0 col5\" >0.101007</td>\n",
       "      <td id=\"T_1083b_row0_col6\" class=\"data row0 col6\" >-0.075026</td>\n",
       "    </tr>\n",
       "    <tr>\n",
       "      <th id=\"T_1083b_level0_row1\" class=\"row_heading level0 row1\" >RoomService</th>\n",
       "      <td id=\"T_1083b_row1_col0\" class=\"data row1 col0\" >0.068723</td>\n",
       "      <td id=\"T_1083b_row1_col1\" class=\"data row1 col1\" >1.000000</td>\n",
       "      <td id=\"T_1083b_row1_col2\" class=\"data row1 col2\" >-0.015889</td>\n",
       "      <td id=\"T_1083b_row1_col3\" class=\"data row1 col3\" >0.054480</td>\n",
       "      <td id=\"T_1083b_row1_col4\" class=\"data row1 col4\" >0.010080</td>\n",
       "      <td id=\"T_1083b_row1_col5\" class=\"data row1 col5\" >-0.019581</td>\n",
       "      <td id=\"T_1083b_row1_col6\" class=\"data row1 col6\" >-0.244611</td>\n",
       "    </tr>\n",
       "    <tr>\n",
       "      <th id=\"T_1083b_level0_row2\" class=\"row_heading level0 row2\" >FoodCourt</th>\n",
       "      <td id=\"T_1083b_row2_col0\" class=\"data row2 col0\" >0.130421</td>\n",
       "      <td id=\"T_1083b_row2_col1\" class=\"data row2 col1\" >-0.015889</td>\n",
       "      <td id=\"T_1083b_row2_col2\" class=\"data row2 col2\" >1.000000</td>\n",
       "      <td id=\"T_1083b_row2_col3\" class=\"data row2 col3\" >-0.014228</td>\n",
       "      <td id=\"T_1083b_row2_col4\" class=\"data row2 col4\" >0.221891</td>\n",
       "      <td id=\"T_1083b_row2_col5\" class=\"data row2 col5\" >0.227995</td>\n",
       "      <td id=\"T_1083b_row2_col6\" class=\"data row2 col6\" >0.046566</td>\n",
       "    </tr>\n",
       "    <tr>\n",
       "      <th id=\"T_1083b_level0_row3\" class=\"row_heading level0 row3\" >ShoppingMall</th>\n",
       "      <td id=\"T_1083b_row3_col0\" class=\"data row3 col0\" >0.033133</td>\n",
       "      <td id=\"T_1083b_row3_col1\" class=\"data row3 col1\" >0.054480</td>\n",
       "      <td id=\"T_1083b_row3_col2\" class=\"data row3 col2\" >-0.014228</td>\n",
       "      <td id=\"T_1083b_row3_col3\" class=\"data row3 col3\" >1.000000</td>\n",
       "      <td id=\"T_1083b_row3_col4\" class=\"data row3 col4\" >0.013879</td>\n",
       "      <td id=\"T_1083b_row3_col5\" class=\"data row3 col5\" >-0.007322</td>\n",
       "      <td id=\"T_1083b_row3_col6\" class=\"data row3 col6\" >0.010141</td>\n",
       "    </tr>\n",
       "    <tr>\n",
       "      <th id=\"T_1083b_level0_row4\" class=\"row_heading level0 row4\" >Spa</th>\n",
       "      <td id=\"T_1083b_row4_col0\" class=\"data row4 col0\" >0.123970</td>\n",
       "      <td id=\"T_1083b_row4_col1\" class=\"data row4 col1\" >0.010080</td>\n",
       "      <td id=\"T_1083b_row4_col2\" class=\"data row4 col2\" >0.221891</td>\n",
       "      <td id=\"T_1083b_row4_col3\" class=\"data row4 col3\" >0.013879</td>\n",
       "      <td id=\"T_1083b_row4_col4\" class=\"data row4 col4\" >1.000000</td>\n",
       "      <td id=\"T_1083b_row4_col5\" class=\"data row4 col5\" >0.153821</td>\n",
       "      <td id=\"T_1083b_row4_col6\" class=\"data row4 col6\" >-0.221131</td>\n",
       "    </tr>\n",
       "    <tr>\n",
       "      <th id=\"T_1083b_level0_row5\" class=\"row_heading level0 row5\" >VRDeck</th>\n",
       "      <td id=\"T_1083b_row5_col0\" class=\"data row5 col0\" >0.101007</td>\n",
       "      <td id=\"T_1083b_row5_col1\" class=\"data row5 col1\" >-0.019581</td>\n",
       "      <td id=\"T_1083b_row5_col2\" class=\"data row5 col2\" >0.227995</td>\n",
       "      <td id=\"T_1083b_row5_col3\" class=\"data row5 col3\" >-0.007322</td>\n",
       "      <td id=\"T_1083b_row5_col4\" class=\"data row5 col4\" >0.153821</td>\n",
       "      <td id=\"T_1083b_row5_col5\" class=\"data row5 col5\" >1.000000</td>\n",
       "      <td id=\"T_1083b_row5_col6\" class=\"data row5 col6\" >-0.207075</td>\n",
       "    </tr>\n",
       "    <tr>\n",
       "      <th id=\"T_1083b_level0_row6\" class=\"row_heading level0 row6\" >Transported</th>\n",
       "      <td id=\"T_1083b_row6_col0\" class=\"data row6 col0\" >-0.075026</td>\n",
       "      <td id=\"T_1083b_row6_col1\" class=\"data row6 col1\" >-0.244611</td>\n",
       "      <td id=\"T_1083b_row6_col2\" class=\"data row6 col2\" >0.046566</td>\n",
       "      <td id=\"T_1083b_row6_col3\" class=\"data row6 col3\" >0.010141</td>\n",
       "      <td id=\"T_1083b_row6_col4\" class=\"data row6 col4\" >-0.221131</td>\n",
       "      <td id=\"T_1083b_row6_col5\" class=\"data row6 col5\" >-0.207075</td>\n",
       "      <td id=\"T_1083b_row6_col6\" class=\"data row6 col6\" >1.000000</td>\n",
       "    </tr>\n",
       "  </tbody>\n",
       "</table>\n"
      ],
      "text/plain": [
       "<pandas.io.formats.style.Styler at 0x7fb0fd2647d0>"
      ]
     },
     "execution_count": 17,
     "metadata": {},
     "output_type": "execute_result"
    }
   ],
   "source": [
    "corr = train.corr()\n",
    "corr.style.background_gradient(cmap=\"coolwarm\")"
   ]
  },
  {
   "cell_type": "code",
   "execution_count": 18,
   "id": "e17ef45e",
   "metadata": {
    "execution": {
     "iopub.execute_input": "2022-06-30T12:32:09.336742Z",
     "iopub.status.busy": "2022-06-30T12:32:09.336269Z",
     "iopub.status.idle": "2022-06-30T12:32:09.392077Z",
     "shell.execute_reply": "2022-06-30T12:32:09.390902Z"
    },
    "papermill": {
     "duration": 0.072636,
     "end_time": "2022-06-30T12:32:09.394832",
     "exception": false,
     "start_time": "2022-06-30T12:32:09.322196",
     "status": "completed"
    },
    "tags": []
   },
   "outputs": [
    {
     "data": {
      "text/html": [
       "<div>\n",
       "<style scoped>\n",
       "    .dataframe tbody tr th:only-of-type {\n",
       "        vertical-align: middle;\n",
       "    }\n",
       "\n",
       "    .dataframe tbody tr th {\n",
       "        vertical-align: top;\n",
       "    }\n",
       "\n",
       "    .dataframe thead th {\n",
       "        text-align: right;\n",
       "    }\n",
       "</style>\n",
       "<table border=\"1\" class=\"dataframe\">\n",
       "  <thead>\n",
       "    <tr style=\"text-align: right;\">\n",
       "      <th></th>\n",
       "      <th>PassengerId</th>\n",
       "      <th>HomePlanet</th>\n",
       "      <th>CryoSleep</th>\n",
       "      <th>Cabin</th>\n",
       "      <th>Destination</th>\n",
       "      <th>Age</th>\n",
       "      <th>VIP</th>\n",
       "      <th>RoomService</th>\n",
       "      <th>FoodCourt</th>\n",
       "      <th>ShoppingMall</th>\n",
       "      <th>Spa</th>\n",
       "      <th>VRDeck</th>\n",
       "      <th>Name</th>\n",
       "      <th>Transported</th>\n",
       "    </tr>\n",
       "  </thead>\n",
       "  <tbody>\n",
       "    <tr>\n",
       "      <th>0</th>\n",
       "      <td>0001_01</td>\n",
       "      <td>Europa</td>\n",
       "      <td>0.0</td>\n",
       "      <td>B/0/P</td>\n",
       "      <td>TRAPPIST-1e</td>\n",
       "      <td>39.0</td>\n",
       "      <td>0.0</td>\n",
       "      <td>0.0</td>\n",
       "      <td>0.0</td>\n",
       "      <td>0.0</td>\n",
       "      <td>0.0</td>\n",
       "      <td>0.0</td>\n",
       "      <td>Maham Ofracculy</td>\n",
       "      <td>0</td>\n",
       "    </tr>\n",
       "    <tr>\n",
       "      <th>1</th>\n",
       "      <td>0002_01</td>\n",
       "      <td>Earth</td>\n",
       "      <td>0.0</td>\n",
       "      <td>F/0/S</td>\n",
       "      <td>TRAPPIST-1e</td>\n",
       "      <td>24.0</td>\n",
       "      <td>0.0</td>\n",
       "      <td>109.0</td>\n",
       "      <td>9.0</td>\n",
       "      <td>25.0</td>\n",
       "      <td>549.0</td>\n",
       "      <td>44.0</td>\n",
       "      <td>Juanna Vines</td>\n",
       "      <td>1</td>\n",
       "    </tr>\n",
       "    <tr>\n",
       "      <th>2</th>\n",
       "      <td>0003_01</td>\n",
       "      <td>Europa</td>\n",
       "      <td>0.0</td>\n",
       "      <td>A/0/S</td>\n",
       "      <td>TRAPPIST-1e</td>\n",
       "      <td>58.0</td>\n",
       "      <td>1.0</td>\n",
       "      <td>43.0</td>\n",
       "      <td>3576.0</td>\n",
       "      <td>0.0</td>\n",
       "      <td>6715.0</td>\n",
       "      <td>49.0</td>\n",
       "      <td>Altark Susent</td>\n",
       "      <td>0</td>\n",
       "    </tr>\n",
       "    <tr>\n",
       "      <th>3</th>\n",
       "      <td>0003_02</td>\n",
       "      <td>Europa</td>\n",
       "      <td>0.0</td>\n",
       "      <td>A/0/S</td>\n",
       "      <td>TRAPPIST-1e</td>\n",
       "      <td>33.0</td>\n",
       "      <td>0.0</td>\n",
       "      <td>0.0</td>\n",
       "      <td>1283.0</td>\n",
       "      <td>371.0</td>\n",
       "      <td>3329.0</td>\n",
       "      <td>193.0</td>\n",
       "      <td>Solam Susent</td>\n",
       "      <td>0</td>\n",
       "    </tr>\n",
       "    <tr>\n",
       "      <th>4</th>\n",
       "      <td>0004_01</td>\n",
       "      <td>Earth</td>\n",
       "      <td>0.0</td>\n",
       "      <td>F/1/S</td>\n",
       "      <td>TRAPPIST-1e</td>\n",
       "      <td>16.0</td>\n",
       "      <td>0.0</td>\n",
       "      <td>303.0</td>\n",
       "      <td>70.0</td>\n",
       "      <td>151.0</td>\n",
       "      <td>565.0</td>\n",
       "      <td>2.0</td>\n",
       "      <td>Willy Santantines</td>\n",
       "      <td>1</td>\n",
       "    </tr>\n",
       "  </tbody>\n",
       "</table>\n",
       "</div>"
      ],
      "text/plain": [
       "  PassengerId HomePlanet  CryoSleep  Cabin  Destination   Age  VIP  \\\n",
       "0     0001_01     Europa        0.0  B/0/P  TRAPPIST-1e  39.0  0.0   \n",
       "1     0002_01      Earth        0.0  F/0/S  TRAPPIST-1e  24.0  0.0   \n",
       "2     0003_01     Europa        0.0  A/0/S  TRAPPIST-1e  58.0  1.0   \n",
       "3     0003_02     Europa        0.0  A/0/S  TRAPPIST-1e  33.0  0.0   \n",
       "4     0004_01      Earth        0.0  F/1/S  TRAPPIST-1e  16.0  0.0   \n",
       "\n",
       "   RoomService  FoodCourt  ShoppingMall     Spa  VRDeck               Name  \\\n",
       "0          0.0        0.0           0.0     0.0     0.0    Maham Ofracculy   \n",
       "1        109.0        9.0          25.0   549.0    44.0       Juanna Vines   \n",
       "2         43.0     3576.0           0.0  6715.0    49.0      Altark Susent   \n",
       "3          0.0     1283.0         371.0  3329.0   193.0       Solam Susent   \n",
       "4        303.0       70.0         151.0   565.0     2.0  Willy Santantines   \n",
       "\n",
       "   Transported  \n",
       "0            0  \n",
       "1            1  \n",
       "2            0  \n",
       "3            0  \n",
       "4            1  "
      ]
     },
     "execution_count": 18,
     "metadata": {},
     "output_type": "execute_result"
    }
   ],
   "source": [
    "train[TARGET] = train[TARGET].replace({True: 1, False: 0})\n",
    "train[\"VIP\"] = train[\"VIP\"].replace({True: 1, False: 0})  # .astype(int)\n",
    "train[\"CryoSleep\"] = train[\"CryoSleep\"].replace({True: 1, False: 0})  # .astype(int)\n",
    "train.head()"
   ]
  },
  {
   "cell_type": "code",
   "execution_count": 19,
   "id": "82105113",
   "metadata": {
    "execution": {
     "iopub.execute_input": "2022-06-30T12:32:09.425468Z",
     "iopub.status.busy": "2022-06-30T12:32:09.425000Z",
     "iopub.status.idle": "2022-06-30T12:32:09.447896Z",
     "shell.execute_reply": "2022-06-30T12:32:09.446735Z"
    },
    "papermill": {
     "duration": 0.041294,
     "end_time": "2022-06-30T12:32:09.450829",
     "exception": false,
     "start_time": "2022-06-30T12:32:09.409535",
     "status": "completed"
    },
    "tags": []
   },
   "outputs": [
    {
     "name": "stdout",
     "output_type": "stream",
     "text": [
      "<class 'pandas.core.frame.DataFrame'>\n",
      "RangeIndex: 8693 entries, 0 to 8692\n",
      "Data columns (total 14 columns):\n",
      " #   Column        Non-Null Count  Dtype  \n",
      "---  ------        --------------  -----  \n",
      " 0   PassengerId   8693 non-null   object \n",
      " 1   HomePlanet    8492 non-null   object \n",
      " 2   CryoSleep     8476 non-null   float64\n",
      " 3   Cabin         8494 non-null   object \n",
      " 4   Destination   8511 non-null   object \n",
      " 5   Age           8514 non-null   float64\n",
      " 6   VIP           8490 non-null   float64\n",
      " 7   RoomService   8512 non-null   float64\n",
      " 8   FoodCourt     8510 non-null   float64\n",
      " 9   ShoppingMall  8485 non-null   float64\n",
      " 10  Spa           8510 non-null   float64\n",
      " 11  VRDeck        8505 non-null   float64\n",
      " 12  Name          8493 non-null   object \n",
      " 13  Transported   8693 non-null   int64  \n",
      "dtypes: float64(8), int64(1), object(5)\n",
      "memory usage: 950.9+ KB\n"
     ]
    }
   ],
   "source": [
    "train.info()"
   ]
  },
  {
   "cell_type": "code",
   "execution_count": 20,
   "id": "bb8bf4b0",
   "metadata": {
    "execution": {
     "iopub.execute_input": "2022-06-30T12:32:09.479239Z",
     "iopub.status.busy": "2022-06-30T12:32:09.478180Z",
     "iopub.status.idle": "2022-06-30T12:32:09.485838Z",
     "shell.execute_reply": "2022-06-30T12:32:09.484802Z"
    },
    "papermill": {
     "duration": 0.024487,
     "end_time": "2022-06-30T12:32:09.488411",
     "exception": false,
     "start_time": "2022-06-30T12:32:09.463924",
     "status": "completed"
    },
    "tags": []
   },
   "outputs": [
    {
     "name": "stdout",
     "output_type": "stream",
     "text": [
      "CPU times: user 3 µs, sys: 1 µs, total: 4 µs\n",
      "Wall time: 9.3 µs\n"
     ]
    }
   ],
   "source": [
    "%%time\n",
    "# sns.pairplot(train, hue=\"Transported\", height=3, diag_kind=\"hist\")\n",
    "# # sns.pairplot(train, height=3, diag_kind=\"hist\")\n",
    "# plt.show()"
   ]
  },
  {
   "cell_type": "markdown",
   "id": "5d7909bb",
   "metadata": {
    "papermill": {
     "duration": 0.012384,
     "end_time": "2022-06-30T12:32:09.513879",
     "exception": false,
     "start_time": "2022-06-30T12:32:09.501495",
     "status": "completed"
    },
    "tags": []
   },
   "source": [
    "<div style=\"background-color:rgba(128, 0, 128, 0.6);border-radius:5px;display:fill\"><h1 style=\"text-align: center;padding: 12px 0px 12px 0px;\">Missing Values</h1>\n",
    "</div>"
   ]
  },
  {
   "cell_type": "code",
   "execution_count": 21,
   "id": "bbcbc37c",
   "metadata": {
    "execution": {
     "iopub.execute_input": "2022-06-30T12:32:09.541862Z",
     "iopub.status.busy": "2022-06-30T12:32:09.541338Z",
     "iopub.status.idle": "2022-06-30T12:32:09.571810Z",
     "shell.execute_reply": "2022-06-30T12:32:09.570817Z"
    },
    "papermill": {
     "duration": 0.047808,
     "end_time": "2022-06-30T12:32:09.574579",
     "exception": false,
     "start_time": "2022-06-30T12:32:09.526771",
     "status": "completed"
    },
    "tags": []
   },
   "outputs": [
    {
     "name": "stdout",
     "output_type": "stream",
     "text": [
      "===== Missing Training Data =====\n",
      "HomePlanet      201\n",
      "CryoSleep       217\n",
      "Cabin           199\n",
      "Destination     182\n",
      "Age             179\n",
      "VIP             203\n",
      "RoomService     181\n",
      "FoodCourt       183\n",
      "ShoppingMall    208\n",
      "Spa             183\n",
      "VRDeck          188\n",
      "Name            200\n",
      "dtype: int64\n",
      "===== Missing Test Data =====\n",
      "HomePlanet       87\n",
      "CryoSleep        93\n",
      "Cabin           100\n",
      "Destination      92\n",
      "Age              91\n",
      "VIP              93\n",
      "RoomService      82\n",
      "FoodCourt       106\n",
      "ShoppingMall     98\n",
      "Spa             101\n",
      "VRDeck           80\n",
      "Name             94\n",
      "dtype: int64\n"
     ]
    }
   ],
   "source": [
    "print(\"=\" * 5, \"Missing Training Data\", \"=\" * 5)\n",
    "missing_vals = train.isna().sum()\n",
    "print(missing_vals[missing_vals > 0])\n",
    "print(\"=\" * 5, \"Missing Test Data\", \"=\" * 5)\n",
    "missing_vals = test.isna().sum()\n",
    "print(missing_vals[missing_vals > 0])"
   ]
  },
  {
   "cell_type": "markdown",
   "id": "b03a2751",
   "metadata": {
    "papermill": {
     "duration": 0.012799,
     "end_time": "2022-06-30T12:32:09.600699",
     "exception": false,
     "start_time": "2022-06-30T12:32:09.587900",
     "status": "completed"
    },
    "tags": []
   },
   "source": [
    "- https://www.kaggle.com/code/hamzaghanmi/let-s-use-keras-tensorflow"
   ]
  },
  {
   "cell_type": "code",
   "execution_count": 22,
   "id": "c418122b",
   "metadata": {
    "execution": {
     "iopub.execute_input": "2022-06-30T12:32:09.628961Z",
     "iopub.status.busy": "2022-06-30T12:32:09.628421Z",
     "iopub.status.idle": "2022-06-30T12:32:09.659378Z",
     "shell.execute_reply": "2022-06-30T12:32:09.658578Z"
    },
    "papermill": {
     "duration": 0.048068,
     "end_time": "2022-06-30T12:32:09.661861",
     "exception": false,
     "start_time": "2022-06-30T12:32:09.613793",
     "status": "completed"
    },
    "tags": []
   },
   "outputs": [
    {
     "data": {
      "text/html": [
       "<div>\n",
       "<style scoped>\n",
       "    .dataframe tbody tr th:only-of-type {\n",
       "        vertical-align: middle;\n",
       "    }\n",
       "\n",
       "    .dataframe tbody tr th {\n",
       "        vertical-align: top;\n",
       "    }\n",
       "\n",
       "    .dataframe thead th {\n",
       "        text-align: right;\n",
       "    }\n",
       "</style>\n",
       "<table border=\"1\" class=\"dataframe\">\n",
       "  <thead>\n",
       "    <tr style=\"text-align: right;\">\n",
       "      <th></th>\n",
       "      <th>NaN_sum</th>\n",
       "      <th>Percentage(%)</th>\n",
       "    </tr>\n",
       "  </thead>\n",
       "  <tbody>\n",
       "    <tr>\n",
       "      <th>Age</th>\n",
       "      <td>179</td>\n",
       "      <td>2.059128</td>\n",
       "    </tr>\n",
       "    <tr>\n",
       "      <th>RoomService</th>\n",
       "      <td>181</td>\n",
       "      <td>2.082135</td>\n",
       "    </tr>\n",
       "    <tr>\n",
       "      <th>Destination</th>\n",
       "      <td>182</td>\n",
       "      <td>2.093639</td>\n",
       "    </tr>\n",
       "    <tr>\n",
       "      <th>FoodCourt</th>\n",
       "      <td>183</td>\n",
       "      <td>2.105142</td>\n",
       "    </tr>\n",
       "    <tr>\n",
       "      <th>Spa</th>\n",
       "      <td>183</td>\n",
       "      <td>2.105142</td>\n",
       "    </tr>\n",
       "    <tr>\n",
       "      <th>VRDeck</th>\n",
       "      <td>188</td>\n",
       "      <td>2.162660</td>\n",
       "    </tr>\n",
       "    <tr>\n",
       "      <th>Cabin</th>\n",
       "      <td>199</td>\n",
       "      <td>2.289198</td>\n",
       "    </tr>\n",
       "    <tr>\n",
       "      <th>Name</th>\n",
       "      <td>200</td>\n",
       "      <td>2.300702</td>\n",
       "    </tr>\n",
       "    <tr>\n",
       "      <th>HomePlanet</th>\n",
       "      <td>201</td>\n",
       "      <td>2.312205</td>\n",
       "    </tr>\n",
       "    <tr>\n",
       "      <th>VIP</th>\n",
       "      <td>203</td>\n",
       "      <td>2.335212</td>\n",
       "    </tr>\n",
       "    <tr>\n",
       "      <th>ShoppingMall</th>\n",
       "      <td>208</td>\n",
       "      <td>2.392730</td>\n",
       "    </tr>\n",
       "    <tr>\n",
       "      <th>CryoSleep</th>\n",
       "      <td>217</td>\n",
       "      <td>2.496261</td>\n",
       "    </tr>\n",
       "  </tbody>\n",
       "</table>\n",
       "</div>"
      ],
      "text/plain": [
       "              NaN_sum  Percentage(%)\n",
       "Age               179       2.059128\n",
       "RoomService       181       2.082135\n",
       "Destination       182       2.093639\n",
       "FoodCourt         183       2.105142\n",
       "Spa               183       2.105142\n",
       "VRDeck            188       2.162660\n",
       "Cabin             199       2.289198\n",
       "Name              200       2.300702\n",
       "HomePlanet        201       2.312205\n",
       "VIP               203       2.335212\n",
       "ShoppingMall      208       2.392730\n",
       "CryoSleep         217       2.496261"
      ]
     },
     "execution_count": 22,
     "metadata": {},
     "output_type": "execute_result"
    }
   ],
   "source": [
    "# Looking at NaN % within the train data\n",
    "nan = pd.DataFrame(train.isna().sum(), columns=[\"NaN_sum\"])\n",
    "nan[\"Percentage(%)\"] = (nan[\"NaN_sum\"] / len(train)) * 100\n",
    "nan = nan[nan[\"NaN_sum\"] > 0]\n",
    "nan = nan.sort_values(by=[\"NaN_sum\"])\n",
    "nan"
   ]
  },
  {
   "cell_type": "code",
   "execution_count": 23,
   "id": "4aa53534",
   "metadata": {
    "execution": {
     "iopub.execute_input": "2022-06-30T12:32:09.690433Z",
     "iopub.status.busy": "2022-06-30T12:32:09.689745Z",
     "iopub.status.idle": "2022-06-30T12:32:10.008706Z",
     "shell.execute_reply": "2022-06-30T12:32:10.007066Z"
    },
    "papermill": {
     "duration": 0.336602,
     "end_time": "2022-06-30T12:32:10.011679",
     "exception": false,
     "start_time": "2022-06-30T12:32:09.675077",
     "status": "completed"
    },
    "tags": []
   },
   "outputs": [
    {
     "data": {
      "image/png": "[encoded data removed]",
      "text/plain": [
       "<Figure size 1080x360 with 1 Axes>"
      ]
     },
     "metadata": {
      "needs_background": "light"
     },
     "output_type": "display_data"
    }
   ],
   "source": [
    "# Plotting Nan\n",
    "\n",
    "plt.figure(figsize=(15, 5))\n",
    "sns.barplot(x=nan.index, y=nan[\"Percentage(%)\"])\n",
    "plt.xticks(rotation=45)\n",
    "plt.title(\"Features containing Nan\")\n",
    "plt.xlabel(\"Features\")\n",
    "plt.ylabel(\"% of Missing Data\")\n",
    "plt.show()"
   ]
  },
  {
   "cell_type": "markdown",
   "id": "32938947",
   "metadata": {
    "papermill": {
     "duration": 0.015324,
     "end_time": "2022-06-30T12:32:10.042215",
     "exception": false,
     "start_time": "2022-06-30T12:32:10.026891",
     "status": "completed"
    },
    "tags": []
   },
   "source": [
    "- https://www.kaggle.com/code/shilongzhuang/space-titanic-a-beginner-guide-80-24-accuracy"
   ]
  },
  {
   "cell_type": "code",
   "execution_count": 24,
   "id": "7ce58a90",
   "metadata": {
    "execution": {
     "iopub.execute_input": "2022-06-30T12:32:10.075507Z",
     "iopub.status.busy": "2022-06-30T12:32:10.074079Z",
     "iopub.status.idle": "2022-06-30T12:32:10.100427Z",
     "shell.execute_reply": "2022-06-30T12:32:10.098972Z"
    },
    "papermill": {
     "duration": 0.045782,
     "end_time": "2022-06-30T12:32:10.103359",
     "exception": false,
     "start_time": "2022-06-30T12:32:10.057577",
     "status": "completed"
    },
    "tags": []
   },
   "outputs": [],
   "source": [
    "def missing_values(df):\n",
    "    # Calculate missing value and their percentage for each feature\n",
    "    missing_percent = df.isnull().sum() * 100 / df.shape[0]\n",
    "    df_missing_percent = pd.DataFrame(missing_percent).round(2)\n",
    "    df_missing_percent = df_missing_percent.reset_index().rename(\n",
    "        columns={\"index\": \"Feature\", 0: \"Missing Percentage (%)\"}\n",
    "    )\n",
    "    df_missing_value = df.isnull().sum()\n",
    "    df_missing_value = df_missing_value.reset_index().rename(\n",
    "        columns={\"index\": \"Feature\", 0: \"Missing Values\"}\n",
    "    )\n",
    "\n",
    "    final = df_missing_value.merge(\n",
    "        df_missing_percent, how=\"inner\", left_on=\"Feature\", right_on=\"Feature\"\n",
    "    )\n",
    "    final = final.sort_values(by=\"Missing Percentage (%)\", ascending=False)\n",
    "    return final"
   ]
  },
  {
   "cell_type": "code",
   "execution_count": 25,
   "id": "df45217f",
   "metadata": {
    "execution": {
     "iopub.execute_input": "2022-06-30T12:32:10.135417Z",
     "iopub.status.busy": "2022-06-30T12:32:10.134869Z",
     "iopub.status.idle": "2022-06-30T12:32:10.181961Z",
     "shell.execute_reply": "2022-06-30T12:32:10.180718Z"
    },
    "papermill": {
     "duration": 0.066104,
     "end_time": "2022-06-30T12:32:10.184477",
     "exception": false,
     "start_time": "2022-06-30T12:32:10.118373",
     "status": "completed"
    },
    "tags": []
   },
   "outputs": [
    {
     "data": {
      "text/html": [
       "<div>\n",
       "<style scoped>\n",
       "    .dataframe tbody tr th:only-of-type {\n",
       "        vertical-align: middle;\n",
       "    }\n",
       "\n",
       "    .dataframe tbody tr th {\n",
       "        vertical-align: top;\n",
       "    }\n",
       "\n",
       "    .dataframe thead th {\n",
       "        text-align: right;\n",
       "    }\n",
       "</style>\n",
       "<table border=\"1\" class=\"dataframe\">\n",
       "  <thead>\n",
       "    <tr style=\"text-align: right;\">\n",
       "      <th></th>\n",
       "      <th>Feature</th>\n",
       "      <th>Missing Values</th>\n",
       "      <th>Missing Percentage (%)</th>\n",
       "    </tr>\n",
       "  </thead>\n",
       "  <tbody>\n",
       "    <tr>\n",
       "      <th>2</th>\n",
       "      <td>CryoSleep</td>\n",
       "      <td>217</td>\n",
       "      <td>2.50</td>\n",
       "    </tr>\n",
       "    <tr>\n",
       "      <th>9</th>\n",
       "      <td>ShoppingMall</td>\n",
       "      <td>208</td>\n",
       "      <td>2.39</td>\n",
       "    </tr>\n",
       "    <tr>\n",
       "      <th>6</th>\n",
       "      <td>VIP</td>\n",
       "      <td>203</td>\n",
       "      <td>2.34</td>\n",
       "    </tr>\n",
       "    <tr>\n",
       "      <th>1</th>\n",
       "      <td>HomePlanet</td>\n",
       "      <td>201</td>\n",
       "      <td>2.31</td>\n",
       "    </tr>\n",
       "    <tr>\n",
       "      <th>12</th>\n",
       "      <td>Name</td>\n",
       "      <td>200</td>\n",
       "      <td>2.30</td>\n",
       "    </tr>\n",
       "    <tr>\n",
       "      <th>3</th>\n",
       "      <td>Cabin</td>\n",
       "      <td>199</td>\n",
       "      <td>2.29</td>\n",
       "    </tr>\n",
       "    <tr>\n",
       "      <th>11</th>\n",
       "      <td>VRDeck</td>\n",
       "      <td>188</td>\n",
       "      <td>2.16</td>\n",
       "    </tr>\n",
       "    <tr>\n",
       "      <th>8</th>\n",
       "      <td>FoodCourt</td>\n",
       "      <td>183</td>\n",
       "      <td>2.11</td>\n",
       "    </tr>\n",
       "    <tr>\n",
       "      <th>10</th>\n",
       "      <td>Spa</td>\n",
       "      <td>183</td>\n",
       "      <td>2.11</td>\n",
       "    </tr>\n",
       "    <tr>\n",
       "      <th>4</th>\n",
       "      <td>Destination</td>\n",
       "      <td>182</td>\n",
       "      <td>2.09</td>\n",
       "    </tr>\n",
       "    <tr>\n",
       "      <th>7</th>\n",
       "      <td>RoomService</td>\n",
       "      <td>181</td>\n",
       "      <td>2.08</td>\n",
       "    </tr>\n",
       "    <tr>\n",
       "      <th>5</th>\n",
       "      <td>Age</td>\n",
       "      <td>179</td>\n",
       "      <td>2.06</td>\n",
       "    </tr>\n",
       "    <tr>\n",
       "      <th>0</th>\n",
       "      <td>PassengerId</td>\n",
       "      <td>0</td>\n",
       "      <td>0.00</td>\n",
       "    </tr>\n",
       "    <tr>\n",
       "      <th>13</th>\n",
       "      <td>Transported</td>\n",
       "      <td>0</td>\n",
       "      <td>0.00</td>\n",
       "    </tr>\n",
       "  </tbody>\n",
       "</table>\n",
       "</div>"
      ],
      "text/plain": [
       "         Feature  Missing Values  Missing Percentage (%)\n",
       "2      CryoSleep             217                    2.50\n",
       "9   ShoppingMall             208                    2.39\n",
       "6            VIP             203                    2.34\n",
       "1     HomePlanet             201                    2.31\n",
       "12          Name             200                    2.30\n",
       "3          Cabin             199                    2.29\n",
       "11        VRDeck             188                    2.16\n",
       "8      FoodCourt             183                    2.11\n",
       "10           Spa             183                    2.11\n",
       "4    Destination             182                    2.09\n",
       "7    RoomService             181                    2.08\n",
       "5            Age             179                    2.06\n",
       "0    PassengerId               0                    0.00\n",
       "13   Transported               0                    0.00"
      ]
     },
     "execution_count": 25,
     "metadata": {},
     "output_type": "execute_result"
    }
   ],
   "source": [
    "missing_values(train)"
   ]
  },
  {
   "cell_type": "code",
   "execution_count": 26,
   "id": "97766e44",
   "metadata": {
    "execution": {
     "iopub.execute_input": "2022-06-30T12:32:10.214887Z",
     "iopub.status.busy": "2022-06-30T12:32:10.214376Z",
     "iopub.status.idle": "2022-06-30T12:32:10.248114Z",
     "shell.execute_reply": "2022-06-30T12:32:10.246747Z"
    },
    "papermill": {
     "duration": 0.052039,
     "end_time": "2022-06-30T12:32:10.250683",
     "exception": false,
     "start_time": "2022-06-30T12:32:10.198644",
     "status": "completed"
    },
    "tags": []
   },
   "outputs": [
    {
     "data": {
      "text/html": [
       "<div>\n",
       "<style scoped>\n",
       "    .dataframe tbody tr th:only-of-type {\n",
       "        vertical-align: middle;\n",
       "    }\n",
       "\n",
       "    .dataframe tbody tr th {\n",
       "        vertical-align: top;\n",
       "    }\n",
       "\n",
       "    .dataframe thead th {\n",
       "        text-align: right;\n",
       "    }\n",
       "</style>\n",
       "<table border=\"1\" class=\"dataframe\">\n",
       "  <thead>\n",
       "    <tr style=\"text-align: right;\">\n",
       "      <th></th>\n",
       "      <th>Feature</th>\n",
       "      <th>Missing Values</th>\n",
       "      <th>Missing Percentage (%)</th>\n",
       "    </tr>\n",
       "  </thead>\n",
       "  <tbody>\n",
       "    <tr>\n",
       "      <th>8</th>\n",
       "      <td>FoodCourt</td>\n",
       "      <td>106</td>\n",
       "      <td>2.48</td>\n",
       "    </tr>\n",
       "    <tr>\n",
       "      <th>10</th>\n",
       "      <td>Spa</td>\n",
       "      <td>101</td>\n",
       "      <td>2.36</td>\n",
       "    </tr>\n",
       "    <tr>\n",
       "      <th>3</th>\n",
       "      <td>Cabin</td>\n",
       "      <td>100</td>\n",
       "      <td>2.34</td>\n",
       "    </tr>\n",
       "    <tr>\n",
       "      <th>9</th>\n",
       "      <td>ShoppingMall</td>\n",
       "      <td>98</td>\n",
       "      <td>2.29</td>\n",
       "    </tr>\n",
       "    <tr>\n",
       "      <th>12</th>\n",
       "      <td>Name</td>\n",
       "      <td>94</td>\n",
       "      <td>2.20</td>\n",
       "    </tr>\n",
       "    <tr>\n",
       "      <th>2</th>\n",
       "      <td>CryoSleep</td>\n",
       "      <td>93</td>\n",
       "      <td>2.17</td>\n",
       "    </tr>\n",
       "    <tr>\n",
       "      <th>6</th>\n",
       "      <td>VIP</td>\n",
       "      <td>93</td>\n",
       "      <td>2.17</td>\n",
       "    </tr>\n",
       "    <tr>\n",
       "      <th>4</th>\n",
       "      <td>Destination</td>\n",
       "      <td>92</td>\n",
       "      <td>2.15</td>\n",
       "    </tr>\n",
       "    <tr>\n",
       "      <th>5</th>\n",
       "      <td>Age</td>\n",
       "      <td>91</td>\n",
       "      <td>2.13</td>\n",
       "    </tr>\n",
       "    <tr>\n",
       "      <th>1</th>\n",
       "      <td>HomePlanet</td>\n",
       "      <td>87</td>\n",
       "      <td>2.03</td>\n",
       "    </tr>\n",
       "    <tr>\n",
       "      <th>7</th>\n",
       "      <td>RoomService</td>\n",
       "      <td>82</td>\n",
       "      <td>1.92</td>\n",
       "    </tr>\n",
       "    <tr>\n",
       "      <th>11</th>\n",
       "      <td>VRDeck</td>\n",
       "      <td>80</td>\n",
       "      <td>1.87</td>\n",
       "    </tr>\n",
       "    <tr>\n",
       "      <th>0</th>\n",
       "      <td>PassengerId</td>\n",
       "      <td>0</td>\n",
       "      <td>0.00</td>\n",
       "    </tr>\n",
       "  </tbody>\n",
       "</table>\n",
       "</div>"
      ],
      "text/plain": [
       "         Feature  Missing Values  Missing Percentage (%)\n",
       "8      FoodCourt             106                    2.48\n",
       "10           Spa             101                    2.36\n",
       "3          Cabin             100                    2.34\n",
       "9   ShoppingMall              98                    2.29\n",
       "12          Name              94                    2.20\n",
       "2      CryoSleep              93                    2.17\n",
       "6            VIP              93                    2.17\n",
       "4    Destination              92                    2.15\n",
       "5            Age              91                    2.13\n",
       "1     HomePlanet              87                    2.03\n",
       "7    RoomService              82                    1.92\n",
       "11        VRDeck              80                    1.87\n",
       "0    PassengerId               0                    0.00"
      ]
     },
     "execution_count": 26,
     "metadata": {},
     "output_type": "execute_result"
    }
   ],
   "source": [
    "missing_values(test)"
   ]
  },
  {
   "cell_type": "code",
   "execution_count": 27,
   "id": "5aeeaf5c",
   "metadata": {
    "execution": {
     "iopub.execute_input": "2022-06-30T12:32:10.283532Z",
     "iopub.status.busy": "2022-06-30T12:32:10.282363Z",
     "iopub.status.idle": "2022-06-30T12:32:10.298875Z",
     "shell.execute_reply": "2022-06-30T12:32:10.297973Z"
    },
    "papermill": {
     "duration": 0.035843,
     "end_time": "2022-06-30T12:32:10.301479",
     "exception": false,
     "start_time": "2022-06-30T12:32:10.265636",
     "status": "completed"
    },
    "tags": []
   },
   "outputs": [],
   "source": [
    "## Separate Categorical and Numerical Features\n",
    "cat_features = list(train.select_dtypes(include=[\"category\", \"object\"]).columns)\n",
    "num_features = list(test.select_dtypes(include=[\"number\"]).columns)"
   ]
  },
  {
   "cell_type": "code",
   "execution_count": 28,
   "id": "ed97e9b0",
   "metadata": {
    "execution": {
     "iopub.execute_input": "2022-06-30T12:32:10.334720Z",
     "iopub.status.busy": "2022-06-30T12:32:10.333915Z",
     "iopub.status.idle": "2022-06-30T12:32:10.342338Z",
     "shell.execute_reply": "2022-06-30T12:32:10.341082Z"
    },
    "papermill": {
     "duration": 0.027897,
     "end_time": "2022-06-30T12:32:10.344656",
     "exception": false,
     "start_time": "2022-06-30T12:32:10.316759",
     "status": "completed"
    },
    "tags": []
   },
   "outputs": [
    {
     "name": "stdout",
     "output_type": "stream",
     "text": [
      "Categorical Features: ['PassengerId', 'HomePlanet', 'Cabin', 'Destination', 'Name']\n",
      "Numerical Features: ['Age', 'RoomService', 'FoodCourt', 'ShoppingMall', 'Spa', 'VRDeck']\n"
     ]
    }
   ],
   "source": [
    "print(f\"Categorical Features: {cat_features}\")\n",
    "print(f\"Numerical Features: {num_features}\")"
   ]
  },
  {
   "cell_type": "code",
   "execution_count": 29,
   "id": "c34e95af",
   "metadata": {
    "execution": {
     "iopub.execute_input": "2022-06-30T12:32:10.376099Z",
     "iopub.status.busy": "2022-06-30T12:32:10.375361Z",
     "iopub.status.idle": "2022-06-30T12:32:10.380671Z",
     "shell.execute_reply": "2022-06-30T12:32:10.379824Z"
    },
    "papermill": {
     "duration": 0.023645,
     "end_time": "2022-06-30T12:32:10.382870",
     "exception": false,
     "start_time": "2022-06-30T12:32:10.359225",
     "status": "completed"
    },
    "tags": []
   },
   "outputs": [],
   "source": [
    "# cat_col = [col for col in train.columns if train[col].nunique() < 4]\n",
    "# cat_col"
   ]
  },
  {
   "cell_type": "code",
   "execution_count": 30,
   "id": "e73f5f6c",
   "metadata": {
    "execution": {
     "iopub.execute_input": "2022-06-30T12:32:10.415211Z",
     "iopub.status.busy": "2022-06-30T12:32:10.414227Z",
     "iopub.status.idle": "2022-06-30T12:32:10.430110Z",
     "shell.execute_reply": "2022-06-30T12:32:10.429007Z"
    },
    "papermill": {
     "duration": 0.034329,
     "end_time": "2022-06-30T12:32:10.432490",
     "exception": false,
     "start_time": "2022-06-30T12:32:10.398161",
     "status": "completed"
    },
    "tags": []
   },
   "outputs": [
    {
     "data": {
      "text/plain": [
       "[]"
      ]
     },
     "execution_count": 30,
     "metadata": {},
     "output_type": "execute_result"
    }
   ],
   "source": [
    "## Double check cardinality or numerical features.  Could be categorical features\n",
    "cat_col = [col for col in num_features if train[col].nunique() < 25]\n",
    "cat_col"
   ]
  },
  {
   "cell_type": "code",
   "execution_count": null,
   "id": "9ae015d6",
   "metadata": {
    "papermill": {
     "duration": 0.014135,
     "end_time": "2022-06-30T12:32:10.461141",
     "exception": false,
     "start_time": "2022-06-30T12:32:10.447006",
     "status": "completed"
    },
    "tags": []
   },
   "outputs": [],
   "source": []
  }
 ],
 "metadata": {
  "kernelspec": {
   "display_name": "Python 3",
   "language": "python",
   "name": "python3"
  },
  "language_info": {
   "codemirror_mode": {
    "name": "ipython",
    "version": 3
   },
   "file_extension": ".py",
   "mimetype": "text/x-python",
   "name": "python",
   "nbconvert_exporter": "python",
   "pygments_lexer": "ipython3",
   "version": "3.7.12"
  },
  "papermill": {
   "default_parameters": {},
   "duration": 36.569618,
   "end_time": "2022-06-30T12:32:11.803392",
   "environment_variables": {},
   "exception": null,
   "input_path": "__notebook__.ipynb",
   "output_path": "__notebook__.ipynb",
   "parameters": {},
   "start_time": "2022-06-30T12:31:35.233774",
   "version": "2.3.4"
  }
 },
 "nbformat": 4,
 "nbformat_minor": 5
}
